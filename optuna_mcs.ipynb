{
 "cells": [
  {
   "attachments": {},
   "cell_type": "markdown",
   "metadata": {},
   "source": [
    "# Multiple Classifiers Ensemble System (MCS)"
   ]
  },
  {
   "attachments": {},
   "cell_type": "markdown",
   "metadata": {},
   "source": [
    "#### Iury Zanonni de Faria"
   ]
  },
  {
   "attachments": {},
   "cell_type": "markdown",
   "metadata": {},
   "source": [
    "### Imports"
   ]
  },
  {
   "attachments": {},
   "cell_type": "markdown",
   "metadata": {},
   "source": [
    "#### General imports"
   ]
  },
  {
   "cell_type": "code",
   "execution_count": null,
   "metadata": {},
   "outputs": [],
   "source": [
    "import pandas as pd\n",
    "import numpy as np\n",
    "import datetime as dt\n",
    "import statistics as st\n",
    "import matplotlib.pyplot as plt\n",
    "import warnings\n",
    "import optuna"
   ]
  },
  {
   "attachments": {},
   "cell_type": "markdown",
   "metadata": {},
   "source": [
    "#### Feature Selection imports"
   ]
  },
  {
   "cell_type": "code",
   "execution_count": null,
   "metadata": {},
   "outputs": [],
   "source": [
    "from sklearn.feature_selection import mutual_info_classif\n",
    "# Info gain - weka"
   ]
  },
  {
   "attachments": {},
   "cell_type": "markdown",
   "metadata": {},
   "source": [
    "#### Diversity imports"
   ]
  },
  {
   "cell_type": "code",
   "execution_count": null,
   "metadata": {},
   "outputs": [],
   "source": [
    "from sklearn.model_selection import KFold\n",
    "from sklearn.ensemble import BaggingClassifier\n",
    "from sklearn.ensemble import AdaBoostClassifier\n",
    "from sklearn.ensemble import GradientBoostingClassifier\n",
    "from sklearn.model_selection import cross_val_score"
   ]
  },
  {
   "attachments": {},
   "cell_type": "markdown",
   "metadata": {},
   "source": [
    "#### Classifiers imports"
   ]
  },
  {
   "cell_type": "code",
   "execution_count": null,
   "metadata": {},
   "outputs": [],
   "source": [
    "import xgboost\n",
    "from sklearn.ensemble import RandomForestClassifier\n",
    "from sklearn.svm import SVC\n",
    "from sklearn.tree import DecisionTreeClassifier\n",
    "from sklearn.naive_bayes import BernoulliNB\n",
    "from sklearn.naive_bayes import GaussianNB\n",
    "from sklearn.neural_network import MLPClassifier\n",
    "from sklearn.linear_model import LogisticRegression\n",
    "from sklearn.neighbors import KNeighborsClassifier\n"
   ]
  },
  {
   "attachments": {},
   "cell_type": "markdown",
   "metadata": {},
   "source": [
    "#### Metrics"
   ]
  },
  {
   "cell_type": "code",
   "execution_count": null,
   "metadata": {},
   "outputs": [],
   "source": [
    "from sklearn.metrics import precision_score\n",
    "from sklearn.metrics import accuracy_score"
   ]
  },
  {
   "attachments": {},
   "cell_type": "markdown",
   "metadata": {},
   "source": [
    "### Settings"
   ]
  },
  {
   "cell_type": "code",
   "execution_count": null,
   "metadata": {},
   "outputs": [],
   "source": [
    "DATA = ['Date', 'Current Ratio','Quick Ratio','Current Assets', 'Long-term debt to equity ratio', 'Share Holder Equity','Debt to Equity Ratio', 'Percentage of net profit to sale',\n",
    "'Percentage of operating profit to sale','Percentage of Gross profit to sale','ROA','ROE','EPS','P/E','P/S','Stock book value','Stock Price','ROI','MarketReturn', 'Company']\n",
    "\n",
    "DATA = ['Unnamed: 0', 'revenue','cost-goods-sold','gross-profit','research-development-expenses','selling-general-administrative-expenses','operating-expenses',\n",
    "'operating-income','total-non-operating-income-expense','pre-tax-income','total-provision-income-taxes','income-after-taxes','income-from-continuous-operations',\n",
    "'income-from-discontinued-operations','net-income','ebitda','ebit','basic-shares-outstanding','shares-outstanding','eps-basic-net-earnings-per-share',\n",
    "'eps-earnings-per-share-diluted','cash-on-hand','receivables-total','inventory','other-current-assets','total-current-assets','net-property-plant-equipment',\n",
    "'long-term-investments','goodwill-intangible-assets-total','other-long-term-assets','total-long-term-assets','total-assets','total-current-liabilities','long-term-debt',\n",
    "'other-non-current-liabilities','total-long-term-liabilities','total-liabilities','common-stock-net','retained-earnings-accumulated-deficit','comprehensive-income',\n",
    "'total-share-holder-equity','total-liabilities-share-holders-equity','net-income-loss','total-depreciation-amortization-cash-flow','other-non-cash-items','total-non-cash-items',\n",
    "'change-in-accounts-receivable','change-in-inventories','change-in-accounts-payable','change-in-assets-liabilities','total-change-in-assets-liabilities',\n",
    "'cash-flow-from-operating-activities','net-change-in-property-plant-equipment','net-change-in-intangible-assets','net-acquisitions-divestitures','investing-activities-other',\n",
    "'cash-flow-from-investing-activities','net-long-term-debt','net-current-debt','debt-issuance-retirement-net-total','net-common-equity-issued-repurchased',\n",
    "'net-total-equity-issued-repurchased','total-common-preferred-stock-dividends-paid','financial-activities-other','cash-flow-from-financial-activities',\n",
    "'net-cash-flow','stock-based-compensation','common-stock-dividends-paid','current-ratio','long-term-debt-capital','debt-equity-ratio','gross-margin',\n",
    "'operating-margin','ebit-margin','pre-tax-profit-margin','net-profit-margin','asset-turnover','inventory-turnover','receiveable-turnover','days-sales-in-receivables',\n",
    "'roe','return-on-tangible-equity','roa','roi','book-value-per-share','operating-cash-flow-per-share','free-cash-flow-per-share','net-change-in-short-term-investments',\n",
    "'net-change-in-long-term-investments','net-change-in-investments-total','other-operating-income-expenses','pre-paid-expenses','other-share-holders-equity','other-income',\n",
    "'ebitda-margin']\n",
    "\n",
    "REAL_RETURN_CLASS = \"RealReturnClass\"\n",
    "REAL_RETURN = \"RealReturn\"\n",
    "RISK_CLASS = 'RiskClass'\n",
    "RISK = \"Risk\"\n",
    "\n",
    "HIGH = 'high'\n",
    "MEDIUM = 'medium'\n",
    "LOW = 'low'\n",
    "\n",
    "DATE = 'Unnamed: 0'\n",
    "\n",
    "N_PERIODS = 2\n",
    "N_FEATURES = 20\n",
    "\n",
    "DATASET_PATH = 'new_dataset/process_final_{}.csv'.format(N_PERIODS)\n",
    "\n",
    "N_TRIALS = 5\n",
    "\n",
    "MUTUAL_INFORMATION = \"MUTUAL_INFORMATION\"\n",
    "\n",
    "#Remove os warnings do notebook\n",
    "warnings.filterwarnings('ignore')"
   ]
  },
  {
   "attachments": {},
   "cell_type": "markdown",
   "metadata": {},
   "source": [
    "### Import dataset"
   ]
  },
  {
   "cell_type": "code",
   "execution_count": null,
   "metadata": {},
   "outputs": [],
   "source": [
    "dataset = pd.read_csv(DATASET_PATH)"
   ]
  },
  {
   "cell_type": "code",
   "execution_count": null,
   "metadata": {},
   "outputs": [],
   "source": [
    "dataset = dataset.replace(to_replace=[HIGH], value=2.0)\n",
    "dataset = dataset.replace(to_replace=[MEDIUM], value=1.0)\n",
    "dataset = dataset.replace(to_replace=[LOW], value=0.0)\n",
    "\n",
    "dataset = dataset.replace(to_replace=[np.NaN], value=0.0)\n",
    "\n",
    "dataset_X = dataset.drop(columns=[REAL_RETURN_CLASS, REAL_RETURN, RISK_CLASS, RISK, DATE])\n",
    "dataset_y = dataset.drop(columns=DATA)"
   ]
  },
  {
   "attachments": {},
   "cell_type": "markdown",
   "metadata": {},
   "source": [
    "### Feature Selection"
   ]
  },
  {
   "cell_type": "code",
   "execution_count": null,
   "metadata": {},
   "outputs": [],
   "source": [
    "def readFeatures(typeFeature, typeClass, num):\n",
    "\tfile = open(f'./feature_selection/files/{typeFeature}_{typeClass}.txt', 'r')\n",
    "\tresult = []\n",
    "\t\n",
    "\tfor feature in file:\n",
    "\t\tresult.append(eval(str(feature)))\n",
    "\t    \n",
    "\tfile.close()\n",
    "    \n",
    "\treturn result[:num]"
   ]
  },
  {
   "attachments": {},
   "cell_type": "markdown",
   "metadata": {},
   "source": [
    "#### Real Return"
   ]
  },
  {
   "cell_type": "code",
   "execution_count": null,
   "metadata": {},
   "outputs": [],
   "source": [
    "final_ranking_real_return = readFeatures(MUTUAL_INFORMATION, REAL_RETURN, N_FEATURES)"
   ]
  },
  {
   "attachments": {},
   "cell_type": "markdown",
   "metadata": {},
   "source": [
    "#### Risk"
   ]
  },
  {
   "cell_type": "code",
   "execution_count": null,
   "metadata": {},
   "outputs": [],
   "source": [
    "final_ranking_risk  = readFeatures(MUTUAL_INFORMATION, RISK, N_FEATURES)"
   ]
  },
  {
   "cell_type": "code",
   "execution_count": null,
   "metadata": {},
   "outputs": [],
   "source": [
    "def getColumnsRank(rank: list):\n",
    "  ranking = []\n",
    "  for column in rank:\n",
    "    ranking.append(column[0])\n",
    "    \n",
    "  return ranking"
   ]
  },
  {
   "cell_type": "code",
   "execution_count": null,
   "metadata": {},
   "outputs": [],
   "source": [
    "features_real_return = getColumnsRank(final_ranking_real_return)[:N_FEATURES]\n",
    "features_risk = getColumnsRank(final_ranking_risk)[:N_FEATURES]"
   ]
  },
  {
   "attachments": {},
   "cell_type": "markdown",
   "metadata": {},
   "source": [
    "### Divisão do dataset"
   ]
  },
  {
   "cell_type": "code",
   "execution_count": null,
   "metadata": {},
   "outputs": [],
   "source": [
    "columns_dataset = DATA\n",
    "columns_dataset.append(REAL_RETURN)\n",
    "columns_dataset.append(RISK)\n",
    "columns_dataset.append(REAL_RETURN_CLASS)\n",
    "columns_dataset.append(RISK_CLASS)\n",
    "\n",
    "df_train = None\n",
    "df_test = None\n",
    "\n",
    "df_train = pd.DataFrame(columns=columns_dataset)\n",
    "df_test = pd.DataFrame(columns=columns_dataset)"
   ]
  },
  {
   "cell_type": "code",
   "execution_count": null,
   "metadata": {},
   "outputs": [],
   "source": [
    "# TRAINING_START_DATE =  dt.datetime.strptime('2009-03-31', \"%Y-%m-%d\")\n",
    "# TRAINING_END_DATE =  dt.datetime.strptime('2018-03-31', \"%Y-%m-%d\")\n",
    "\n",
    "# TEST_START_DATE =  dt.datetime.strptime('2018-06-30', \"%Y-%m-%d\")\n",
    "# TEST_END_DATE =  dt.datetime.strptime('2022-03-31', \"%Y-%m-%d\")\n",
    "\n",
    "# dataset_sort = dataset.sort_values(by=DATE)\n",
    "# count_train = 0\n",
    "# count_test = 0\n",
    "\n",
    "# for index, row in dataset_sort.iterrows():\n",
    "#   date = dt.datetime.strptime(row[DATE], \"%Y-%m-%d\")\n",
    "#   if date.year < TEST_START_DATE.year:\n",
    "#     df_train = df_train.append(row)\n",
    "#     count_train +=1\n",
    "#   elif date.year == TEST_START_DATE.year and date.month < TEST_START_DATE.month:\n",
    "#     df_train = df_train.append(row)\n",
    "#     count_train +=1\n",
    "#   else:\n",
    "#     df_test = df_test.append(row)\n",
    "#     count_test += 1\n",
    "\n",
    "# print(count_train)\n",
    "# print(count_test)\n",
    "\n",
    "# df_train = df_train.drop(columns=[REAL_RETURN, RISK, DATE])\n",
    "# df_test = df_test.drop(columns=[REAL_RETURN, RISK, DATE])"
   ]
  },
  {
   "cell_type": "code",
   "execution_count": null,
   "metadata": {},
   "outputs": [],
   "source": [
    "df_train = pd.read_csv('./util/dataset_train.csv')\n",
    "df_test = pd.read_csv('./util/dataset_test.csv')"
   ]
  },
  {
   "attachments": {},
   "cell_type": "markdown",
   "metadata": {},
   "source": [
    "##### Real Return"
   ]
  },
  {
   "cell_type": "code",
   "execution_count": null,
   "metadata": {},
   "outputs": [],
   "source": [
    "X_real_return_train = df_train[features_real_return]\n",
    "y_real_return_train = df_train[REAL_RETURN_CLASS]\n",
    "\n",
    "X_real_return_test = df_test[features_real_return]\n",
    "y_real_return_test = df_test[REAL_RETURN_CLASS]"
   ]
  },
  {
   "attachments": {},
   "cell_type": "markdown",
   "metadata": {},
   "source": [
    "##### Risk"
   ]
  },
  {
   "cell_type": "code",
   "execution_count": null,
   "metadata": {},
   "outputs": [],
   "source": [
    "X_risk_train = df_train[features_risk]\n",
    "y_risk_train = df_train[RISK_CLASS]\n",
    "\n",
    "X_risk_test = df_test[features_risk]\n",
    "y_risk_test = df_test[RISK_CLASS]"
   ]
  },
  {
   "attachments": {},
   "cell_type": "markdown",
   "metadata": {},
   "source": [
    "### Classificadores Únicos"
   ]
  },
  {
   "cell_type": "code",
   "execution_count": null,
   "metadata": {},
   "outputs": [],
   "source": [
    "classifiers_real_return = {}\n",
    "classifiers_risk = {}"
   ]
  },
  {
   "attachments": {},
   "cell_type": "markdown",
   "metadata": {},
   "source": [
    "### Optuna"
   ]
  },
  {
   "cell_type": "code",
   "execution_count": null,
   "metadata": {},
   "outputs": [],
   "source": [
    "def print_best_result(study, classifier, type):\n",
    "\tprint(f'{classifier} - {type}')\n",
    "\tprint('Melhor pontuação:', study.best_value)\n",
    "\tprint('Melhores hiperparâmetros:', study.best_params)"
   ]
  },
  {
   "attachments": {},
   "cell_type": "markdown",
   "metadata": {},
   "source": [
    "### Random Forest"
   ]
  },
  {
   "attachments": {},
   "cell_type": "markdown",
   "metadata": {},
   "source": [
    "##### Real Return"
   ]
  },
  {
   "cell_type": "code",
   "execution_count": null,
   "metadata": {},
   "outputs": [],
   "source": [
    "def objective_random_forest_return(trial):\n",
    "    params = {\n",
    "        'n_estimators': trial.suggest_int('n_estimators', 10, 1000),\n",
    "        'max_depth': trial.suggest_int('max_depth', 2, 200),\n",
    "        'min_samples_split': trial.suggest_int('min_samples_split', 2, 10),\n",
    "        'min_samples_leaf': trial.suggest_int('min_samples_leaf', 1, 10),\n",
    "        'max_features': trial.suggest_categorical('max_features', ['sqrt', 'log2']),\n",
    "        'n_jobs': trial.suggest_int('n_jobs', 3, 3)\n",
    "    }\n",
    "    model = RandomForestClassifier(**params)\n",
    "    model.fit(X_real_return_train, y_real_return_train)\n",
    "    preds = model.predict(X_real_return_test)\n",
    "    accuracy = accuracy_score(y_real_return_test, preds)\n",
    "\n",
    "    return accuracy"
   ]
  },
  {
   "cell_type": "code",
   "execution_count": null,
   "metadata": {},
   "outputs": [],
   "source": [
    "study = optuna.create_study(direction='maximize')\n",
    "study.optimize(objective_random_forest_return, n_trials=N_TRIALS, n_jobs=3)"
   ]
  },
  {
   "cell_type": "code",
   "execution_count": null,
   "metadata": {},
   "outputs": [],
   "source": [
    "print_best_result(study, 'Random Forest', 'Real Return')\n"
   ]
  },
  {
   "attachments": {},
   "cell_type": "markdown",
   "metadata": {},
   "source": [
    "##### Risk"
   ]
  },
  {
   "cell_type": "code",
   "execution_count": null,
   "metadata": {},
   "outputs": [],
   "source": [
    "def objective_random_forest_risk(trial):\n",
    "    params = {\n",
    "        'n_estimators': trial.suggest_int('n_estimators', 10, 1000),\n",
    "        'max_depth': trial.suggest_int('max_depth', 2, 200),\n",
    "        'min_samples_split': trial.suggest_int('min_samples_split', 2, 10),\n",
    "        'min_samples_leaf': trial.suggest_int('min_samples_leaf', 1, 10),\n",
    "        'max_features': trial.suggest_categorical('max_features', ['sqrt', 'log2']),\n",
    "        'n_jobs': trial.suggest_int('n_jobs', 3, 3)\n",
    "    }\n",
    "    model = RandomForestClassifier(**params)\n",
    "    model.fit(X_risk_train, y_risk_train)\n",
    "    preds = model.predict(X_risk_test)\n",
    "    accuracy = accuracy_score(y_risk_test, preds)\n",
    "\n",
    "    return accuracy"
   ]
  },
  {
   "cell_type": "code",
   "execution_count": null,
   "metadata": {},
   "outputs": [],
   "source": [
    "study = optuna.create_study(direction='maximize')\n",
    "study.optimize(objective_random_forest_risk, n_trials=N_TRIALS, n_jobs=3)"
   ]
  },
  {
   "cell_type": "code",
   "execution_count": null,
   "metadata": {},
   "outputs": [],
   "source": [
    "print_best_result(study, 'Random Forest', 'Risk')"
   ]
  },
  {
   "attachments": {},
   "cell_type": "markdown",
   "metadata": {},
   "source": [
    "### SVM"
   ]
  },
  {
   "attachments": {},
   "cell_type": "markdown",
   "metadata": {},
   "source": [
    "##### Real Return"
   ]
  },
  {
   "cell_type": "code",
   "execution_count": null,
   "metadata": {},
   "outputs": [],
   "source": [
    "def objective_svc_return(trial):\n",
    "    params = {\n",
    "        'kernel': trial.suggest_categorical('kernel', ['poly', 'rbf', 'sigmoid']),\n",
    "        'C':trial.suggest_float('C', 1, 100),\n",
    "        'class_weight': trial.suggest_categorical('class_weight', ['balanced', None])\n",
    "\t}\n",
    "    model = SVC(**params)\n",
    "    model.fit(X_real_return_train, y_real_return_train)\n",
    "    preds = model.predict(X_real_return_test)\n",
    "    accuracy = accuracy_score(y_real_return_test, preds)\n",
    "\n",
    "    return accuracy"
   ]
  },
  {
   "cell_type": "code",
   "execution_count": null,
   "metadata": {},
   "outputs": [],
   "source": [
    "study = optuna.create_study(direction='maximize')\n",
    "study.optimize(objective_svc_return, n_trials=N_TRIALS, n_jobs=3)"
   ]
  },
  {
   "cell_type": "code",
   "execution_count": null,
   "metadata": {},
   "outputs": [],
   "source": [
    "print_best_result(study, 'SVM', 'Real Return')"
   ]
  },
  {
   "attachments": {},
   "cell_type": "markdown",
   "metadata": {},
   "source": [
    "##### Risk"
   ]
  },
  {
   "cell_type": "code",
   "execution_count": null,
   "metadata": {},
   "outputs": [],
   "source": [
    "def objective_svc_risk(trial):\n",
    "    params = {\n",
    "        'kernel': trial.suggest_categorical('kernel', ['poly', 'rbf', 'sigmoid']),\n",
    "        'C':trial.suggest_float('C', 1, 100),\n",
    "        'class_weight': trial.suggest_categorical('class_weight', ['balanced', None])\n",
    "\t}\n",
    "    model = SVC(**params)\n",
    "    model.fit(X_risk_train, y_risk_train)\n",
    "    preds = model.predict(X_risk_test)\n",
    "    accuracy = accuracy_score(y_risk_test, preds)\n",
    "\n",
    "    return accuracy"
   ]
  },
  {
   "cell_type": "code",
   "execution_count": null,
   "metadata": {},
   "outputs": [],
   "source": [
    "study = optuna.create_study(direction='maximize')\n",
    "study.optimize(objective_svc_risk, n_trials=N_TRIALS, n_jobs=3)"
   ]
  },
  {
   "cell_type": "code",
   "execution_count": null,
   "metadata": {},
   "outputs": [],
   "source": [
    "print_best_result(study, 'SVM', 'Risk')"
   ]
  },
  {
   "attachments": {},
   "cell_type": "markdown",
   "metadata": {},
   "source": [
    "### Decision Tree"
   ]
  },
  {
   "attachments": {},
   "cell_type": "markdown",
   "metadata": {},
   "source": [
    "##### Real Return"
   ]
  },
  {
   "cell_type": "code",
   "execution_count": null,
   "metadata": {},
   "outputs": [],
   "source": [
    "def objective_decision_tree_return(trial):\n",
    "    params = {\n",
    "        'criterion': trial.suggest_categorical('criterion', ['gini', 'entropy', 'log_loss']),\n",
    "        'splitter': trial.suggest_categorical('splitter', ['best', 'random']),\n",
    "        'max_depth': trial.suggest_int('max_depth', 2, 200),\n",
    "        'min_samples_split': trial.suggest_int('min_samples_split', 2, 2000),\n",
    "\t}\n",
    "    model = DecisionTreeClassifier(**params)\n",
    "    model.fit(X_real_return_train, y_real_return_train)\n",
    "    preds = model.predict(X_real_return_test)\n",
    "    accuracy = accuracy_score(y_real_return_test, preds)\n",
    "\n",
    "    return accuracy"
   ]
  },
  {
   "cell_type": "code",
   "execution_count": null,
   "metadata": {},
   "outputs": [],
   "source": [
    "study = optuna.create_study(direction='maximize')\n",
    "study.optimize(objective_decision_tree_return, n_trials=N_TRIALS, n_jobs=3)"
   ]
  },
  {
   "cell_type": "code",
   "execution_count": null,
   "metadata": {},
   "outputs": [],
   "source": [
    "print_best_result(study, 'DecisionTreeClassifier', 'Real Return')"
   ]
  },
  {
   "attachments": {},
   "cell_type": "markdown",
   "metadata": {},
   "source": [
    "##### Risk"
   ]
  },
  {
   "cell_type": "code",
   "execution_count": null,
   "metadata": {},
   "outputs": [],
   "source": [
    "def objective_decision_tree_risk(trial):\n",
    "    params = {\n",
    "        'criterion': trial.suggest_categorical('criterion', ['gini', 'entropy', 'log_loss']),\n",
    "        'splitter': trial.suggest_categorical('splitter', ['best', 'random']),\n",
    "        'max_depth': trial.suggest_int('max_depth', 2, 200),\n",
    "        'min_samples_split': trial.suggest_int('min_samples_split', 2, 2000),\n",
    "\t}\n",
    "    model = DecisionTreeClassifier(**params)\n",
    "    model.fit(X_risk_train, y_risk_train)\n",
    "    preds = model.predict(X_risk_test)\n",
    "    accuracy = accuracy_score(y_risk_test, preds)\n",
    "\n",
    "    return accuracy"
   ]
  },
  {
   "cell_type": "code",
   "execution_count": null,
   "metadata": {},
   "outputs": [],
   "source": [
    "study = optuna.create_study(direction='maximize')\n",
    "study.optimize(objective_decision_tree_risk, n_trials=N_TRIALS, n_jobs=3)"
   ]
  },
  {
   "cell_type": "code",
   "execution_count": null,
   "metadata": {},
   "outputs": [],
   "source": [
    "print_best_result(study, 'DecisionTreeClassifier', 'Risk')\n"
   ]
  },
  {
   "attachments": {},
   "cell_type": "markdown",
   "metadata": {},
   "source": [
    "### Naive Bayes"
   ]
  },
  {
   "attachments": {},
   "cell_type": "markdown",
   "metadata": {},
   "source": [
    "##### Real Return"
   ]
  },
  {
   "cell_type": "code",
   "execution_count": null,
   "metadata": {},
   "outputs": [],
   "source": [
    "def objective_naive_bayes_return(trial):\n",
    "    params = {\n",
    "        'var_smoothing': trial.suggest_loguniform('var_smoothing', 1e-12, 1e-5)\n",
    "\t}\n",
    "    model = GaussianNB(**params)\n",
    "    model.fit(X_real_return_train, y_real_return_train)\n",
    "    preds = model.predict(X_real_return_test)\n",
    "    accuracy = accuracy_score(y_real_return_test, preds)\n",
    "\n",
    "    return accuracy"
   ]
  },
  {
   "cell_type": "code",
   "execution_count": null,
   "metadata": {},
   "outputs": [],
   "source": [
    "study = optuna.create_study(direction='maximize')\n",
    "study.optimize(objective_naive_bayes_return, n_trials=N_TRIALS, n_jobs=3)"
   ]
  },
  {
   "cell_type": "code",
   "execution_count": null,
   "metadata": {},
   "outputs": [],
   "source": [
    "print_best_result(study, 'Naive Bayes', 'Real Return')"
   ]
  },
  {
   "attachments": {},
   "cell_type": "markdown",
   "metadata": {},
   "source": [
    "##### Risk"
   ]
  },
  {
   "cell_type": "code",
   "execution_count": null,
   "metadata": {},
   "outputs": [],
   "source": [
    "def objective_naive_bayes_risk(trial):\n",
    "    params = {\n",
    "        'var_smoothing': trial.suggest_loguniform('var_smoothing', 1e-12, 1e-5)\n",
    "\t}\n",
    "    model = GaussianNB(**params)\n",
    "    model.fit(X_risk_train, y_risk_train)\n",
    "    preds = model.predict(X_risk_test)\n",
    "    accuracy = accuracy_score(y_risk_test, preds)\n",
    "\n",
    "    return accuracy"
   ]
  },
  {
   "cell_type": "code",
   "execution_count": null,
   "metadata": {},
   "outputs": [],
   "source": [
    "study = optuna.create_study(direction='maximize')\n",
    "study.optimize(objective_naive_bayes_risk, n_trials=N_TRIALS, n_jobs=3)"
   ]
  },
  {
   "cell_type": "code",
   "execution_count": null,
   "metadata": {},
   "outputs": [],
   "source": [
    "print_best_result(study, 'Naive Bayes', 'Risk')"
   ]
  },
  {
   "attachments": {},
   "cell_type": "markdown",
   "metadata": {},
   "source": [
    "### Rede Neural"
   ]
  },
  {
   "attachments": {},
   "cell_type": "markdown",
   "metadata": {},
   "source": [
    "##### Real Return"
   ]
  },
  {
   "cell_type": "code",
   "execution_count": null,
   "metadata": {},
   "outputs": [],
   "source": [
    "def objective_neural_network_return(trial):\n",
    "\tparams = {\n",
    "\t\t'activation': trial.suggest_categorical('activation', ['identity', 'logistic', 'tanh', 'relu']),\n",
    "\t\t'solver': trial.suggest_categorical('solver', ['lbfgs', 'sgd', 'adam']),\n",
    "\t\t'max_iter': trial.suggest_int('max_iter', 200, 2000),\n",
    "\t\t'hidden_layer_sizes': trial.suggest_categorical('hidden_layer_sizes', [(100,), (200,), (300,), (400,), (500,), (600,), (700,), (800,), (900,), (1000,)]),\n",
    "\t\t'learning_rate': trial.suggest_categorical('learning_rate', ['constant', 'invscaling', 'adaptive']), \n",
    "\t}\n",
    "\n",
    "\tmodel = MLPClassifier(**params)\n",
    "\tmodel.fit(X_real_return_train, y_real_return_train)\n",
    "\tpreds = model.predict(X_real_return_test)\n",
    "\taccuracy = accuracy_score(y_real_return_test, preds)\n",
    "\n",
    "\treturn accuracy"
   ]
  },
  {
   "cell_type": "code",
   "execution_count": null,
   "metadata": {},
   "outputs": [],
   "source": [
    "study = optuna.create_study(direction='maximize')\n",
    "study.optimize(objective_neural_network_return, n_trials=N_TRIALS, n_jobs=3)"
   ]
  },
  {
   "cell_type": "code",
   "execution_count": null,
   "metadata": {},
   "outputs": [],
   "source": [
    "print_best_result(study, 'Rede Neural', 'Real Return')"
   ]
  },
  {
   "attachments": {},
   "cell_type": "markdown",
   "metadata": {},
   "source": [
    "##### Risk"
   ]
  },
  {
   "cell_type": "code",
   "execution_count": null,
   "metadata": {},
   "outputs": [],
   "source": [
    "def objective_neural_network_risk(trial):\n",
    "\tparams = {\n",
    "\t\t'activation': trial.suggest_categorical('activation', ['identity', 'logistic', 'tanh', 'relu']),\n",
    "\t\t'solver': trial.suggest_categorical('solver', ['lbfgs', 'sgd', 'adam']),\n",
    "\t\t'max_iter': trial.suggest_int('max_iter', 200, 2000),\n",
    "\t\t'hidden_layer_sizes': trial.suggest_categorical('hidden_layer_sizes', [(100,), (200,), (300,), (400,), (500,), (600,), (700,), (800,), (900,), (1000,)]),\n",
    "\t\t'learning_rate': trial.suggest_categorical('learning_rate', ['constant', 'invscaling', 'adaptive']), \n",
    "\t}\n",
    "\n",
    "\tmodel = MLPClassifier(**params)\n",
    "\tmodel.fit(X_risk_train, y_risk_train)\n",
    "\tpreds = model.predict(X_risk_test)\n",
    "\taccuracy = accuracy_score(y_risk_test, preds)\n",
    "\n",
    "\treturn accuracy"
   ]
  },
  {
   "cell_type": "code",
   "execution_count": null,
   "metadata": {},
   "outputs": [],
   "source": [
    "study = optuna.create_study(direction='maximize')\n",
    "study.optimize(objective_neural_network_risk, n_trials=N_TRIALS, n_jobs=3)"
   ]
  },
  {
   "cell_type": "code",
   "execution_count": null,
   "metadata": {},
   "outputs": [],
   "source": [
    "print_best_result(study, 'Rede Neural', 'Risk')"
   ]
  },
  {
   "attachments": {},
   "cell_type": "markdown",
   "metadata": {},
   "source": [
    "### Regressão Logistica"
   ]
  },
  {
   "attachments": {},
   "cell_type": "markdown",
   "metadata": {},
   "source": [
    "##### Real Return"
   ]
  },
  {
   "cell_type": "code",
   "execution_count": null,
   "metadata": {},
   "outputs": [],
   "source": [
    "def objective_logistic_regression_return(trial):\n",
    "    params = {\n",
    "        'penalty': trial.suggest_categorical('penalty', ['l2']),\n",
    "        'C':trial.suggest_float('C', 1, 100),\n",
    "        'class_weight': trial.suggest_categorical('class_weight', ['balanced', None]),\n",
    "        'solver': trial.suggest_categorical('solver', ['lbfgs', 'liblinear', 'newton-cg', 'newton-cholesky', 'sag', 'saga']),\n",
    "        'max_iter': trial.suggest_int('max_iter', 100, 10000),\n",
    "        'n_jobs': trial.suggest_int('n_jobs', 3, 3)\n",
    "\n",
    "\t}\n",
    "    model = LogisticRegression(**params)\n",
    "    model.fit(X_real_return_train, y_real_return_train)\n",
    "    preds = model.predict(X_real_return_test)\n",
    "    accuracy = accuracy_score(y_real_return_test, preds)\n",
    "\n",
    "    return accuracy"
   ]
  },
  {
   "cell_type": "code",
   "execution_count": null,
   "metadata": {},
   "outputs": [],
   "source": [
    "study = optuna.create_study(direction='maximize')\n",
    "study.optimize(objective_logistic_regression_return, n_trials=N_TRIALS, n_jobs=3)"
   ]
  },
  {
   "cell_type": "code",
   "execution_count": null,
   "metadata": {},
   "outputs": [],
   "source": [
    "print_best_result(study, 'Logistic Regression', 'Real Return')"
   ]
  },
  {
   "attachments": {},
   "cell_type": "markdown",
   "metadata": {},
   "source": [
    "##### Risk"
   ]
  },
  {
   "cell_type": "code",
   "execution_count": null,
   "metadata": {},
   "outputs": [],
   "source": [
    "def objective_logistic_regression_risk(trial):\n",
    "    params = {\n",
    "        'penalty': trial.suggest_categorical('penalty', ['l2']),\n",
    "        'C':trial.suggest_float('C', 1, 100),\n",
    "        'class_weight': trial.suggest_categorical('class_weight', ['balanced', None]),\n",
    "        'solver': trial.suggest_categorical('solver', ['lbfgs', 'liblinear', 'newton-cg', 'newton-cholesky', 'sag', 'saga']),\n",
    "        'max_iter': trial.suggest_int('max_iter', 100, 10000),\n",
    "        'n_jobs': trial.suggest_int('n_jobs', 3, 3)\n",
    "\n",
    "\t}\n",
    "    model = LogisticRegression(**params)\n",
    "    model.fit(X_risk_train, y_risk_train)\n",
    "    preds = model.predict(X_risk_test)\n",
    "    accuracy = accuracy_score(y_risk_test, preds)\n",
    "\n",
    "    return accuracy"
   ]
  },
  {
   "cell_type": "code",
   "execution_count": null,
   "metadata": {},
   "outputs": [],
   "source": [
    "study = optuna.create_study(direction='maximize')\n",
    "study.optimize(objective_logistic_regression_risk, n_trials=N_TRIALS, n_jobs=3)"
   ]
  },
  {
   "cell_type": "code",
   "execution_count": null,
   "metadata": {},
   "outputs": [],
   "source": [
    "print_best_result(study, 'Logistic Regression', 'Risk')"
   ]
  },
  {
   "attachments": {},
   "cell_type": "markdown",
   "metadata": {},
   "source": [
    "### KNeighborsClassifier"
   ]
  },
  {
   "attachments": {},
   "cell_type": "markdown",
   "metadata": {},
   "source": [
    "##### Real Return"
   ]
  },
  {
   "cell_type": "code",
   "execution_count": null,
   "metadata": {},
   "outputs": [],
   "source": [
    "def objective_kn_return(trial):\n",
    "    params = {\n",
    "\t\t'n_neighbors': trial.suggest_int('n_neighbors', 5, 200),\n",
    "\t\t'weights': trial.suggest_categorical('weights', ['uniform', 'distance']),\n",
    "\t\t'algorithm': trial.suggest_categorical('algorithm', ['ball_tree', 'kd_tree', 'brute']),\n",
    "\t\t'leaf_size': trial.suggest_int('leaf_size', 30, 100),\n",
    "\t\t'p': trial.suggest_int('p', 1, 3),\n",
    "    \t'n_jobs': trial.suggest_int('n_jobs', 3, 3)\n",
    "\t}\n",
    "    \n",
    "    model = KNeighborsClassifier(**params)\n",
    "    model.fit(X_real_return_train, y_real_return_train)\n",
    "    preds = model.predict(X_real_return_test)\n",
    "    accuracy = accuracy_score(y_real_return_test, preds)\n",
    "\n",
    "    return accuracy"
   ]
  },
  {
   "cell_type": "code",
   "execution_count": null,
   "metadata": {},
   "outputs": [],
   "source": [
    "study = optuna.create_study(direction='maximize')\n",
    "study.optimize(objective_kn_return, n_trials=N_TRIALS, n_jobs=3)"
   ]
  },
  {
   "cell_type": "code",
   "execution_count": null,
   "metadata": {},
   "outputs": [],
   "source": [
    "print_best_result(study, 'KNeighborsClassifier', 'Real Return')"
   ]
  },
  {
   "attachments": {},
   "cell_type": "markdown",
   "metadata": {},
   "source": [
    "##### Risk"
   ]
  },
  {
   "cell_type": "code",
   "execution_count": null,
   "metadata": {},
   "outputs": [],
   "source": [
    "def objective_kn_risk(trial):\n",
    "    params = {\n",
    "\t\t'n_neighbors': trial.suggest_int('n_neighbors', 5, 200),\n",
    "\t\t'weights': trial.suggest_categorical('weights', ['uniform', 'distance']),\n",
    "\t\t'algorithm': trial.suggest_categorical('algorithm', ['ball_tree', 'kd_tree', 'brute']),\n",
    "\t\t'leaf_size': trial.suggest_int('leaf_size', 30, 100),\n",
    "\t\t'p': trial.suggest_int('p', 1, 3),\n",
    "    \t'n_jobs': trial.suggest_int('n_jobs', 3, 3)\n",
    "\t}\n",
    "    \n",
    "    model = KNeighborsClassifier(**params)\n",
    "    model.fit(X_risk_train, y_risk_train)\n",
    "    preds = model.predict(X_risk_test)\n",
    "    accuracy = accuracy_score(y_risk_test, preds)\n",
    "\n",
    "    return accuracy"
   ]
  },
  {
   "cell_type": "code",
   "execution_count": null,
   "metadata": {},
   "outputs": [],
   "source": [
    "study = optuna.create_study(direction='maximize')\n",
    "study.optimize(objective_kn_risk, n_trials=N_TRIALS, n_jobs=3)"
   ]
  },
  {
   "cell_type": "code",
   "execution_count": null,
   "metadata": {},
   "outputs": [],
   "source": [
    "print_best_result(study, 'KNeighborsClassifier', 'Risk')"
   ]
  }
 ],
 "metadata": {
  "kernelspec": {
   "display_name": "env",
   "language": "python",
   "name": "python3"
  },
  "language_info": {
   "codemirror_mode": {
    "name": "ipython",
    "version": 3
   },
   "file_extension": ".py",
   "mimetype": "text/x-python",
   "name": "python",
   "nbconvert_exporter": "python",
   "pygments_lexer": "ipython3",
   "version": "3.10.5"
  },
  "orig_nbformat": 4,
  "vscode": {
   "interpreter": {
    "hash": "cc8a3245a31a46333b724f0fa902266a4a2d307e3e7797c60732a355503841f0"
   }
  }
 },
 "nbformat": 4,
 "nbformat_minor": 2
}

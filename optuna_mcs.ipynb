{
 "cells": [
  {
   "attachments": {},
   "cell_type": "markdown",
   "metadata": {},
   "source": [
    "# Multiple Classifiers Ensemble System (MCS)"
   ]
  },
  {
   "attachments": {},
   "cell_type": "markdown",
   "metadata": {},
   "source": [
    "#### Iury Zanonni de Faria"
   ]
  },
  {
   "attachments": {},
   "cell_type": "markdown",
   "metadata": {},
   "source": [
    "### Imports"
   ]
  },
  {
   "attachments": {},
   "cell_type": "markdown",
   "metadata": {},
   "source": [
    "#### General imports"
   ]
  },
  {
   "cell_type": "code",
   "execution_count": 58,
   "metadata": {},
   "outputs": [],
   "source": [
    "import pandas as pd\n",
    "import numpy as np\n",
    "import datetime as dt\n",
    "import statistics as st\n",
    "import matplotlib.pyplot as plt\n",
    "import warnings\n",
    "import optuna"
   ]
  },
  {
   "attachments": {},
   "cell_type": "markdown",
   "metadata": {},
   "source": [
    "#### Feature Selection imports"
   ]
  },
  {
   "cell_type": "code",
   "execution_count": 59,
   "metadata": {},
   "outputs": [],
   "source": [
    "from sklearn.feature_selection import mutual_info_classif\n",
    "# Info gain - weka"
   ]
  },
  {
   "attachments": {},
   "cell_type": "markdown",
   "metadata": {},
   "source": [
    "#### Diversity imports"
   ]
  },
  {
   "cell_type": "code",
   "execution_count": 60,
   "metadata": {},
   "outputs": [],
   "source": [
    "from sklearn.model_selection import KFold\n",
    "from sklearn.ensemble import BaggingClassifier\n",
    "from sklearn.ensemble import AdaBoostClassifier\n",
    "from sklearn.ensemble import GradientBoostingClassifier\n",
    "from sklearn.model_selection import cross_val_score"
   ]
  },
  {
   "attachments": {},
   "cell_type": "markdown",
   "metadata": {},
   "source": [
    "#### Classifiers imports"
   ]
  },
  {
   "cell_type": "code",
   "execution_count": 61,
   "metadata": {},
   "outputs": [],
   "source": [
    "import xgboost\n",
    "from sklearn.ensemble import RandomForestClassifier\n",
    "from sklearn.svm import SVC\n",
    "from sklearn.tree import DecisionTreeClassifier\n",
    "from sklearn.naive_bayes import BernoulliNB\n",
    "from sklearn.naive_bayes import GaussianNB\n",
    "from sklearn.neural_network import MLPClassifier\n",
    "from sklearn.linear_model import LogisticRegression\n",
    "from sklearn.neighbors import KNeighborsClassifier\n"
   ]
  },
  {
   "attachments": {},
   "cell_type": "markdown",
   "metadata": {},
   "source": [
    "#### Metrics"
   ]
  },
  {
   "cell_type": "code",
   "execution_count": 62,
   "metadata": {},
   "outputs": [],
   "source": [
    "from sklearn.metrics import precision_score\n",
    "from sklearn.metrics import accuracy_score"
   ]
  },
  {
   "attachments": {},
   "cell_type": "markdown",
   "metadata": {},
   "source": [
    "### Settings"
   ]
  },
  {
   "cell_type": "code",
   "execution_count": 63,
   "metadata": {},
   "outputs": [],
   "source": [
    "DATA = ['Date', 'Current Ratio','Quick Ratio','Current Assets', 'Long-term debt to equity ratio', 'Share Holder Equity','Debt to Equity Ratio', 'Percentage of net profit to sale',\n",
    "'Percentage of operating profit to sale','Percentage of Gross profit to sale','ROA','ROE','EPS','P/E','P/S','Stock book value','Stock Price','ROI','MarketReturn', 'Company']\n",
    "\n",
    "DATA = ['Unnamed: 0', 'revenue','cost-goods-sold','gross-profit','research-development-expenses','selling-general-administrative-expenses','operating-expenses',\n",
    "'operating-income','total-non-operating-income-expense','pre-tax-income','total-provision-income-taxes','income-after-taxes','income-from-continuous-operations',\n",
    "'income-from-discontinued-operations','net-income','ebitda','ebit','basic-shares-outstanding','shares-outstanding','eps-basic-net-earnings-per-share',\n",
    "'eps-earnings-per-share-diluted','cash-on-hand','receivables-total','inventory','other-current-assets','total-current-assets','net-property-plant-equipment',\n",
    "'long-term-investments','goodwill-intangible-assets-total','other-long-term-assets','total-long-term-assets','total-assets','total-current-liabilities','long-term-debt',\n",
    "'other-non-current-liabilities','total-long-term-liabilities','total-liabilities','common-stock-net','retained-earnings-accumulated-deficit','comprehensive-income',\n",
    "'total-share-holder-equity','total-liabilities-share-holders-equity','net-income-loss','total-depreciation-amortization-cash-flow','other-non-cash-items','total-non-cash-items',\n",
    "'change-in-accounts-receivable','change-in-inventories','change-in-accounts-payable','change-in-assets-liabilities','total-change-in-assets-liabilities',\n",
    "'cash-flow-from-operating-activities','net-change-in-property-plant-equipment','net-change-in-intangible-assets','net-acquisitions-divestitures','investing-activities-other',\n",
    "'cash-flow-from-investing-activities','net-long-term-debt','net-current-debt','debt-issuance-retirement-net-total','net-common-equity-issued-repurchased',\n",
    "'net-total-equity-issued-repurchased','total-common-preferred-stock-dividends-paid','financial-activities-other','cash-flow-from-financial-activities',\n",
    "'net-cash-flow','stock-based-compensation','common-stock-dividends-paid','current-ratio','long-term-debt-capital','debt-equity-ratio','gross-margin',\n",
    "'operating-margin','ebit-margin','pre-tax-profit-margin','net-profit-margin','asset-turnover','inventory-turnover','receiveable-turnover','days-sales-in-receivables',\n",
    "'roe','return-on-tangible-equity','roa','roi','book-value-per-share','operating-cash-flow-per-share','free-cash-flow-per-share','net-change-in-short-term-investments',\n",
    "'net-change-in-long-term-investments','net-change-in-investments-total','other-operating-income-expenses','pre-paid-expenses','other-share-holders-equity','other-income',\n",
    "'ebitda-margin']\n",
    "\n",
    "REAL_RETURN_CLASS = \"RealReturnClass\"\n",
    "REAL_RETURN = \"RealReturn\"\n",
    "RISK_CLASS = 'RiskClass'\n",
    "RISK = \"Risk\"\n",
    "\n",
    "HIGH = 'high'\n",
    "MEDIUM = 'medium'\n",
    "LOW = 'low'\n",
    "\n",
    "DATE = 'Unnamed: 0'\n",
    "\n",
    "N_PERIODS = 2\n",
    "N_FEATURES = 20\n",
    "\n",
    "DATASET_PATH = 'new_dataset/process_final_{}.csv'.format(N_PERIODS)\n",
    "\n",
    "N_TRIALS = 100\n",
    "\n",
    "#Remove os warnings do notebook\n",
    "warnings.filterwarnings('ignore')"
   ]
  },
  {
   "attachments": {},
   "cell_type": "markdown",
   "metadata": {},
   "source": [
    "### Import dataset"
   ]
  },
  {
   "cell_type": "code",
   "execution_count": 64,
   "metadata": {},
   "outputs": [],
   "source": [
    "dataset = pd.read_csv(DATASET_PATH)"
   ]
  },
  {
   "attachments": {},
   "cell_type": "markdown",
   "metadata": {},
   "source": [
    "### Feature Selection"
   ]
  },
  {
   "cell_type": "code",
   "execution_count": 65,
   "metadata": {},
   "outputs": [],
   "source": [
    "dataset = dataset.replace(to_replace=[HIGH], value=2.0)\n",
    "dataset = dataset.replace(to_replace=[MEDIUM], value=1.0)\n",
    "dataset = dataset.replace(to_replace=[LOW], value=0.0)\n",
    "\n",
    "dataset = dataset.replace(to_replace=[np.NaN], value=0.0)\n",
    "\n",
    "dataset_X = dataset.drop(columns=[REAL_RETURN_CLASS, REAL_RETURN, RISK_CLASS, RISK, DATE])\n",
    "dataset_y = dataset.drop(columns=DATA)"
   ]
  },
  {
   "attachments": {},
   "cell_type": "markdown",
   "metadata": {},
   "source": [
    "#### Real Return"
   ]
  },
  {
   "cell_type": "code",
   "execution_count": 66,
   "metadata": {},
   "outputs": [
    {
     "data": {
      "text/plain": [
       "[('book-value-per-share', 1.0781738725762178),\n",
       " ('total-liabilities-share-holders-equity', 1.0730975504432838),\n",
       " ('total-assets', 1.0730975504432838),\n",
       " ('return-on-tangible-equity', 1.0720236307826683),\n",
       " ('pre-tax-profit-margin', 1.0715423436623848),\n",
       " ('net-profit-margin', 1.0655457595048283),\n",
       " ('total-long-term-assets', 1.063440098960802),\n",
       " ('total-liabilities', 1.060025221503162),\n",
       " ('roe', 1.037837312201647),\n",
       " ('total-long-term-liabilities', 1.0371848786605442),\n",
       " ('roi', 1.0332105579822386),\n",
       " ('total-share-holder-equity', 1.0330730639322019),\n",
       " ('ebit-margin', 1.0308664906950786),\n",
       " ('operating-margin', 1.030584461918695),\n",
       " ('retained-earnings-accumulated-deficit', 1.0204939670787345),\n",
       " ('total-current-assets', 1.007819172959037),\n",
       " ('total-current-liabilities', 0.9908536271554558),\n",
       " ('roa', 0.9704110154244339),\n",
       " ('long-term-debt', 0.9535283875008169),\n",
       " ('net-property-plant-equipment', 0.9396579621468436),\n",
       " ('days-sales-in-receivables', 0.9325970570255593),\n",
       " ('revenue', 0.9285871438350695),\n",
       " ('gross-margin', 0.9199782302749142),\n",
       " ('cash-on-hand', 0.8827376162870679),\n",
       " ('operating-cash-flow-per-share', 0.8726149139875562),\n",
       " ('free-cash-flow-per-share', 0.8638509241695022),\n",
       " ('basic-shares-outstanding', 0.8580647539996842),\n",
       " ('goodwill-intangible-assets-total', 0.8579721073978199),\n",
       " ('shares-outstanding', 0.8573158621032708),\n",
       " ('cost-goods-sold', 0.8404154032679493),\n",
       " ('gross-profit', 0.8321073725737262),\n",
       " ('receivables-total', 0.8071334510682854),\n",
       " ('other-non-current-liabilities', 0.7878436643892397),\n",
       " ('ebitda', 0.7585085098366913),\n",
       " ('operating-income', 0.7564028479574151),\n",
       " ('other-long-term-assets', 0.7555675434166186),\n",
       " ('cash-flow-from-financial-activities', 0.7521296167973899),\n",
       " ('operating-expenses', 0.7512739808876826),\n",
       " ('receiveable-turnover', 0.7507291825992034),\n",
       " ('debt-equity-ratio', 0.743489336931822),\n",
       " ('ebit', 0.742052139243293),\n",
       " ('pre-tax-income', 0.740828536875842),\n",
       " ('cash-flow-from-operating-activities', 0.7365997805872257),\n",
       " ('current-ratio', 0.7343391255690748),\n",
       " ('comprehensive-income', 0.7329182400966678),\n",
       " ('income-after-taxes', 0.7146166517670385),\n",
       " ('income-from-continuous-operations', 0.7132399391339326),\n",
       " ('net-income', 0.7128903461215117),\n",
       " ('cash-flow-from-investing-activities', 0.7114024483455603),\n",
       " ('selling-general-administrative-expenses', 0.7054971409152891),\n",
       " ('net-cash-flow', 0.7030875496816189),\n",
       " ('net-income-loss', 0.7017278044959613),\n",
       " ('total-change-in-assets-liabilities', 0.6547272257950942),\n",
       " ('total-non-cash-items', 0.6390205044002996),\n",
       " ('inventory-turnover', 0.6144606189753654),\n",
       " ('debt-issuance-retirement-net-total', 0.6011367543402286),\n",
       " ('inventory', 0.5794108511929654),\n",
       " ('change-in-assets-liabilities', 0.5763686148071179),\n",
       " ('total-provision-income-taxes', 0.5762274019665014),\n",
       " ('other-non-cash-items', 0.5723968221818019),\n",
       " ('total-depreciation-amortization-cash-flow', 0.5719982118875),\n",
       " ('net-total-equity-issued-repurchased', 0.5673680183358936),\n",
       " ('net-change-in-property-plant-equipment', 0.5643438183508642),\n",
       " ('net-common-equity-issued-repurchased', 0.5621771393379498),\n",
       " ('net-long-term-debt', 0.5274613734144213),\n",
       " ('total-non-operating-income-expense', 0.5106264487323793),\n",
       " ('change-in-accounts-receivable', 0.5097433589735563),\n",
       " ('common-stock-net', 0.5085603526289056),\n",
       " ('long-term-debt-capital', 0.4654797156617334),\n",
       " ('financial-activities-other', 0.4555990902800032),\n",
       " ('net-change-in-investments-total', 0.4555968941318087),\n",
       " ('long-term-investments', 0.43561637653549246),\n",
       " ('asset-turnover', 0.40219208134813045),\n",
       " ('total-common-preferred-stock-dividends-paid', 0.3997376524273724),\n",
       " ('common-stock-dividends-paid', 0.39935702041039867),\n",
       " ('stock-based-compensation', 0.3896384480253511),\n",
       " ('investing-activities-other', 0.3801558662022172),\n",
       " ('pre-paid-expenses', 0.3757631249171827),\n",
       " ('other-current-assets', 0.37071599490059814),\n",
       " ('net-change-in-long-term-investments', 0.35916497024839406),\n",
       " ('change-in-inventories', 0.35700133996073913),\n",
       " ('change-in-accounts-payable', 0.34598156010057785),\n",
       " ('net-current-debt', 0.32566780956275737),\n",
       " ('net-acquisitions-divestitures', 0.29514229633073263),\n",
       " ('other-operating-income-expenses', 0.27588814525557265),\n",
       " ('net-change-in-short-term-investments', 0.26454482927264855),\n",
       " ('research-development-expenses', 0.2316276995137085),\n",
       " ('eps-basic-net-earnings-per-share', 0.22866661129572743),\n",
       " ('eps-earnings-per-share-diluted', 0.22681551402338068),\n",
       " ('income-from-discontinued-operations', 0.10879995970577236),\n",
       " ('net-change-in-intangible-assets', 0.05342093598933273),\n",
       " ('other-share-holders-equity', 0.0388624616823173),\n",
       " ('other-income', 0.006164918605963465),\n",
       " ('ebitda-margin', 0.0005220476393449905)]"
      ]
     },
     "execution_count": 66,
     "metadata": {},
     "output_type": "execute_result"
    }
   ],
   "source": [
    "rank_real_return = mutual_info_classif(dataset_X, dataset_y[REAL_RETURN_CLASS], discrete_features=True)\n",
    "\n",
    "result_real_return = {}\n",
    "\n",
    "for i in range(0, len(dataset_X.columns)):\n",
    "    result_real_return[dataset_X.columns[i]] = rank_real_return[i]\n",
    "\n",
    "final_ranking_real_return = sorted(result_real_return.items(), key=lambda x: x[1])\n",
    "final_ranking_real_return.reverse()\n",
    "final_ranking_real_return"
   ]
  },
  {
   "attachments": {},
   "cell_type": "markdown",
   "metadata": {},
   "source": [
    "#### Risk"
   ]
  },
  {
   "cell_type": "code",
   "execution_count": 67,
   "metadata": {},
   "outputs": [
    {
     "data": {
      "text/plain": [
       "[('book-value-per-share', 1.0784866809287685),\n",
       " ('total-liabilities-share-holders-equity', 1.0716668597392707),\n",
       " ('total-assets', 1.0716668597392707),\n",
       " ('pre-tax-profit-margin', 1.0713654930019336),\n",
       " ('net-profit-margin', 1.0648272532186995),\n",
       " ('return-on-tangible-equity', 1.0641284969009375),\n",
       " ('total-long-term-assets', 1.0614202187725474),\n",
       " ('total-liabilities', 1.0599517591343064),\n",
       " ('total-long-term-liabilities', 1.0361093780620672),\n",
       " ('total-share-holder-equity', 1.0352116158920783),\n",
       " ('ebit-margin', 1.0318595511234556),\n",
       " ('operating-margin', 1.0318226107738098),\n",
       " ('retained-earnings-accumulated-deficit', 1.0216322493402616),\n",
       " ('roe', 1.0153269192164784),\n",
       " ('total-current-assets', 1.006928473411139),\n",
       " ('total-current-liabilities', 0.9881403013559005),\n",
       " ('roi', 0.971769896256639),\n",
       " ('net-property-plant-equipment', 0.9307835159126874),\n",
       " ('revenue', 0.926023829434609),\n",
       " ('days-sales-in-receivables', 0.9203868010526002),\n",
       " ('long-term-debt', 0.9137434746678487),\n",
       " ('roa', 0.9127124989680939),\n",
       " ('gross-margin', 0.9006195406425702),\n",
       " ('cash-on-hand', 0.8803104755913218),\n",
       " ('operating-cash-flow-per-share', 0.8687617010313389),\n",
       " ('free-cash-flow-per-share', 0.8549258279908882),\n",
       " ('shares-outstanding', 0.8383256277725288),\n",
       " ('cost-goods-sold', 0.8360354523846091),\n",
       " ('basic-shares-outstanding', 0.8330416529663784),\n",
       " ('gross-profit', 0.8296413627181263),\n",
       " ('goodwill-intangible-assets-total', 0.8177127159847255),\n",
       " ('receivables-total', 0.8117027145681931),\n",
       " ('other-non-current-liabilities', 0.787525579925233),\n",
       " ('ebitda', 0.7555732768160895),\n",
       " ('other-long-term-assets', 0.7517652154338386),\n",
       " ('operating-expenses', 0.7488307403515001),\n",
       " ('cash-flow-from-financial-activities', 0.7445902265667641),\n",
       " ('operating-income', 0.7338000436882125),\n",
       " ('cash-flow-from-operating-activities', 0.7330629070473993),\n",
       " ('receiveable-turnover', 0.7329639726096024),\n",
       " ('comprehensive-income', 0.727576904876317),\n",
       " ('ebit', 0.726559144169959),\n",
       " ('pre-tax-income', 0.7140552557683839),\n",
       " ('current-ratio', 0.7104923631879829),\n",
       " ('cash-flow-from-investing-activities', 0.708094915552759),\n",
       " ('debt-equity-ratio', 0.7080292448555564),\n",
       " ('net-cash-flow', 0.7052146151004007),\n",
       " ('selling-general-administrative-expenses', 0.6981894933726309),\n",
       " ('income-after-taxes', 0.6850049139957788),\n",
       " ('income-from-continuous-operations', 0.6848510672338685),\n",
       " ('net-income', 0.6822821632495418),\n",
       " ('net-income-loss', 0.6746924883999412),\n",
       " ('total-change-in-assets-liabilities', 0.65610060915418),\n",
       " ('total-non-cash-items', 0.6282035795877592),\n",
       " ('inventory-turnover', 0.6150374319971976),\n",
       " ('debt-issuance-retirement-net-total', 0.5798092493530944),\n",
       " ('change-in-assets-liabilities', 0.5765837800162221),\n",
       " ('inventory', 0.571933861111174),\n",
       " ('other-non-cash-items', 0.5631393355780893),\n",
       " ('total-depreciation-amortization-cash-flow', 0.557834236621245),\n",
       " ('net-change-in-property-plant-equipment', 0.5540705422439973),\n",
       " ('total-provision-income-taxes', 0.5410782424994549),\n",
       " ('net-total-equity-issued-repurchased', 0.5400721066181304),\n",
       " ('net-common-equity-issued-repurchased', 0.5342459295116104),\n",
       " ('change-in-accounts-receivable', 0.5099646040672289),\n",
       " ('net-long-term-debt', 0.49460887940584036),\n",
       " ('total-non-operating-income-expense', 0.4841403714361198),\n",
       " ('financial-activities-other', 0.4521187939272857),\n",
       " ('net-change-in-investments-total', 0.449869356236204),\n",
       " ('long-term-investments', 0.43007264537040146),\n",
       " ('long-term-debt-capital', 0.40923057439988525),\n",
       " ('common-stock-net', 0.40872093389001424),\n",
       " ('total-common-preferred-stock-dividends-paid', 0.3843333203721611),\n",
       " ('common-stock-dividends-paid', 0.38373335925519225),\n",
       " ('other-current-assets', 0.373720567732318),\n",
       " ('pre-paid-expenses', 0.3704607266775851),\n",
       " ('investing-activities-other', 0.3632502147387416),\n",
       " ('stock-based-compensation', 0.3590554562631703),\n",
       " ('change-in-inventories', 0.3547221434571975),\n",
       " ('net-change-in-long-term-investments', 0.3483727485741426),\n",
       " ('change-in-accounts-payable', 0.34450392277986847),\n",
       " ('net-current-debt', 0.322930923638627),\n",
       " ('net-acquisitions-divestitures', 0.294315827664979),\n",
       " ('asset-turnover', 0.29239418870772604),\n",
       " ('other-operating-income-expenses', 0.2678014043246724),\n",
       " ('net-change-in-short-term-investments', 0.26263058599635775),\n",
       " ('research-development-expenses', 0.22763625543255747),\n",
       " ('eps-basic-net-earnings-per-share', 0.13129706718182982),\n",
       " ('eps-earnings-per-share-diluted', 0.12783016354510895),\n",
       " ('income-from-discontinued-operations', 0.09797865164894998),\n",
       " ('net-change-in-intangible-assets', 0.05138601578877683),\n",
       " ('other-share-holders-equity', 0.03445127557618123),\n",
       " ('other-income', 0.00620695630055435),\n",
       " ('ebitda-margin', 0.00052108580547063)]"
      ]
     },
     "execution_count": 67,
     "metadata": {},
     "output_type": "execute_result"
    }
   ],
   "source": [
    "rank_risk = mutual_info_classif(dataset_X, dataset_y[RISK_CLASS], discrete_features=True)\n",
    "\n",
    "result_risk = {}\n",
    "\n",
    "for i in range(0, len(dataset_X.columns)):\n",
    "    result_risk[dataset_X.columns[i]] = rank_risk[i]\n",
    "\n",
    "final_ranking_risk = sorted(result_risk.items(), key=lambda x: x[1])\n",
    "final_ranking_risk.reverse()\n",
    "final_ranking_risk"
   ]
  },
  {
   "cell_type": "code",
   "execution_count": 68,
   "metadata": {},
   "outputs": [],
   "source": [
    "def getColumnsRank(rank: list):\n",
    "  ranking = []\n",
    "  for column in rank:\n",
    "    ranking.append(column[0])\n",
    "    \n",
    "  return ranking"
   ]
  },
  {
   "cell_type": "code",
   "execution_count": 69,
   "metadata": {},
   "outputs": [],
   "source": [
    "features_real_return = getColumnsRank(final_ranking_real_return)[:N_FEATURES]\n",
    "features_risk = getColumnsRank(final_ranking_risk)[:N_FEATURES]"
   ]
  },
  {
   "attachments": {},
   "cell_type": "markdown",
   "metadata": {},
   "source": [
    "### Divisão do dataset"
   ]
  },
  {
   "cell_type": "code",
   "execution_count": 70,
   "metadata": {},
   "outputs": [],
   "source": [
    "columns_dataset = DATA\n",
    "columns_dataset.append(REAL_RETURN)\n",
    "columns_dataset.append(RISK)\n",
    "columns_dataset.append(REAL_RETURN_CLASS)\n",
    "columns_dataset.append(RISK_CLASS)\n",
    "\n",
    "df_train = None\n",
    "df_test = None\n",
    "\n",
    "df_train = pd.DataFrame(columns=columns_dataset)\n",
    "df_test = pd.DataFrame(columns=columns_dataset)"
   ]
  },
  {
   "cell_type": "code",
   "execution_count": 71,
   "metadata": {},
   "outputs": [
    {
     "name": "stdout",
     "output_type": "stream",
     "text": [
      "17006\n",
      "8299\n"
     ]
    }
   ],
   "source": [
    "TRAINING_START_DATE =  dt.datetime.strptime('2009-03-31', \"%Y-%m-%d\")\n",
    "TRAINING_END_DATE =  dt.datetime.strptime('2018-03-31', \"%Y-%m-%d\")\n",
    "\n",
    "TEST_START_DATE =  dt.datetime.strptime('2018-06-30', \"%Y-%m-%d\")\n",
    "TEST_END_DATE =  dt.datetime.strptime('2022-03-31', \"%Y-%m-%d\")\n",
    "\n",
    "dataset_sort = dataset.sort_values(by=DATE)\n",
    "count_train = 0\n",
    "count_test = 0\n",
    "\n",
    "for index, row in dataset_sort.iterrows():\n",
    "  date = dt.datetime.strptime(row[DATE], \"%Y-%m-%d\")\n",
    "  if date.year < TEST_START_DATE.year:\n",
    "    df_train = df_train.append(row)\n",
    "    count_train +=1\n",
    "  elif date.year == TEST_START_DATE.year and date.month < TEST_START_DATE.month:\n",
    "    df_train = df_train.append(row)\n",
    "    count_train +=1\n",
    "  else:\n",
    "    df_test = df_test.append(row)\n",
    "    count_test += 1\n",
    "\n",
    "print(count_train)\n",
    "print(count_test)\n",
    "\n",
    "df_train = df_train.drop(columns=[REAL_RETURN, RISK, DATE])\n",
    "df_test = df_test.drop(columns=[REAL_RETURN, RISK, DATE])"
   ]
  },
  {
   "attachments": {},
   "cell_type": "markdown",
   "metadata": {},
   "source": [
    "##### Real Return"
   ]
  },
  {
   "cell_type": "code",
   "execution_count": 72,
   "metadata": {},
   "outputs": [],
   "source": [
    "X_real_return_train = df_train[features_real_return]\n",
    "y_real_return_train = df_train[REAL_RETURN_CLASS]\n",
    "\n",
    "X_real_return_test = df_test[features_real_return]\n",
    "y_real_return_test = df_test[REAL_RETURN_CLASS]"
   ]
  },
  {
   "attachments": {},
   "cell_type": "markdown",
   "metadata": {},
   "source": [
    "##### Risk"
   ]
  },
  {
   "cell_type": "code",
   "execution_count": 73,
   "metadata": {},
   "outputs": [],
   "source": [
    "X_risk_train = df_train[features_risk]\n",
    "y_risk_train = df_train[RISK_CLASS]\n",
    "\n",
    "X_risk_test = df_test[features_risk]\n",
    "y_risk_test = df_test[RISK_CLASS]"
   ]
  },
  {
   "attachments": {},
   "cell_type": "markdown",
   "metadata": {},
   "source": [
    "### Classificadores Únicos"
   ]
  },
  {
   "cell_type": "code",
   "execution_count": 74,
   "metadata": {},
   "outputs": [],
   "source": [
    "classifiers_real_return = {}\n",
    "classifiers_risk = {}"
   ]
  },
  {
   "attachments": {},
   "cell_type": "markdown",
   "metadata": {},
   "source": [
    "### Optuna"
   ]
  },
  {
   "cell_type": "code",
   "execution_count": 75,
   "metadata": {},
   "outputs": [],
   "source": [
    "def print_best_result(study, classifier, type):\n",
    "\tprint(f'{classifier} - {type}')\n",
    "\tprint('Melhor pontuação:', study.best_value)\n",
    "\tprint('Melhores hiperparâmetros:', study.best_params)"
   ]
  },
  {
   "attachments": {},
   "cell_type": "markdown",
   "metadata": {},
   "source": [
    "### Random Forest"
   ]
  },
  {
   "attachments": {},
   "cell_type": "markdown",
   "metadata": {},
   "source": [
    "##### Real Return"
   ]
  },
  {
   "cell_type": "code",
   "execution_count": 76,
   "metadata": {},
   "outputs": [],
   "source": [
    "def objective_random_forest_return(trial):\n",
    "    params = {\n",
    "        'n_estimators': trial.suggest_int('n_estimators', 10, 1000),\n",
    "        'max_depth': trial.suggest_int('max_depth', 2, 200),\n",
    "        'min_samples_split': trial.suggest_int('min_samples_split', 2, 10),\n",
    "        'min_samples_leaf': trial.suggest_int('min_samples_leaf', 1, 10),\n",
    "        'max_features': trial.suggest_categorical('max_features', ['sqrt', 'log2']),\n",
    "        'n_jobs': trial.suggest_int('n_jobs', 3, 3)\n",
    "    }\n",
    "    model = RandomForestClassifier(**params)\n",
    "    model.fit(X_real_return_train, y_real_return_train)\n",
    "    preds = model.predict(X_real_return_test)\n",
    "    accuracy = accuracy_score(y_real_return_test, preds)\n",
    "\n",
    "    return accuracy"
   ]
  },
  {
   "cell_type": "code",
   "execution_count": 77,
   "metadata": {},
   "outputs": [
    {
     "name": "stderr",
     "output_type": "stream",
     "text": [
      "\u001b[32m[I 2023-04-18 03:18:10,085]\u001b[0m A new study created in memory with name: no-name-b26d3784-3635-42bc-b6b9-e12706a454fd\u001b[0m\n",
      "\u001b[32m[I 2023-04-18 03:18:55,128]\u001b[0m Trial 2 finished with value: 0.841065188576937 and parameters: {'n_estimators': 475, 'max_depth': 110, 'min_samples_split': 7, 'min_samples_leaf': 9, 'max_features': 'log2', 'n_jobs': 3}. Best is trial 2 with value: 0.841065188576937.\u001b[0m\n",
      "\u001b[32m[I 2023-04-18 03:19:15,080]\u001b[0m Trial 0 finished with value: 0.8399807205687432 and parameters: {'n_estimators': 693, 'max_depth': 78, 'min_samples_split': 9, 'min_samples_leaf': 10, 'max_features': 'log2', 'n_jobs': 3}. Best is trial 2 with value: 0.841065188576937.\u001b[0m\n",
      "\u001b[32m[I 2023-04-18 03:19:28,897]\u001b[0m Trial 1 finished with value: 0.8386552596698398 and parameters: {'n_estimators': 675, 'max_depth': 94, 'min_samples_split': 10, 'min_samples_leaf': 1, 'max_features': 'log2', 'n_jobs': 3}. Best is trial 2 with value: 0.841065188576937.\u001b[0m\n",
      "\u001b[32m[I 2023-04-18 03:19:30,261]\u001b[0m Trial 4 finished with value: 0.8392577418966141 and parameters: {'n_estimators': 130, 'max_depth': 192, 'min_samples_split': 5, 'min_samples_leaf': 4, 'max_features': 'log2', 'n_jobs': 3}. Best is trial 2 with value: 0.841065188576937.\u001b[0m\n",
      "\u001b[32m[I 2023-04-18 03:20:12,954]\u001b[0m Trial 3 finished with value: 0.8382937703337752 and parameters: {'n_estimators': 639, 'max_depth': 184, 'min_samples_split': 3, 'min_samples_leaf': 2, 'max_features': 'log2', 'n_jobs': 3}. Best is trial 2 with value: 0.841065188576937.\u001b[0m\n",
      "\u001b[32m[I 2023-04-18 03:20:40,320]\u001b[0m Trial 6 finished with value: 0.8405832027955176 and parameters: {'n_estimators': 643, 'max_depth': 156, 'min_samples_split': 3, 'min_samples_leaf': 8, 'max_features': 'sqrt', 'n_jobs': 3}. Best is trial 2 with value: 0.841065188576937.\u001b[0m\n",
      "\u001b[32m[I 2023-04-18 03:21:06,522]\u001b[0m Trial 5 finished with value: 0.8401012170140981 and parameters: {'n_estimators': 924, 'max_depth': 149, 'min_samples_split': 5, 'min_samples_leaf': 10, 'max_features': 'log2', 'n_jobs': 3}. Best is trial 2 with value: 0.841065188576937.\u001b[0m\n",
      "\u001b[32m[I 2023-04-18 03:21:24,803]\u001b[0m Trial 9 finished with value: 0.8357633449813231 and parameters: {'n_estimators': 200, 'max_depth': 9, 'min_samples_split': 8, 'min_samples_leaf': 1, 'max_features': 'log2', 'n_jobs': 3}. Best is trial 2 with value: 0.841065188576937.\u001b[0m\n",
      "\u001b[32m[I 2023-04-18 03:21:27,700]\u001b[0m Trial 7 finished with value: 0.8398602241233883 and parameters: {'n_estimators': 711, 'max_depth': 40, 'min_samples_split': 10, 'min_samples_leaf': 10, 'max_features': 'log2', 'n_jobs': 3}. Best is trial 2 with value: 0.841065188576937.\u001b[0m\n",
      "\u001b[32m[I 2023-04-18 03:21:41,441]\u001b[0m Trial 8 finished with value: 0.8385347632244848 and parameters: {'n_estimators': 665, 'max_depth': 108, 'min_samples_split': 4, 'min_samples_leaf': 2, 'max_features': 'log2', 'n_jobs': 3}. Best is trial 2 with value: 0.841065188576937.\u001b[0m\n"
     ]
    }
   ],
   "source": [
    "study = optuna.create_study(direction='maximize')\n",
    "study.optimize(objective_random_forest_return, n_trials=N_TRIALS, n_jobs=3)"
   ]
  },
  {
   "cell_type": "code",
   "execution_count": 78,
   "metadata": {},
   "outputs": [
    {
     "name": "stdout",
     "output_type": "stream",
     "text": [
      "Random Forest - Real Return\n",
      "Melhor pontuação: 0.841065188576937\n",
      "Melhores hiperparâmetros: {'n_estimators': 475, 'max_depth': 110, 'min_samples_split': 7, 'min_samples_leaf': 9, 'max_features': 'log2', 'n_jobs': 3}\n"
     ]
    }
   ],
   "source": [
    "print_best_result(study, 'Random Forest', 'Real Return')\n"
   ]
  },
  {
   "attachments": {},
   "cell_type": "markdown",
   "metadata": {},
   "source": [
    "##### Risk"
   ]
  },
  {
   "cell_type": "code",
   "execution_count": 79,
   "metadata": {},
   "outputs": [],
   "source": [
    "def objective_random_forest_risk(trial):\n",
    "    params = {\n",
    "        'n_estimators': trial.suggest_int('n_estimators', 10, 1000),\n",
    "        'max_depth': trial.suggest_int('max_depth', 2, 200),\n",
    "        'min_samples_split': trial.suggest_int('min_samples_split', 2, 10),\n",
    "        'min_samples_leaf': trial.suggest_int('min_samples_leaf', 1, 10),\n",
    "        'max_features': trial.suggest_categorical('max_features', ['sqrt', 'log2']),\n",
    "        'n_jobs': trial.suggest_int('n_jobs', 3, 3)\n",
    "    }\n",
    "    model = RandomForestClassifier(**params)\n",
    "    model.fit(X_risk_train, y_risk_train)\n",
    "    preds = model.predict(X_risk_test)\n",
    "    accuracy = accuracy_score(y_risk_test, preds)\n",
    "\n",
    "    return accuracy"
   ]
  },
  {
   "cell_type": "code",
   "execution_count": 80,
   "metadata": {},
   "outputs": [
    {
     "name": "stderr",
     "output_type": "stream",
     "text": [
      "\u001b[32m[I 2023-04-18 03:21:41,759]\u001b[0m A new study created in memory with name: no-name-9d7920e7-5e22-4e12-ae5b-d9f7dad9c4ca\u001b[0m\n",
      "\u001b[32m[I 2023-04-18 03:22:14,387]\u001b[0m Trial 0 finished with value: 0.47909386673093146 and parameters: {'n_estimators': 595, 'max_depth': 5, 'min_samples_split': 5, 'min_samples_leaf': 5, 'max_features': 'log2', 'n_jobs': 3}. Best is trial 0 with value: 0.47909386673093146.\u001b[0m\n",
      "\u001b[32m[I 2023-04-18 03:22:27,272]\u001b[0m Trial 1 finished with value: 0.5133148572117122 and parameters: {'n_estimators': 311, 'max_depth': 177, 'min_samples_split': 9, 'min_samples_leaf': 6, 'max_features': 'log2', 'n_jobs': 3}. Best is trial 1 with value: 0.5133148572117122.\u001b[0m\n",
      "\u001b[32m[I 2023-04-18 03:22:49,874]\u001b[0m Trial 2 finished with value: 0.5098204602964213 and parameters: {'n_estimators': 502, 'max_depth': 124, 'min_samples_split': 3, 'min_samples_leaf': 10, 'max_features': 'sqrt', 'n_jobs': 3}. Best is trial 1 with value: 0.5133148572117122.\u001b[0m\n",
      "\u001b[32m[I 2023-04-18 03:23:00,175]\u001b[0m Trial 3 finished with value: 0.5154837932280998 and parameters: {'n_estimators': 326, 'max_depth': 142, 'min_samples_split': 2, 'min_samples_leaf': 8, 'max_features': 'sqrt', 'n_jobs': 3}. Best is trial 3 with value: 0.5154837932280998.\u001b[0m\n",
      "\u001b[32m[I 2023-04-18 03:23:44,476]\u001b[0m Trial 5 finished with value: 0.5104229425231955 and parameters: {'n_estimators': 335, 'max_depth': 79, 'min_samples_split': 7, 'min_samples_leaf': 2, 'max_features': 'sqrt', 'n_jobs': 3}. Best is trial 3 with value: 0.5154837932280998.\u001b[0m\n",
      "\u001b[32m[I 2023-04-18 03:24:36,227]\u001b[0m Trial 4 finished with value: 0.5111459211953248 and parameters: {'n_estimators': 812, 'max_depth': 92, 'min_samples_split': 2, 'min_samples_leaf': 3, 'max_features': 'sqrt', 'n_jobs': 3}. Best is trial 3 with value: 0.5154837932280998.\u001b[0m\n",
      "\u001b[32m[I 2023-04-18 03:24:54,563]\u001b[0m Trial 6 finished with value: 0.5052415953729364 and parameters: {'n_estimators': 664, 'max_depth': 37, 'min_samples_split': 3, 'min_samples_leaf': 1, 'max_features': 'log2', 'n_jobs': 3}. Best is trial 3 with value: 0.5154837932280998.\u001b[0m\n",
      "\u001b[32m[I 2023-04-18 03:25:07,013]\u001b[0m Trial 8 finished with value: 0.5116279069767442 and parameters: {'n_estimators': 219, 'max_depth': 113, 'min_samples_split': 6, 'min_samples_leaf': 7, 'max_features': 'sqrt', 'n_jobs': 3}. Best is trial 3 with value: 0.5154837932280998.\u001b[0m\n",
      "\u001b[32m[I 2023-04-18 03:25:20,737]\u001b[0m Trial 7 finished with value: 0.5104229425231955 and parameters: {'n_estimators': 744, 'max_depth': 168, 'min_samples_split': 8, 'min_samples_leaf': 8, 'max_features': 'sqrt', 'n_jobs': 3}. Best is trial 3 with value: 0.5154837932280998.\u001b[0m\n",
      "\u001b[32m[I 2023-04-18 03:26:01,292]\u001b[0m Trial 9 finished with value: 0.5119893963128088 and parameters: {'n_estimators': 881, 'max_depth': 51, 'min_samples_split': 6, 'min_samples_leaf': 5, 'max_features': 'log2', 'n_jobs': 3}. Best is trial 3 with value: 0.5154837932280998.\u001b[0m\n"
     ]
    }
   ],
   "source": [
    "study = optuna.create_study(direction='maximize')\n",
    "study.optimize(objective_random_forest_risk, n_trials=N_TRIALS, n_jobs=3)"
   ]
  },
  {
   "cell_type": "code",
   "execution_count": 81,
   "metadata": {},
   "outputs": [
    {
     "name": "stdout",
     "output_type": "stream",
     "text": [
      "Random Forest - Risk\n",
      "Melhor pontuação: 0.5154837932280998\n",
      "Melhores hiperparâmetros: {'n_estimators': 326, 'max_depth': 142, 'min_samples_split': 2, 'min_samples_leaf': 8, 'max_features': 'sqrt', 'n_jobs': 3}\n"
     ]
    }
   ],
   "source": [
    "print_best_result(study, 'Random Forest', 'Risk')"
   ]
  },
  {
   "attachments": {},
   "cell_type": "markdown",
   "metadata": {},
   "source": [
    "### SVM"
   ]
  },
  {
   "attachments": {},
   "cell_type": "markdown",
   "metadata": {},
   "source": [
    "##### Real Return"
   ]
  },
  {
   "cell_type": "code",
   "execution_count": 82,
   "metadata": {},
   "outputs": [],
   "source": [
    "def objective_svc_return(trial):\n",
    "    params = {\n",
    "        'kernel': trial.suggest_categorical('kernel', ['poly', 'rbf', 'sigmoid']),\n",
    "        'C':trial.suggest_float('C', 1, 100),\n",
    "        'class_weight': trial.suggest_categorical('class_weight', ['balanced', None])\n",
    "\t}\n",
    "    model = SVC(**params)\n",
    "    model.fit(X_real_return_train, y_real_return_train)\n",
    "    preds = model.predict(X_real_return_test)\n",
    "    accuracy = accuracy_score(y_real_return_test, preds)\n",
    "\n",
    "    return accuracy"
   ]
  },
  {
   "cell_type": "code",
   "execution_count": 83,
   "metadata": {},
   "outputs": [
    {
     "name": "stderr",
     "output_type": "stream",
     "text": [
      "\u001b[32m[I 2023-04-18 03:26:01,704]\u001b[0m A new study created in memory with name: no-name-d8513562-fab3-4e28-9951-857b59ccafcc\u001b[0m\n",
      "\u001b[32m[I 2023-04-18 03:27:31,520]\u001b[0m Trial 0 finished with value: 0.5858537173153392 and parameters: {'kernel': 'rbf', 'C': 94.96385981118057, 'class_weight': None}. Best is trial 0 with value: 0.5858537173153392.\u001b[0m\n",
      "\u001b[32m[I 2023-04-18 03:28:11,938]\u001b[0m Trial 2 finished with value: 0.41330280756717674 and parameters: {'kernel': 'poly', 'C': 58.528619774990176, 'class_weight': 'balanced'}. Best is trial 0 with value: 0.5858537173153392.\u001b[0m\n",
      "\u001b[32m[I 2023-04-18 03:28:49,414]\u001b[0m Trial 1 finished with value: 0.33172671406193516 and parameters: {'kernel': 'poly', 'C': 99.05302594611123, 'class_weight': None}. Best is trial 0 with value: 0.5858537173153392.\u001b[0m\n",
      "\u001b[32m[I 2023-04-18 03:29:15,195]\u001b[0m Trial 3 finished with value: 0.5824798168454031 and parameters: {'kernel': 'rbf', 'C': 67.70078768552747, 'class_weight': None}. Best is trial 0 with value: 0.5858537173153392.\u001b[0m\n",
      "\u001b[32m[I 2023-04-18 03:29:38,146]\u001b[0m Trial 4 finished with value: 0.3253404024581275 and parameters: {'kernel': 'poly', 'C': 1.2888491399560118, 'class_weight': None}. Best is trial 0 with value: 0.5858537173153392.\u001b[0m\n",
      "\u001b[32m[I 2023-04-18 03:29:39,481]\u001b[0m Trial 5 finished with value: 0.35968188938426315 and parameters: {'kernel': 'sigmoid', 'C': 18.242050332866462, 'class_weight': 'balanced'}. Best is trial 0 with value: 0.5858537173153392.\u001b[0m\n",
      "\u001b[32m[I 2023-04-18 03:30:16,348]\u001b[0m Trial 7 finished with value: 0.35968188938426315 and parameters: {'kernel': 'sigmoid', 'C': 16.992601574380423, 'class_weight': 'balanced'}. Best is trial 0 with value: 0.5858537173153392.\u001b[0m\n",
      "\u001b[32m[I 2023-04-18 03:30:36,601]\u001b[0m Trial 6 finished with value: 0.4075189781901434 and parameters: {'kernel': 'poly', 'C': 23.6096115127424, 'class_weight': 'balanced'}. Best is trial 0 with value: 0.5858537173153392.\u001b[0m\n",
      "\u001b[32m[I 2023-04-18 03:30:49,966]\u001b[0m Trial 9 finished with value: 0.3590794071574889 and parameters: {'kernel': 'sigmoid', 'C': 43.59775769900132, 'class_weight': 'balanced'}. Best is trial 0 with value: 0.5858537173153392.\u001b[0m\n",
      "\u001b[32m[I 2023-04-18 03:31:10,925]\u001b[0m Trial 8 finished with value: 0.330160260272322 and parameters: {'kernel': 'poly', 'C': 69.4073709784536, 'class_weight': None}. Best is trial 0 with value: 0.5858537173153392.\u001b[0m\n"
     ]
    }
   ],
   "source": [
    "study = optuna.create_study(direction='maximize')\n",
    "study.optimize(objective_svc_return, n_trials=N_TRIALS, n_jobs=3)"
   ]
  },
  {
   "cell_type": "code",
   "execution_count": 84,
   "metadata": {},
   "outputs": [
    {
     "name": "stdout",
     "output_type": "stream",
     "text": [
      "SVM - Real Return\n",
      "Melhor pontuação: 0.5858537173153392\n",
      "Melhores hiperparâmetros: {'kernel': 'rbf', 'C': 94.96385981118057, 'class_weight': None}\n"
     ]
    }
   ],
   "source": [
    "print_best_result(study, 'SVM', 'Real Return')"
   ]
  },
  {
   "attachments": {},
   "cell_type": "markdown",
   "metadata": {},
   "source": [
    "##### Risk"
   ]
  },
  {
   "cell_type": "code",
   "execution_count": 85,
   "metadata": {},
   "outputs": [],
   "source": [
    "def objective_svc_risk(trial):\n",
    "    params = {\n",
    "        'kernel': trial.suggest_categorical('kernel', ['poly', 'rbf', 'sigmoid']),\n",
    "        'C':trial.suggest_float('C', 1, 100),\n",
    "        'class_weight': trial.suggest_categorical('class_weight', ['balanced', None])\n",
    "\t}\n",
    "    model = SVC(**params)\n",
    "    model.fit(X_risk_train, y_risk_train)\n",
    "    preds = model.predict(X_risk_test)\n",
    "    accuracy = accuracy_score(y_risk_test, preds)\n",
    "\n",
    "    return accuracy"
   ]
  },
  {
   "cell_type": "code",
   "execution_count": 86,
   "metadata": {},
   "outputs": [
    {
     "name": "stderr",
     "output_type": "stream",
     "text": [
      "\u001b[32m[I 2023-04-18 03:31:11,227]\u001b[0m A new study created in memory with name: no-name-cb7028aa-8548-4502-ac26-a87d6f9eca3c\u001b[0m\n",
      "\u001b[32m[I 2023-04-18 03:31:45,928]\u001b[0m Trial 2 finished with value: 0.351970116881552 and parameters: {'kernel': 'sigmoid', 'C': 64.88949125851607, 'class_weight': None}. Best is trial 2 with value: 0.351970116881552.\u001b[0m\n",
      "\u001b[32m[I 2023-04-18 03:32:17,743]\u001b[0m Trial 3 finished with value: 0.3487167128569707 and parameters: {'kernel': 'sigmoid', 'C': 78.13130403277016, 'class_weight': 'balanced'}. Best is trial 2 with value: 0.351970116881552.\u001b[0m\n",
      "\u001b[32m[I 2023-04-18 03:32:48,515]\u001b[0m Trial 4 finished with value: 0.35209061332690683 and parameters: {'kernel': 'sigmoid', 'C': 36.33849931874259, 'class_weight': None}. Best is trial 4 with value: 0.35209061332690683.\u001b[0m\n",
      "\u001b[32m[I 2023-04-18 03:33:22,576]\u001b[0m Trial 5 finished with value: 0.3487167128569707 and parameters: {'kernel': 'sigmoid', 'C': 95.7619611405676, 'class_weight': 'balanced'}. Best is trial 4 with value: 0.35209061332690683.\u001b[0m\n",
      "\u001b[32m[I 2023-04-18 03:33:49,964]\u001b[0m Trial 1 finished with value: 0.3023255813953488 and parameters: {'kernel': 'poly', 'C': 7.525196798079115, 'class_weight': None}. Best is trial 4 with value: 0.35209061332690683.\u001b[0m\n",
      "\u001b[32m[I 2023-04-18 03:34:21,707]\u001b[0m Trial 7 finished with value: 0.3522111097722617 and parameters: {'kernel': 'sigmoid', 'C': 75.56121250242171, 'class_weight': None}. Best is trial 7 with value: 0.3522111097722617.\u001b[0m\n",
      "\u001b[32m[I 2023-04-18 03:34:33,587]\u001b[0m Trial 6 finished with value: 0.41450777202072536 and parameters: {'kernel': 'rbf', 'C': 13.642159048041334, 'class_weight': None}. Best is trial 6 with value: 0.41450777202072536.\u001b[0m\n",
      "\u001b[32m[I 2023-04-18 03:35:53,434]\u001b[0m Trial 9 finished with value: 0.38149174599349317 and parameters: {'kernel': 'poly', 'C': 1.6174349353715736, 'class_weight': 'balanced'}. Best is trial 6 with value: 0.41450777202072536.\u001b[0m\n",
      "\u001b[32m[I 2023-04-18 03:36:15,441]\u001b[0m Trial 0 finished with value: 0.3023255813953488 and parameters: {'kernel': 'poly', 'C': 55.57229473078375, 'class_weight': None}. Best is trial 6 with value: 0.41450777202072536.\u001b[0m\n",
      "\u001b[32m[I 2023-04-18 03:37:58,508]\u001b[0m Trial 8 finished with value: 0.38378117845523557 and parameters: {'kernel': 'poly', 'C': 29.261742703336644, 'class_weight': 'balanced'}. Best is trial 6 with value: 0.41450777202072536.\u001b[0m\n"
     ]
    }
   ],
   "source": [
    "study = optuna.create_study(direction='maximize')\n",
    "study.optimize(objective_svc_risk, n_trials=N_TRIALS, n_jobs=3)"
   ]
  },
  {
   "cell_type": "code",
   "execution_count": 87,
   "metadata": {},
   "outputs": [
    {
     "name": "stdout",
     "output_type": "stream",
     "text": [
      "SVM - Risk\n",
      "Melhor pontuação: 0.41450777202072536\n",
      "Melhores hiperparâmetros: {'kernel': 'rbf', 'C': 13.642159048041334, 'class_weight': None}\n"
     ]
    }
   ],
   "source": [
    "print_best_result(study, 'SVM', 'Risk')"
   ]
  },
  {
   "attachments": {},
   "cell_type": "markdown",
   "metadata": {},
   "source": [
    "### Decision Tree"
   ]
  },
  {
   "attachments": {},
   "cell_type": "markdown",
   "metadata": {},
   "source": [
    "##### Real Return"
   ]
  },
  {
   "cell_type": "code",
   "execution_count": 88,
   "metadata": {},
   "outputs": [],
   "source": [
    "def objective_decision_tree_return(trial):\n",
    "    params = {\n",
    "        'criterion': trial.suggest_categorical('criterion', ['gini', 'entropy', 'log_loss']),\n",
    "        'splitter': trial.suggest_categorical('splitter', ['best', 'random']),\n",
    "        'max_depth': trial.suggest_int('max_depth', 2, 200),\n",
    "        'min_samples_split': trial.suggest_int('min_samples_split', 2, 2000),\n",
    "\t}\n",
    "    model = DecisionTreeClassifier(**params)\n",
    "    model.fit(X_real_return_train, y_real_return_train)\n",
    "    preds = model.predict(X_real_return_test)\n",
    "    accuracy = accuracy_score(y_real_return_test, preds)\n",
    "\n",
    "    return accuracy"
   ]
  },
  {
   "cell_type": "code",
   "execution_count": 89,
   "metadata": {},
   "outputs": [
    {
     "name": "stderr",
     "output_type": "stream",
     "text": [
      "\u001b[32m[I 2023-04-18 03:37:58,708]\u001b[0m A new study created in memory with name: no-name-b65705ac-cbf7-477b-9839-953ff7743ed6\u001b[0m\n",
      "\u001b[32m[I 2023-04-18 03:37:58,746]\u001b[0m Trial 0 finished with value: 0.5253645017471985 and parameters: {'criterion': 'log_loss', 'splitter': 'random', 'max_depth': 138, 'min_samples_split': 1302}. Best is trial 0 with value: 0.5253645017471985.\u001b[0m\n",
      "\u001b[32m[I 2023-04-18 03:37:58,773]\u001b[0m Trial 1 finished with value: 0.5882636462224364 and parameters: {'criterion': 'log_loss', 'splitter': 'random', 'max_depth': 200, 'min_samples_split': 1833}. Best is trial 1 with value: 0.5882636462224364.\u001b[0m\n",
      "\u001b[32m[I 2023-04-18 03:37:58,825]\u001b[0m Trial 3 finished with value: 0.6136883961923123 and parameters: {'criterion': 'log_loss', 'splitter': 'random', 'max_depth': 194, 'min_samples_split': 1945}. Best is trial 3 with value: 0.6136883961923123.\u001b[0m\n",
      "\u001b[32m[I 2023-04-18 03:37:58,840]\u001b[0m Trial 2 finished with value: 0.7232196650198819 and parameters: {'criterion': 'entropy', 'splitter': 'random', 'max_depth': 35, 'min_samples_split': 219}. Best is trial 2 with value: 0.7232196650198819.\u001b[0m\n",
      "\u001b[32m[I 2023-04-18 03:37:58,933]\u001b[0m Trial 5 finished with value: 0.5511507410531389 and parameters: {'criterion': 'entropy', 'splitter': 'random', 'max_depth': 179, 'min_samples_split': 1429}. Best is trial 2 with value: 0.7232196650198819.\u001b[0m\n",
      "\u001b[32m[I 2023-04-18 03:37:59,398]\u001b[0m Trial 4 finished with value: 0.8341968911917098 and parameters: {'criterion': 'log_loss', 'splitter': 'best', 'max_depth': 169, 'min_samples_split': 1524}. Best is trial 4 with value: 0.8341968911917098.\u001b[0m\n",
      "\u001b[32m[I 2023-04-18 03:37:59,430]\u001b[0m Trial 6 finished with value: 0.8341968911917098 and parameters: {'criterion': 'entropy', 'splitter': 'best', 'max_depth': 118, 'min_samples_split': 1735}. Best is trial 4 with value: 0.8341968911917098.\u001b[0m\n",
      "\u001b[32m[I 2023-04-18 03:37:59,734]\u001b[0m Trial 8 finished with value: 0.8337149054102904 and parameters: {'criterion': 'gini', 'splitter': 'best', 'max_depth': 74, 'min_samples_split': 1783}. Best is trial 4 with value: 0.8341968911917098.\u001b[0m\n",
      "\u001b[32m[I 2023-04-18 03:37:59,929]\u001b[0m Trial 9 finished with value: 0.8290155440414507 and parameters: {'criterion': 'gini', 'splitter': 'best', 'max_depth': 96, 'min_samples_split': 510}. Best is trial 4 with value: 0.8341968911917098.\u001b[0m\n",
      "\u001b[32m[I 2023-04-18 03:38:00,162]\u001b[0m Trial 7 finished with value: 0.7420171104952404 and parameters: {'criterion': 'log_loss', 'splitter': 'best', 'max_depth': 82, 'min_samples_split': 3}. Best is trial 4 with value: 0.8341968911917098.\u001b[0m\n"
     ]
    }
   ],
   "source": [
    "study = optuna.create_study(direction='maximize')\n",
    "study.optimize(objective_decision_tree_return, n_trials=N_TRIALS, n_jobs=3)"
   ]
  },
  {
   "cell_type": "code",
   "execution_count": 90,
   "metadata": {},
   "outputs": [
    {
     "name": "stdout",
     "output_type": "stream",
     "text": [
      "DecisionTreeClassifier - Real Return\n",
      "Melhor pontuação: 0.8341968911917098\n",
      "Melhores hiperparâmetros: {'criterion': 'log_loss', 'splitter': 'best', 'max_depth': 169, 'min_samples_split': 1524}\n"
     ]
    }
   ],
   "source": [
    "print_best_result(study, 'DecisionTreeClassifier', 'Real Return')"
   ]
  },
  {
   "attachments": {},
   "cell_type": "markdown",
   "metadata": {},
   "source": [
    "##### Risk"
   ]
  },
  {
   "cell_type": "code",
   "execution_count": 91,
   "metadata": {},
   "outputs": [],
   "source": [
    "def objective_decision_tree_risk(trial):\n",
    "    params = {\n",
    "        'criterion': trial.suggest_categorical('criterion', ['gini', 'entropy', 'log_loss']),\n",
    "        'splitter': trial.suggest_categorical('splitter', ['best', 'random']),\n",
    "        'max_depth': trial.suggest_int('max_depth', 2, 200),\n",
    "        'min_samples_split': trial.suggest_int('min_samples_split', 2, 2000),\n",
    "\t}\n",
    "    model = DecisionTreeClassifier(**params)\n",
    "    model.fit(X_risk_train, y_risk_train)\n",
    "    preds = model.predict(X_risk_test)\n",
    "    accuracy = accuracy_score(y_risk_test, preds)\n",
    "\n",
    "    return accuracy"
   ]
  },
  {
   "cell_type": "code",
   "execution_count": 92,
   "metadata": {},
   "outputs": [
    {
     "name": "stderr",
     "output_type": "stream",
     "text": [
      "\u001b[32m[I 2023-04-18 03:38:00,421]\u001b[0m A new study created in memory with name: no-name-957a0916-6455-4195-a532-95b8c159da5a\u001b[0m\n",
      "\u001b[32m[I 2023-04-18 03:38:00,515]\u001b[0m Trial 0 finished with value: 0.4582479816845403 and parameters: {'criterion': 'gini', 'splitter': 'random', 'max_depth': 62, 'min_samples_split': 586}. Best is trial 0 with value: 0.4582479816845403.\u001b[0m\n",
      "\u001b[32m[I 2023-04-18 03:38:00,523]\u001b[0m Trial 2 finished with value: 0.4464393300397638 and parameters: {'criterion': 'gini', 'splitter': 'random', 'max_depth': 74, 'min_samples_split': 323}. Best is trial 0 with value: 0.4582479816845403.\u001b[0m\n",
      "\u001b[32m[I 2023-04-18 03:38:00,537]\u001b[0m Trial 1 finished with value: 0.4440294011326666 and parameters: {'criterion': 'log_loss', 'splitter': 'random', 'max_depth': 170, 'min_samples_split': 251}. Best is trial 0 with value: 0.4582479816845403.\u001b[0m\n",
      "\u001b[32m[I 2023-04-18 03:38:00,571]\u001b[0m Trial 3 finished with value: 0.4433064224605374 and parameters: {'criterion': 'entropy', 'splitter': 'random', 'max_depth': 118, 'min_samples_split': 727}. Best is trial 0 with value: 0.4582479816845403.\u001b[0m\n",
      "\u001b[32m[I 2023-04-18 03:38:00,577]\u001b[0m Trial 4 finished with value: 0.4484877696107965 and parameters: {'criterion': 'gini', 'splitter': 'random', 'max_depth': 128, 'min_samples_split': 485}. Best is trial 0 with value: 0.4582479816845403.\u001b[0m\n",
      "\u001b[32m[I 2023-04-18 03:38:00,595]\u001b[0m Trial 5 finished with value: 0.4613808892637667 and parameters: {'criterion': 'gini', 'splitter': 'random', 'max_depth': 40, 'min_samples_split': 205}. Best is trial 5 with value: 0.4613808892637667.\u001b[0m\n",
      "\u001b[32m[I 2023-04-18 03:38:00,610]\u001b[0m Trial 6 finished with value: 0.3893240149415592 and parameters: {'criterion': 'log_loss', 'splitter': 'random', 'max_depth': 71, 'min_samples_split': 1958}. Best is trial 5 with value: 0.4613808892637667.\u001b[0m\n",
      "\u001b[32m[I 2023-04-18 03:38:00,650]\u001b[0m Trial 8 finished with value: 0.43740209663814916 and parameters: {'criterion': 'log_loss', 'splitter': 'random', 'max_depth': 42, 'min_samples_split': 242}. Best is trial 5 with value: 0.4613808892637667.\u001b[0m\n",
      "\u001b[32m[I 2023-04-18 03:38:01,200]\u001b[0m Trial 7 finished with value: 0.4757199662609953 and parameters: {'criterion': 'entropy', 'splitter': 'best', 'max_depth': 182, 'min_samples_split': 1361}. Best is trial 7 with value: 0.4757199662609953.\u001b[0m\n",
      "\u001b[32m[I 2023-04-18 03:38:01,441]\u001b[0m Trial 9 finished with value: 0.47053861911073624 and parameters: {'criterion': 'log_loss', 'splitter': 'best', 'max_depth': 107, 'min_samples_split': 505}. Best is trial 7 with value: 0.4757199662609953.\u001b[0m\n"
     ]
    }
   ],
   "source": [
    "study = optuna.create_study(direction='maximize')\n",
    "study.optimize(objective_decision_tree_risk, n_trials=N_TRIALS, n_jobs=3)"
   ]
  },
  {
   "cell_type": "code",
   "execution_count": 93,
   "metadata": {},
   "outputs": [
    {
     "name": "stdout",
     "output_type": "stream",
     "text": [
      "DecisionTreeClassifier - Risk\n",
      "Melhor pontuação: 0.4757199662609953\n",
      "Melhores hiperparâmetros: {'criterion': 'entropy', 'splitter': 'best', 'max_depth': 182, 'min_samples_split': 1361}\n"
     ]
    }
   ],
   "source": [
    "print_best_result(study, 'DecisionTreeClassifier', 'Risk')\n"
   ]
  },
  {
   "attachments": {},
   "cell_type": "markdown",
   "metadata": {},
   "source": [
    "### Naive Bayes"
   ]
  },
  {
   "attachments": {},
   "cell_type": "markdown",
   "metadata": {},
   "source": [
    "##### Real Return"
   ]
  },
  {
   "cell_type": "code",
   "execution_count": 94,
   "metadata": {},
   "outputs": [],
   "source": [
    "def objective_naive_bayes_return(trial):\n",
    "    params = {\n",
    "        'var_smoothing': trial.suggest_loguniform('var_smoothing', 1e-12, 1e-5)\n",
    "\t}\n",
    "    model = GaussianNB(**params)\n",
    "    model.fit(X_real_return_train, y_real_return_train)\n",
    "    preds = model.predict(X_real_return_test)\n",
    "    accuracy = accuracy_score(y_real_return_test, preds)\n",
    "\n",
    "    return accuracy"
   ]
  },
  {
   "cell_type": "code",
   "execution_count": 95,
   "metadata": {},
   "outputs": [
    {
     "name": "stderr",
     "output_type": "stream",
     "text": [
      "\u001b[32m[I 2023-04-18 03:38:01,634]\u001b[0m A new study created in memory with name: no-name-8c5e7011-c219-4a81-95bd-5dd2536059ad\u001b[0m\n",
      "\u001b[32m[I 2023-04-18 03:38:01,686]\u001b[0m Trial 1 finished with value: 0.3341366429690324 and parameters: {'var_smoothing': 4.45987846648015e-09}. Best is trial 1 with value: 0.3341366429690324.\u001b[0m\n",
      "\u001b[32m[I 2023-04-18 03:38:01,694]\u001b[0m Trial 0 finished with value: 0.3352211109772262 and parameters: {'var_smoothing': 2.940685475296123e-09}. Best is trial 0 with value: 0.3352211109772262.\u001b[0m\n",
      "\u001b[32m[I 2023-04-18 03:38:01,703]\u001b[0m Trial 2 finished with value: 0.33485962164116156 and parameters: {'var_smoothing': 3.416049213033788e-09}. Best is trial 0 with value: 0.3352211109772262.\u001b[0m\n",
      "\u001b[32m[I 2023-04-18 03:38:01,744]\u001b[0m Trial 3 finished with value: 0.33883600433787203 and parameters: {'var_smoothing': 7.178957811254408e-10}. Best is trial 3 with value: 0.33883600433787203.\u001b[0m\n",
      "\u001b[32m[I 2023-04-18 03:38:01,750]\u001b[0m Trial 4 finished with value: 0.3316062176165803 and parameters: {'var_smoothing': 9.482894631975487e-08}. Best is trial 3 with value: 0.33883600433787203.\u001b[0m\n",
      "\u001b[32m[I 2023-04-18 03:38:01,756]\u001b[0m Trial 5 finished with value: 0.3396794794553561 and parameters: {'var_smoothing': 6.193130978581666e-10}. Best is trial 5 with value: 0.3396794794553561.\u001b[0m\n",
      "\u001b[32m[I 2023-04-18 03:38:01,796]\u001b[0m Trial 6 finished with value: 0.3316062176165803 and parameters: {'var_smoothing': 8.037528589774079e-08}. Best is trial 5 with value: 0.3396794794553561.\u001b[0m\n",
      "\u001b[32m[I 2023-04-18 03:38:01,805]\u001b[0m Trial 7 finished with value: 0.33172671406193516 and parameters: {'var_smoothing': 9.311423801448785e-08}. Best is trial 5 with value: 0.3396794794553561.\u001b[0m\n",
      "\u001b[32m[I 2023-04-18 03:38:01,809]\u001b[0m Trial 8 finished with value: 0.4451138691408603 and parameters: {'var_smoothing': 1.9075529453658458e-12}. Best is trial 8 with value: 0.4451138691408603.\u001b[0m\n",
      "\u001b[32m[I 2023-04-18 03:38:01,827]\u001b[0m Trial 9 finished with value: 0.3551030244607784 and parameters: {'var_smoothing': 1.3739828470730291e-10}. Best is trial 8 with value: 0.4451138691408603.\u001b[0m\n"
     ]
    }
   ],
   "source": [
    "study = optuna.create_study(direction='maximize')\n",
    "study.optimize(objective_naive_bayes_return, n_trials=N_TRIALS, n_jobs=3)"
   ]
  },
  {
   "cell_type": "code",
   "execution_count": 96,
   "metadata": {},
   "outputs": [
    {
     "name": "stdout",
     "output_type": "stream",
     "text": [
      "Naive Bayes - Real Return\n",
      "Melhor pontuação: 0.4451138691408603\n",
      "Melhores hiperparâmetros: {'var_smoothing': 1.9075529453658458e-12}\n"
     ]
    }
   ],
   "source": [
    "print_best_result(study, 'Naive Bayes', 'Real Return')"
   ]
  },
  {
   "attachments": {},
   "cell_type": "markdown",
   "metadata": {},
   "source": [
    "##### Risk"
   ]
  },
  {
   "cell_type": "code",
   "execution_count": 97,
   "metadata": {},
   "outputs": [],
   "source": [
    "def objective_naive_bayes_risk(trial):\n",
    "    params = {\n",
    "        'var_smoothing': trial.suggest_loguniform('var_smoothing', 1e-12, 1e-5)\n",
    "\t}\n",
    "    model = GaussianNB(**params)\n",
    "    model.fit(X_risk_train, y_risk_train)\n",
    "    preds = model.predict(X_risk_test)\n",
    "    accuracy = accuracy_score(y_risk_test, preds)\n",
    "\n",
    "    return accuracy"
   ]
  },
  {
   "cell_type": "code",
   "execution_count": 98,
   "metadata": {},
   "outputs": [
    {
     "name": "stderr",
     "output_type": "stream",
     "text": [
      "\u001b[32m[I 2023-04-18 03:38:02,031]\u001b[0m A new study created in memory with name: no-name-aafeba3e-c8d8-4009-ba4e-fd73bbba4e43\u001b[0m\n",
      "\u001b[32m[I 2023-04-18 03:38:02,081]\u001b[0m Trial 1 finished with value: 0.38462465357271963 and parameters: {'var_smoothing': 2.8163997323343977e-07}. Best is trial 1 with value: 0.38462465357271963.\u001b[0m\n",
      "\u001b[32m[I 2023-04-18 03:38:02,094]\u001b[0m Trial 2 finished with value: 0.33184721050729005 and parameters: {'var_smoothing': 7.465270436657749e-09}. Best is trial 1 with value: 0.38462465357271963.\u001b[0m\n",
      "\u001b[32m[I 2023-04-18 03:38:02,101]\u001b[0m Trial 0 finished with value: 0.3323291962887095 and parameters: {'var_smoothing': 5.4428435220092545e-09}. Best is trial 1 with value: 0.38462465357271963.\u001b[0m\n",
      "\u001b[32m[I 2023-04-18 03:38:02,138]\u001b[0m Trial 3 finished with value: 0.38378117845523557 and parameters: {'var_smoothing': 1.0504676989088914e-06}. Best is trial 1 with value: 0.38462465357271963.\u001b[0m\n",
      "\u001b[32m[I 2023-04-18 03:38:02,154]\u001b[0m Trial 5 finished with value: 0.33883600433787203 and parameters: {'var_smoothing': 1.0085102859243909e-09}. Best is trial 1 with value: 0.38462465357271963.\u001b[0m\n",
      "\u001b[32m[I 2023-04-18 03:38:02,158]\u001b[0m Trial 4 finished with value: 0.3564284853596819 and parameters: {'var_smoothing': 1.0384446236449719e-10}. Best is trial 1 with value: 0.38462465357271963.\u001b[0m\n",
      "\u001b[32m[I 2023-04-18 03:38:02,191]\u001b[0m Trial 6 finished with value: 0.3402819616821304 and parameters: {'var_smoothing': 7.202166833279468e-10}. Best is trial 1 with value: 0.38462465357271963.\u001b[0m\n",
      "\u001b[32m[I 2023-04-18 03:38:02,205]\u001b[0m Trial 7 finished with value: 0.37028557657549105 and parameters: {'var_smoothing': 1.669109006007038e-11}. Best is trial 1 with value: 0.38462465357271963.\u001b[0m\n",
      "\u001b[32m[I 2023-04-18 03:38:02,209]\u001b[0m Trial 8 finished with value: 0.3849861429087842 and parameters: {'var_smoothing': 3.3259108903304924e-07}. Best is trial 8 with value: 0.3849861429087842.\u001b[0m\n",
      "\u001b[32m[I 2023-04-18 03:38:02,224]\u001b[0m Trial 9 finished with value: 0.341486926135679 and parameters: {'var_smoothing': 5.252489804837959e-10}. Best is trial 8 with value: 0.3849861429087842.\u001b[0m\n"
     ]
    }
   ],
   "source": [
    "study = optuna.create_study(direction='maximize')\n",
    "study.optimize(objective_naive_bayes_risk, n_trials=N_TRIALS, n_jobs=3)"
   ]
  },
  {
   "cell_type": "code",
   "execution_count": 99,
   "metadata": {},
   "outputs": [
    {
     "name": "stdout",
     "output_type": "stream",
     "text": [
      "Naive Bayes - Risk\n",
      "Melhor pontuação: 0.3849861429087842\n",
      "Melhores hiperparâmetros: {'var_smoothing': 3.3259108903304924e-07}\n"
     ]
    }
   ],
   "source": [
    "print_best_result(study, 'Naive Bayes', 'Risk')"
   ]
  },
  {
   "attachments": {},
   "cell_type": "markdown",
   "metadata": {},
   "source": [
    "### Rede Neural"
   ]
  },
  {
   "attachments": {},
   "cell_type": "markdown",
   "metadata": {},
   "source": [
    "##### Real Return"
   ]
  },
  {
   "cell_type": "code",
   "execution_count": 100,
   "metadata": {},
   "outputs": [],
   "source": [
    "def objective_neural_network_return(trial):\n",
    "\tparams = {\n",
    "\t\t'activation': trial.suggest_categorical('activation', ['identity', 'logistic', 'tanh', 'relu']),\n",
    "\t\t'solver': trial.suggest_categorical('solver', ['lbfgs', 'sgd', 'adam']),\n",
    "\t\t'max_iter': trial.suggest_int('max_iter', 200, 2000),\n",
    "\t\t'hidden_layer_sizes': trial.suggest_categorical('hidden_layer_sizes', [(100,), (200,), (300,), (400,), (500,), (600,), (700,), (800,), (900,), (1000,)]),\n",
    "\t\t'learning_rate': trial.suggest_categorical('learning_rate', ['constant', 'invscaling', 'adaptive']), \n",
    "\t}\n",
    "\n",
    "\tmodel = MLPClassifier(**params)\n",
    "\tmodel.fit(X_real_return_train, y_real_return_train)\n",
    "\tpreds = model.predict(X_real_return_test)\n",
    "\taccuracy = accuracy_score(y_real_return_test, preds)\n",
    "\n",
    "\treturn accuracy"
   ]
  },
  {
   "cell_type": "code",
   "execution_count": 101,
   "metadata": {},
   "outputs": [
    {
     "name": "stderr",
     "output_type": "stream",
     "text": [
      "\u001b[32m[I 2023-04-18 03:38:02,420]\u001b[0m A new study created in memory with name: no-name-ea051408-afb9-441d-88ff-87dd304eb0f6\u001b[0m\n",
      "\u001b[32m[I 2023-04-18 03:38:10,034]\u001b[0m Trial 2 finished with value: 0.39305940474755996 and parameters: {'activation': 'tanh', 'solver': 'sgd', 'max_iter': 1018, 'hidden_layer_sizes': (400,), 'learning_rate': 'constant'}. Best is trial 2 with value: 0.39305940474755996.\u001b[0m\n",
      "\u001b[32m[I 2023-04-18 03:38:12,668]\u001b[0m Trial 3 finished with value: 0.3129292685865767 and parameters: {'activation': 'relu', 'solver': 'sgd', 'max_iter': 209, 'hidden_layer_sizes': (300,), 'learning_rate': 'constant'}. Best is trial 2 with value: 0.39305940474755996.\u001b[0m\n",
      "\u001b[32m[I 2023-04-18 03:38:24,921]\u001b[0m Trial 0 finished with value: 0.5359681889384263 and parameters: {'activation': 'tanh', 'solver': 'adam', 'max_iter': 529, 'hidden_layer_sizes': (1000,), 'learning_rate': 'constant'}. Best is trial 0 with value: 0.5359681889384263.\u001b[0m\n",
      "\u001b[32m[I 2023-04-18 03:38:40,530]\u001b[0m Trial 5 finished with value: 0.5084949993975177 and parameters: {'activation': 'logistic', 'solver': 'sgd', 'max_iter': 865, 'hidden_layer_sizes': (700,), 'learning_rate': 'constant'}. Best is trial 0 with value: 0.5359681889384263.\u001b[0m\n",
      "\u001b[32m[I 2023-04-18 03:38:43,325]\u001b[0m Trial 4 finished with value: 0.5828413061814677 and parameters: {'activation': 'relu', 'solver': 'adam', 'max_iter': 1684, 'hidden_layer_sizes': (700,), 'learning_rate': 'invscaling'}. Best is trial 4 with value: 0.5828413061814677.\u001b[0m\n",
      "\u001b[32m[I 2023-04-18 03:38:48,129]\u001b[0m Trial 6 finished with value: 0.4081214604169177 and parameters: {'activation': 'tanh', 'solver': 'sgd', 'max_iter': 391, 'hidden_layer_sizes': (400,), 'learning_rate': 'constant'}. Best is trial 4 with value: 0.5828413061814677.\u001b[0m\n",
      "\u001b[32m[I 2023-04-18 03:38:48,992]\u001b[0m Trial 7 finished with value: 0.49222797927461137 and parameters: {'activation': 'logistic', 'solver': 'sgd', 'max_iter': 1258, 'hidden_layer_sizes': (100,), 'learning_rate': 'constant'}. Best is trial 4 with value: 0.5828413061814677.\u001b[0m\n",
      "\u001b[32m[I 2023-04-18 03:39:04,798]\u001b[0m Trial 8 finished with value: 0.5512712374984938 and parameters: {'activation': 'logistic', 'solver': 'adam', 'max_iter': 412, 'hidden_layer_sizes': (400,), 'learning_rate': 'invscaling'}. Best is trial 4 with value: 0.5828413061814677.\u001b[0m\n",
      "\u001b[32m[I 2023-04-18 03:39:06,873]\u001b[0m Trial 9 finished with value: 0.5151223038920352 and parameters: {'activation': 'tanh', 'solver': 'adam', 'max_iter': 1291, 'hidden_layer_sizes': (800,), 'learning_rate': 'adaptive'}. Best is trial 4 with value: 0.5828413061814677.\u001b[0m\n",
      "\u001b[32m[I 2023-04-18 03:47:45,705]\u001b[0m Trial 1 finished with value: 0.5644053500421737 and parameters: {'activation': 'logistic', 'solver': 'lbfgs', 'max_iter': 671, 'hidden_layer_sizes': (500,), 'learning_rate': 'adaptive'}. Best is trial 4 with value: 0.5828413061814677.\u001b[0m\n"
     ]
    }
   ],
   "source": [
    "study = optuna.create_study(direction='maximize')\n",
    "study.optimize(objective_neural_network_return, n_trials=N_TRIALS, n_jobs=3)"
   ]
  },
  {
   "cell_type": "code",
   "execution_count": 102,
   "metadata": {},
   "outputs": [
    {
     "name": "stdout",
     "output_type": "stream",
     "text": [
      "Rede Neural - Real Return\n",
      "Melhor pontuação: 0.5828413061814677\n",
      "Melhores hiperparâmetros: {'activation': 'relu', 'solver': 'adam', 'max_iter': 1684, 'hidden_layer_sizes': (700,), 'learning_rate': 'invscaling'}\n"
     ]
    }
   ],
   "source": [
    "print_best_result(study, 'Rede Neural', 'Real Return')"
   ]
  },
  {
   "attachments": {},
   "cell_type": "markdown",
   "metadata": {},
   "source": [
    "##### Risk"
   ]
  },
  {
   "cell_type": "code",
   "execution_count": 103,
   "metadata": {},
   "outputs": [],
   "source": [
    "def objective_neural_network_risk(trial):\n",
    "\tparams = {\n",
    "\t\t'activation': trial.suggest_categorical('activation', ['identity', 'logistic', 'tanh', 'relu']),\n",
    "\t\t'solver': trial.suggest_categorical('solver', ['lbfgs', 'sgd', 'adam']),\n",
    "\t\t'max_iter': trial.suggest_int('max_iter', 200, 2000),\n",
    "\t\t'hidden_layer_sizes': trial.suggest_categorical('hidden_layer_sizes', [(100,), (200,), (300,), (400,), (500,), (600,), (700,), (800,), (900,), (1000,)]),\n",
    "\t\t'learning_rate': trial.suggest_categorical('learning_rate', ['constant', 'invscaling', 'adaptive']), \n",
    "\t}\n",
    "\n",
    "\tmodel = MLPClassifier(**params)\n",
    "\tmodel.fit(X_risk_train, y_risk_train)\n",
    "\tpreds = model.predict(X_risk_test)\n",
    "\taccuracy = accuracy_score(y_risk_test, preds)\n",
    "\n",
    "\treturn accuracy"
   ]
  },
  {
   "cell_type": "code",
   "execution_count": 104,
   "metadata": {},
   "outputs": [
    {
     "name": "stderr",
     "output_type": "stream",
     "text": [
      "\u001b[32m[I 2023-04-18 03:47:45,852]\u001b[0m A new study created in memory with name: no-name-10e2cdd4-98d9-4fcd-9c61-cd4321f3120c\u001b[0m\n",
      "\u001b[32m[I 2023-04-18 03:47:54,469]\u001b[0m Trial 0 finished with value: 0.38474515001807447 and parameters: {'activation': 'identity', 'solver': 'adam', 'max_iter': 1033, 'hidden_layer_sizes': (300,), 'learning_rate': 'invscaling'}. Best is trial 0 with value: 0.38474515001807447.\u001b[0m\n",
      "\u001b[32m[I 2023-04-18 03:48:02,177]\u001b[0m Trial 2 finished with value: 0.31027834678876975 and parameters: {'activation': 'logistic', 'solver': 'adam', 'max_iter': 772, 'hidden_layer_sizes': (900,), 'learning_rate': 'invscaling'}. Best is trial 0 with value: 0.38474515001807447.\u001b[0m\n",
      "\u001b[32m[I 2023-04-18 03:48:04,010]\u001b[0m Trial 1 finished with value: 0.38378117845523557 and parameters: {'activation': 'identity', 'solver': 'adam', 'max_iter': 587, 'hidden_layer_sizes': (500,), 'learning_rate': 'adaptive'}. Best is trial 0 with value: 0.38474515001807447.\u001b[0m\n",
      "\u001b[32m[I 2023-04-18 03:48:13,832]\u001b[0m Trial 5 finished with value: 0.386070610916978 and parameters: {'activation': 'identity', 'solver': 'lbfgs', 'max_iter': 731, 'hidden_layer_sizes': (700,), 'learning_rate': 'constant'}. Best is trial 5 with value: 0.386070610916978.\u001b[0m\n",
      "\u001b[32m[I 2023-04-18 03:48:56,042]\u001b[0m Trial 3 finished with value: 0.3882395469333655 and parameters: {'activation': 'tanh', 'solver': 'sgd', 'max_iter': 1149, 'hidden_layer_sizes': (500,), 'learning_rate': 'invscaling'}. Best is trial 3 with value: 0.3882395469333655.\u001b[0m\n",
      "\u001b[32m[I 2023-04-18 03:49:36,032]\u001b[0m Trial 4 finished with value: 0.35112664176406794 and parameters: {'activation': 'identity', 'solver': 'adam', 'max_iter': 1720, 'hidden_layer_sizes': (900,), 'learning_rate': 'adaptive'}. Best is trial 3 with value: 0.3882395469333655.\u001b[0m\n",
      "\u001b[32m[I 2023-04-18 03:49:50,153]\u001b[0m Trial 8 finished with value: 0.3853476322448488 and parameters: {'activation': 'logistic', 'solver': 'sgd', 'max_iter': 1972, 'hidden_layer_sizes': (300,), 'learning_rate': 'invscaling'}. Best is trial 3 with value: 0.3882395469333655.\u001b[0m\n",
      "\u001b[32m[I 2023-04-18 03:49:56,391]\u001b[0m Trial 6 finished with value: 0.3992047234606579 and parameters: {'activation': 'relu', 'solver': 'adam', 'max_iter': 1375, 'hidden_layer_sizes': (900,), 'learning_rate': 'adaptive'}. Best is trial 6 with value: 0.3992047234606579.\u001b[0m\n",
      "\u001b[32m[I 2023-04-18 03:50:09,148]\u001b[0m Trial 9 finished with value: 0.34618628750451863 and parameters: {'activation': 'logistic', 'solver': 'sgd', 'max_iter': 1769, 'hidden_layer_sizes': (200,), 'learning_rate': 'adaptive'}. Best is trial 6 with value: 0.3992047234606579.\u001b[0m\n",
      "\u001b[32m[I 2023-04-18 03:50:11,350]\u001b[0m Trial 7 finished with value: 0.39522834076394747 and parameters: {'activation': 'relu', 'solver': 'adam', 'max_iter': 317, 'hidden_layer_sizes': (500,), 'learning_rate': 'adaptive'}. Best is trial 6 with value: 0.3992047234606579.\u001b[0m\n"
     ]
    }
   ],
   "source": [
    "study = optuna.create_study(direction='maximize')\n",
    "study.optimize(objective_neural_network_risk, n_trials=N_TRIALS, n_jobs=3)"
   ]
  },
  {
   "cell_type": "code",
   "execution_count": 105,
   "metadata": {},
   "outputs": [
    {
     "name": "stdout",
     "output_type": "stream",
     "text": [
      "Rede Neural - Risk\n",
      "Melhor pontuação: 0.3992047234606579\n",
      "Melhores hiperparâmetros: {'activation': 'relu', 'solver': 'adam', 'max_iter': 1375, 'hidden_layer_sizes': (900,), 'learning_rate': 'adaptive'}\n"
     ]
    }
   ],
   "source": [
    "print_best_result(study, 'Rede Neural', 'Risk')"
   ]
  },
  {
   "attachments": {},
   "cell_type": "markdown",
   "metadata": {},
   "source": [
    "### Regressão Logistica"
   ]
  },
  {
   "attachments": {},
   "cell_type": "markdown",
   "metadata": {},
   "source": [
    "##### Real Return"
   ]
  },
  {
   "cell_type": "code",
   "execution_count": 106,
   "metadata": {},
   "outputs": [],
   "source": [
    "def objective_logistic_regression_return(trial):\n",
    "    params = {\n",
    "        'penalty': trial.suggest_categorical('penalty', ['l2']),\n",
    "        'C':trial.suggest_float('C', 1, 100),\n",
    "        'class_weight': trial.suggest_categorical('class_weight', ['balanced', None]),\n",
    "        'solver': trial.suggest_categorical('solver', ['lbfgs', 'liblinear', 'newton-cg', 'newton-cholesky', 'sag', 'saga']),\n",
    "        'max_iter': trial.suggest_int('max_iter', 100, 10000),\n",
    "        'n_jobs': trial.suggest_int('n_jobs', 3, 3)\n",
    "\n",
    "\t}\n",
    "    model = LogisticRegression(**params)\n",
    "    model.fit(X_real_return_train, y_real_return_train)\n",
    "    preds = model.predict(X_real_return_test)\n",
    "    accuracy = accuracy_score(y_real_return_test, preds)\n",
    "\n",
    "    return accuracy"
   ]
  },
  {
   "cell_type": "code",
   "execution_count": 107,
   "metadata": {},
   "outputs": [
    {
     "name": "stderr",
     "output_type": "stream",
     "text": [
      "\u001b[32m[I 2023-04-18 03:50:11,471]\u001b[0m A new study created in memory with name: no-name-2dc3bfd3-75f6-4677-b614-181af340ae2f\u001b[0m\n",
      "\u001b[32m[I 2023-04-18 03:50:20,708]\u001b[0m Trial 0 finished with value: 0.7845523557055066 and parameters: {'penalty': 'l2', 'C': 83.90422586374864, 'class_weight': None, 'solver': 'newton-cholesky', 'max_iter': 2279, 'n_jobs': 3}. Best is trial 0 with value: 0.7845523557055066.\u001b[0m\n",
      "\u001b[32m[I 2023-04-18 03:50:29,461]\u001b[0m Trial 1 finished with value: 0.6247740691649596 and parameters: {'penalty': 'l2', 'C': 62.09677659440283, 'class_weight': None, 'solver': 'liblinear', 'max_iter': 266, 'n_jobs': 3}. Best is trial 0 with value: 0.7845523557055066.\u001b[0m\n",
      "\u001b[32m[I 2023-04-18 03:50:36,353]\u001b[0m Trial 3 finished with value: 0.7878057597300879 and parameters: {'penalty': 'l2', 'C': 33.764382182969335, 'class_weight': 'balanced', 'solver': 'newton-cholesky', 'max_iter': 6022, 'n_jobs': 3}. Best is trial 3 with value: 0.7878057597300879.\u001b[0m\n",
      "\u001b[32m[I 2023-04-18 03:50:49,517]\u001b[0m Trial 4 finished with value: 0.7888902277382818 and parameters: {'penalty': 'l2', 'C': 95.94519851335549, 'class_weight': 'balanced', 'solver': 'newton-cholesky', 'max_iter': 8895, 'n_jobs': 3}. Best is trial 4 with value: 0.7888902277382818.\u001b[0m\n",
      "\u001b[32m[I 2023-04-18 03:51:07,587]\u001b[0m Trial 2 finished with value: 0.5277744306542957 and parameters: {'penalty': 'l2', 'C': 6.4767925320708475, 'class_weight': 'balanced', 'solver': 'sag', 'max_iter': 3064, 'n_jobs': 3}. Best is trial 4 with value: 0.7888902277382818.\u001b[0m\n",
      "\u001b[32m[I 2023-04-18 03:51:10,423]\u001b[0m Trial 5 finished with value: 0.657669598746837 and parameters: {'penalty': 'l2', 'C': 54.5919306582167, 'class_weight': None, 'solver': 'liblinear', 'max_iter': 8709, 'n_jobs': 3}. Best is trial 4 with value: 0.7888902277382818.\u001b[0m\n",
      "\u001b[32m[I 2023-04-18 03:51:16,701]\u001b[0m Trial 8 finished with value: 0.5230750692854561 and parameters: {'penalty': 'l2', 'C': 50.85010911274579, 'class_weight': None, 'solver': 'sag', 'max_iter': 362, 'n_jobs': 3}. Best is trial 4 with value: 0.7888902277382818.\u001b[0m\n",
      "\u001b[32m[I 2023-04-18 03:51:52,293]\u001b[0m Trial 7 finished with value: 0.6718881792987107 and parameters: {'penalty': 'l2', 'C': 39.201336243486146, 'class_weight': 'balanced', 'solver': 'liblinear', 'max_iter': 9043, 'n_jobs': 3}. Best is trial 4 with value: 0.7888902277382818.\u001b[0m\n",
      "\u001b[32m[I 2023-04-18 03:52:18,912]\u001b[0m Trial 9 finished with value: 0.5292203879985541 and parameters: {'penalty': 'l2', 'C': 32.550225297830245, 'class_weight': 'balanced', 'solver': 'sag', 'max_iter': 4510, 'n_jobs': 3}. Best is trial 4 with value: 0.7888902277382818.\u001b[0m\n",
      "\u001b[32m[I 2023-04-18 03:52:54,094]\u001b[0m Trial 6 finished with value: 0.8167249066152549 and parameters: {'penalty': 'l2', 'C': 83.99221686719915, 'class_weight': None, 'solver': 'newton-cg', 'max_iter': 4782, 'n_jobs': 3}. Best is trial 6 with value: 0.8167249066152549.\u001b[0m\n"
     ]
    }
   ],
   "source": [
    "study = optuna.create_study(direction='maximize')\n",
    "study.optimize(objective_logistic_regression_return, n_trials=N_TRIALS, n_jobs=3)"
   ]
  },
  {
   "cell_type": "code",
   "execution_count": 108,
   "metadata": {},
   "outputs": [
    {
     "name": "stdout",
     "output_type": "stream",
     "text": [
      "Logistic Regression - Real Return\n",
      "Melhor pontuação: 0.8167249066152549\n",
      "Melhores hiperparâmetros: {'penalty': 'l2', 'C': 83.99221686719915, 'class_weight': None, 'solver': 'newton-cg', 'max_iter': 4782, 'n_jobs': 3}\n"
     ]
    }
   ],
   "source": [
    "print_best_result(study, 'Logistic Regression', 'Real Return')"
   ]
  },
  {
   "attachments": {},
   "cell_type": "markdown",
   "metadata": {},
   "source": [
    "##### Risk"
   ]
  },
  {
   "cell_type": "code",
   "execution_count": 109,
   "metadata": {},
   "outputs": [],
   "source": [
    "def objective_logistic_regression_risk(trial):\n",
    "    params = {\n",
    "        'penalty': trial.suggest_categorical('penalty', ['l2']),\n",
    "        'C':trial.suggest_float('C', 1, 100),\n",
    "        'class_weight': trial.suggest_categorical('class_weight', ['balanced', None]),\n",
    "        'solver': trial.suggest_categorical('solver', ['lbfgs', 'liblinear', 'newton-cg', 'newton-cholesky', 'sag', 'saga']),\n",
    "        'max_iter': trial.suggest_int('max_iter', 100, 10000),\n",
    "        'n_jobs': trial.suggest_int('n_jobs', 3, 3)\n",
    "\n",
    "\t}\n",
    "    model = LogisticRegression(**params)\n",
    "    model.fit(X_risk_train, y_risk_train)\n",
    "    preds = model.predict(X_risk_test)\n",
    "    accuracy = accuracy_score(y_risk_test, preds)\n",
    "\n",
    "    return accuracy"
   ]
  },
  {
   "cell_type": "code",
   "execution_count": 110,
   "metadata": {},
   "outputs": [
    {
     "name": "stderr",
     "output_type": "stream",
     "text": [
      "\u001b[32m[I 2023-04-18 03:52:54,239]\u001b[0m A new study created in memory with name: no-name-182599f3-49c2-4ead-bb3e-7b7b59666a17\u001b[0m\n",
      "\u001b[32m[I 2023-04-18 03:52:55,870]\u001b[0m Trial 2 finished with value: 0.43246174237859986 and parameters: {'penalty': 'l2', 'C': 83.79503120547326, 'class_weight': 'balanced', 'solver': 'newton-cholesky', 'max_iter': 1250, 'n_jobs': 3}. Best is trial 2 with value: 0.43246174237859986.\u001b[0m\n",
      "\u001b[32m[I 2023-04-18 03:53:07,324]\u001b[0m Trial 0 finished with value: 0.3953488372093023 and parameters: {'penalty': 'l2', 'C': 39.50166431528555, 'class_weight': None, 'solver': 'lbfgs', 'max_iter': 8745, 'n_jobs': 3}. Best is trial 2 with value: 0.43246174237859986.\u001b[0m\n",
      "\u001b[32m[I 2023-04-18 03:53:07,688]\u001b[0m Trial 4 finished with value: 0.429690324135438 and parameters: {'penalty': 'l2', 'C': 69.359069192544, 'class_weight': None, 'solver': 'newton-cholesky', 'max_iter': 4753, 'n_jobs': 3}. Best is trial 2 with value: 0.43246174237859986.\u001b[0m\n",
      "\u001b[32m[I 2023-04-18 03:53:13,712]\u001b[0m Trial 3 finished with value: 0.41523075069285453 and parameters: {'penalty': 'l2', 'C': 90.84742283266935, 'class_weight': 'balanced', 'solver': 'lbfgs', 'max_iter': 6665, 'n_jobs': 3}. Best is trial 2 with value: 0.43246174237859986.\u001b[0m\n",
      "\u001b[32m[I 2023-04-18 03:53:16,450]\u001b[0m Trial 5 finished with value: 0.4129413182311122 and parameters: {'penalty': 'l2', 'C': 23.74358399283042, 'class_weight': 'balanced', 'solver': 'lbfgs', 'max_iter': 3696, 'n_jobs': 3}. Best is trial 2 with value: 0.43246174237859986.\u001b[0m\n",
      "\u001b[32m[I 2023-04-18 03:53:23,961]\u001b[0m Trial 7 finished with value: 0.4129413182311122 and parameters: {'penalty': 'l2', 'C': 50.7422722307102, 'class_weight': None, 'solver': 'liblinear', 'max_iter': 4946, 'n_jobs': 3}. Best is trial 2 with value: 0.43246174237859986.\u001b[0m\n",
      "\u001b[32m[I 2023-04-18 03:53:33,339]\u001b[0m Trial 6 finished with value: 0.41438727557537053 and parameters: {'penalty': 'l2', 'C': 31.933526482104902, 'class_weight': 'balanced', 'solver': 'sag', 'max_iter': 1240, 'n_jobs': 3}. Best is trial 2 with value: 0.43246174237859986.\u001b[0m\n",
      "\u001b[32m[I 2023-04-18 03:53:49,668]\u001b[0m Trial 9 finished with value: 0.40450656705627186 and parameters: {'penalty': 'l2', 'C': 69.37870821170131, 'class_weight': None, 'solver': 'lbfgs', 'max_iter': 4014, 'n_jobs': 3}. Best is trial 2 with value: 0.43246174237859986.\u001b[0m\n",
      "\u001b[32m[I 2023-04-18 03:54:33,045]\u001b[0m Trial 8 finished with value: 0.41486926135679 and parameters: {'penalty': 'l2', 'C': 96.90196187074997, 'class_weight': 'balanced', 'solver': 'sag', 'max_iter': 5149, 'n_jobs': 3}. Best is trial 2 with value: 0.43246174237859986.\u001b[0m\n",
      "\u001b[32m[I 2023-04-18 03:55:17,646]\u001b[0m Trial 1 finished with value: 0.43631762862995543 and parameters: {'penalty': 'l2', 'C': 22.449917989570746, 'class_weight': 'balanced', 'solver': 'newton-cg', 'max_iter': 7233, 'n_jobs': 3}. Best is trial 1 with value: 0.43631762862995543.\u001b[0m\n"
     ]
    }
   ],
   "source": [
    "study = optuna.create_study(direction='maximize')\n",
    "study.optimize(objective_logistic_regression_risk, n_trials=N_TRIALS, n_jobs=3)"
   ]
  },
  {
   "cell_type": "code",
   "execution_count": 111,
   "metadata": {},
   "outputs": [
    {
     "name": "stdout",
     "output_type": "stream",
     "text": [
      "Logistic Regression - Risk\n",
      "Melhor pontuação: 0.43631762862995543\n",
      "Melhores hiperparâmetros: {'penalty': 'l2', 'C': 22.449917989570746, 'class_weight': 'balanced', 'solver': 'newton-cg', 'max_iter': 7233, 'n_jobs': 3}\n"
     ]
    }
   ],
   "source": [
    "print_best_result(study, 'Logistic Regression', 'Risk')"
   ]
  },
  {
   "attachments": {},
   "cell_type": "markdown",
   "metadata": {},
   "source": [
    "### KNeighborsClassifier"
   ]
  },
  {
   "attachments": {},
   "cell_type": "markdown",
   "metadata": {},
   "source": [
    "##### Real Return"
   ]
  },
  {
   "cell_type": "code",
   "execution_count": 112,
   "metadata": {},
   "outputs": [],
   "source": [
    "def objective_kn_return(trial):\n",
    "    params = {\n",
    "\t\t'n_neighbors': trial.suggest_int('n_neighbors', 5, 200),\n",
    "\t\t'weights': trial.suggest_categorical('weights', ['uniform', 'distance']),\n",
    "\t\t'algorithm': trial.suggest_categorical('algorithm', ['ball_tree', 'kd_tree', 'brute']),\n",
    "\t\t'leaf_size': trial.suggest_int('leaf_size', 30, 100),\n",
    "\t\t'p': trial.suggest_int('p', 1, 3),\n",
    "    \t'n_jobs': trial.suggest_int('n_jobs', 3, 3)\n",
    "\t}\n",
    "    \n",
    "    model = KNeighborsClassifier(**params)\n",
    "    model.fit(X_real_return_train, y_real_return_train)\n",
    "    preds = model.predict(X_real_return_test)\n",
    "    accuracy = accuracy_score(y_real_return_test, preds)\n",
    "\n",
    "    return accuracy"
   ]
  },
  {
   "cell_type": "code",
   "execution_count": 113,
   "metadata": {},
   "outputs": [
    {
     "name": "stderr",
     "output_type": "stream",
     "text": [
      "\u001b[32m[I 2023-04-18 03:55:18,061]\u001b[0m A new study created in memory with name: no-name-027c76ad-2368-44c9-a095-3219ae3b82d5\u001b[0m\n",
      "\u001b[32m[I 2023-04-18 03:55:21,522]\u001b[0m Trial 1 finished with value: 0.5457284010121701 and parameters: {'n_neighbors': 44, 'weights': 'uniform', 'algorithm': 'ball_tree', 'leaf_size': 86, 'p': 1, 'n_jobs': 3}. Best is trial 1 with value: 0.5457284010121701.\u001b[0m\n",
      "\u001b[32m[I 2023-04-18 03:55:25,297]\u001b[0m Trial 3 finished with value: 0.5457284010121701 and parameters: {'n_neighbors': 161, 'weights': 'uniform', 'algorithm': 'brute', 'leaf_size': 80, 'p': 1, 'n_jobs': 3}. Best is trial 1 with value: 0.5457284010121701.\u001b[0m\n",
      "\u001b[32m[I 2023-04-18 03:55:28,248]\u001b[0m Trial 4 finished with value: 0.5474153512471382 and parameters: {'n_neighbors': 51, 'weights': 'uniform', 'algorithm': 'kd_tree', 'leaf_size': 63, 'p': 1, 'n_jobs': 3}. Best is trial 4 with value: 0.5474153512471382.\u001b[0m\n",
      "\u001b[32m[I 2023-04-18 03:56:11,800]\u001b[0m Trial 0 finished with value: 0.5577780455476563 and parameters: {'n_neighbors': 35, 'weights': 'uniform', 'algorithm': 'ball_tree', 'leaf_size': 46, 'p': 3, 'n_jobs': 3}. Best is trial 0 with value: 0.5577780455476563.\u001b[0m\n",
      "\u001b[32m[I 2023-04-18 03:56:17,674]\u001b[0m Trial 6 finished with value: 0.5433184721050729 and parameters: {'n_neighbors': 115, 'weights': 'uniform', 'algorithm': 'ball_tree', 'leaf_size': 64, 'p': 2, 'n_jobs': 3}. Best is trial 0 with value: 0.5577780455476563.\u001b[0m\n",
      "\u001b[32m[I 2023-04-18 03:56:23,906]\u001b[0m Trial 7 finished with value: 0.5392215929630076 and parameters: {'n_neighbors': 177, 'weights': 'uniform', 'algorithm': 'ball_tree', 'leaf_size': 60, 'p': 2, 'n_jobs': 3}. Best is trial 0 with value: 0.5577780455476563.\u001b[0m\n",
      "\u001b[32m[I 2023-04-18 03:56:28,132]\u001b[0m Trial 8 finished with value: 0.5447644294493312 and parameters: {'n_neighbors': 34, 'weights': 'uniform', 'algorithm': 'ball_tree', 'leaf_size': 56, 'p': 1, 'n_jobs': 3}. Best is trial 0 with value: 0.5577780455476563.\u001b[0m\n",
      "\u001b[32m[I 2023-04-18 03:56:32,285]\u001b[0m Trial 9 finished with value: 0.5621159175804313 and parameters: {'n_neighbors': 96, 'weights': 'distance', 'algorithm': 'ball_tree', 'leaf_size': 86, 'p': 2, 'n_jobs': 3}. Best is trial 9 with value: 0.5621159175804313.\u001b[0m\n",
      "\u001b[32m[I 2023-04-18 03:56:35,330]\u001b[0m Trial 5 finished with value: 0.5551271237498494 and parameters: {'n_neighbors': 61, 'weights': 'uniform', 'algorithm': 'ball_tree', 'leaf_size': 39, 'p': 3, 'n_jobs': 3}. Best is trial 9 with value: 0.5621159175804313.\u001b[0m\n",
      "\u001b[32m[I 2023-04-18 03:56:54,819]\u001b[0m Trial 2 finished with value: 0.5616339317990119 and parameters: {'n_neighbors': 152, 'weights': 'distance', 'algorithm': 'brute', 'leaf_size': 41, 'p': 3, 'n_jobs': 3}. Best is trial 9 with value: 0.5621159175804313.\u001b[0m\n"
     ]
    }
   ],
   "source": [
    "study = optuna.create_study(direction='maximize')\n",
    "study.optimize(objective_kn_return, n_trials=N_TRIALS, n_jobs=3)"
   ]
  },
  {
   "cell_type": "code",
   "execution_count": 114,
   "metadata": {},
   "outputs": [
    {
     "name": "stdout",
     "output_type": "stream",
     "text": [
      "KNeighborsClassifier - Real Return\n",
      "Melhor pontuação: 0.5621159175804313\n",
      "Melhores hiperparâmetros: {'n_neighbors': 96, 'weights': 'distance', 'algorithm': 'ball_tree', 'leaf_size': 86, 'p': 2, 'n_jobs': 3}\n"
     ]
    }
   ],
   "source": [
    "print_best_result(study, 'KNeighborsClassifier', 'Real Return')"
   ]
  },
  {
   "attachments": {},
   "cell_type": "markdown",
   "metadata": {},
   "source": [
    "##### Risk"
   ]
  },
  {
   "cell_type": "code",
   "execution_count": 121,
   "metadata": {},
   "outputs": [],
   "source": [
    "def objective_kn_risk(trial):\n",
    "    params = {\n",
    "\t\t'n_neighbors': trial.suggest_int('n_neighbors', 5, 200),\n",
    "\t\t'weights': trial.suggest_categorical('weights', ['uniform', 'distance']),\n",
    "\t\t'algorithm': trial.suggest_categorical('algorithm', ['ball_tree', 'kd_tree', 'brute']),\n",
    "\t\t'leaf_size': trial.suggest_int('leaf_size', 30, 100),\n",
    "\t\t'p': trial.suggest_int('p', 1, 3),\n",
    "    \t'n_jobs': trial.suggest_int('n_jobs', 3, 3)\n",
    "\t}\n",
    "    \n",
    "    model = KNeighborsClassifier(**params)\n",
    "    model.fit(X_risk_train, y_risk_train)\n",
    "    preds = model.predict(X_risk_test)\n",
    "    accuracy = accuracy_score(y_risk_test, preds)\n",
    "\n",
    "    return accuracy"
   ]
  },
  {
   "cell_type": "code",
   "execution_count": 122,
   "metadata": {},
   "outputs": [
    {
     "name": "stderr",
     "output_type": "stream",
     "text": [
      "\u001b[32m[I 2023-04-18 03:58:11,144]\u001b[0m A new study created in memory with name: no-name-39a27b32-5d7b-4169-a806-0f0bc05b3b22\u001b[0m\n",
      "\u001b[32m[I 2023-04-18 03:58:13,233]\u001b[0m Trial 2 finished with value: 0.4151102542474997 and parameters: {'n_neighbors': 84, 'weights': 'uniform', 'algorithm': 'brute', 'leaf_size': 90, 'p': 2, 'n_jobs': 3}. Best is trial 2 with value: 0.4151102542474997.\u001b[0m\n",
      "\u001b[32m[I 2023-04-18 03:58:13,740]\u001b[0m Trial 0 finished with value: 0.4205325942884685 and parameters: {'n_neighbors': 45, 'weights': 'uniform', 'algorithm': 'kd_tree', 'leaf_size': 84, 'p': 2, 'n_jobs': 3}. Best is trial 0 with value: 0.4205325942884685.\u001b[0m\n",
      "\u001b[32m[I 2023-04-18 03:58:13,955]\u001b[0m Trial 1 finished with value: 0.4096879142065309 and parameters: {'n_neighbors': 12, 'weights': 'uniform', 'algorithm': 'kd_tree', 'leaf_size': 36, 'p': 2, 'n_jobs': 3}. Best is trial 0 with value: 0.4205325942884685.\u001b[0m\n",
      "\u001b[32m[I 2023-04-18 03:58:16,277]\u001b[0m Trial 3 finished with value: 0.4186046511627907 and parameters: {'n_neighbors': 193, 'weights': 'distance', 'algorithm': 'ball_tree', 'leaf_size': 36, 'p': 2, 'n_jobs': 3}. Best is trial 0 with value: 0.4205325942884685.\u001b[0m\n",
      "\u001b[32m[I 2023-04-18 03:58:16,994]\u001b[0m Trial 4 finished with value: 0.4189661404988553 and parameters: {'n_neighbors': 186, 'weights': 'distance', 'algorithm': 'kd_tree', 'leaf_size': 48, 'p': 2, 'n_jobs': 3}. Best is trial 0 with value: 0.4205325942884685.\u001b[0m\n",
      "\u001b[32m[I 2023-04-18 03:58:19,526]\u001b[0m Trial 6 finished with value: 0.4100494035425955 and parameters: {'n_neighbors': 7, 'weights': 'uniform', 'algorithm': 'kd_tree', 'leaf_size': 77, 'p': 1, 'n_jobs': 3}. Best is trial 0 with value: 0.4205325942884685.\u001b[0m\n",
      "\u001b[32m[I 2023-04-18 03:59:25,980]\u001b[0m Trial 8 finished with value: 0.4195686227256296 and parameters: {'n_neighbors': 48, 'weights': 'uniform', 'algorithm': 'ball_tree', 'leaf_size': 44, 'p': 3, 'n_jobs': 3}. Best is trial 0 with value: 0.4205325942884685.\u001b[0m\n",
      "\u001b[32m[I 2023-04-18 03:59:26,320]\u001b[0m Trial 7 finished with value: 0.42101458006988796 and parameters: {'n_neighbors': 138, 'weights': 'distance', 'algorithm': 'ball_tree', 'leaf_size': 84, 'p': 3, 'n_jobs': 3}. Best is trial 7 with value: 0.42101458006988796.\u001b[0m\n",
      "\u001b[32m[I 2023-04-18 03:59:28,446]\u001b[0m Trial 9 finished with value: 0.4230630196409206 and parameters: {'n_neighbors': 79, 'weights': 'distance', 'algorithm': 'ball_tree', 'leaf_size': 88, 'p': 1, 'n_jobs': 3}. Best is trial 9 with value: 0.4230630196409206.\u001b[0m\n",
      "\u001b[32m[I 2023-04-18 03:59:37,273]\u001b[0m Trial 5 finished with value: 0.4154717435835643 and parameters: {'n_neighbors': 101, 'weights': 'uniform', 'algorithm': 'brute', 'leaf_size': 44, 'p': 3, 'n_jobs': 3}. Best is trial 9 with value: 0.4230630196409206.\u001b[0m\n"
     ]
    }
   ],
   "source": [
    "study = optuna.create_study(direction='maximize')\n",
    "study.optimize(objective_kn_risk, n_trials=N_TRIALS, n_jobs=3)"
   ]
  },
  {
   "cell_type": "code",
   "execution_count": 123,
   "metadata": {},
   "outputs": [
    {
     "name": "stdout",
     "output_type": "stream",
     "text": [
      "KNeighborsClassifier - Risk\n",
      "Melhor pontuação: 0.4230630196409206\n",
      "Melhores hiperparâmetros: {'n_neighbors': 79, 'weights': 'distance', 'algorithm': 'ball_tree', 'leaf_size': 88, 'p': 1, 'n_jobs': 3}\n"
     ]
    }
   ],
   "source": [
    "print_best_result(study, 'KNeighborsClassifier', 'Risk')"
   ]
  }
 ],
 "metadata": {
  "kernelspec": {
   "display_name": "env",
   "language": "python",
   "name": "python3"
  },
  "language_info": {
   "codemirror_mode": {
    "name": "ipython",
    "version": 3
   },
   "file_extension": ".py",
   "mimetype": "text/x-python",
   "name": "python",
   "nbconvert_exporter": "python",
   "pygments_lexer": "ipython3",
   "version": "3.10.5"
  },
  "orig_nbformat": 4,
  "vscode": {
   "interpreter": {
    "hash": "cc8a3245a31a46333b724f0fa902266a4a2d307e3e7797c60732a355503841f0"
   }
  }
 },
 "nbformat": 4,
 "nbformat_minor": 2
}

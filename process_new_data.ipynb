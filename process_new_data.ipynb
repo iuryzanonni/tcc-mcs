{
 "cells": [
  {
   "cell_type": "code",
   "execution_count": 61,
   "metadata": {},
   "outputs": [],
   "source": [
    "import pandas as pd\n",
    "import numpy as np\n",
    "import datetime as dt\n",
    "import statistics as st\n",
    "import matplotlib.pyplot as plt\n",
    "import warnings\n"
   ]
  },
  {
   "attachments": {},
   "cell_type": "markdown",
   "metadata": {},
   "source": [
    "### Settings"
   ]
  },
  {
   "cell_type": "code",
   "execution_count": 62,
   "metadata": {},
   "outputs": [],
   "source": [
    "#Remove os warnings do notebook\n",
    "warnings.filterwarnings('ignore')"
   ]
  },
  {
   "cell_type": "code",
   "execution_count": 63,
   "metadata": {},
   "outputs": [],
   "source": [
    "COLUMNS = ['Unnamed: 0', 'revenue','cost-goods-sold','gross-profit','research-development-expenses','selling-general-administrative-expenses','operating-expenses','operating-income','total-non-operating-income-expense','pre-tax-income','total-provision-income-taxes','income-after-taxes','income-from-continuous-operations','income-from-discontinued-operations','net-income','ebitda','ebit','basic-shares-outstanding','shares-outstanding','eps-basic-net-earnings-per-share','eps-earnings-per-share-diluted','cash-on-hand','receivables-total','inventory','other-current-assets','total-current-assets','net-property-plant-equipment','long-term-investments','goodwill-intangible-assets-total','other-long-term-assets','total-long-term-assets','total-assets','total-current-liabilities','long-term-debt','other-non-current-liabilities','total-long-term-liabilities','total-liabilities','common-stock-net','retained-earnings-accumulated-deficit','comprehensive-income','total-share-holder-equity','total-liabilities-share-holders-equity','net-income-loss','total-depreciation-amortization-cash-flow','other-non-cash-items','total-non-cash-items','change-in-accounts-receivable','change-in-inventories','change-in-accounts-payable','change-in-assets-liabilities','total-change-in-assets-liabilities','cash-flow-from-operating-activities','net-change-in-property-plant-equipment','net-change-in-intangible-assets','net-acquisitions-divestitures','investing-activities-other','cash-flow-from-investing-activities','net-long-term-debt','net-current-debt','debt-issuance-retirement-net-total','net-common-equity-issued-repurchased','net-total-equity-issued-repurchased','total-common-preferred-stock-dividends-paid','financial-activities-other','cash-flow-from-financial-activities','net-cash-flow','stock-based-compensation','common-stock-dividends-paid','current-ratio','long-term-debt-capital','debt-equity-ratio','gross-margin','operating-margin','ebit-margin','pre-tax-profit-margin','net-profit-margin','asset-turnover','inventory-turnover','receiveable-turnover','days-sales-in-receivables','roe','return-on-tangible-equity','roa','roi','book-value-per-share','operating-cash-flow-per-share','free-cash-flow-per-share']\n",
    "\n",
    "TICKERS = ['AAPL','MSFT','AMZN','GOOGL','GOOG','TSLA','BRK.B','UNH','JNJ','NVDA','META','XOM','PG','V','JPM','HD','PFE','MA','CVX','ABBV','LLY','KO','MRK','PEP','COST','BAC','VZ',\n",
    "'TMO','AVGO','MCD','ABT','WMT','CMCSA','ADBE','CSCO','ACN','DIS','DHR','CRM','QCOM','BMY','INTC','WFC','T','TXN','PM','LIN','RTX','NKE','AMGN','UPS','UNP','AMD','IBM','CVS',\n",
    "'LOW','SPGI','AMT','MDT','HON','ELV','ORCL','INTU','COP','MS','GS','LMT','SCHW','CAT','SBUX','ADP','PLD','C','NOW','MDLZ','CI','BLK','AXP','DUK','DE','BA','AMAT','PYPL','ZTS','ADI',\n",
    "'TMUS','CB','NFLX','GILD','SO','MO','MMC','CCI','ISRG','VRTX','MMM','CME','TJX','BKNG','TGT','NOC','GE','BDX','MU','PGR','CL','REGN','SYK','D','PNC','CSX','EW','TFC','HUM','USB',\n",
    "'ATVI','SHW','LRCX','WM','AON','DG','EL','FIS','EQIX','EOG','MRNA','CHTR','FISV','NSC','BSX','ICE','FDX','OXY','CNC','ITW','ETN','APD','AEP','GD','KLAC','MCK','PSA','SNPS','SRE',\n",
    "'PXD','EMR','GM','KMB','GIS','F','MCO','SLB','ORLY','SYY','NEM','MPC','AZO','EXC','LHX','NXPI','CDNS','O','ROP','STZ','VLO','COF','IQV','ADM','MET','FTNT','MAR','APH','AIG','HCA',\n",
    "'ECL','PSX','DLTR','XEL','WMB','TRV','ADSK','CTVA','TEL','MNST','FCX','WELL','DOW','PAYX','MSI','CMG','A','SBAC','EA','DLR','CTAS','PRU','AJG','YUM','CTSH','MCHP','ALL','MSCI','HPQ',\n",
    "'ED','JCI','RMD','KMI','AFL','BAX','GPN','DVN','HSY','HLT','PH','WEC','BIIB','KR','IDXX','SPG','CARR','PEG','VICI','DXCM','WBD','BK','TT','OTIS','NUE','IFF','ES','VRSK','TDG','DFS',\n",
    "'CMI','DD','KHC','PCAR','ROST','PPG','FAST','FRC','KDP','MTB','RSG','AWK','ENPH','WBA','AVB','MTD','HES','WY','TROW','KEYS','AME','AMP','BKR','HAL','CBRE','GLW','OKE',\n",
    "'CPRT','DTE','TSN','EQR','APTV','EBAY','DHI','ON','ODFL','CHD','EIX','ROK','TSCO','EFX','SIVB','ALB','LUV','LH','ETR','AEE','EXR','ANET','LYB','FITB','STT','BALL','WST','WTW','CDW',\n",
    "'FE','CTRA','DRE','ZBH','ABC','STE','HIG','ARE','MKC','PPL','ANSS','LEN','ULTA','WAT','GWW','VTR','NTRS','GPC','VMC','MLM','TTWO','IT','FTV','CMS','DAL','MAA','CEG','AMCR','K','CNP',\n",
    "'PWR','FANG','ALGN','MTCH','CLX','CTLT','URI','NDAQ','HOLX','TDY','CFG','RF','HBAN','MPWR','RJF','BR','HPE','ESS','DOV','EPAM','VRSN','CF','PKI','MOH','CINF','SWKS','MOS','J','IR',\n",
    "'EXPD','SWK','FLT','CAG','DGX','IP','ZBRA','ATO','KEY','WAB','STX','CAH','SYF','DRI','FDS','TER','SEDG','INCY','EVRG','POOL','GRMN','DPZ','PARA','NTAP','MRO','VFC','KMX','BBY',\n",
    "'LNT','PFG','WDC','SJM','TRMB','COO','AKAM','CPT','PAYC','JBHT','PEAK','LDOS','IEX','JKHY','AES','BRO','HRL','AVY','XYL','NLOK','NVR','LKQ','EXPE','TYL','TECH','OMC','UDR','GNRC',\n",
    "'WRB','BF.B','TXT','IRM','PKG','MAS','FMC','CTXS','CHRW','HWM','CBOE','UAL','BXP','KIM','VTRS','LVS','ABMD','NI','AAP','CE','SBNY','EMN','TFX','HST','LYV','NDSN','TAP','L','IPG',\n",
    "'APA','LW','QRVO','PTC','SNA','CRL','HSIC','RE','BIO','PHM','FOXA','WRK','HAS','ETSY','MGM','CPB','MKTX','LUMN','AIZ','CMA','AAL','JNPR','GL','WHR','REG','NRG','FFIV','ALLE','FBHS',\n",
    "'RHI','SEE','NLSN','TPR','HII','OGN','PNW','BWA','ROL','LNC','CZR','PNR','XRAY','ZION','AOS','NWL','RCL','DXC','CCL','UHS','BEN','FRT','CDAY','MHK','BBWI','NWSA','WYNN','IVZ','DVA',\n",
    "'ALK','PENN','NCLH','VNO','FOX','RL','DISH','PVH','NWS','EMBC']\n",
    "\n",
    "#TICKERS = ['AAPL']\n",
    "\n",
    "fails = []\n"
   ]
  },
  {
   "cell_type": "code",
   "execution_count": 64,
   "metadata": {},
   "outputs": [],
   "source": [
    "FORMAT_PATH = 'new_data/result_{}.csv'\n",
    "\n",
    "FINAL_PATH = 'new_dataset_2/final_{}.csv'\n",
    "\n",
    "FINAL_PROCESS_PATH = 'new_dataset_2/process_final_{}.csv'\n",
    "\n",
    "REAL_RETURN = \"RealReturn\"\n",
    "\n",
    "REAL_RETURN_CLASS = \"RealReturnClass\"\n",
    "\n",
    "RISK = 'Risk'\n",
    "\n",
    "RISK_CLASS = 'RiskClass'\n",
    "\n",
    "N_PERIODS = 2\n",
    "\n",
    "ROI = \"roi\"\n",
    "\n",
    "DATE = 'Unnamed: 0'"
   ]
  },
  {
   "attachments": {},
   "cell_type": "markdown",
   "metadata": {},
   "source": [
    "### Creating Final Dataset"
   ]
  },
  {
   "cell_type": "code",
   "execution_count": 65,
   "metadata": {},
   "outputs": [
    {
     "data": {
      "text/html": [
       "<div>\n",
       "<style scoped>\n",
       "    .dataframe tbody tr th:only-of-type {\n",
       "        vertical-align: middle;\n",
       "    }\n",
       "\n",
       "    .dataframe tbody tr th {\n",
       "        vertical-align: top;\n",
       "    }\n",
       "\n",
       "    .dataframe thead th {\n",
       "        text-align: right;\n",
       "    }\n",
       "</style>\n",
       "<table border=\"1\" class=\"dataframe\">\n",
       "  <thead>\n",
       "    <tr style=\"text-align: right;\">\n",
       "      <th></th>\n",
       "      <th>Unnamed: 0</th>\n",
       "      <th>revenue</th>\n",
       "      <th>cost-goods-sold</th>\n",
       "      <th>gross-profit</th>\n",
       "      <th>research-development-expenses</th>\n",
       "      <th>selling-general-administrative-expenses</th>\n",
       "      <th>operating-expenses</th>\n",
       "      <th>operating-income</th>\n",
       "      <th>total-non-operating-income-expense</th>\n",
       "      <th>pre-tax-income</th>\n",
       "      <th>...</th>\n",
       "      <th>return-on-tangible-equity</th>\n",
       "      <th>roa</th>\n",
       "      <th>roi</th>\n",
       "      <th>book-value-per-share</th>\n",
       "      <th>operating-cash-flow-per-share</th>\n",
       "      <th>free-cash-flow-per-share</th>\n",
       "      <th>RealReturn</th>\n",
       "      <th>Risk</th>\n",
       "      <th>RealReturnClass</th>\n",
       "      <th>RiskClass</th>\n",
       "    </tr>\n",
       "  </thead>\n",
       "  <tbody>\n",
       "  </tbody>\n",
       "</table>\n",
       "<p>0 rows × 91 columns</p>\n",
       "</div>"
      ],
      "text/plain": [
       "Empty DataFrame\n",
       "Columns: [Unnamed: 0, revenue, cost-goods-sold, gross-profit, research-development-expenses, selling-general-administrative-expenses, operating-expenses, operating-income, total-non-operating-income-expense, pre-tax-income, total-provision-income-taxes, income-after-taxes, income-from-continuous-operations, income-from-discontinued-operations, net-income, ebitda, ebit, basic-shares-outstanding, shares-outstanding, eps-basic-net-earnings-per-share, eps-earnings-per-share-diluted, cash-on-hand, receivables-total, inventory, other-current-assets, total-current-assets, net-property-plant-equipment, long-term-investments, goodwill-intangible-assets-total, other-long-term-assets, total-long-term-assets, total-assets, total-current-liabilities, long-term-debt, other-non-current-liabilities, total-long-term-liabilities, total-liabilities, common-stock-net, retained-earnings-accumulated-deficit, comprehensive-income, total-share-holder-equity, total-liabilities-share-holders-equity, net-income-loss, total-depreciation-amortization-cash-flow, other-non-cash-items, total-non-cash-items, change-in-accounts-receivable, change-in-inventories, change-in-accounts-payable, change-in-assets-liabilities, total-change-in-assets-liabilities, cash-flow-from-operating-activities, net-change-in-property-plant-equipment, net-change-in-intangible-assets, net-acquisitions-divestitures, investing-activities-other, cash-flow-from-investing-activities, net-long-term-debt, net-current-debt, debt-issuance-retirement-net-total, net-common-equity-issued-repurchased, net-total-equity-issued-repurchased, total-common-preferred-stock-dividends-paid, financial-activities-other, cash-flow-from-financial-activities, net-cash-flow, stock-based-compensation, common-stock-dividends-paid, current-ratio, long-term-debt-capital, debt-equity-ratio, gross-margin, operating-margin, ebit-margin, pre-tax-profit-margin, net-profit-margin, asset-turnover, inventory-turnover, receiveable-turnover, days-sales-in-receivables, roe, return-on-tangible-equity, roa, roi, book-value-per-share, operating-cash-flow-per-share, free-cash-flow-per-share, RealReturn, Risk, RealReturnClass, RiskClass]\n",
       "Index: []\n",
       "\n",
       "[0 rows x 91 columns]"
      ]
     },
     "execution_count": 65,
     "metadata": {},
     "output_type": "execute_result"
    }
   ],
   "source": [
    "columns_dataset = COLUMNS\n",
    "columns_dataset.append(REAL_RETURN)\n",
    "columns_dataset.append(RISK)\n",
    "columns_dataset.append(REAL_RETURN_CLASS)\n",
    "columns_dataset.append(RISK_CLASS)\n",
    "\n",
    "df_final = pd.DataFrame(columns=columns_dataset)\n",
    "df_final"
   ]
  },
  {
   "attachments": {},
   "cell_type": "markdown",
   "metadata": {},
   "source": [
    "### Process Data"
   ]
  },
  {
   "attachments": {},
   "cell_type": "markdown",
   "metadata": {},
   "source": [
    "#### Calculate period"
   ]
  },
  {
   "cell_type": "code",
   "execution_count": 66,
   "metadata": {},
   "outputs": [],
   "source": [
    "def calculatePeriod(dt_start:str, dt_end:str):\n",
    "  dt_start = dt.datetime.strptime(dt_start, \"%Y-%m-%d\")\n",
    "  dt_end = dt.datetime.strptime(dt_end, \"%Y-%m-%d\")\n",
    "\n",
    "  return dt_start - dt_end"
   ]
  },
  {
   "attachments": {},
   "cell_type": "markdown",
   "metadata": {},
   "source": [
    "#### Calculate Real Return"
   ]
  },
  {
   "cell_type": "code",
   "execution_count": 67,
   "metadata": {},
   "outputs": [],
   "source": [
    "def calcRealReturn(start:int, data:pd.DataFrame):\n",
    "  real_return = 1\n",
    "  list_roi = []\n",
    "  for i in range(start, start - (N_PERIODS), -1):\n",
    "    real_return *= (1 + data.iloc[i][ROI]/100)\n",
    "    list_roi.append(data.iloc[i][ROI]/100)\n",
    "  \n",
    "  return real_return - 1, list_roi"
   ]
  },
  {
   "attachments": {},
   "cell_type": "markdown",
   "metadata": {},
   "source": [
    "#### Process"
   ]
  },
  {
   "cell_type": "code",
   "execution_count": 68,
   "metadata": {},
   "outputs": [],
   "source": [
    "def processDataset(data:pd.DataFrame):\n",
    "  data = data.dropna(axis=1, how='all')\n",
    "  data[REAL_RETURN] = \"\"\n",
    "  data[RISK] = \"\"\n",
    "  \n",
    "  for i in range(N_PERIODS - 1, len(data)):\n",
    "    period = calculatePeriod(data.iloc[i][DATE], data.iloc[i - (N_PERIODS - 1)][DATE])  \n",
    "    \n",
    "    calc = calcRealReturn(i, data)\n",
    "    realReturn = calc[0]\n",
    "    list_roi = calc[1]\n",
    "\n",
    "    if period.days < (90 * (N_PERIODS-1)) + 10:\n",
    "      data[REAL_RETURN][i] = round(realReturn, 4)\n",
    "      try:\n",
    "        data[RISK][i] = round(st.stdev(list_roi), 4)\n",
    "      except:\n",
    "        data[RISK][i] = np.NaN\n",
    "      \n",
    "  data[REAL_RETURN].replace('', np.NaN, inplace=True)\n",
    "  return data.dropna(subset=[REAL_RETURN])"
   ]
  },
  {
   "attachments": {},
   "cell_type": "markdown",
   "metadata": {},
   "source": [
    "#### Run All Tickers"
   ]
  },
  {
   "cell_type": "code",
   "execution_count": 69,
   "metadata": {},
   "outputs": [
    {
     "data": {
      "text/html": [
       "<div>\n",
       "<style scoped>\n",
       "    .dataframe tbody tr th:only-of-type {\n",
       "        vertical-align: middle;\n",
       "    }\n",
       "\n",
       "    .dataframe tbody tr th {\n",
       "        vertical-align: top;\n",
       "    }\n",
       "\n",
       "    .dataframe thead th {\n",
       "        text-align: right;\n",
       "    }\n",
       "</style>\n",
       "<table border=\"1\" class=\"dataframe\">\n",
       "  <thead>\n",
       "    <tr style=\"text-align: right;\">\n",
       "      <th></th>\n",
       "      <th>Unnamed: 0</th>\n",
       "      <th>revenue</th>\n",
       "      <th>cost-goods-sold</th>\n",
       "      <th>gross-profit</th>\n",
       "      <th>research-development-expenses</th>\n",
       "      <th>selling-general-administrative-expenses</th>\n",
       "      <th>operating-expenses</th>\n",
       "      <th>operating-income</th>\n",
       "      <th>total-non-operating-income-expense</th>\n",
       "      <th>pre-tax-income</th>\n",
       "      <th>...</th>\n",
       "      <th>RealReturn</th>\n",
       "      <th>Risk</th>\n",
       "      <th>net-change-in-short-term-investments</th>\n",
       "      <th>net-change-in-long-term-investments</th>\n",
       "      <th>net-change-in-investments-total</th>\n",
       "      <th>other-operating-income-expenses</th>\n",
       "      <th>pre-paid-expenses</th>\n",
       "      <th>other-share-holders-equity</th>\n",
       "      <th>other-income</th>\n",
       "      <th>ebitda-margin</th>\n",
       "    </tr>\n",
       "  </thead>\n",
       "  <tbody>\n",
       "    <tr>\n",
       "      <th>0</th>\n",
       "      <td>2022-06-30</td>\n",
       "      <td>82959.0</td>\n",
       "      <td>47074.0</td>\n",
       "      <td>35885.0</td>\n",
       "      <td>6797.0</td>\n",
       "      <td>6012.0</td>\n",
       "      <td>12809.0</td>\n",
       "      <td>23076.0</td>\n",
       "      <td>-10.0</td>\n",
       "      <td>23066.0</td>\n",
       "      <td>...</td>\n",
       "      <td>0.2833</td>\n",
       "      <td>0.008</td>\n",
       "      <td>6953.0</td>\n",
       "      <td>0.0</td>\n",
       "      <td>6953.0</td>\n",
       "      <td>NaN</td>\n",
       "      <td>NaN</td>\n",
       "      <td>NaN</td>\n",
       "      <td>NaN</td>\n",
       "      <td>NaN</td>\n",
       "    </tr>\n",
       "    <tr>\n",
       "      <th>1</th>\n",
       "      <td>2022-03-31</td>\n",
       "      <td>97278.0</td>\n",
       "      <td>54719.0</td>\n",
       "      <td>42559.0</td>\n",
       "      <td>6387.0</td>\n",
       "      <td>6193.0</td>\n",
       "      <td>12580.0</td>\n",
       "      <td>29979.0</td>\n",
       "      <td>160.0</td>\n",
       "      <td>30139.0</td>\n",
       "      <td>...</td>\n",
       "      <td>0.2924</td>\n",
       "      <td>0.0136</td>\n",
       "      <td>-6390.0</td>\n",
       "      <td>0.0</td>\n",
       "      <td>-6390.0</td>\n",
       "      <td>NaN</td>\n",
       "      <td>NaN</td>\n",
       "      <td>NaN</td>\n",
       "      <td>NaN</td>\n",
       "      <td>NaN</td>\n",
       "    </tr>\n",
       "    <tr>\n",
       "      <th>2</th>\n",
       "      <td>2021-12-31</td>\n",
       "      <td>123945.0</td>\n",
       "      <td>69702.0</td>\n",
       "      <td>54243.0</td>\n",
       "      <td>6306.0</td>\n",
       "      <td>6449.0</td>\n",
       "      <td>12755.0</td>\n",
       "      <td>41488.0</td>\n",
       "      <td>-247.0</td>\n",
       "      <td>41241.0</td>\n",
       "      <td>...</td>\n",
       "      <td>0.3688</td>\n",
       "      <td>0.0335</td>\n",
       "      <td>-12929.0</td>\n",
       "      <td>NaN</td>\n",
       "      <td>-12929.0</td>\n",
       "      <td>NaN</td>\n",
       "      <td>NaN</td>\n",
       "      <td>NaN</td>\n",
       "      <td>NaN</td>\n",
       "      <td>NaN</td>\n",
       "    </tr>\n",
       "    <tr>\n",
       "      <th>3</th>\n",
       "      <td>2021-09-30</td>\n",
       "      <td>83360.0</td>\n",
       "      <td>48186.0</td>\n",
       "      <td>35174.0</td>\n",
       "      <td>5772.0</td>\n",
       "      <td>5616.0</td>\n",
       "      <td>11388.0</td>\n",
       "      <td>23786.0</td>\n",
       "      <td>-538.0</td>\n",
       "      <td>23248.0</td>\n",
       "      <td>...</td>\n",
       "      <td>0.3364</td>\n",
       "      <td>0.0527</td>\n",
       "      <td>4352.0</td>\n",
       "      <td>0.0</td>\n",
       "      <td>4352.0</td>\n",
       "      <td>NaN</td>\n",
       "      <td>NaN</td>\n",
       "      <td>NaN</td>\n",
       "      <td>NaN</td>\n",
       "      <td>NaN</td>\n",
       "    </tr>\n",
       "    <tr>\n",
       "      <th>4</th>\n",
       "      <td>2021-06-30</td>\n",
       "      <td>81434.0</td>\n",
       "      <td>46179.0</td>\n",
       "      <td>35255.0</td>\n",
       "      <td>5717.0</td>\n",
       "      <td>5412.0</td>\n",
       "      <td>11129.0</td>\n",
       "      <td>24126.0</td>\n",
       "      <td>243.0</td>\n",
       "      <td>24369.0</td>\n",
       "      <td>...</td>\n",
       "      <td>0.2625</td>\n",
       "      <td>0.006</td>\n",
       "      <td>5747.0</td>\n",
       "      <td>0.0</td>\n",
       "      <td>5747.0</td>\n",
       "      <td>NaN</td>\n",
       "      <td>NaN</td>\n",
       "      <td>NaN</td>\n",
       "      <td>NaN</td>\n",
       "      <td>NaN</td>\n",
       "    </tr>\n",
       "    <tr>\n",
       "      <th>...</th>\n",
       "      <td>...</td>\n",
       "      <td>...</td>\n",
       "      <td>...</td>\n",
       "      <td>...</td>\n",
       "      <td>...</td>\n",
       "      <td>...</td>\n",
       "      <td>...</td>\n",
       "      <td>...</td>\n",
       "      <td>...</td>\n",
       "      <td>...</td>\n",
       "      <td>...</td>\n",
       "      <td>...</td>\n",
       "      <td>...</td>\n",
       "      <td>...</td>\n",
       "      <td>...</td>\n",
       "      <td>...</td>\n",
       "      <td>...</td>\n",
       "      <td>...</td>\n",
       "      <td>...</td>\n",
       "      <td>...</td>\n",
       "      <td>...</td>\n",
       "    </tr>\n",
       "    <tr>\n",
       "      <th>25300</th>\n",
       "      <td>2013-06-30</td>\n",
       "      <td>2257.0</td>\n",
       "      <td>1380.0</td>\n",
       "      <td>877.0</td>\n",
       "      <td>NaN</td>\n",
       "      <td>747.0</td>\n",
       "      <td>897.0</td>\n",
       "      <td>-20.0</td>\n",
       "      <td>-1440.0</td>\n",
       "      <td>-1460.0</td>\n",
       "      <td>...</td>\n",
       "      <td>-0.0859</td>\n",
       "      <td>0.0647</td>\n",
       "      <td>NaN</td>\n",
       "      <td>-2.0</td>\n",
       "      <td>-2.0</td>\n",
       "      <td>NaN</td>\n",
       "      <td>NaN</td>\n",
       "      <td>NaN</td>\n",
       "      <td>NaN</td>\n",
       "      <td>NaN</td>\n",
       "    </tr>\n",
       "    <tr>\n",
       "      <th>25301</th>\n",
       "      <td>2022-06-30</td>\n",
       "      <td>291.1</td>\n",
       "      <td>88.2</td>\n",
       "      <td>202.9</td>\n",
       "      <td>14.3</td>\n",
       "      <td>83.8</td>\n",
       "      <td>105.8</td>\n",
       "      <td>97.1</td>\n",
       "      <td>-23.5</td>\n",
       "      <td>73.6</td>\n",
       "      <td>...</td>\n",
       "      <td>0.0544</td>\n",
       "      <td>0.0727</td>\n",
       "      <td>NaN</td>\n",
       "      <td>NaN</td>\n",
       "      <td>NaN</td>\n",
       "      <td>-7.7</td>\n",
       "      <td>38.8</td>\n",
       "      <td>NaN</td>\n",
       "      <td>NaN</td>\n",
       "      <td>NaN</td>\n",
       "    </tr>\n",
       "    <tr>\n",
       "      <th>25302</th>\n",
       "      <td>2022-03-31</td>\n",
       "      <td>274.5</td>\n",
       "      <td>83.3</td>\n",
       "      <td>191.2</td>\n",
       "      <td>18.0</td>\n",
       "      <td>66.9</td>\n",
       "      <td>92.3</td>\n",
       "      <td>98.9</td>\n",
       "      <td>-5.0</td>\n",
       "      <td>93.9</td>\n",
       "      <td>...</td>\n",
       "      <td>0.2153</td>\n",
       "      <td>0.0326</td>\n",
       "      <td>NaN</td>\n",
       "      <td>NaN</td>\n",
       "      <td>NaN</td>\n",
       "      <td>-7.4</td>\n",
       "      <td>24.6</td>\n",
       "      <td>-681.1</td>\n",
       "      <td>NaN</td>\n",
       "      <td>NaN</td>\n",
       "    </tr>\n",
       "    <tr>\n",
       "      <th>25303</th>\n",
       "      <td>2021-12-31</td>\n",
       "      <td>289.3</td>\n",
       "      <td>85.4</td>\n",
       "      <td>203.9</td>\n",
       "      <td>16.7</td>\n",
       "      <td>62.2</td>\n",
       "      <td>87.3</td>\n",
       "      <td>116.6</td>\n",
       "      <td>NaN</td>\n",
       "      <td>116.6</td>\n",
       "      <td>...</td>\n",
       "      <td>0.3277</td>\n",
       "      <td>0.038</td>\n",
       "      <td>NaN</td>\n",
       "      <td>NaN</td>\n",
       "      <td>NaN</td>\n",
       "      <td>-8.4</td>\n",
       "      <td>20.9</td>\n",
       "      <td>829.8</td>\n",
       "      <td>NaN</td>\n",
       "      <td>NaN</td>\n",
       "    </tr>\n",
       "    <tr>\n",
       "      <th>25304</th>\n",
       "      <td>2021-09-30</td>\n",
       "      <td>300.8</td>\n",
       "      <td>90.6</td>\n",
       "      <td>210.2</td>\n",
       "      <td>19.5</td>\n",
       "      <td>73.5</td>\n",
       "      <td>93.0</td>\n",
       "      <td>117.2</td>\n",
       "      <td>-0.8</td>\n",
       "      <td>116.4</td>\n",
       "      <td>...</td>\n",
       "      <td>0.3718</td>\n",
       "      <td>0.0116</td>\n",
       "      <td>NaN</td>\n",
       "      <td>NaN</td>\n",
       "      <td>NaN</td>\n",
       "      <td>-2.7</td>\n",
       "      <td>23.2</td>\n",
       "      <td>864.8</td>\n",
       "      <td>NaN</td>\n",
       "      <td>NaN</td>\n",
       "    </tr>\n",
       "  </tbody>\n",
       "</table>\n",
       "<p>25305 rows × 97 columns</p>\n",
       "</div>"
      ],
      "text/plain": [
       "       Unnamed: 0   revenue  cost-goods-sold  gross-profit  \\\n",
       "0      2022-06-30   82959.0          47074.0       35885.0   \n",
       "1      2022-03-31   97278.0          54719.0       42559.0   \n",
       "2      2021-12-31  123945.0          69702.0       54243.0   \n",
       "3      2021-09-30   83360.0          48186.0       35174.0   \n",
       "4      2021-06-30   81434.0          46179.0       35255.0   \n",
       "...           ...       ...              ...           ...   \n",
       "25300  2013-06-30    2257.0           1380.0         877.0   \n",
       "25301  2022-06-30     291.1             88.2         202.9   \n",
       "25302  2022-03-31     274.5             83.3         191.2   \n",
       "25303  2021-12-31     289.3             85.4         203.9   \n",
       "25304  2021-09-30     300.8             90.6         210.2   \n",
       "\n",
       "       research-development-expenses  selling-general-administrative-expenses  \\\n",
       "0                             6797.0                                   6012.0   \n",
       "1                             6387.0                                   6193.0   \n",
       "2                             6306.0                                   6449.0   \n",
       "3                             5772.0                                   5616.0   \n",
       "4                             5717.0                                   5412.0   \n",
       "...                              ...                                      ...   \n",
       "25300                            NaN                                    747.0   \n",
       "25301                           14.3                                     83.8   \n",
       "25302                           18.0                                     66.9   \n",
       "25303                           16.7                                     62.2   \n",
       "25304                           19.5                                     73.5   \n",
       "\n",
       "       operating-expenses  operating-income  \\\n",
       "0                 12809.0           23076.0   \n",
       "1                 12580.0           29979.0   \n",
       "2                 12755.0           41488.0   \n",
       "3                 11388.0           23786.0   \n",
       "4                 11129.0           24126.0   \n",
       "...                   ...               ...   \n",
       "25300               897.0             -20.0   \n",
       "25301               105.8              97.1   \n",
       "25302                92.3              98.9   \n",
       "25303                87.3             116.6   \n",
       "25304                93.0             117.2   \n",
       "\n",
       "       total-non-operating-income-expense  pre-tax-income  ...  RealReturn  \\\n",
       "0                                   -10.0         23066.0  ...      0.2833   \n",
       "1                                   160.0         30139.0  ...      0.2924   \n",
       "2                                  -247.0         41241.0  ...      0.3688   \n",
       "3                                  -538.0         23248.0  ...      0.3364   \n",
       "4                                   243.0         24369.0  ...      0.2625   \n",
       "...                                   ...             ...  ...         ...   \n",
       "25300                             -1440.0         -1460.0  ...     -0.0859   \n",
       "25301                               -23.5            73.6  ...      0.0544   \n",
       "25302                                -5.0            93.9  ...      0.2153   \n",
       "25303                                 NaN           116.6  ...      0.3277   \n",
       "25304                                -0.8           116.4  ...      0.3718   \n",
       "\n",
       "         Risk  net-change-in-short-term-investments  \\\n",
       "0       0.008                                6953.0   \n",
       "1      0.0136                               -6390.0   \n",
       "2      0.0335                              -12929.0   \n",
       "3      0.0527                                4352.0   \n",
       "4       0.006                                5747.0   \n",
       "...       ...                                   ...   \n",
       "25300  0.0647                                   NaN   \n",
       "25301  0.0727                                   NaN   \n",
       "25302  0.0326                                   NaN   \n",
       "25303   0.038                                   NaN   \n",
       "25304  0.0116                                   NaN   \n",
       "\n",
       "       net-change-in-long-term-investments  net-change-in-investments-total  \\\n",
       "0                                      0.0                           6953.0   \n",
       "1                                      0.0                          -6390.0   \n",
       "2                                      NaN                         -12929.0   \n",
       "3                                      0.0                           4352.0   \n",
       "4                                      0.0                           5747.0   \n",
       "...                                    ...                              ...   \n",
       "25300                                 -2.0                             -2.0   \n",
       "25301                                  NaN                              NaN   \n",
       "25302                                  NaN                              NaN   \n",
       "25303                                  NaN                              NaN   \n",
       "25304                                  NaN                              NaN   \n",
       "\n",
       "       other-operating-income-expenses  pre-paid-expenses  \\\n",
       "0                                  NaN                NaN   \n",
       "1                                  NaN                NaN   \n",
       "2                                  NaN                NaN   \n",
       "3                                  NaN                NaN   \n",
       "4                                  NaN                NaN   \n",
       "...                                ...                ...   \n",
       "25300                              NaN                NaN   \n",
       "25301                             -7.7               38.8   \n",
       "25302                             -7.4               24.6   \n",
       "25303                             -8.4               20.9   \n",
       "25304                             -2.7               23.2   \n",
       "\n",
       "       other-share-holders-equity  other-income  ebitda-margin  \n",
       "0                             NaN           NaN            NaN  \n",
       "1                             NaN           NaN            NaN  \n",
       "2                             NaN           NaN            NaN  \n",
       "3                             NaN           NaN            NaN  \n",
       "4                             NaN           NaN            NaN  \n",
       "...                           ...           ...            ...  \n",
       "25300                         NaN           NaN            NaN  \n",
       "25301                         NaN           NaN            NaN  \n",
       "25302                      -681.1           NaN            NaN  \n",
       "25303                       829.8           NaN            NaN  \n",
       "25304                       864.8           NaN            NaN  \n",
       "\n",
       "[25305 rows x 97 columns]"
      ]
     },
     "execution_count": 69,
     "metadata": {},
     "output_type": "execute_result"
    }
   ],
   "source": [
    "for ticker in TICKERS:\n",
    "  try:\n",
    "    df = pd.read_csv(FORMAT_PATH.format(ticker))\n",
    "    df_result = processDataset(df)\n",
    "    df_final = pd.concat([df_final, df_result], ignore_index=True)\n",
    "  except:\n",
    "    fails.append(ticker)\n",
    "\n",
    "df_final.to_csv(FINAL_PATH.format(N_PERIODS), index=False)\n",
    "df_final = df_final.dropna(axis=1, how='all')\n",
    "df_final"
   ]
  },
  {
   "attachments": {},
   "cell_type": "markdown",
   "metadata": {},
   "source": [
    "#### Dataset analysis"
   ]
  },
  {
   "cell_type": "code",
   "execution_count": 70,
   "metadata": {},
   "outputs": [
    {
     "name": "stdout",
     "output_type": "stream",
     "text": [
      "0.0296 0.0681\n"
     ]
    }
   ],
   "source": [
    "values_return = df_final[REAL_RETURN].values\n",
    "\n",
    "values_return.sort()\n",
    "\n",
    "third_one = round(values_return.size/3)\n",
    "\n",
    "# 0 a lower_limit\n",
    "lower_limit_return = values_return[third_one]\n",
    "\n",
    "# lower_limit a medium_limit\n",
    "medium_limit_return = values_return[third_one * 2]\n",
    "\n",
    "print(lower_limit_return, medium_limit_return)"
   ]
  },
  {
   "cell_type": "code",
   "execution_count": 71,
   "metadata": {},
   "outputs": [
    {
     "data": {
      "text/plain": [
       "-3.2419"
      ]
     },
     "execution_count": 71,
     "metadata": {},
     "output_type": "execute_result"
    }
   ],
   "source": [
    "np.min(values_return)"
   ]
  },
  {
   "cell_type": "code",
   "execution_count": 72,
   "metadata": {},
   "outputs": [
    {
     "data": {
      "text/plain": [
       "18568"
      ]
     },
     "execution_count": 72,
     "metadata": {},
     "output_type": "execute_result"
    }
   ],
   "source": [
    "count = 0 \n",
    "result = []\n",
    "for i in values_return:\n",
    "  if i > 0 and i <= 0.1:\n",
    "    count += 1\n",
    "    result.append(i)\n",
    "count"
   ]
  },
  {
   "cell_type": "code",
   "execution_count": 73,
   "metadata": {},
   "outputs": [
    {
     "data": {
      "text/plain": [
       "(array([7376., 7197., 3995.]),\n",
       " array([0.0001, 0.0334, 0.0667, 0.1   ]),\n",
       " <BarContainer object of 3 artists>)"
      ]
     },
     "execution_count": 73,
     "metadata": {},
     "output_type": "execute_result"
    },
    {
     "data": {
      "image/png": "[encoded data removed]",
      "text/plain": [
       "<Figure size 640x480 with 1 Axes>"
      ]
     },
     "metadata": {},
     "output_type": "display_data"
    }
   ],
   "source": [
    "plt.hist(result, bins=3)"
   ]
  },
  {
   "cell_type": "code",
   "execution_count": 74,
   "metadata": {},
   "outputs": [
    {
     "name": "stdout",
     "output_type": "stream",
     "text": [
      "0.0027 0.0089\n"
     ]
    }
   ],
   "source": [
    "values_risk = df_final[RISK].values\n",
    "\n",
    "values_risk.sort()\n",
    "\n",
    "third_one = round(values_risk.size/3)\n",
    "\n",
    "# 0 a lower_limit\n",
    "lower_limit_risk = values_risk[third_one]\n",
    "\n",
    "# lower_limit a medium_limit\n",
    "medium_limit_risk =  values_risk[third_one * 2]\n",
    "\n",
    "print(lower_limit_risk, medium_limit_risk)"
   ]
  },
  {
   "attachments": {},
   "cell_type": "markdown",
   "metadata": {},
   "source": [
    "#### Clean dataset"
   ]
  },
  {
   "attachments": {},
   "cell_type": "markdown",
   "metadata": {},
   "source": [
    "##### Clean big values"
   ]
  },
  {
   "cell_type": "code",
   "execution_count": 75,
   "metadata": {},
   "outputs": [
    {
     "data": {
      "text/plain": [
       "57"
      ]
     },
     "execution_count": 75,
     "metadata": {},
     "output_type": "execute_result"
    }
   ],
   "source": [
    "df_final_process = pd.read_csv(FINAL_PATH.format(N_PERIODS))\n",
    "count = 0\n",
    "\n",
    "for index, row in df_final_process.iterrows():\n",
    "  if row[REAL_RETURN] > 1:\n",
    "    count += 1\n",
    "    df_final_process = df_final_process.drop(index)\n",
    "\n",
    "count"
   ]
  },
  {
   "attachments": {},
   "cell_type": "markdown",
   "metadata": {},
   "source": [
    "#### Process final dataset"
   ]
  },
  {
   "cell_type": "code",
   "execution_count": 76,
   "metadata": {},
   "outputs": [],
   "source": [
    "# def realReturnClass(value):\n",
    "#   if value > medium_limit_return:\n",
    "#     return 'high'\n",
    "#   elif value <= medium_limit_return and value > lower_limit_return:\n",
    "#     return 'medium'\n",
    "#   elif value <= lower_limit_return:\n",
    "#     return 'low'"
   ]
  },
  {
   "cell_type": "code",
   "execution_count": 77,
   "metadata": {},
   "outputs": [],
   "source": [
    "def realReturnClass(value):\n",
    "  if value > 0.1:\n",
    "    return 'high'\n",
    "  elif value <= 0.1 and value > 0.06:\n",
    "    return 'medium'\n",
    "  elif value <= 0.06:\n",
    "    return 'low'"
   ]
  },
  {
   "cell_type": "code",
   "execution_count": 78,
   "metadata": {},
   "outputs": [],
   "source": [
    "def riskClass(value):\n",
    "  if value > medium_limit_risk:\n",
    "    return 'high'\n",
    "  elif value <= medium_limit_risk and value > lower_limit_risk:\n",
    "    return 'medium'\n",
    "  elif value <= lower_limit_risk:\n",
    "    return 'low'"
   ]
  },
  {
   "cell_type": "code",
   "execution_count": 79,
   "metadata": {},
   "outputs": [],
   "source": [
    "#df_final_process = pd.read_csv(FINAL_PATH.format(N_PERIODS))\n",
    "\n",
    "for index, row in df_final_process.iterrows():\n",
    "  df_final_process[REAL_RETURN_CLASS][index] = realReturnClass(df_final_process[REAL_RETURN][index])\n",
    "  df_final_process[RISK_CLASS][index] = riskClass(df_final_process[RISK][index])\n",
    "\n",
    "df_final_process.to_csv(FINAL_PROCESS_PATH.format(N_PERIODS), index=False)"
   ]
  }
 ],
 "metadata": {
  "kernelspec": {
   "display_name": "env",
   "language": "python",
   "name": "python3"
  },
  "language_info": {
   "codemirror_mode": {
    "name": "ipython",
    "version": 3
   },
   "file_extension": ".py",
   "mimetype": "text/x-python",
   "name": "python",
   "nbconvert_exporter": "python",
   "pygments_lexer": "ipython3",
   "version": "3.10.5"
  },
  "orig_nbformat": 4,
  "vscode": {
   "interpreter": {
    "hash": "cc8a3245a31a46333b724f0fa902266a4a2d307e3e7797c60732a355503841f0"
   }
  }
 },
 "nbformat": 4,
 "nbformat_minor": 2
}

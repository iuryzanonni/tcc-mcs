{
 "cells": [
  {
   "attachments": {},
   "cell_type": "markdown",
   "metadata": {},
   "source": [
    "# Imports"
   ]
  },
  {
   "cell_type": "code",
   "execution_count": 1,
   "metadata": {},
   "outputs": [],
   "source": [
    "import pandas as pd"
   ]
  },
  {
   "attachments": {},
   "cell_type": "markdown",
   "metadata": {},
   "source": [
    "## Variables"
   ]
  },
  {
   "cell_type": "code",
   "execution_count": 2,
   "metadata": {},
   "outputs": [],
   "source": [
    "N_FEATURES = 3\n",
    "\n",
    "MUTUAL_INFORMATION = \"MUTUAL_INFORMATION\"\n",
    "\n",
    "SPEARMAN = \"SPEARMAN\"\n",
    "\n",
    "CLASSIFIERS = \"Classifiers\"\n",
    "ACCURACY = \"Accuracy\"\n",
    "N_FEATURES_NAME = \"N_Features\""
   ]
  },
  {
   "attachments": {},
   "cell_type": "markdown",
   "metadata": {},
   "source": [
    "### Variables file"
   ]
  },
  {
   "cell_type": "code",
   "execution_count": 3,
   "metadata": {},
   "outputs": [],
   "source": [
    "REAL_RETURN = \"Real Return\"\n",
    "RISK = \"Risk\"\n",
    "\n",
    "UNIQUE_CLASSIFIERS = \"######## CLASSIFICADORES UNICOS ########\"\n",
    "CV = \"######## CV ########\"\n",
    "SELECTION_CLASSIFIERS = \"######## CLASSIFIERS SELECTION ########\"\n",
    "WHITOUT_DIVERSITY = \"######## WHITOUT DIVERSITY ########\"\n",
    "BAGGING = \"######## BAGGING ########\"\n",
    "ADABOOST = \"######## ADABOOST ########\"\n",
    "FUSION = \"######## FUSION ########\"\n",
    "END = \"END\"\n",
    "\n",
    "RANDOM_FOREST = \"RANDOM FOREST\"\n",
    "SVM = \"SVM\"\n",
    "DECISION_TREE = \"DECISION TREE\"\n",
    "NAIVE_BAYES = \"NAIVE BAYES\"\n",
    "NEURAL_NETWORK = \"NEURAL NETWORK\"\n",
    "LOGISTIC_REGRESSION = \"LOGISTIC REGRESSION\"\n",
    "KNEIGHBORS= \"KNEIGHBORS\"\n",
    "XGBOOST = \"XGBOOST\""
   ]
  },
  {
   "attachments": {},
   "cell_type": "markdown",
   "metadata": {},
   "source": [
    "## Create Dataframes"
   ]
  },
  {
   "cell_type": "code",
   "execution_count": 4,
   "metadata": {},
   "outputs": [],
   "source": [
    "DF_UNIQUE_REAL_RETURN = pd.DataFrame(columns=[N_FEATURES_NAME, CLASSIFIERS, ACCURACY])\n",
    "DF_UNIQUE_RISK = pd.DataFrame(columns=[N_FEATURES_NAME, CLASSIFIERS, ACCURACY])"
   ]
  },
  {
   "attachments": {},
   "cell_type": "markdown",
   "metadata": {},
   "source": [
    "## Read File"
   ]
  },
  {
   "cell_type": "code",
   "execution_count": 5,
   "metadata": {},
   "outputs": [],
   "source": [
    "def addUniqueClassifiers(n_features:int, unique_classifiers):\n",
    "  global DF_UNIQUE_REAL_RETURN\n",
    "  global DF_UNIQUE_RISK\n",
    "  \n",
    "  for key in unique_classifiers.keys():\n",
    "    row_result = [n_features, key, unique_classifiers[key][0]]\n",
    "    row_risk = [n_features, key, unique_classifiers[key][1]]\n",
    "\n",
    "    temp_df = pd.DataFrame([row_result], columns=DF_UNIQUE_REAL_RETURN.columns)\n",
    "    DF_UNIQUE_REAL_RETURN = pd.concat([DF_UNIQUE_REAL_RETURN, temp_df], ignore_index=True)\n",
    "\n",
    "    temp_df = pd.DataFrame([row_risk], columns=DF_UNIQUE_RISK.columns)\n",
    "    DF_UNIQUE_RISK = pd.concat([DF_UNIQUE_RISK, temp_df], ignore_index=True)"
   ]
  },
  {
   "cell_type": "code",
   "execution_count": 6,
   "metadata": {},
   "outputs": [],
   "source": [
    "def readFile(selection_feature, n_features):\n",
    "  FILE_PATH = f\"./files/{selection_feature}_{n_features}.txt\"\n",
    "  file = open(FILE_PATH, 'r')\n",
    "\n",
    "  unique_classifiers = {}\n",
    "  cv_classifiers = {}\n",
    "\n",
    "  real_return_whiout = []\n",
    "  risk_whiout = []\n",
    "\n",
    "  real_return_bagging = []\n",
    "  risk_bagging = []\n",
    "\n",
    "  real_return_adaboost = []\n",
    "  risk_adaboost = []\n",
    "\n",
    "  real_return_fusion = []\n",
    "  risk_fusion = []\n",
    "\n",
    "  for line in file:\n",
    "    if UNIQUE_CLASSIFIERS in line:\n",
    "      line = file.readline()\n",
    "      while CV not in line:\n",
    "        line = line.strip()\n",
    "        classifier = line.split(\":\")\n",
    "        if classifier.__len__() > 1:\n",
    "          unique_classifiers[classifier[0]] = eval(classifier[1])\n",
    "        line = file.readline()\n",
    "    if CV in line:\n",
    "      line = file.readline()\n",
    "      while SELECTION_CLASSIFIERS not in line:\n",
    "        line = line.strip()\n",
    "        line = file.readline()\n",
    "    if WHITOUT_DIVERSITY in line:\n",
    "      line = file.readline()\n",
    "      while BAGGING not in line:\n",
    "        line = line.strip()\n",
    "        bg = line.split(\": \")\n",
    "        if bg.__len__() > 1 and bg[0] == REAL_RETURN:\n",
    "          real_return_whiout.append(bg[1].split(', '))\n",
    "        if bg.__len__() > 1 and bg[0] == RISK:\n",
    "          risk_whiout.append(bg[1].split(', '))\n",
    "        line = file.readline()\n",
    "    if BAGGING in line:\n",
    "      line = file.readline()\n",
    "      while ADABOOST not in line:\n",
    "        line = line.strip()\n",
    "        bg = line.split(\": \")\n",
    "        if bg.__len__() > 1 and bg[0] == REAL_RETURN:\n",
    "          real_return_bagging.append(bg[1].split(', '))\n",
    "        if bg.__len__() > 1 and bg[0] == RISK:\n",
    "          risk_bagging.append(bg[1].split(', '))\n",
    "        line = file.readline()\n",
    "    if ADABOOST in line:\n",
    "      line = file.readline()\n",
    "      while FUSION not in line:\n",
    "        line = line.strip()\n",
    "        bg = line.split(\": \")\n",
    "        if bg.__len__() > 1 and bg[0] == REAL_RETURN:\n",
    "          real_return_adaboost.append(bg[1].split(', '))\n",
    "        if bg.__len__() > 1 and bg[0] == RISK:\n",
    "          risk_adaboost.append(bg[1].split(', '))\n",
    "        line = file.readline()\n",
    "    if FUSION in line:\n",
    "      line = file.readline()\n",
    "      while END not in line:\n",
    "        line = line.strip().replace(\":\", \"\").split(\" \")\n",
    "        if line.__len__() > 1 and line[2] == \"RealReturn\":\n",
    "          real_return_fusion.append((line[0], line[1], line[3]))\n",
    "        if line.__len__() > 1 and line[2] == \"Risk\":\n",
    "          risk_fusion.append((line[0], line[1], line[3]))\n",
    "        line = file.readline()\n",
    "\n",
    "  addUniqueClassifiers(n_features, unique_classifiers)"
   ]
  },
  {
   "cell_type": "code",
   "execution_count": 7,
   "metadata": {},
   "outputs": [
    {
     "ename": "NameError",
     "evalue": "name 'real_return_fusion' is not defined",
     "output_type": "error",
     "traceback": [
      "\u001b[1;31m---------------------------------------------------------------------------\u001b[0m",
      "\u001b[1;31mNameError\u001b[0m                                 Traceback (most recent call last)",
      "Cell \u001b[1;32mIn[7], line 1\u001b[0m\n\u001b[1;32m----> 1\u001b[0m real_return_fusion\n",
      "\u001b[1;31mNameError\u001b[0m: name 'real_return_fusion' is not defined"
     ]
    }
   ],
   "source": [
    "real_return_fusion\n"
   ]
  }
 ],
 "metadata": {
  "kernelspec": {
   "display_name": "env",
   "language": "python",
   "name": "python3"
  },
  "language_info": {
   "codemirror_mode": {
    "name": "ipython",
    "version": 3
   },
   "file_extension": ".py",
   "mimetype": "text/x-python",
   "name": "python",
   "nbconvert_exporter": "python",
   "pygments_lexer": "ipython3",
   "version": "3.10.5"
  },
  "orig_nbformat": 4
 },
 "nbformat": 4,
 "nbformat_minor": 2
}

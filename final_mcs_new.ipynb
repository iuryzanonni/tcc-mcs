{
 "cells": [
  {
   "attachments": {},
   "cell_type": "markdown",
   "metadata": {},
   "source": [
    "# Multiple Classifiers Ensemble System (MCS)"
   ]
  },
  {
   "attachments": {},
   "cell_type": "markdown",
   "metadata": {},
   "source": [
    "#### Iury Zanonni de Faria"
   ]
  },
  {
   "attachments": {},
   "cell_type": "markdown",
   "metadata": {},
   "source": [
    "### Imports"
   ]
  },
  {
   "attachments": {},
   "cell_type": "markdown",
   "metadata": {},
   "source": [
    "#### General imports"
   ]
  },
  {
   "cell_type": "code",
   "execution_count": 1,
   "metadata": {},
   "outputs": [],
   "source": [
    "import pandas as pd\n",
    "import numpy as np\n",
    "import datetime as dt\n",
    "import statistics as st\n",
    "import matplotlib.pyplot as plt\n",
    "import warnings"
   ]
  },
  {
   "attachments": {},
   "cell_type": "markdown",
   "metadata": {},
   "source": [
    "#### Feature Selection imports"
   ]
  },
  {
   "cell_type": "code",
   "execution_count": 2,
   "metadata": {},
   "outputs": [],
   "source": [
    "from sklearn.feature_selection import mutual_info_classif\n",
    "# Info gain - weka"
   ]
  },
  {
   "attachments": {},
   "cell_type": "markdown",
   "metadata": {},
   "source": [
    "#### Diversity imports"
   ]
  },
  {
   "cell_type": "code",
   "execution_count": 3,
   "metadata": {},
   "outputs": [],
   "source": [
    "from sklearn.model_selection import KFold\n",
    "from sklearn.ensemble import BaggingClassifier\n",
    "from sklearn.ensemble import AdaBoostClassifier\n",
    "from sklearn.ensemble import GradientBoostingClassifier\n",
    "from sklearn.model_selection import cross_val_score"
   ]
  },
  {
   "attachments": {},
   "cell_type": "markdown",
   "metadata": {},
   "source": [
    "#### Classifiers imports"
   ]
  },
  {
   "cell_type": "code",
   "execution_count": 4,
   "metadata": {},
   "outputs": [],
   "source": [
    "import xgboost\n",
    "from sklearn.ensemble import RandomForestClassifier\n",
    "from sklearn.svm import SVC\n",
    "from sklearn.tree import DecisionTreeClassifier\n",
    "from sklearn.naive_bayes import BernoulliNB\n",
    "from sklearn.naive_bayes import GaussianNB\n",
    "from sklearn.neural_network import MLPClassifier\n",
    "from sklearn.linear_model import LogisticRegression\n",
    "from sklearn.neighbors import KNeighborsClassifier\n"
   ]
  },
  {
   "attachments": {},
   "cell_type": "markdown",
   "metadata": {},
   "source": [
    "#### k-mean"
   ]
  },
  {
   "cell_type": "code",
   "execution_count": 5,
   "metadata": {},
   "outputs": [],
   "source": [
    "from sklearn.metrics import silhouette_score, silhouette_samples\n",
    "from sklearn.cluster import KMeans"
   ]
  },
  {
   "attachments": {},
   "cell_type": "markdown",
   "metadata": {},
   "source": [
    "#### Metrics"
   ]
  },
  {
   "cell_type": "code",
   "execution_count": 6,
   "metadata": {},
   "outputs": [],
   "source": [
    "from sklearn.metrics import precision_score"
   ]
  },
  {
   "cell_type": "code",
   "execution_count": 7,
   "metadata": {},
   "outputs": [],
   "source": [
    "from sklearn.model_selection import train_test_split"
   ]
  },
  {
   "attachments": {},
   "cell_type": "markdown",
   "metadata": {},
   "source": [
    "### Settings"
   ]
  },
  {
   "cell_type": "code",
   "execution_count": 8,
   "metadata": {},
   "outputs": [],
   "source": [
    "DATA = ['Date', 'Current Ratio','Quick Ratio','Current Assets', 'Long-term debt to equity ratio', 'Share Holder Equity','Debt to Equity Ratio', 'Percentage of net profit to sale',\n",
    "'Percentage of operating profit to sale','Percentage of Gross profit to sale','ROA','ROE','EPS','P/E','P/S','Stock book value','Stock Price','ROI','MarketReturn', 'Company']\n",
    "\n",
    "DATA = ['Unnamed: 0', 'revenue','cost-goods-sold','gross-profit','research-development-expenses','selling-general-administrative-expenses','operating-expenses',\n",
    "'operating-income','total-non-operating-income-expense','pre-tax-income','total-provision-income-taxes','income-after-taxes','income-from-continuous-operations',\n",
    "'income-from-discontinued-operations','net-income','ebitda','ebit','basic-shares-outstanding','shares-outstanding','eps-basic-net-earnings-per-share',\n",
    "'eps-earnings-per-share-diluted','cash-on-hand','receivables-total','inventory','other-current-assets','total-current-assets','net-property-plant-equipment',\n",
    "'long-term-investments','goodwill-intangible-assets-total','other-long-term-assets','total-long-term-assets','total-assets','total-current-liabilities','long-term-debt',\n",
    "'other-non-current-liabilities','total-long-term-liabilities','total-liabilities','common-stock-net','retained-earnings-accumulated-deficit','comprehensive-income',\n",
    "'total-share-holder-equity','total-liabilities-share-holders-equity','net-income-loss','total-depreciation-amortization-cash-flow','other-non-cash-items','total-non-cash-items',\n",
    "'change-in-accounts-receivable','change-in-inventories','change-in-accounts-payable','change-in-assets-liabilities','total-change-in-assets-liabilities',\n",
    "'cash-flow-from-operating-activities','net-change-in-property-plant-equipment','net-change-in-intangible-assets','net-acquisitions-divestitures','investing-activities-other',\n",
    "'cash-flow-from-investing-activities','net-long-term-debt','net-current-debt','debt-issuance-retirement-net-total','net-common-equity-issued-repurchased',\n",
    "'net-total-equity-issued-repurchased','total-common-preferred-stock-dividends-paid','financial-activities-other','cash-flow-from-financial-activities',\n",
    "'net-cash-flow','stock-based-compensation','common-stock-dividends-paid','current-ratio','long-term-debt-capital','debt-equity-ratio','gross-margin',\n",
    "'operating-margin','ebit-margin','pre-tax-profit-margin','net-profit-margin','asset-turnover','inventory-turnover','receiveable-turnover','days-sales-in-receivables',\n",
    "'roe','return-on-tangible-equity','roa','roi','book-value-per-share','operating-cash-flow-per-share','free-cash-flow-per-share','net-change-in-short-term-investments',\n",
    "'net-change-in-long-term-investments','net-change-in-investments-total','other-operating-income-expenses','pre-paid-expenses','other-share-holders-equity','other-income',\n",
    "'ebitda-margin']\n",
    "\n",
    "REAL_RETURN_CLASS = \"RealReturnClass\"\n",
    "REAL_RETURN = \"RealReturn\"\n",
    "RISK_CLASS = 'RiskClass'\n",
    "RISK = \"Risk\"\n",
    "\n",
    "HIGH = 'high'\n",
    "MEDIUM = 'medium'\n",
    "LOW = 'low'\n",
    "\n",
    "DATE = 'Unnamed: 0'\n",
    "\n",
    "N_PERIODS = 2\n",
    "N_FEATURES = 20\n",
    "\n",
    "DATASET_PATH = 'new_dataset_2/process_final_{}.csv'.format(N_PERIODS)\n",
    "\n",
    "#Remove os warnings do notebook\n",
    "warnings.filterwarnings('ignore')"
   ]
  },
  {
   "attachments": {},
   "cell_type": "markdown",
   "metadata": {},
   "source": [
    "### Import dataset"
   ]
  },
  {
   "cell_type": "code",
   "execution_count": 9,
   "metadata": {},
   "outputs": [],
   "source": [
    "dataset = pd.read_csv(DATASET_PATH)"
   ]
  },
  {
   "attachments": {},
   "cell_type": "markdown",
   "metadata": {},
   "source": [
    "### Data Frequency"
   ]
  },
  {
   "cell_type": "code",
   "execution_count": 10,
   "metadata": {},
   "outputs": [
    {
     "data": {
      "image/png": "[encoded data removed]",
      "text/plain": [
       "<Figure size 1500x500 with 2 Axes>"
      ]
     },
     "metadata": {},
     "output_type": "display_data"
    }
   ],
   "source": [
    "def plotResults(dataset:pd.DataFrame, title_1:str, title_2:str):\n",
    "  fig, axes = plt.subplots(nrows=1, ncols=2)\n",
    "  fig.set_figwidth(15)\n",
    "  fig.set_figheight(5)\n",
    "\n",
    "  x = dataset[REAL_RETURN_CLASS].value_counts()\n",
    "  x.plot.bar(ax=axes[0])\n",
    "  axes[0].set_title(title_1)\n",
    "\n",
    "  x = dataset[RISK_CLASS].value_counts()\n",
    "  x.plot.bar(ax=axes[1])\n",
    "  axes[1].set_title(title_2)\n",
    "\n",
    "plotResults(dataset, \"Real Return\", \"Risk\")"
   ]
  },
  {
   "attachments": {},
   "cell_type": "markdown",
   "metadata": {},
   "source": [
    "### Feature Selection"
   ]
  },
  {
   "cell_type": "code",
   "execution_count": 11,
   "metadata": {},
   "outputs": [],
   "source": [
    "dataset = dataset.replace(to_replace=[HIGH], value=2.0)\n",
    "dataset = dataset.replace(to_replace=[MEDIUM], value=1.0)\n",
    "dataset = dataset.replace(to_replace=[LOW], value=0.0)\n",
    "\n",
    "dataset = dataset.replace(to_replace=[np.NaN], value=0.0)\n",
    "\n",
    "dataset_X = dataset.drop(columns=[REAL_RETURN_CLASS, REAL_RETURN, RISK_CLASS, RISK, DATE])\n",
    "dataset_y = dataset.drop(columns=DATA)"
   ]
  },
  {
   "attachments": {},
   "cell_type": "markdown",
   "metadata": {},
   "source": [
    "#### Real Return"
   ]
  },
  {
   "cell_type": "code",
   "execution_count": 12,
   "metadata": {},
   "outputs": [
    {
     "data": {
      "text/plain": [
       "[('return-on-tangible-equity', 0.9172401633713403),\n",
       " ('book-value-per-share', 0.9162202180060066),\n",
       " ('total-liabilities-share-holders-equity', 0.9122010955158191),\n",
       " ('total-assets', 0.9122010955158191),\n",
       " ('pre-tax-profit-margin', 0.9118016192007165),\n",
       " ('net-profit-margin', 0.9066907350045312),\n",
       " ('total-long-term-assets', 0.9022534983371758),\n",
       " ('total-liabilities', 0.900589011944472),\n",
       " ('roi', 0.8999168989029271),\n",
       " ('operating-margin', 0.8974878610833771),\n",
       " ('ebit-margin', 0.8971041918067462),\n",
       " ('roe', 0.8921187083015404),\n",
       " ('total-long-term-liabilities', 0.8785419908769444),\n",
       " ('total-share-holder-equity', 0.8778183853052703),\n",
       " ('retained-earnings-accumulated-deficit', 0.8720317118526186),\n",
       " ('total-current-assets', 0.8613179987445707),\n",
       " ('roa', 0.856735269685155),\n",
       " ('total-current-liabilities', 0.8454484456857358),\n",
       " ('days-sales-in-receivables', 0.8443220907524149),\n",
       " ('gross-margin', 0.8357498518448058),\n",
       " ('revenue', 0.809419918595905),\n",
       " ('net-property-plant-equipment', 0.8074855712157667),\n",
       " ('long-term-debt', 0.782248871207315),\n",
       " ('cash-on-hand', 0.772959069021161),\n",
       " ('goodwill-intangible-assets-total', 0.7517712332069713),\n",
       " ('operating-cash-flow-per-share', 0.7462728968861617),\n",
       " ('cost-goods-sold', 0.7407239898829141),\n",
       " ('free-cash-flow-per-share', 0.7372198766280758),\n",
       " ('basic-shares-outstanding', 0.7368164630580225),\n",
       " ('shares-outstanding', 0.7365093409369077),\n",
       " ('gross-profit', 0.7288699563621821),\n",
       " ('receivables-total', 0.7192645541548982),\n",
       " ('receiveable-turnover', 0.683514801437836),\n",
       " ('ebitda', 0.6797411013519326),\n",
       " ('current-ratio', 0.6754911293689797),\n",
       " ('other-non-current-liabilities', 0.6666353447542437),\n",
       " ('ebit', 0.6652883624070778),\n",
       " ('operating-income', 0.6632226397791114),\n",
       " ('operating-expenses', 0.6563820058989356),\n",
       " ('cash-flow-from-financial-activities', 0.6507959026238384),\n",
       " ('pre-tax-income', 0.6507296134564913),\n",
       " ('cash-flow-from-operating-activities', 0.649604156410784),\n",
       " ('other-long-term-assets', 0.6371754229822314),\n",
       " ('comprehensive-income', 0.635708095416375),\n",
       " ('debt-equity-ratio', 0.6345641616945765),\n",
       " ('income-after-taxes', 0.6275078264741402),\n",
       " ('income-from-continuous-operations', 0.6273071966224254),\n",
       " ('net-income', 0.6235168768043895),\n",
       " ('net-cash-flow', 0.6191000697987532),\n",
       " ('selling-general-administrative-expenses', 0.618929734938468),\n",
       " ('net-income-loss', 0.6184519293998808),\n",
       " ('cash-flow-from-investing-activities', 0.6087141564786285),\n",
       " ('total-change-in-assets-liabilities', 0.5748966873318221),\n",
       " ('inventory-turnover', 0.5634401384477968),\n",
       " ('total-non-cash-items', 0.5490759108650826),\n",
       " ('inventory', 0.5413348341762658),\n",
       " ('net-total-equity-issued-repurchased', 0.5171477399854378),\n",
       " ('net-common-equity-issued-repurchased', 0.5146898865201857),\n",
       " ('total-provision-income-taxes', 0.5108217859381119),\n",
       " ('change-in-assets-liabilities', 0.5081108368501984),\n",
       " ('total-depreciation-amortization-cash-flow', 0.49618979802552715),\n",
       " ('net-change-in-property-plant-equipment', 0.4904646117867203),\n",
       " ('other-non-cash-items', 0.4885296259066744),\n",
       " ('debt-issuance-retirement-net-total', 0.4813454079163413),\n",
       " ('common-stock-net', 0.45327705564200854),\n",
       " ('change-in-accounts-receivable', 0.4478322182385319),\n",
       " ('total-non-operating-income-expense', 0.4458283649603975),\n",
       " ('long-term-debt-capital', 0.42690986692217564),\n",
       " ('net-long-term-debt', 0.4108135703530137),\n",
       " ('asset-turnover', 0.3968207138793165),\n",
       " ('net-change-in-investments-total', 0.38319513006005135),\n",
       " ('financial-activities-other', 0.3778756597699634),\n",
       " ('stock-based-compensation', 0.36630741152027896),\n",
       " ('long-term-investments', 0.36080553957001915),\n",
       " ('total-common-preferred-stock-dividends-paid', 0.3571135523286683),\n",
       " ('common-stock-dividends-paid', 0.35554739879897135),\n",
       " ('pre-paid-expenses', 0.35394704968061086),\n",
       " ('other-current-assets', 0.3324561453832876),\n",
       " ('change-in-inventories', 0.32710899412259753),\n",
       " ('change-in-accounts-payable', 0.3166576203264725),\n",
       " ('investing-activities-other', 0.290865916118473),\n",
       " ('net-change-in-long-term-investments', 0.28603313240165307),\n",
       " ('net-current-debt', 0.2623643803570087),\n",
       " ('net-acquisitions-divestitures', 0.24769642396493863),\n",
       " ('net-change-in-short-term-investments', 0.2275839123716869),\n",
       " ('research-development-expenses', 0.22558301657679108),\n",
       " ('other-operating-income-expenses', 0.20535656072296032),\n",
       " ('eps-basic-net-earnings-per-share', 0.1666857445754064),\n",
       " ('eps-earnings-per-share-diluted', 0.16403229943458147),\n",
       " ('income-from-discontinued-operations', 0.07166673586145572),\n",
       " ('net-change-in-intangible-assets', 0.04864852867654175),\n",
       " ('other-share-holders-equity', 0.030411747030641402),\n",
       " ('other-income', 0.004879197805298744),\n",
       " ('ebitda-margin', 0.0003374104946453206)]"
      ]
     },
     "execution_count": 12,
     "metadata": {},
     "output_type": "execute_result"
    }
   ],
   "source": [
    "rank_real_return = mutual_info_classif(dataset_X, dataset_y[REAL_RETURN_CLASS], discrete_features=True)\n",
    "\n",
    "result_real_return = {}\n",
    "\n",
    "for i in range(0, len(dataset_X.columns)):\n",
    "    result_real_return[dataset_X.columns[i]] = rank_real_return[i]\n",
    "\n",
    "final_ranking_real_return = sorted(result_real_return.items(), key=lambda x: x[1])\n",
    "final_ranking_real_return.reverse()\n",
    "final_ranking_real_return"
   ]
  },
  {
   "attachments": {},
   "cell_type": "markdown",
   "metadata": {},
   "source": [
    "#### Risk"
   ]
  },
  {
   "cell_type": "code",
   "execution_count": 13,
   "metadata": {},
   "outputs": [
    {
     "data": {
      "text/plain": [
       "[('book-value-per-share', 1.0784425867160599),\n",
       " ('total-liabilities-share-holders-equity', 1.0717568846548442),\n",
       " ('total-assets', 1.0717568846548442),\n",
       " ('pre-tax-profit-margin', 1.0711046706339795),\n",
       " ('net-profit-margin', 1.0647163913789341),\n",
       " ('return-on-tangible-equity', 1.063851336257565),\n",
       " ('total-long-term-assets', 1.0611918510041671),\n",
       " ('total-liabilities', 1.0601593329331624),\n",
       " ('total-long-term-liabilities', 1.0365583850131825),\n",
       " ('total-share-holder-equity', 1.034670268322287),\n",
       " ('ebit-margin', 1.0317955300269894),\n",
       " ('operating-margin', 1.0317062936150456),\n",
       " ('retained-earnings-accumulated-deficit', 1.0212384246342023),\n",
       " ('roe', 1.0154130234328296),\n",
       " ('total-current-assets', 1.00680397913884),\n",
       " ('total-current-liabilities', 0.9876152488115346),\n",
       " ('roi', 0.9727947082735746),\n",
       " ('net-property-plant-equipment', 0.9312708958972217),\n",
       " ('revenue', 0.9262181142582221),\n",
       " ('days-sales-in-receivables', 0.9213639592925729),\n",
       " ('long-term-debt', 0.9137841195830623),\n",
       " ('roa', 0.9125607479104602),\n",
       " ('gross-margin', 0.9012417110948221),\n",
       " ('cash-on-hand', 0.8802329460233709),\n",
       " ('operating-cash-flow-per-share', 0.8690490806582843),\n",
       " ('free-cash-flow-per-share', 0.8559517444666587),\n",
       " ('shares-outstanding', 0.838978625152933),\n",
       " ('cost-goods-sold', 0.8361642936167066),\n",
       " ('basic-shares-outstanding', 0.832766068974162),\n",
       " ('gross-profit', 0.8296482274670708),\n",
       " ('goodwill-intangible-assets-total', 0.817497742022167),\n",
       " ('receivables-total', 0.8120585694628704),\n",
       " ('other-non-current-liabilities', 0.7868334914057279),\n",
       " ('ebitda', 0.7556429551219719),\n",
       " ('other-long-term-assets', 0.7514523523441019),\n",
       " ('operating-expenses', 0.7491620991506979),\n",
       " ('cash-flow-from-financial-activities', 0.7446458755126241),\n",
       " ('operating-income', 0.7343992561344604),\n",
       " ('receiveable-turnover', 0.7331684622364288),\n",
       " ('cash-flow-from-operating-activities', 0.7322455371564565),\n",
       " ('comprehensive-income', 0.727902603693738),\n",
       " ('ebit', 0.72680100361596),\n",
       " ('pre-tax-income', 0.7133925755747947),\n",
       " ('current-ratio', 0.7125604646597827),\n",
       " ('cash-flow-from-investing-activities', 0.7078999698707681),\n",
       " ('debt-equity-ratio', 0.7075688643470786),\n",
       " ('net-cash-flow', 0.7052647203148257),\n",
       " ('selling-general-administrative-expenses', 0.6980375242292984),\n",
       " ('income-after-taxes', 0.6849389885799927),\n",
       " ('income-from-continuous-operations', 0.6844810354820949),\n",
       " ('net-income', 0.6826766930274497),\n",
       " ('net-income-loss', 0.674709485809855),\n",
       " ('total-change-in-assets-liabilities', 0.6557373830642947),\n",
       " ('total-non-cash-items', 0.6282959849871138),\n",
       " ('inventory-turnover', 0.6171758592322705),\n",
       " ('debt-issuance-retirement-net-total', 0.5803261574235044),\n",
       " ('change-in-assets-liabilities', 0.577273844314961),\n",
       " ('inventory', 0.5736435276955039),\n",
       " ('other-non-cash-items', 0.5629786257658551),\n",
       " ('total-depreciation-amortization-cash-flow', 0.5575786296120415),\n",
       " ('net-change-in-property-plant-equipment', 0.554112335197507),\n",
       " ('total-provision-income-taxes', 0.5403994260242961),\n",
       " ('net-total-equity-issued-repurchased', 0.5393904715629391),\n",
       " ('net-common-equity-issued-repurchased', 0.5336976822537175),\n",
       " ('change-in-accounts-receivable', 0.5094946964541691),\n",
       " ('net-long-term-debt', 0.494884030665451),\n",
       " ('total-non-operating-income-expense', 0.48390162772760764),\n",
       " ('financial-activities-other', 0.4513478656878257),\n",
       " ('net-change-in-investments-total', 0.449088988158871),\n",
       " ('long-term-investments', 0.4303425077395299),\n",
       " ('common-stock-net', 0.40856216646458776),\n",
       " ('long-term-debt-capital', 0.4072899626225378),\n",
       " ('total-common-preferred-stock-dividends-paid', 0.3842815935987931),\n",
       " ('common-stock-dividends-paid', 0.3837356212490417),\n",
       " ('other-current-assets', 0.37322744205054914),\n",
       " ('pre-paid-expenses', 0.3712617408408138),\n",
       " ('investing-activities-other', 0.36381173776310805),\n",
       " ('stock-based-compensation', 0.35903469932247456),\n",
       " ('change-in-inventories', 0.35610560462114016),\n",
       " ('net-change-in-long-term-investments', 0.3481436191514214),\n",
       " ('change-in-accounts-payable', 0.3453767989272805),\n",
       " ('net-current-debt', 0.3227115977111267),\n",
       " ('net-acquisitions-divestitures', 0.29403199147303344),\n",
       " ('asset-turnover', 0.2926639261582792),\n",
       " ('other-operating-income-expenses', 0.26789552145603013),\n",
       " ('net-change-in-short-term-investments', 0.2616759849476159),\n",
       " ('research-development-expenses', 0.22751368355775758),\n",
       " ('eps-basic-net-earnings-per-share', 0.13197182648106037),\n",
       " ('eps-earnings-per-share-diluted', 0.12852871666827334),\n",
       " ('income-from-discontinued-operations', 0.09779624166868042),\n",
       " ('net-change-in-intangible-assets', 0.05159986437674814),\n",
       " ('other-share-holders-equity', 0.03460922960708602),\n",
       " ('other-income', 0.006204082190035012),\n",
       " ('ebitda-margin', 0.00021850915257893238)]"
      ]
     },
     "execution_count": 13,
     "metadata": {},
     "output_type": "execute_result"
    }
   ],
   "source": [
    "rank_risk = mutual_info_classif(dataset_X, dataset_y[RISK_CLASS], discrete_features=True)\n",
    "\n",
    "result_risk = {}\n",
    "\n",
    "for i in range(0, len(dataset_X.columns)):\n",
    "    result_risk[dataset_X.columns[i]] = rank_risk[i]\n",
    "\n",
    "final_ranking_risk = sorted(result_risk.items(), key=lambda x: x[1])\n",
    "final_ranking_risk.reverse()\n",
    "final_ranking_risk"
   ]
  },
  {
   "cell_type": "code",
   "execution_count": 14,
   "metadata": {},
   "outputs": [],
   "source": [
    "def getColumnsRank(rank: list):\n",
    "  ranking = []\n",
    "  for column in rank:\n",
    "    ranking.append(column[0])\n",
    "    \n",
    "  return ranking"
   ]
  },
  {
   "cell_type": "code",
   "execution_count": 15,
   "metadata": {},
   "outputs": [],
   "source": [
    "features_real_return = getColumnsRank(final_ranking_real_return)[:N_FEATURES]\n",
    "features_risk = getColumnsRank(final_ranking_risk)[:N_FEATURES]"
   ]
  },
  {
   "attachments": {},
   "cell_type": "markdown",
   "metadata": {},
   "source": [
    "### SSCA"
   ]
  },
  {
   "attachments": {},
   "cell_type": "markdown",
   "metadata": {},
   "source": [
    "O cálculo será feito com o número total de features ou somente com as 15 mais bem ranqueadas?"
   ]
  },
  {
   "cell_type": "code",
   "execution_count": 16,
   "metadata": {},
   "outputs": [
    {
     "data": {
      "text/html": [
       "<div>\n",
       "<style scoped>\n",
       "    .dataframe tbody tr th:only-of-type {\n",
       "        vertical-align: middle;\n",
       "    }\n",
       "\n",
       "    .dataframe tbody tr th {\n",
       "        vertical-align: top;\n",
       "    }\n",
       "\n",
       "    .dataframe thead th {\n",
       "        text-align: right;\n",
       "    }\n",
       "</style>\n",
       "<table border=\"1\" class=\"dataframe\">\n",
       "  <thead>\n",
       "    <tr style=\"text-align: right;\">\n",
       "      <th></th>\n",
       "      <th>return-on-tangible-equity</th>\n",
       "      <th>book-value-per-share</th>\n",
       "      <th>total-liabilities-share-holders-equity</th>\n",
       "      <th>total-assets</th>\n",
       "      <th>pre-tax-profit-margin</th>\n",
       "      <th>net-profit-margin</th>\n",
       "      <th>total-long-term-assets</th>\n",
       "      <th>total-liabilities</th>\n",
       "      <th>roi</th>\n",
       "      <th>operating-margin</th>\n",
       "      <th>ebit-margin</th>\n",
       "      <th>roe</th>\n",
       "      <th>total-long-term-liabilities</th>\n",
       "      <th>total-share-holder-equity</th>\n",
       "      <th>retained-earnings-accumulated-deficit</th>\n",
       "      <th>total-current-assets</th>\n",
       "      <th>roa</th>\n",
       "      <th>total-current-liabilities</th>\n",
       "      <th>days-sales-in-receivables</th>\n",
       "      <th>gross-margin</th>\n",
       "    </tr>\n",
       "  </thead>\n",
       "  <tbody>\n",
       "    <tr>\n",
       "      <th>0</th>\n",
       "      <td>33.4590</td>\n",
       "      <td>3.6102</td>\n",
       "      <td>336309.0</td>\n",
       "      <td>336309.0</td>\n",
       "      <td>27.8041</td>\n",
       "      <td>23.4357</td>\n",
       "      <td>224017.0</td>\n",
       "      <td>278202.0</td>\n",
       "      <td>12.7232</td>\n",
       "      <td>27.8162</td>\n",
       "      <td>27.8162</td>\n",
       "      <td>33.4590</td>\n",
       "      <td>148329.0</td>\n",
       "      <td>58107.0</td>\n",
       "      <td>5289.0</td>\n",
       "      <td>112292.0</td>\n",
       "      <td>5.7810</td>\n",
       "      <td>129873.0</td>\n",
       "      <td>45.8272</td>\n",
       "      <td>43.2563</td>\n",
       "    </tr>\n",
       "    <tr>\n",
       "      <th>1</th>\n",
       "      <td>37.1074</td>\n",
       "      <td>4.1585</td>\n",
       "      <td>350662.0</td>\n",
       "      <td>350662.0</td>\n",
       "      <td>30.9823</td>\n",
       "      <td>25.7098</td>\n",
       "      <td>232482.0</td>\n",
       "      <td>283263.0</td>\n",
       "      <td>14.6496</td>\n",
       "      <td>30.8179</td>\n",
       "      <td>30.8179</td>\n",
       "      <td>37.1074</td>\n",
       "      <td>155755.0</td>\n",
       "      <td>67399.0</td>\n",
       "      <td>12712.0</td>\n",
       "      <td>118180.0</td>\n",
       "      <td>7.1322</td>\n",
       "      <td>127508.0</td>\n",
       "      <td>42.0033</td>\n",
       "      <td>43.7499</td>\n",
       "    </tr>\n",
       "    <tr>\n",
       "      <th>2</th>\n",
       "      <td>48.1427</td>\n",
       "      <td>4.4020</td>\n",
       "      <td>381191.0</td>\n",
       "      <td>381191.0</td>\n",
       "      <td>33.2736</td>\n",
       "      <td>27.9398</td>\n",
       "      <td>228037.0</td>\n",
       "      <td>309259.0</td>\n",
       "      <td>19.3939</td>\n",
       "      <td>33.4729</td>\n",
       "      <td>33.4729</td>\n",
       "      <td>48.1427</td>\n",
       "      <td>161685.0</td>\n",
       "      <td>71932.0</td>\n",
       "      <td>14435.0</td>\n",
       "      <td>153154.0</td>\n",
       "      <td>9.0847</td>\n",
       "      <td>147574.0</td>\n",
       "      <td>47.3821</td>\n",
       "      <td>43.7638</td>\n",
       "    </tr>\n",
       "    <tr>\n",
       "      <th>3</th>\n",
       "      <td>32.5741</td>\n",
       "      <td>3.8407</td>\n",
       "      <td>351002.0</td>\n",
       "      <td>351002.0</td>\n",
       "      <td>27.8887</td>\n",
       "      <td>24.6533</td>\n",
       "      <td>216166.0</td>\n",
       "      <td>287912.0</td>\n",
       "      <td>11.9347</td>\n",
       "      <td>28.5341</td>\n",
       "      <td>28.5341</td>\n",
       "      <td>32.5741</td>\n",
       "      <td>162431.0</td>\n",
       "      <td>63090.0</td>\n",
       "      <td>5562.0</td>\n",
       "      <td>134836.0</td>\n",
       "      <td>5.8550</td>\n",
       "      <td>125481.0</td>\n",
       "      <td>55.6087</td>\n",
       "      <td>42.1953</td>\n",
       "    </tr>\n",
       "    <tr>\n",
       "      <th>4</th>\n",
       "      <td>33.8270</td>\n",
       "      <td>3.8824</td>\n",
       "      <td>329840.0</td>\n",
       "      <td>329840.0</td>\n",
       "      <td>29.9249</td>\n",
       "      <td>26.7014</td>\n",
       "      <td>215417.0</td>\n",
       "      <td>265560.0</td>\n",
       "      <td>12.7882</td>\n",
       "      <td>29.6265</td>\n",
       "      <td>29.6265</td>\n",
       "      <td>33.8270</td>\n",
       "      <td>157806.0</td>\n",
       "      <td>64280.0</td>\n",
       "      <td>9233.0</td>\n",
       "      <td>114423.0</td>\n",
       "      <td>6.5923</td>\n",
       "      <td>107754.0</td>\n",
       "      <td>37.4748</td>\n",
       "      <td>43.2927</td>\n",
       "    </tr>\n",
       "    <tr>\n",
       "      <th>...</th>\n",
       "      <td>...</td>\n",
       "      <td>...</td>\n",
       "      <td>...</td>\n",
       "      <td>...</td>\n",
       "      <td>...</td>\n",
       "      <td>...</td>\n",
       "      <td>...</td>\n",
       "      <td>...</td>\n",
       "      <td>...</td>\n",
       "      <td>...</td>\n",
       "      <td>...</td>\n",
       "      <td>...</td>\n",
       "      <td>...</td>\n",
       "      <td>...</td>\n",
       "      <td>...</td>\n",
       "      <td>...</td>\n",
       "      <td>...</td>\n",
       "      <td>...</td>\n",
       "      <td>...</td>\n",
       "      <td>...</td>\n",
       "    </tr>\n",
       "    <tr>\n",
       "      <th>25243</th>\n",
       "      <td>-14.4380</td>\n",
       "      <td>21.9349</td>\n",
       "      <td>15643.0</td>\n",
       "      <td>15643.0</td>\n",
       "      <td>-64.6876</td>\n",
       "      <td>-49.8006</td>\n",
       "      <td>11000.0</td>\n",
       "      <td>2947.0</td>\n",
       "      <td>-8.8532</td>\n",
       "      <td>-0.8861</td>\n",
       "      <td>-0.8861</td>\n",
       "      <td>-8.8672</td>\n",
       "      <td>776.0</td>\n",
       "      <td>12696.0</td>\n",
       "      <td>0.0</td>\n",
       "      <td>4643.0</td>\n",
       "      <td>-7.1853</td>\n",
       "      <td>2171.0</td>\n",
       "      <td>63.0837</td>\n",
       "      <td>38.8569</td>\n",
       "    </tr>\n",
       "    <tr>\n",
       "      <th>25244</th>\n",
       "      <td>-7.1510</td>\n",
       "      <td>-14.6628</td>\n",
       "      <td>1049.8</td>\n",
       "      <td>1049.8</td>\n",
       "      <td>25.2834</td>\n",
       "      <td>21.4359</td>\n",
       "      <td>469.2</td>\n",
       "      <td>1897.4</td>\n",
       "      <td>7.9541</td>\n",
       "      <td>33.3562</td>\n",
       "      <td>33.3562</td>\n",
       "      <td>-7.3620</td>\n",
       "      <td>1668.9</td>\n",
       "      <td>-847.6</td>\n",
       "      <td>-556.0</td>\n",
       "      <td>580.6</td>\n",
       "      <td>5.9440</td>\n",
       "      <td>228.5</td>\n",
       "      <td>6.8636</td>\n",
       "      <td>69.7011</td>\n",
       "    </tr>\n",
       "    <tr>\n",
       "      <th>25245</th>\n",
       "      <td>-7.9425</td>\n",
       "      <td>-16.7393</td>\n",
       "      <td>833.5</td>\n",
       "      <td>833.5</td>\n",
       "      <td>34.2077</td>\n",
       "      <td>28.9982</td>\n",
       "      <td>407.0</td>\n",
       "      <td>1801.0</td>\n",
       "      <td>12.5711</td>\n",
       "      <td>36.0291</td>\n",
       "      <td>36.0291</td>\n",
       "      <td>-8.2274</td>\n",
       "      <td>1632.1</td>\n",
       "      <td>-967.5</td>\n",
       "      <td>0.0</td>\n",
       "      <td>426.5</td>\n",
       "      <td>9.5501</td>\n",
       "      <td>168.9</td>\n",
       "      <td>4.9836</td>\n",
       "      <td>69.6539</td>\n",
       "    </tr>\n",
       "    <tr>\n",
       "      <th>25246</th>\n",
       "      <td>19.1251</td>\n",
       "      <td>0.0000</td>\n",
       "      <td>739.9</td>\n",
       "      <td>739.9</td>\n",
       "      <td>40.3042</td>\n",
       "      <td>34.1514</td>\n",
       "      <td>481.6</td>\n",
       "      <td>189.4</td>\n",
       "      <td>17.9473</td>\n",
       "      <td>40.3042</td>\n",
       "      <td>40.3042</td>\n",
       "      <td>17.9473</td>\n",
       "      <td>30.3</td>\n",
       "      <td>550.5</td>\n",
       "      <td>0.0</td>\n",
       "      <td>258.3</td>\n",
       "      <td>13.3532</td>\n",
       "      <td>159.1</td>\n",
       "      <td>36.8026</td>\n",
       "      <td>70.4805</td>\n",
       "    </tr>\n",
       "    <tr>\n",
       "      <th>25247</th>\n",
       "      <td>17.2912</td>\n",
       "      <td>0.0000</td>\n",
       "      <td>788.0</td>\n",
       "      <td>788.0</td>\n",
       "      <td>38.6968</td>\n",
       "      <td>32.2141</td>\n",
       "      <td>496.2</td>\n",
       "      <td>193.7</td>\n",
       "      <td>16.3049</td>\n",
       "      <td>38.9628</td>\n",
       "      <td>38.9628</td>\n",
       "      <td>16.3049</td>\n",
       "      <td>29.7</td>\n",
       "      <td>594.3</td>\n",
       "      <td>0.0</td>\n",
       "      <td>291.8</td>\n",
       "      <td>12.2970</td>\n",
       "      <td>164.0</td>\n",
       "      <td>45.0598</td>\n",
       "      <td>69.8803</td>\n",
       "    </tr>\n",
       "  </tbody>\n",
       "</table>\n",
       "<p>25248 rows × 20 columns</p>\n",
       "</div>"
      ],
      "text/plain": [
       "       return-on-tangible-equity  book-value-per-share  \\\n",
       "0                        33.4590                3.6102   \n",
       "1                        37.1074                4.1585   \n",
       "2                        48.1427                4.4020   \n",
       "3                        32.5741                3.8407   \n",
       "4                        33.8270                3.8824   \n",
       "...                          ...                   ...   \n",
       "25243                   -14.4380               21.9349   \n",
       "25244                    -7.1510              -14.6628   \n",
       "25245                    -7.9425              -16.7393   \n",
       "25246                    19.1251                0.0000   \n",
       "25247                    17.2912                0.0000   \n",
       "\n",
       "       total-liabilities-share-holders-equity  total-assets  \\\n",
       "0                                    336309.0      336309.0   \n",
       "1                                    350662.0      350662.0   \n",
       "2                                    381191.0      381191.0   \n",
       "3                                    351002.0      351002.0   \n",
       "4                                    329840.0      329840.0   \n",
       "...                                       ...           ...   \n",
       "25243                                 15643.0       15643.0   \n",
       "25244                                  1049.8        1049.8   \n",
       "25245                                   833.5         833.5   \n",
       "25246                                   739.9         739.9   \n",
       "25247                                   788.0         788.0   \n",
       "\n",
       "       pre-tax-profit-margin  net-profit-margin  total-long-term-assets  \\\n",
       "0                    27.8041            23.4357                224017.0   \n",
       "1                    30.9823            25.7098                232482.0   \n",
       "2                    33.2736            27.9398                228037.0   \n",
       "3                    27.8887            24.6533                216166.0   \n",
       "4                    29.9249            26.7014                215417.0   \n",
       "...                      ...                ...                     ...   \n",
       "25243               -64.6876           -49.8006                 11000.0   \n",
       "25244                25.2834            21.4359                   469.2   \n",
       "25245                34.2077            28.9982                   407.0   \n",
       "25246                40.3042            34.1514                   481.6   \n",
       "25247                38.6968            32.2141                   496.2   \n",
       "\n",
       "       total-liabilities      roi  operating-margin  ebit-margin      roe  \\\n",
       "0               278202.0  12.7232           27.8162      27.8162  33.4590   \n",
       "1               283263.0  14.6496           30.8179      30.8179  37.1074   \n",
       "2               309259.0  19.3939           33.4729      33.4729  48.1427   \n",
       "3               287912.0  11.9347           28.5341      28.5341  32.5741   \n",
       "4               265560.0  12.7882           29.6265      29.6265  33.8270   \n",
       "...                  ...      ...               ...          ...      ...   \n",
       "25243             2947.0  -8.8532           -0.8861      -0.8861  -8.8672   \n",
       "25244             1897.4   7.9541           33.3562      33.3562  -7.3620   \n",
       "25245             1801.0  12.5711           36.0291      36.0291  -8.2274   \n",
       "25246              189.4  17.9473           40.3042      40.3042  17.9473   \n",
       "25247              193.7  16.3049           38.9628      38.9628  16.3049   \n",
       "\n",
       "       total-long-term-liabilities  total-share-holder-equity  \\\n",
       "0                         148329.0                    58107.0   \n",
       "1                         155755.0                    67399.0   \n",
       "2                         161685.0                    71932.0   \n",
       "3                         162431.0                    63090.0   \n",
       "4                         157806.0                    64280.0   \n",
       "...                            ...                        ...   \n",
       "25243                        776.0                    12696.0   \n",
       "25244                       1668.9                     -847.6   \n",
       "25245                       1632.1                     -967.5   \n",
       "25246                         30.3                      550.5   \n",
       "25247                         29.7                      594.3   \n",
       "\n",
       "       retained-earnings-accumulated-deficit  total-current-assets      roa  \\\n",
       "0                                     5289.0              112292.0   5.7810   \n",
       "1                                    12712.0              118180.0   7.1322   \n",
       "2                                    14435.0              153154.0   9.0847   \n",
       "3                                     5562.0              134836.0   5.8550   \n",
       "4                                     9233.0              114423.0   6.5923   \n",
       "...                                      ...                   ...      ...   \n",
       "25243                                    0.0                4643.0  -7.1853   \n",
       "25244                                 -556.0                 580.6   5.9440   \n",
       "25245                                    0.0                 426.5   9.5501   \n",
       "25246                                    0.0                 258.3  13.3532   \n",
       "25247                                    0.0                 291.8  12.2970   \n",
       "\n",
       "       total-current-liabilities  days-sales-in-receivables  gross-margin  \n",
       "0                       129873.0                    45.8272       43.2563  \n",
       "1                       127508.0                    42.0033       43.7499  \n",
       "2                       147574.0                    47.3821       43.7638  \n",
       "3                       125481.0                    55.6087       42.1953  \n",
       "4                       107754.0                    37.4748       43.2927  \n",
       "...                          ...                        ...           ...  \n",
       "25243                     2171.0                    63.0837       38.8569  \n",
       "25244                      228.5                     6.8636       69.7011  \n",
       "25245                      168.9                     4.9836       69.6539  \n",
       "25246                      159.1                    36.8026       70.4805  \n",
       "25247                      164.0                    45.0598       69.8803  \n",
       "\n",
       "[25248 rows x 20 columns]"
      ]
     },
     "execution_count": 16,
     "metadata": {},
     "output_type": "execute_result"
    }
   ],
   "source": [
    "\n",
    "SSCAS = []\n",
    "\n",
    "features_return = getColumnsRank(final_ranking_real_return)[:N_FEATURES]\n",
    "\n",
    "#dataset_X = dataset.drop(columns=[REAL_RETURN_CLASS, REAL_RETURN, RISK_CLASS, RISK, \"Date\", \"Company\"])\n",
    "dataset_X = dataset[features_return]\n",
    "dataset_y = dataset.drop(columns=DATA)\n",
    "\n",
    "dataset_X"
   ]
  },
  {
   "cell_type": "code",
   "execution_count": 17,
   "metadata": {},
   "outputs": [
    {
     "data": {
      "text/plain": [
       "[(2, 0.82), (3, 0.65), (4, 0.53), (5, 0.49), (6, 0.45)]"
      ]
     },
     "execution_count": 17,
     "metadata": {},
     "output_type": "execute_result"
    }
   ],
   "source": [
    "for cluster in range(2, 7):\n",
    "  clusterer = KMeans(n_clusters=cluster, random_state=10)\n",
    "\n",
    "  cluster_labels = clusterer.fit_predict(dataset_X)\n",
    "\n",
    "  silhouette_values = silhouette_samples(dataset_X, cluster_labels)\n",
    "  #silhouette_avg = silhouette_score(dataset_X, cluster_labels)\n",
    "\n",
    "  sum_count = 0\n",
    "  count_2 = 0\n",
    "\n",
    "  #Primeiro somatorio\n",
    "  for k in range(cluster):\n",
    "    count = 0\n",
    "    n_j = 0\n",
    "\n",
    "    #Segundo somatorio\n",
    "    for j in range(len(cluster_labels)):\n",
    "      if cluster_labels[j] == k:\n",
    "        n_j += 1\n",
    "        count += silhouette_values[j]\n",
    "\n",
    "    count_2 = (count/n_j)\n",
    "    sum_count += count_2\n",
    "\n",
    "  SSCA = (sum_count/cluster)\n",
    "  SSCAS.append((cluster, round(SSCA, 2)))\n",
    "\n",
    "SSCAS"
   ]
  },
  {
   "attachments": {},
   "cell_type": "markdown",
   "metadata": {},
   "source": [
    "### Divisão do dataset"
   ]
  },
  {
   "cell_type": "code",
   "execution_count": 18,
   "metadata": {},
   "outputs": [],
   "source": [
    "columns_dataset = DATA\n",
    "columns_dataset.append(REAL_RETURN)\n",
    "columns_dataset.append(RISK)\n",
    "columns_dataset.append(REAL_RETURN_CLASS)\n",
    "columns_dataset.append(RISK_CLASS)\n",
    "\n",
    "df_train = None\n",
    "df_test = None\n",
    "\n",
    "df_train = pd.DataFrame(columns=columns_dataset)\n",
    "df_test = pd.DataFrame(columns=columns_dataset)"
   ]
  },
  {
   "cell_type": "code",
   "execution_count": 19,
   "metadata": {},
   "outputs": [
    {
     "name": "stdout",
     "output_type": "stream",
     "text": [
      "16964\n",
      "8284\n"
     ]
    },
    {
     "data": {
      "image/png": "[encoded data removed]",
      "text/plain": [
       "<Figure size 1500x500 with 2 Axes>"
      ]
     },
     "metadata": {},
     "output_type": "display_data"
    },
    {
     "data": {
      "image/png": "[encoded data removed]",
      "text/plain": [
       "<Figure size 1500x500 with 2 Axes>"
      ]
     },
     "metadata": {},
     "output_type": "display_data"
    }
   ],
   "source": [
    "TRAINING_START_DATE =  dt.datetime.strptime('2009-03-31', \"%Y-%m-%d\")\n",
    "TRAINING_END_DATE =  dt.datetime.strptime('2018-03-31', \"%Y-%m-%d\")\n",
    "\n",
    "TEST_START_DATE =  dt.datetime.strptime('2018-06-30', \"%Y-%m-%d\")\n",
    "TEST_END_DATE =  dt.datetime.strptime('2022-03-31', \"%Y-%m-%d\")\n",
    "\n",
    "dataset_sort = dataset.sort_values(by=DATE)\n",
    "count_train = 0\n",
    "count_test = 0\n",
    "\n",
    "for index, row in dataset_sort.iterrows():\n",
    "  date = dt.datetime.strptime(row[DATE], \"%Y-%m-%d\")\n",
    "  if date.year < TEST_START_DATE.year:\n",
    "    df_train = df_train.append(row)\n",
    "    count_train +=1\n",
    "  elif date.year == TEST_START_DATE.year and date.month < TEST_START_DATE.month:\n",
    "    df_train = df_train.append(row)\n",
    "    count_train +=1\n",
    "  else:\n",
    "    df_test = df_test.append(row)\n",
    "    count_test += 1\n",
    "\n",
    "print(count_train)\n",
    "print(count_test)\n",
    "\n",
    "df_train = df_train.drop(columns=[REAL_RETURN, RISK, DATE])\n",
    "df_test = df_test.drop(columns=[REAL_RETURN, RISK, DATE])\n",
    "\n",
    "plotResults(df_train, \"Real Return\", \"Risk\")\n",
    "\n",
    "plotResults(df_test, \"Real Return\", \"Risk\")"
   ]
  },
  {
   "attachments": {},
   "cell_type": "markdown",
   "metadata": {},
   "source": [
    "##### Real Return"
   ]
  },
  {
   "cell_type": "code",
   "execution_count": 20,
   "metadata": {},
   "outputs": [],
   "source": [
    "X_real_return_train = df_train[features_real_return]\n",
    "y_real_return_train = df_train[REAL_RETURN_CLASS]\n",
    "\n",
    "X_real_return_test = df_test[features_real_return]\n",
    "y_real_return_test = df_test[REAL_RETURN_CLASS]"
   ]
  },
  {
   "attachments": {},
   "cell_type": "markdown",
   "metadata": {},
   "source": [
    "##### Risk"
   ]
  },
  {
   "cell_type": "code",
   "execution_count": 21,
   "metadata": {},
   "outputs": [],
   "source": [
    "X_risk_train = df_train[features_risk]\n",
    "y_risk_train = df_train[RISK_CLASS]\n",
    "\n",
    "X_risk_test = df_test[features_risk]\n",
    "y_risk_test = df_test[RISK_CLASS]"
   ]
  },
  {
   "attachments": {},
   "cell_type": "markdown",
   "metadata": {},
   "source": [
    "### Classificadores Únicos"
   ]
  },
  {
   "cell_type": "code",
   "execution_count": 22,
   "metadata": {},
   "outputs": [],
   "source": [
    "classifiers_real_return = {}\n",
    "classifiers_risk = {}"
   ]
  },
  {
   "attachments": {},
   "cell_type": "markdown",
   "metadata": {},
   "source": [
    "#### Random Forest"
   ]
  },
  {
   "attachments": {},
   "cell_type": "markdown",
   "metadata": {},
   "source": [
    "##### Real Return"
   ]
  },
  {
   "cell_type": "code",
   "execution_count": 23,
   "metadata": {},
   "outputs": [
    {
     "data": {
      "text/plain": [
       "0.8633510381458233"
      ]
     },
     "execution_count": 23,
     "metadata": {},
     "output_type": "execute_result"
    }
   ],
   "source": [
    "RANDOM_FOREST = 'RANDOM_FOREST'\n",
    "\n",
    "randon_forest_return = RandomForestClassifier(n_estimators=300, max_depth=50, random_state=0)\n",
    "classifiers_real_return[RANDOM_FOREST] = randon_forest_return\n",
    "\n",
    "randon_forest_return.fit(X_real_return_train, y_real_return_train)\n",
    "\n",
    "randon_forest_return.score(X_real_return_test, y_real_return_test)"
   ]
  },
  {
   "attachments": {},
   "cell_type": "markdown",
   "metadata": {},
   "source": [
    "##### Risk"
   ]
  },
  {
   "cell_type": "code",
   "execution_count": 24,
   "metadata": {},
   "outputs": [
    {
     "name": "stdout",
     "output_type": "stream",
     "text": [
      "0.501086431675519\n"
     ]
    }
   ],
   "source": [
    "randon_forest_risk = RandomForestClassifier(n_estimators=300, max_depth=200, random_state=0)\n",
    "\n",
    "classifiers_risk[RANDOM_FOREST] = randon_forest_risk\n",
    "randon_forest_risk.fit(X_risk_train, y_risk_train)\n",
    "\n",
    "print(randon_forest_risk.score(X_risk_test, y_risk_test))\n",
    "\n"
   ]
  },
  {
   "attachments": {},
   "cell_type": "markdown",
   "metadata": {},
   "source": [
    "#### SVM"
   ]
  },
  {
   "attachments": {},
   "cell_type": "markdown",
   "metadata": {},
   "source": [
    "##### Real Return"
   ]
  },
  {
   "cell_type": "code",
   "execution_count": 25,
   "metadata": {},
   "outputs": [
    {
     "data": {
      "text/plain": [
       "0.6045388701110574"
      ]
     },
     "execution_count": 25,
     "metadata": {},
     "output_type": "execute_result"
    }
   ],
   "source": [
    "SVM = 'SVM'\n",
    "\n",
    "svm_real_return = SVC(kernel='rbf', C=100)\n",
    "classifiers_real_return[SVM] = svm_real_return\n",
    "\n",
    "svm_real_return.fit(X_real_return_train, y_real_return_train)\n",
    "\n",
    "svm_real_return.score(X_real_return_test, y_real_return_test)"
   ]
  },
  {
   "attachments": {},
   "cell_type": "markdown",
   "metadata": {},
   "source": [
    "##### Risk"
   ]
  },
  {
   "cell_type": "code",
   "execution_count": 26,
   "metadata": {},
   "outputs": [
    {
     "data": {
      "text/plain": [
       "0.418759053597296"
      ]
     },
     "execution_count": 26,
     "metadata": {},
     "output_type": "execute_result"
    }
   ],
   "source": [
    "svm_risk = SVC(kernel='rbf', C=100)\n",
    "classifiers_risk[SVM] = svm_risk\n",
    "\n",
    "svm_risk.fit(X_risk_train, y_risk_train)\n",
    "\n",
    "svm_risk.score(X_risk_test, y_risk_test)"
   ]
  },
  {
   "attachments": {},
   "cell_type": "markdown",
   "metadata": {},
   "source": [
    "#### Decision Tree"
   ]
  },
  {
   "attachments": {},
   "cell_type": "markdown",
   "metadata": {},
   "source": [
    "##### Real Return"
   ]
  },
  {
   "cell_type": "code",
   "execution_count": 27,
   "metadata": {},
   "outputs": [
    {
     "data": {
      "text/plain": [
       "0.8670931916948335"
      ]
     },
     "execution_count": 27,
     "metadata": {},
     "output_type": "execute_result"
    }
   ],
   "source": [
    "DECISION_TREE = 'DECISION_TREE'\n",
    "\n",
    "decision_tree_real_return = DecisionTreeClassifier(min_samples_split=2000)\n",
    "classifiers_real_return[DECISION_TREE] = decision_tree_real_return\n",
    "\n",
    "decision_tree_real_return.fit(X_real_return_train, y_real_return_train)\n",
    "\n",
    "decision_tree_real_return.score(X_real_return_test, y_real_return_test)"
   ]
  },
  {
   "attachments": {},
   "cell_type": "markdown",
   "metadata": {},
   "source": [
    "##### Risk"
   ]
  },
  {
   "cell_type": "code",
   "execution_count": 28,
   "metadata": {},
   "outputs": [
    {
     "data": {
      "text/plain": [
       "0.4697006277160792"
      ]
     },
     "execution_count": 28,
     "metadata": {},
     "output_type": "execute_result"
    }
   ],
   "source": [
    "decision_tree_risk = DecisionTreeClassifier(min_samples_split=2000)\n",
    "classifiers_risk[DECISION_TREE] = decision_tree_risk\n",
    "\n",
    "decision_tree_risk.fit(X_risk_train, y_risk_train)\n",
    "\n",
    "decision_tree_risk.score(X_risk_test, y_risk_test)"
   ]
  },
  {
   "attachments": {},
   "cell_type": "markdown",
   "metadata": {},
   "source": [
    "#### Gaussian Naive Bayes"
   ]
  },
  {
   "attachments": {},
   "cell_type": "markdown",
   "metadata": {},
   "source": [
    "##### Real Return"
   ]
  },
  {
   "cell_type": "code",
   "execution_count": 29,
   "metadata": {},
   "outputs": [
    {
     "data": {
      "text/plain": [
       "0.447609850313858"
      ]
     },
     "execution_count": 29,
     "metadata": {},
     "output_type": "execute_result"
    }
   ],
   "source": [
    "NAIVE_BAYES = 'NAIVE_BAYES'\n",
    "\n",
    "nb_real_return = BernoulliNB()\n",
    "classifiers_real_return[NAIVE_BAYES] = nb_real_return\n",
    "\n",
    "nb_real_return.fit(X_real_return_train, y_real_return_train)\n",
    "\n",
    "nb_real_return.score(X_real_return_test, y_real_return_test)"
   ]
  },
  {
   "attachments": {},
   "cell_type": "markdown",
   "metadata": {},
   "source": [
    "##### Risk"
   ]
  },
  {
   "cell_type": "code",
   "execution_count": 30,
   "metadata": {},
   "outputs": [
    {
     "data": {
      "text/plain": [
       "0.4094640270400773"
      ]
     },
     "execution_count": 30,
     "metadata": {},
     "output_type": "execute_result"
    }
   ],
   "source": [
    "nb_risk = BernoulliNB()\n",
    "classifiers_risk[NAIVE_BAYES] = nb_risk\n",
    "\n",
    "nb_risk.fit(X_risk_train, y_risk_train)\n",
    "\n",
    "nb_risk.score(X_risk_test, y_risk_test)"
   ]
  },
  {
   "attachments": {},
   "cell_type": "markdown",
   "metadata": {},
   "source": [
    "#### Rede Neural"
   ]
  },
  {
   "attachments": {},
   "cell_type": "markdown",
   "metadata": {},
   "source": [
    "Como determinar o número de camadas e neurônios?"
   ]
  },
  {
   "attachments": {},
   "cell_type": "markdown",
   "metadata": {},
   "source": [
    "##### Real Return"
   ]
  },
  {
   "cell_type": "code",
   "execution_count": 31,
   "metadata": {},
   "outputs": [
    {
     "data": {
      "text/plain": [
       "0.6345968131337518"
      ]
     },
     "execution_count": 31,
     "metadata": {},
     "output_type": "execute_result"
    }
   ],
   "source": [
    "NEURAL_NETWORK = 'NEURAL_NETWORK'\n",
    "neural_return = MLPClassifier(activation='logistic', solver='lbfgs', max_iter=300, hidden_layer_sizes=(100,))\n",
    "classifiers_real_return[NEURAL_NETWORK] = neural_return\n",
    "\n",
    "neural_return.fit(X_real_return_train, y_real_return_train)\n",
    "\n",
    "neural_return.score(X_real_return_test, y_real_return_test)\n",
    "\n"
   ]
  },
  {
   "attachments": {},
   "cell_type": "markdown",
   "metadata": {},
   "source": [
    "##### Risk"
   ]
  },
  {
   "cell_type": "code",
   "execution_count": 32,
   "metadata": {},
   "outputs": [
    {
     "data": {
      "text/plain": [
       "0.41067117334620956"
      ]
     },
     "execution_count": 32,
     "metadata": {},
     "output_type": "execute_result"
    }
   ],
   "source": [
    "neural_risk = MLPClassifier(activation='logistic', solver='lbfgs', max_iter=300, hidden_layer_sizes=(100,))\n",
    "classifiers_risk[NEURAL_NETWORK] = neural_risk\n",
    "\n",
    "neural_risk.fit(X_risk_train, y_risk_train)\n",
    "\n",
    "neural_risk.score(X_risk_test, y_risk_test)"
   ]
  },
  {
   "attachments": {},
   "cell_type": "markdown",
   "metadata": {},
   "source": [
    "#### Regressão Logística"
   ]
  },
  {
   "attachments": {},
   "cell_type": "markdown",
   "metadata": {},
   "source": [
    "##### Real Return"
   ]
  },
  {
   "cell_type": "code",
   "execution_count": 33,
   "metadata": {},
   "outputs": [
    {
     "data": {
      "text/plain": [
       "0.7880251086431675"
      ]
     },
     "execution_count": 33,
     "metadata": {},
     "output_type": "execute_result"
    }
   ],
   "source": [
    "LOGISTIC_REGRESSION ='LOGISTIC_REGRESSION'\n",
    "\n",
    "rl_return = LogisticRegression(solver='newton-cg', penalty='l2')\n",
    "classifiers_real_return[LOGISTIC_REGRESSION] = rl_return\n",
    "\n",
    "rl_return.fit(X_real_return_train, y_real_return_train)\n",
    "\n",
    "rl_return.score(X_real_return_test, y_real_return_test)"
   ]
  },
  {
   "attachments": {},
   "cell_type": "markdown",
   "metadata": {},
   "source": [
    "##### Risk"
   ]
  },
  {
   "cell_type": "code",
   "execution_count": 34,
   "metadata": {},
   "outputs": [
    {
     "data": {
      "text/plain": [
       "0.43336552390149685"
      ]
     },
     "execution_count": 34,
     "metadata": {},
     "output_type": "execute_result"
    }
   ],
   "source": [
    "rl_risk = LogisticRegression(solver='newton-cg', penalty='l2')\n",
    "classifiers_risk[LOGISTIC_REGRESSION] = rl_risk\n",
    "\n",
    "rl_risk.fit(X_risk_train, y_risk_train)\n",
    "\n",
    "rl_risk.score(X_risk_test, y_risk_test)"
   ]
  },
  {
   "attachments": {},
   "cell_type": "markdown",
   "metadata": {},
   "source": [
    "#### KNeighborsClassifier"
   ]
  },
  {
   "attachments": {},
   "cell_type": "markdown",
   "metadata": {},
   "source": [
    "##### Real Return"
   ]
  },
  {
   "cell_type": "code",
   "execution_count": 35,
   "metadata": {},
   "outputs": [
    {
     "data": {
      "text/plain": [
       "0.6548768710767745"
      ]
     },
     "execution_count": 35,
     "metadata": {},
     "output_type": "execute_result"
    }
   ],
   "source": [
    "K_NEIGHBORS ='KNeighborsClassifier'\n",
    "\n",
    "knn_return = KNeighborsClassifier(n_neighbors=100, weights='distance', leaf_size=100)\n",
    "classifiers_real_return[K_NEIGHBORS] = knn_return\n",
    "\n",
    "knn_return.fit(X_real_return_train, y_real_return_train)\n",
    "\n",
    "knn_return.score(X_real_return_test, y_real_return_test)"
   ]
  },
  {
   "attachments": {},
   "cell_type": "markdown",
   "metadata": {},
   "source": [
    "##### Risk"
   ]
  },
  {
   "cell_type": "code",
   "execution_count": 36,
   "metadata": {},
   "outputs": [
    {
     "data": {
      "text/plain": [
       "0.4246740704973443"
      ]
     },
     "execution_count": 36,
     "metadata": {},
     "output_type": "execute_result"
    }
   ],
   "source": [
    "knn_risk = KNeighborsClassifier(n_neighbors=100, weights='distance', leaf_size=100)\n",
    "classifiers_risk[K_NEIGHBORS] = knn_risk\n",
    "\n",
    "knn_risk.fit(X_risk_train, y_risk_train)\n",
    "\n",
    "knn_risk.score(X_risk_test, y_risk_test)"
   ]
  },
  {
   "attachments": {},
   "cell_type": "markdown",
   "metadata": {},
   "source": [
    "#### XGboost"
   ]
  },
  {
   "attachments": {},
   "cell_type": "markdown",
   "metadata": {},
   "source": [
    "##### Real Return"
   ]
  },
  {
   "cell_type": "code",
   "execution_count": 37,
   "metadata": {},
   "outputs": [
    {
     "data": {
      "text/plain": [
       "0.8606953162723322"
      ]
     },
     "execution_count": 37,
     "metadata": {},
     "output_type": "execute_result"
    }
   ],
   "source": [
    "XG_BOOST = 'XG_BOOST'\n",
    "\n",
    "xg_boost = xgboost.XGBClassifier()\n",
    "classifiers_real_return[XG_BOOST] = xg_boost\n",
    "\n",
    "xg_boost.fit(X_real_return_train, y_real_return_train)\n",
    "\n",
    "xg_boost.score(X_real_return_test, y_real_return_test)"
   ]
  },
  {
   "attachments": {},
   "cell_type": "markdown",
   "metadata": {},
   "source": [
    "##### Risk"
   ]
  },
  {
   "cell_type": "code",
   "execution_count": 38,
   "metadata": {},
   "outputs": [
    {
     "data": {
      "text/plain": [
       "0.498430709802028"
      ]
     },
     "execution_count": 38,
     "metadata": {},
     "output_type": "execute_result"
    }
   ],
   "source": [
    "xg_boost = xgboost.XGBClassifier()\n",
    "classifiers_risk[XG_BOOST] = xg_boost\n",
    "\n",
    "xg_boost.fit(X_risk_train, y_risk_train)\n",
    "\n",
    "xg_boost.score(X_risk_test, y_risk_test)"
   ]
  },
  {
   "attachments": {},
   "cell_type": "markdown",
   "metadata": {},
   "source": [
    "### Cross-validation"
   ]
  },
  {
   "cell_type": "code",
   "execution_count": 39,
   "metadata": {},
   "outputs": [],
   "source": [
    "CV = 10\n",
    "result_cv_real_return = {}\n",
    "result_cv_risk = {}\n",
    "\n",
    "X_dataset_real_return = dataset[features_real_return]\n",
    "y_dataset_real_return = dataset[REAL_RETURN_CLASS]\n",
    "\n",
    "X_dataset_risk = dataset[features_risk]\n",
    "y_dataset_risk = dataset[RISK_CLASS]"
   ]
  },
  {
   "attachments": {},
   "cell_type": "markdown",
   "metadata": {},
   "source": [
    "##### Real Return"
   ]
  },
  {
   "cell_type": "code",
   "execution_count": 40,
   "metadata": {},
   "outputs": [
    {
     "data": {
      "text/plain": [
       "{'RANDOM_FOREST': 0.8328594090787842,\n",
       " 'SVM': 0.6031773548194757,\n",
       " 'DECISION_TREE': 0.8744844424220553,\n",
       " 'NAIVE_BAYES': 0.47017983398973806,\n",
       " 'NEURAL_NETWORK': 0.6585076964114795,\n",
       " 'LOGISTIC_REGRESSION': 0.7851704351100721,\n",
       " 'KNeighborsClassifier': 0.6193378575575466,\n",
       " 'XG_BOOST': 0.8226414146961447}"
      ]
     },
     "execution_count": 40,
     "metadata": {},
     "output_type": "execute_result"
    }
   ],
   "source": [
    "cv_result = cross_val_score(classifiers_real_return[RANDOM_FOREST], X_dataset_real_return, y_dataset_real_return, cv=CV, n_jobs=-1)\n",
    "result_cv_real_return[RANDOM_FOREST] = cv_result.mean()\n",
    "\n",
    "cv_result = cross_val_score(classifiers_real_return[SVM], X_dataset_real_return, y_dataset_real_return, cv=CV, n_jobs=-1)\n",
    "result_cv_real_return[SVM] = cv_result.mean()\n",
    "\n",
    "cv_result = cross_val_score(classifiers_real_return[DECISION_TREE], X_dataset_real_return, y_dataset_real_return, cv=CV, n_jobs=-1)\n",
    "result_cv_real_return[DECISION_TREE] = cv_result.mean()\n",
    "\n",
    "cv_result = cross_val_score(classifiers_real_return[NAIVE_BAYES], X_dataset_real_return, y_dataset_real_return, cv=CV, n_jobs=-1)\n",
    "result_cv_real_return[NAIVE_BAYES] = cv_result.mean()\n",
    "\n",
    "cv_result = cross_val_score(classifiers_real_return[NEURAL_NETWORK], X_dataset_real_return, y_dataset_real_return, cv=CV, n_jobs=-1)\n",
    "result_cv_real_return[NEURAL_NETWORK] = cv_result.mean()\n",
    "\n",
    "cv_result = cross_val_score(classifiers_real_return[LOGISTIC_REGRESSION], X_dataset_real_return, y_dataset_real_return, cv=CV, n_jobs=-1)\n",
    "result_cv_real_return[LOGISTIC_REGRESSION] = cv_result.mean()\n",
    "\n",
    "cv_result = cross_val_score(classifiers_real_return[K_NEIGHBORS], X_dataset_real_return, y_dataset_real_return, cv=CV, n_jobs=-1)\n",
    "result_cv_real_return[K_NEIGHBORS] = cv_result.mean()\n",
    "\n",
    "cv_result = cross_val_score(classifiers_real_return[XG_BOOST], X_dataset_real_return, y_dataset_real_return, cv=CV, n_jobs=-1)\n",
    "result_cv_real_return[XG_BOOST] = cv_result.mean()\n",
    "\n",
    "result_cv_real_return"
   ]
  },
  {
   "attachments": {},
   "cell_type": "markdown",
   "metadata": {},
   "source": [
    "##### Risk"
   ]
  },
  {
   "cell_type": "code",
   "execution_count": 41,
   "metadata": {},
   "outputs": [
    {
     "data": {
      "text/plain": [
       "{'RANDOM_FOREST': 0.44312307981986787,\n",
       " 'SVM': 0.3952745916429995,\n",
       " 'DECISION_TREE': 0.4695011532849006,\n",
       " 'NAIVE_BAYES': 0.4189644443049693,\n",
       " 'NEURAL_NETWORK': 0.4310021025874378,\n",
       " 'LOGISTIC_REGRESSION': 0.39068210133216175,\n",
       " 'KNeighborsClassifier': 0.40232725047465134,\n",
       " 'XG_BOOST': 0.4568670034990821}"
      ]
     },
     "execution_count": 41,
     "metadata": {},
     "output_type": "execute_result"
    }
   ],
   "source": [
    "cv_result = cross_val_score(classifiers_risk[RANDOM_FOREST], X_dataset_risk, y_dataset_risk, cv=CV, n_jobs=-1)\n",
    "result_cv_risk[RANDOM_FOREST] = cv_result.mean()\n",
    "\n",
    "cv_result = cross_val_score(classifiers_risk[SVM], X_dataset_risk, y_dataset_risk, cv=CV, n_jobs=-1)\n",
    "result_cv_risk[SVM] = cv_result.mean()\n",
    "\n",
    "cv_result = cross_val_score(classifiers_risk[DECISION_TREE], X_dataset_risk, y_dataset_risk, cv=CV, n_jobs=-1)\n",
    "result_cv_risk[DECISION_TREE] = cv_result.mean()\n",
    "\n",
    "cv_result = cross_val_score(classifiers_risk[NAIVE_BAYES], X_dataset_risk, y_dataset_risk, cv=CV, n_jobs=-1)\n",
    "result_cv_risk[NAIVE_BAYES] = cv_result.mean()\n",
    "\n",
    "cv_result = cross_val_score(classifiers_risk[NEURAL_NETWORK], X_dataset_risk, y_dataset_risk, cv=CV, n_jobs=-1)\n",
    "result_cv_risk[NEURAL_NETWORK] = cv_result.mean()\n",
    "\n",
    "cv_result = cross_val_score(classifiers_risk[LOGISTIC_REGRESSION], X_dataset_risk, y_dataset_risk, cv=CV, n_jobs=-1)\n",
    "result_cv_risk[LOGISTIC_REGRESSION] = cv_result.mean()\n",
    "\n",
    "cv_result = cross_val_score(classifiers_risk[K_NEIGHBORS], X_dataset_risk, y_dataset_risk, cv=CV, n_jobs=-1)\n",
    "result_cv_risk[K_NEIGHBORS] = cv_result.mean()\n",
    "\n",
    "cv_result = cross_val_score(classifiers_risk[XG_BOOST], X_dataset_risk, y_dataset_risk, cv=CV, n_jobs=-1)\n",
    "result_cv_risk[XG_BOOST] = cv_result.mean()\n",
    "\n",
    "result_cv_risk"
   ]
  },
  {
   "attachments": {},
   "cell_type": "markdown",
   "metadata": {},
   "source": [
    "### Selection Of Cassifier"
   ]
  },
  {
   "attachments": {},
   "cell_type": "markdown",
   "metadata": {},
   "source": [
    "#### List of Sets"
   ]
  },
  {
   "cell_type": "code",
   "execution_count": 42,
   "metadata": {},
   "outputs": [
    {
     "data": {
      "text/plain": [
       "[('RANDOM_FOREST', 'SVM'),\n",
       " ('RANDOM_FOREST', 'DECISION_TREE'),\n",
       " ('RANDOM_FOREST', 'NAIVE_BAYES'),\n",
       " ('RANDOM_FOREST', 'NEURAL_NETWORK'),\n",
       " ('RANDOM_FOREST', 'LOGISTIC_REGRESSION'),\n",
       " ('RANDOM_FOREST', 'KNeighborsClassifier'),\n",
       " ('RANDOM_FOREST', 'XG_BOOST'),\n",
       " ('SVM', 'DECISION_TREE'),\n",
       " ('SVM', 'NAIVE_BAYES'),\n",
       " ('SVM', 'NEURAL_NETWORK'),\n",
       " ('SVM', 'LOGISTIC_REGRESSION'),\n",
       " ('SVM', 'KNeighborsClassifier'),\n",
       " ('SVM', 'XG_BOOST'),\n",
       " ('DECISION_TREE', 'NAIVE_BAYES'),\n",
       " ('DECISION_TREE', 'NEURAL_NETWORK'),\n",
       " ('DECISION_TREE', 'LOGISTIC_REGRESSION'),\n",
       " ('DECISION_TREE', 'KNeighborsClassifier'),\n",
       " ('DECISION_TREE', 'XG_BOOST'),\n",
       " ('NAIVE_BAYES', 'NEURAL_NETWORK'),\n",
       " ('NAIVE_BAYES', 'LOGISTIC_REGRESSION'),\n",
       " ('NAIVE_BAYES', 'KNeighborsClassifier'),\n",
       " ('NAIVE_BAYES', 'XG_BOOST'),\n",
       " ('NEURAL_NETWORK', 'LOGISTIC_REGRESSION'),\n",
       " ('NEURAL_NETWORK', 'KNeighborsClassifier'),\n",
       " ('NEURAL_NETWORK', 'XG_BOOST'),\n",
       " ('LOGISTIC_REGRESSION', 'KNeighborsClassifier'),\n",
       " ('LOGISTIC_REGRESSION', 'XG_BOOST'),\n",
       " ('KNeighborsClassifier', 'XG_BOOST')]"
      ]
     },
     "execution_count": 42,
     "metadata": {},
     "output_type": "execute_result"
    }
   ],
   "source": [
    "classifiers = list(result_cv_real_return.keys())\n",
    "list_sets = []\n",
    "\n",
    "for i in range(len(classifiers)):\n",
    "  for j in range(i + 1, len(classifiers)):\n",
    "    list_sets.append((classifiers[i], classifiers[j]))\n",
    "\n",
    "list_sets\n"
   ]
  },
  {
   "attachments": {},
   "cell_type": "markdown",
   "metadata": {},
   "source": [
    "#### Real Return Classifiers"
   ]
  },
  {
   "cell_type": "code",
   "execution_count": 43,
   "metadata": {},
   "outputs": [
    {
     "data": {
      "text/plain": [
       "['RANDOM_FOREST',\n",
       " 'DECISION_TREE',\n",
       " 'LOGISTIC_REGRESSION',\n",
       " 'XG_BOOST',\n",
       " 'NEURAL_NETWORK']"
      ]
     },
     "execution_count": 43,
     "metadata": {},
     "output_type": "execute_result"
    }
   ],
   "source": [
    "real_return_classifiers = []\n",
    "\n",
    "for classifier_set in list_sets:  \n",
    "  set_0 = result_cv_real_return[classifier_set[0]]\n",
    "  set_1 = result_cv_real_return[classifier_set[1]]\n",
    "\n",
    "  avg = (set_0 + set_1) / 2\n",
    "  if avg >= 0.75:\n",
    "    if classifier_set[0] not in real_return_classifiers:\n",
    "      real_return_classifiers.append(classifier_set[0])\n",
    "\n",
    "    if classifier_set[1] not in real_return_classifiers:\n",
    "      real_return_classifiers.append(classifier_set[1])\n",
    "\n",
    "real_return_classifiers\n"
   ]
  },
  {
   "attachments": {},
   "cell_type": "markdown",
   "metadata": {},
   "source": [
    "#### Risk Classifiers"
   ]
  },
  {
   "cell_type": "code",
   "execution_count": 44,
   "metadata": {},
   "outputs": [
    {
     "data": {
      "text/plain": [
       "['RANDOM_FOREST', 'DECISION_TREE', 'NEURAL_NETWORK', 'XG_BOOST']"
      ]
     },
     "execution_count": 44,
     "metadata": {},
     "output_type": "execute_result"
    }
   ],
   "source": [
    "risk_classifiers = []\n",
    "\n",
    "for classifier_set in list_sets:  \n",
    "  set_0 = result_cv_risk[classifier_set[0]]\n",
    "  set_1 = result_cv_risk[classifier_set[1]]\n",
    "\n",
    "  avg = (set_0 + set_1) / 2\n",
    "  if avg >= 0.45:\n",
    "    if classifier_set[0] not in risk_classifiers:\n",
    "      risk_classifiers.append(classifier_set[0])\n",
    "\n",
    "    if classifier_set[1] not in risk_classifiers:\n",
    "      risk_classifiers.append(classifier_set[1])\n",
    "\n",
    "risk_classifiers"
   ]
  },
  {
   "attachments": {},
   "cell_type": "markdown",
   "metadata": {},
   "source": [
    "### Fusion of Classifiers"
   ]
  },
  {
   "attachments": {},
   "cell_type": "markdown",
   "metadata": {},
   "source": [
    "#### Training with diversification"
   ]
  },
  {
   "attachments": {},
   "cell_type": "markdown",
   "metadata": {},
   "source": [
    "##### Whitout diversity"
   ]
  },
  {
   "attachments": {},
   "cell_type": "markdown",
   "metadata": {},
   "source": [
    "Real Return"
   ]
  },
  {
   "cell_type": "code",
   "execution_count": 45,
   "metadata": {},
   "outputs": [
    {
     "name": "stdout",
     "output_type": "stream",
     "text": [
      "RANDOM_FOREST 0.8633510381458233\n",
      "DECISION_TREE 0.8670931916948335\n",
      "LOGISTIC_REGRESSION 0.7880251086431675\n",
      "XG_BOOST 0.8606953162723322\n",
      "NEURAL_NETWORK 0.6419604056011589\n"
     ]
    }
   ],
   "source": [
    "real_return_whitout_diversity = {}\n",
    "\n",
    "for classifier in real_return_classifiers:\n",
    "  real_return_whitout_diversity[classifier] = classifiers_real_return[classifier]\n",
    "  real_return_whitout_diversity[classifier].fit(X_real_return_train, y_real_return_train)\n",
    "\n",
    "  print(classifier, real_return_whitout_diversity[classifier].score(X_real_return_test, y_real_return_test))"
   ]
  },
  {
   "attachments": {},
   "cell_type": "markdown",
   "metadata": {},
   "source": [
    "Risk"
   ]
  },
  {
   "cell_type": "code",
   "execution_count": 46,
   "metadata": {},
   "outputs": [
    {
     "name": "stdout",
     "output_type": "stream",
     "text": [
      "RANDOM_FOREST 0.501086431675519\n",
      "DECISION_TREE 0.4697006277160792\n",
      "NEURAL_NETWORK 0.4267262192177692\n",
      "XG_BOOST 0.498430709802028\n"
     ]
    }
   ],
   "source": [
    "risk_whitout_diversity = {}\n",
    "\n",
    "for classifier in risk_classifiers:\n",
    "  risk_whitout_diversity[classifier] = classifiers_risk[classifier]\n",
    "  risk_whitout_diversity[classifier].fit(X_risk_train, y_risk_train)\n",
    "\n",
    "  print(classifier, risk_whitout_diversity[classifier].score(X_risk_test, y_risk_test))"
   ]
  },
  {
   "attachments": {},
   "cell_type": "markdown",
   "metadata": {},
   "source": [
    "##### Bagging"
   ]
  },
  {
   "attachments": {},
   "cell_type": "markdown",
   "metadata": {},
   "source": [
    "Real Return"
   ]
  },
  {
   "cell_type": "code",
   "execution_count": 47,
   "metadata": {},
   "outputs": [
    {
     "name": "stdout",
     "output_type": "stream",
     "text": [
      "RANDOM_FOREST 0.8663689039111541\n",
      "DECISION_TREE 0.8670931916948335\n",
      "LOGISTIC_REGRESSION 0.7830758087880251\n",
      "XG_BOOST 0.8652824722356349\n",
      "NEURAL_NETWORK 0.6402704007725737\n"
     ]
    }
   ],
   "source": [
    "real_return_bagging = {}\n",
    "\n",
    "for classifier in real_return_classifiers:\n",
    "  estimator = classifiers_real_return[classifier]\n",
    "  real_return_bagging[classifier] = BaggingClassifier(estimator=estimator, n_jobs=-1)\n",
    "  real_return_bagging[classifier].fit(X_real_return_train, y_real_return_train)\n",
    "\n",
    "  print(classifier, real_return_bagging[classifier].score(X_real_return_test, y_real_return_test))"
   ]
  },
  {
   "attachments": {},
   "cell_type": "markdown",
   "metadata": {},
   "source": [
    "Risk"
   ]
  },
  {
   "cell_type": "code",
   "execution_count": 48,
   "metadata": {},
   "outputs": [
    {
     "name": "stdout",
     "output_type": "stream",
     "text": [
      "RANDOM_FOREST 0.5100193143408981\n",
      "DECISION_TREE 0.4684934814099469\n",
      "NEURAL_NETWORK 0.4288990825688073\n",
      "XG_BOOST 0.5086914534041526\n"
     ]
    }
   ],
   "source": [
    "risk_bagging = {}\n",
    "\n",
    "for classifier in risk_classifiers:\n",
    "  estimator = classifiers_risk[classifier]\n",
    "  risk_bagging[classifier] = BaggingClassifier(estimator=estimator, n_jobs=-1)\n",
    "  risk_bagging[classifier].fit(X_risk_train, y_risk_train)\n",
    "\n",
    "  print(classifier, risk_bagging[classifier].score(X_risk_test, y_risk_test))"
   ]
  },
  {
   "attachments": {},
   "cell_type": "markdown",
   "metadata": {},
   "source": [
    "##### AdaBoost"
   ]
  },
  {
   "attachments": {},
   "cell_type": "markdown",
   "metadata": {},
   "source": [
    "Real Return"
   ]
  },
  {
   "cell_type": "code",
   "execution_count": 49,
   "metadata": {},
   "outputs": [
    {
     "name": "stdout",
     "output_type": "stream",
     "text": [
      "RANDOM_FOREST 0.8646788990825688\n",
      "DECISION_TREE 0.8302752293577982\n",
      "LOGISTIC_REGRESSION 0.6898841139546112\n",
      "XG_BOOST 0.5866731047802993\n",
      "NEURAL_NETWORK Não utilizado\n"
     ]
    }
   ],
   "source": [
    "real_return_adaboost = {}\n",
    "\n",
    "for classifier in real_return_classifiers:\n",
    "  estimator = classifiers_real_return[classifier]\n",
    "  try:\n",
    "    real_return_adaboost[classifier] = AdaBoostClassifier(estimator=estimator)\n",
    "    real_return_adaboost[classifier].fit(X_real_return_train, y_real_return_train)\n",
    "    print(classifier, real_return_adaboost[classifier].score(X_real_return_test, y_real_return_test))\n",
    "  except:\n",
    "    real_return_adaboost.pop(classifier)\n",
    "    print(classifier, \"Não utilizado\")\n"
   ]
  },
  {
   "attachments": {},
   "cell_type": "markdown",
   "metadata": {},
   "source": [
    "Risk"
   ]
  },
  {
   "cell_type": "code",
   "execution_count": 50,
   "metadata": {},
   "outputs": [
    {
     "name": "stdout",
     "output_type": "stream",
     "text": [
      "RANDOM_FOREST 0.5048285852245292\n",
      "DECISION_TREE 0.4620956059874457\n",
      "NEURAL_NETWORK Não utilizado\n",
      "XG_BOOST 0.306615161757605\n"
     ]
    }
   ],
   "source": [
    "risk_adaboost = {}\n",
    "\n",
    "for classifier in risk_classifiers:\n",
    "  estimator = classifiers_risk[classifier]\n",
    "  try:\n",
    "    risk_adaboost[classifier] = AdaBoostClassifier(estimator=estimator)\n",
    "    risk_adaboost[classifier].fit(X_risk_train, y_risk_train)\n",
    "    print(classifier, risk_adaboost[classifier].score(X_risk_test, y_risk_test))\n",
    "  except:\n",
    "    risk_adaboost.pop(classifier)\n",
    "    print(classifier, \"Não utilizado\")"
   ]
  },
  {
   "attachments": {},
   "cell_type": "markdown",
   "metadata": {},
   "source": [
    "#### Fusion"
   ]
  },
  {
   "cell_type": "code",
   "execution_count": 51,
   "metadata": {},
   "outputs": [],
   "source": [
    "def fusion(fusion_model, models, X_data, y_data):\n",
    "  df_fusion = pd.DataFrame()\n",
    "\n",
    "  for model in models:\n",
    "    X_predict = models[model].predict(X_data)\n",
    "  \n",
    "    df_fusion[model] = X_predict\n",
    "\n",
    "  X_train, X_test, y_train, y_test = train_test_split(df_fusion, y_data, test_size=0.3, random_state=42)\n",
    "\n",
    "  print(X_train)\n",
    "  fusion_model.fit(X_train, y_train)\n",
    "  \n",
    "  return fusion_model.score(X_test, y_test)"
   ]
  },
  {
   "attachments": {},
   "cell_type": "markdown",
   "metadata": {},
   "source": [
    "##### Whitout diversity"
   ]
  },
  {
   "attachments": {},
   "cell_type": "markdown",
   "metadata": {},
   "source": [
    "Real Return"
   ]
  },
  {
   "cell_type": "code",
   "execution_count": 52,
   "metadata": {},
   "outputs": [
    {
     "name": "stdout",
     "output_type": "stream",
     "text": [
      "       RANDOM_FOREST  DECISION_TREE  LOGISTIC_REGRESSION  XG_BOOST  \\\n",
      "16726            0.0            0.0                  0.0         0   \n",
      "20682            0.0            0.0                  0.0         0   \n",
      "12217            1.0            0.0                  0.0         1   \n",
      "22872            0.0            0.0                  0.0         0   \n",
      "13206            1.0            1.0                  1.0         1   \n",
      "...              ...            ...                  ...       ...   \n",
      "21575            2.0            2.0                  2.0         2   \n",
      "5390             1.0            0.0                  0.0         0   \n",
      "860              0.0            0.0                  0.0         0   \n",
      "15795            0.0            0.0                  0.0         0   \n",
      "23654            1.0            1.0                  1.0         1   \n",
      "\n",
      "       NEURAL_NETWORK  \n",
      "16726             0.0  \n",
      "20682             0.0  \n",
      "12217             0.0  \n",
      "22872             0.0  \n",
      "13206             0.0  \n",
      "...               ...  \n",
      "21575             0.0  \n",
      "5390              0.0  \n",
      "860               0.0  \n",
      "15795             0.0  \n",
      "23654             0.0  \n",
      "\n",
      "[17673 rows x 5 columns]\n"
     ]
    },
    {
     "data": {
      "text/plain": [
       "0.9325412541254126"
      ]
     },
     "execution_count": 52,
     "metadata": {},
     "output_type": "execute_result"
    }
   ],
   "source": [
    "model = KNeighborsClassifier(n_neighbors=1000, leaf_size=30, p=2)\n",
    "\n",
    "fusion(model, real_return_whitout_diversity, X_dataset_real_return, y_dataset_real_return)"
   ]
  },
  {
   "attachments": {},
   "cell_type": "markdown",
   "metadata": {},
   "source": [
    "Risk"
   ]
  },
  {
   "cell_type": "code",
   "execution_count": 53,
   "metadata": {},
   "outputs": [
    {
     "name": "stdout",
     "output_type": "stream",
     "text": [
      "       RANDOM_FOREST  DECISION_TREE  NEURAL_NETWORK  XG_BOOST\n",
      "16726            1.0            1.0             1.0         1\n",
      "20682            0.0            0.0             0.0         1\n",
      "12217            1.0            1.0             2.0         1\n",
      "22872            0.0            0.0             1.0         0\n",
      "13206            0.0            0.0             0.0         0\n",
      "...              ...            ...             ...       ...\n",
      "21575            2.0            2.0             2.0         2\n",
      "5390             2.0            1.0             0.0         0\n",
      "860              0.0            0.0             2.0         2\n",
      "15795            0.0            0.0             0.0         0\n",
      "23654            2.0            0.0             2.0         2\n",
      "\n",
      "[17673 rows x 4 columns]\n"
     ]
    },
    {
     "data": {
      "text/plain": [
       "0.78996699669967"
      ]
     },
     "execution_count": 53,
     "metadata": {},
     "output_type": "execute_result"
    }
   ],
   "source": [
    "fusion(model, risk_whitout_diversity, X_dataset_risk, y_dataset_risk)"
   ]
  },
  {
   "cell_type": "markdown",
   "metadata": {},
   "source": [
    "##### Bagging"
   ]
  },
  {
   "attachments": {},
   "cell_type": "markdown",
   "metadata": {},
   "source": [
    "Real Return"
   ]
  },
  {
   "cell_type": "code",
   "execution_count": 54,
   "metadata": {},
   "outputs": [
    {
     "name": "stdout",
     "output_type": "stream",
     "text": [
      "       RANDOM_FOREST  DECISION_TREE  LOGISTIC_REGRESSION  XG_BOOST  \\\n",
      "16726            0.0            0.0                  0.0       0.0   \n",
      "20682            0.0            0.0                  0.0       0.0   \n",
      "12217            1.0            0.0                  0.0       1.0   \n",
      "22872            0.0            0.0                  0.0       0.0   \n",
      "13206            1.0            1.0                  1.0       1.0   \n",
      "...              ...            ...                  ...       ...   \n",
      "21575            2.0            2.0                  2.0       2.0   \n",
      "5390             0.0            0.0                  0.0       0.0   \n",
      "860              0.0            0.0                  0.0       0.0   \n",
      "15795            0.0            0.0                  0.0       0.0   \n",
      "23654            1.0            1.0                  1.0       1.0   \n",
      "\n",
      "       NEURAL_NETWORK  \n",
      "16726             0.0  \n",
      "20682             0.0  \n",
      "12217             0.0  \n",
      "22872             0.0  \n",
      "13206             0.0  \n",
      "...               ...  \n",
      "21575             0.0  \n",
      "5390              0.0  \n",
      "860               0.0  \n",
      "15795             0.0  \n",
      "23654             0.0  \n",
      "\n",
      "[17673 rows x 5 columns]\n"
     ]
    },
    {
     "data": {
      "text/plain": [
       "0.9168316831683169"
      ]
     },
     "execution_count": 54,
     "metadata": {},
     "output_type": "execute_result"
    }
   ],
   "source": [
    "model = KNeighborsClassifier(n_neighbors=1000, leaf_size=30, p=2)\n",
    "\n",
    "fusion(model, real_return_bagging, X_dataset_real_return, y_dataset_real_return)"
   ]
  },
  {
   "attachments": {},
   "cell_type": "markdown",
   "metadata": {},
   "source": [
    "Risk"
   ]
  },
  {
   "cell_type": "code",
   "execution_count": 55,
   "metadata": {},
   "outputs": [
    {
     "name": "stdout",
     "output_type": "stream",
     "text": [
      "       RANDOM_FOREST  DECISION_TREE  NEURAL_NETWORK  XG_BOOST\n",
      "16726            1.0            1.0             0.0       1.0\n",
      "20682            0.0            0.0             0.0       0.0\n",
      "12217            1.0            1.0             1.0       1.0\n",
      "22872            0.0            0.0             1.0       0.0\n",
      "13206            0.0            0.0             0.0       0.0\n",
      "...              ...            ...             ...       ...\n",
      "21575            2.0            2.0             1.0       2.0\n",
      "5390             2.0            1.0             1.0       0.0\n",
      "860              0.0            0.0             0.0       0.0\n",
      "15795            0.0            0.0             0.0       0.0\n",
      "23654            2.0            0.0             2.0       2.0\n",
      "\n",
      "[17673 rows x 4 columns]\n"
     ]
    },
    {
     "data": {
      "text/plain": [
       "0.7755775577557755"
      ]
     },
     "execution_count": 55,
     "metadata": {},
     "output_type": "execute_result"
    }
   ],
   "source": [
    "fusion(model, risk_bagging, X_dataset_risk, y_dataset_risk)"
   ]
  },
  {
   "attachments": {},
   "cell_type": "markdown",
   "metadata": {},
   "source": [
    "##### AdaBoost"
   ]
  },
  {
   "attachments": {},
   "cell_type": "markdown",
   "metadata": {},
   "source": [
    "Real Return"
   ]
  },
  {
   "cell_type": "code",
   "execution_count": 56,
   "metadata": {},
   "outputs": [
    {
     "name": "stdout",
     "output_type": "stream",
     "text": [
      "       RANDOM_FOREST  DECISION_TREE  LOGISTIC_REGRESSION  XG_BOOST\n",
      "16726            0.0            0.0                  0.0       0.0\n",
      "20682            0.0            0.0                  0.0       0.0\n",
      "12217            1.0            0.0                  0.0       0.0\n",
      "22872            0.0            0.0                  0.0       0.0\n",
      "13206            1.0            1.0                  1.0       0.0\n",
      "...              ...            ...                  ...       ...\n",
      "21575            2.0            2.0                  1.0       0.0\n",
      "5390             1.0            0.0                  0.0       0.0\n",
      "860              0.0            0.0                  0.0       0.0\n",
      "15795            0.0            0.0                  0.0       0.0\n",
      "23654            1.0            2.0                  1.0       0.0\n",
      "\n",
      "[17673 rows x 4 columns]\n"
     ]
    },
    {
     "data": {
      "text/plain": [
       "0.9192079207920792"
      ]
     },
     "execution_count": 56,
     "metadata": {},
     "output_type": "execute_result"
    }
   ],
   "source": [
    "model = KNeighborsClassifier(n_neighbors=1000, leaf_size=30, p=2)\n",
    "\n",
    "fusion(model, real_return_adaboost, X_dataset_real_return, y_dataset_real_return)"
   ]
  },
  {
   "attachments": {},
   "cell_type": "markdown",
   "metadata": {},
   "source": [
    "Risk"
   ]
  },
  {
   "cell_type": "code",
   "execution_count": 57,
   "metadata": {},
   "outputs": [
    {
     "name": "stdout",
     "output_type": "stream",
     "text": [
      "       RANDOM_FOREST  DECISION_TREE  XG_BOOST\n",
      "16726            1.0            1.0       0.0\n",
      "20682            0.0            0.0       0.0\n",
      "12217            1.0            1.0       0.0\n",
      "22872            0.0            1.0       0.0\n",
      "13206            0.0            0.0       0.0\n",
      "...              ...            ...       ...\n",
      "21575            2.0            2.0       0.0\n",
      "5390             2.0            1.0       0.0\n",
      "860              0.0            2.0       0.0\n",
      "15795            0.0            0.0       0.0\n",
      "23654            2.0            2.0       0.0\n",
      "\n",
      "[17673 rows x 3 columns]\n"
     ]
    },
    {
     "data": {
      "text/plain": [
       "0.8277227722772277"
      ]
     },
     "execution_count": 57,
     "metadata": {},
     "output_type": "execute_result"
    }
   ],
   "source": [
    "fusion(model, risk_adaboost, X_dataset_risk, y_dataset_risk)"
   ]
  }
 ],
 "metadata": {
  "kernelspec": {
   "display_name": "env",
   "language": "python",
   "name": "python3"
  },
  "language_info": {
   "codemirror_mode": {
    "name": "ipython",
    "version": 3
   },
   "file_extension": ".py",
   "mimetype": "text/x-python",
   "name": "python",
   "nbconvert_exporter": "python",
   "pygments_lexer": "ipython3",
   "version": "3.10.5"
  },
  "orig_nbformat": 4,
  "vscode": {
   "interpreter": {
    "hash": "cc8a3245a31a46333b724f0fa902266a4a2d307e3e7797c60732a355503841f0"
   }
  }
 },
 "nbformat": 4,
 "nbformat_minor": 2
}

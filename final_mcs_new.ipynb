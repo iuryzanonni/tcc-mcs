{
 "cells": [
  {
   "attachments": {},
   "cell_type": "markdown",
   "metadata": {},
   "source": [
    "# Multiple Classifiers Ensemble System (MCS)"
   ]
  },
  {
   "attachments": {},
   "cell_type": "markdown",
   "metadata": {},
   "source": [
    "#### Iury Zanonni de Faria"
   ]
  },
  {
   "attachments": {},
   "cell_type": "markdown",
   "metadata": {},
   "source": [
    "### Imports"
   ]
  },
  {
   "attachments": {},
   "cell_type": "markdown",
   "metadata": {},
   "source": [
    "#### General imports"
   ]
  },
  {
   "cell_type": "code",
   "execution_count": 1,
   "metadata": {},
   "outputs": [],
   "source": [
    "import pandas as pd\n",
    "import numpy as np\n",
    "import datetime as dt\n",
    "import statistics as st\n",
    "import matplotlib.pyplot as plt\n",
    "import warnings"
   ]
  },
  {
   "attachments": {},
   "cell_type": "markdown",
   "metadata": {},
   "source": [
    "#### Feature Selection imports"
   ]
  },
  {
   "cell_type": "code",
   "execution_count": 2,
   "metadata": {},
   "outputs": [],
   "source": [
    "from sklearn.feature_selection import mutual_info_classif"
   ]
  },
  {
   "attachments": {},
   "cell_type": "markdown",
   "metadata": {},
   "source": [
    "#### Diversity imports"
   ]
  },
  {
   "cell_type": "code",
   "execution_count": 3,
   "metadata": {},
   "outputs": [],
   "source": [
    "from sklearn.model_selection import KFold\n",
    "from sklearn.ensemble import BaggingClassifier\n",
    "from sklearn.ensemble import AdaBoostClassifier\n",
    "from sklearn.ensemble import GradientBoostingClassifier\n",
    "from sklearn.model_selection import cross_val_score"
   ]
  },
  {
   "attachments": {},
   "cell_type": "markdown",
   "metadata": {},
   "source": [
    "#### Classifiers imports"
   ]
  },
  {
   "cell_type": "code",
   "execution_count": 4,
   "metadata": {},
   "outputs": [],
   "source": [
    "import xgboost\n",
    "from sklearn.ensemble import RandomForestClassifier\n",
    "from sklearn.svm import SVC\n",
    "from sklearn.tree import DecisionTreeClassifier\n",
    "from sklearn.naive_bayes import BernoulliNB\n",
    "from sklearn.naive_bayes import GaussianNB\n",
    "from sklearn.neural_network import MLPClassifier\n",
    "from sklearn.linear_model import LogisticRegression\n",
    "from sklearn.neighbors import KNeighborsClassifier\n"
   ]
  },
  {
   "attachments": {},
   "cell_type": "markdown",
   "metadata": {},
   "source": [
    "#### k-mean"
   ]
  },
  {
   "cell_type": "code",
   "execution_count": 5,
   "metadata": {},
   "outputs": [],
   "source": [
    "from sklearn.metrics import silhouette_score, silhouette_samples\n",
    "from sklearn.cluster import KMeans"
   ]
  },
  {
   "attachments": {},
   "cell_type": "markdown",
   "metadata": {},
   "source": [
    "#### Metrics"
   ]
  },
  {
   "cell_type": "code",
   "execution_count": 6,
   "metadata": {},
   "outputs": [],
   "source": [
    "from sklearn.metrics import precision_score"
   ]
  },
  {
   "cell_type": "code",
   "execution_count": 7,
   "metadata": {},
   "outputs": [],
   "source": [
    "from sklearn.model_selection import train_test_split"
   ]
  },
  {
   "attachments": {},
   "cell_type": "markdown",
   "metadata": {},
   "source": [
    "### Settings"
   ]
  },
  {
   "cell_type": "code",
   "execution_count": 8,
   "metadata": {},
   "outputs": [],
   "source": [
    "DATA = ['Unnamed: 0', 'revenue','cost-goods-sold','gross-profit','research-development-expenses','selling-general-administrative-expenses','operating-expenses',\n",
    "'operating-income','total-non-operating-income-expense','pre-tax-income','total-provision-income-taxes','income-after-taxes','income-from-continuous-operations',\n",
    "'income-from-discontinued-operations','net-income','ebitda','ebit','basic-shares-outstanding','shares-outstanding','eps-basic-net-earnings-per-share',\n",
    "'eps-earnings-per-share-diluted','cash-on-hand','receivables-total','inventory','other-current-assets','total-current-assets','net-property-plant-equipment',\n",
    "'long-term-investments','goodwill-intangible-assets-total','other-long-term-assets','total-long-term-assets','total-assets','total-current-liabilities','long-term-debt',\n",
    "'other-non-current-liabilities','total-long-term-liabilities','total-liabilities','common-stock-net','retained-earnings-accumulated-deficit','comprehensive-income',\n",
    "'total-share-holder-equity','total-liabilities-share-holders-equity','net-income-loss','total-depreciation-amortization-cash-flow','other-non-cash-items','total-non-cash-items',\n",
    "'change-in-accounts-receivable','change-in-inventories','change-in-accounts-payable','change-in-assets-liabilities','total-change-in-assets-liabilities',\n",
    "'cash-flow-from-operating-activities','net-change-in-property-plant-equipment','net-change-in-intangible-assets','net-acquisitions-divestitures','investing-activities-other',\n",
    "'cash-flow-from-investing-activities','net-long-term-debt','net-current-debt','debt-issuance-retirement-net-total','net-common-equity-issued-repurchased',\n",
    "'net-total-equity-issued-repurchased','total-common-preferred-stock-dividends-paid','financial-activities-other','cash-flow-from-financial-activities',\n",
    "'net-cash-flow','stock-based-compensation','common-stock-dividends-paid','current-ratio','long-term-debt-capital','debt-equity-ratio','gross-margin',\n",
    "'operating-margin','ebit-margin','pre-tax-profit-margin','net-profit-margin','asset-turnover','inventory-turnover','receiveable-turnover','days-sales-in-receivables',\n",
    "'roe','return-on-tangible-equity','roa','roi','book-value-per-share','operating-cash-flow-per-share','free-cash-flow-per-share','net-change-in-short-term-investments',\n",
    "'net-change-in-long-term-investments','net-change-in-investments-total','other-operating-income-expenses','pre-paid-expenses','other-share-holders-equity','other-income',\n",
    "'ebitda-margin']\n",
    "\n",
    "REAL_RETURN_CLASS = \"RealReturnClass\"\n",
    "REAL_RETURN = \"RealReturn\"\n",
    "RISK_CLASS = 'RiskClass'\n",
    "RISK = \"Risk\"\n",
    "\n",
    "HIGH = 'high'\n",
    "MEDIUM = 'medium'\n",
    "LOW = 'low'\n",
    "\n",
    "DATE = 'Unnamed: 0'\n",
    "\n",
    "N_PERIODS = 2\n",
    "N_FEATURES = 80\n",
    "\n",
    "DATASET_PATH = 'new_dataset/process_final_{}.csv'.format(N_PERIODS)\n",
    "\n",
    "MUTUAL_INFORMATION = \"MUTUAL_INFORMATION\"\n",
    "\n",
    "SPEARMAN = \"SPEARMAN\"\n",
    "\n",
    "ONE_R = \"ONE_R\"\n",
    "\n",
    "FEATURE_SELECTION = ONE_R\n",
    "\n",
    "#Remove os warnings do notebook\n",
    "warnings.filterwarnings('ignore')"
   ]
  },
  {
   "cell_type": "code",
   "execution_count": 9,
   "metadata": {},
   "outputs": [],
   "source": [
    "file = open(f'files/{FEATURE_SELECTION}_{N_FEATURES}.txt', 'w+')"
   ]
  },
  {
   "attachments": {},
   "cell_type": "markdown",
   "metadata": {},
   "source": [
    "### Import dataset"
   ]
  },
  {
   "cell_type": "code",
   "execution_count": 10,
   "metadata": {},
   "outputs": [],
   "source": [
    "dataset = pd.read_csv(DATASET_PATH)"
   ]
  },
  {
   "attachments": {},
   "cell_type": "markdown",
   "metadata": {},
   "source": [
    "### Data Frequency"
   ]
  },
  {
   "cell_type": "code",
   "execution_count": 11,
   "metadata": {},
   "outputs": [
    {
     "data": {
      "image/png": "[encoded data removed]",
      "text/plain": [
       "<Figure size 1500x500 with 2 Axes>"
      ]
     },
     "metadata": {},
     "output_type": "display_data"
    }
   ],
   "source": [
    "def plotResults(dataset:pd.DataFrame, title_1:str, title_2:str):\n",
    "  fig, axes = plt.subplots(nrows=1, ncols=2)\n",
    "  fig.set_figwidth(15)\n",
    "  fig.set_figheight(5)\n",
    "\n",
    "  x = dataset[REAL_RETURN_CLASS].value_counts()\n",
    "  x.plot.bar(ax=axes[0])\n",
    "  axes[0].set_title(title_1)\n",
    "\n",
    "  x = dataset[RISK_CLASS].value_counts()\n",
    "  x.plot.bar(ax=axes[1])\n",
    "  axes[1].set_title(title_2)\n",
    "\n",
    "plotResults(dataset, \"Real Return\", \"Risk\")"
   ]
  },
  {
   "cell_type": "code",
   "execution_count": 12,
   "metadata": {},
   "outputs": [],
   "source": [
    "dataset = dataset.replace(to_replace=[HIGH], value=2.0)\n",
    "dataset = dataset.replace(to_replace=[MEDIUM], value=1.0)\n",
    "dataset = dataset.replace(to_replace=[LOW], value=0.0)\n",
    "\n",
    "dataset = dataset.replace(to_replace=[np.NaN], value=0.0)\n",
    "\n",
    "dataset_X = dataset.drop(columns=[REAL_RETURN_CLASS, REAL_RETURN, RISK_CLASS, RISK, DATE])\n",
    "dataset_y = dataset.drop(columns=DATA)"
   ]
  },
  {
   "attachments": {},
   "cell_type": "markdown",
   "metadata": {},
   "source": [
    "### Feature Selection"
   ]
  },
  {
   "cell_type": "code",
   "execution_count": 13,
   "metadata": {},
   "outputs": [
    {
     "data": {
      "text/plain": [
       "1"
      ]
     },
     "execution_count": 13,
     "metadata": {},
     "output_type": "execute_result"
    }
   ],
   "source": [
    "file.write(\"######## FEATURES ########\")\n",
    "file.write(\"\\n\")"
   ]
  },
  {
   "cell_type": "code",
   "execution_count": 14,
   "metadata": {},
   "outputs": [
    {
     "data": {
      "text/plain": [
       "35"
      ]
     },
     "execution_count": 14,
     "metadata": {},
     "output_type": "execute_result"
    }
   ],
   "source": [
    "run_start_date = dt.datetime.now()\n",
    "file.write(f\"\\nSTART: {run_start_date}\\n\")"
   ]
  },
  {
   "cell_type": "code",
   "execution_count": 15,
   "metadata": {},
   "outputs": [],
   "source": [
    "def readFeatures(typeFeature, typeClass, num):\n",
    "\tfile = open(f'./feature_selection/files/{typeFeature}_{typeClass}.txt', 'r')\n",
    "\tresult = []\n",
    "\t\n",
    "\tfor feature in file:\n",
    "\t\tresult.append(eval(str(feature)))\n",
    "\t    \n",
    "\tfile.close()\n",
    "    \n",
    "\treturn result[:num]"
   ]
  },
  {
   "attachments": {},
   "cell_type": "markdown",
   "metadata": {},
   "source": [
    "#### Real Return"
   ]
  },
  {
   "cell_type": "code",
   "execution_count": 16,
   "metadata": {},
   "outputs": [],
   "source": [
    "final_ranking_real_return = readFeatures(FEATURE_SELECTION, REAL_RETURN, N_FEATURES)"
   ]
  },
  {
   "attachments": {},
   "cell_type": "markdown",
   "metadata": {},
   "source": [
    "#### Risk"
   ]
  },
  {
   "cell_type": "code",
   "execution_count": 17,
   "metadata": {},
   "outputs": [],
   "source": [
    "final_ranking_risk  = readFeatures(FEATURE_SELECTION, RISK, N_FEATURES)"
   ]
  },
  {
   "cell_type": "code",
   "execution_count": 18,
   "metadata": {},
   "outputs": [],
   "source": [
    "def getColumnsRank(rank: list):\n",
    "  ranking = []\n",
    "  for column in rank:\n",
    "    ranking.append(column[0])\n",
    "    \n",
    "  return ranking"
   ]
  },
  {
   "cell_type": "code",
   "execution_count": 19,
   "metadata": {},
   "outputs": [],
   "source": [
    "features_real_return = getColumnsRank(final_ranking_real_return)[:N_FEATURES]\n",
    "features_risk = getColumnsRank(final_ranking_risk)[:N_FEATURES]"
   ]
  },
  {
   "cell_type": "code",
   "execution_count": 20,
   "metadata": {},
   "outputs": [
    {
     "data": {
      "text/plain": [
       "2078"
      ]
     },
     "execution_count": 20,
     "metadata": {},
     "output_type": "execute_result"
    }
   ],
   "source": [
    "file.write(\"REAL RETURN\\n\")\n",
    "file.write(str(features_real_return))\n",
    "file.write(\"\\nRISK\\n\")\n",
    "file.write(str(features_risk))\n"
   ]
  },
  {
   "attachments": {},
   "cell_type": "markdown",
   "metadata": {},
   "source": [
    "### SSCA"
   ]
  },
  {
   "attachments": {},
   "cell_type": "markdown",
   "metadata": {},
   "source": [
    "O cálculo será feito com o número total de features ou somente com as 15 mais bem ranqueadas?"
   ]
  },
  {
   "cell_type": "code",
   "execution_count": 21,
   "metadata": {},
   "outputs": [
    {
     "data": {
      "text/html": [
       "<div>\n",
       "<style scoped>\n",
       "    .dataframe tbody tr th:only-of-type {\n",
       "        vertical-align: middle;\n",
       "    }\n",
       "\n",
       "    .dataframe tbody tr th {\n",
       "        vertical-align: top;\n",
       "    }\n",
       "\n",
       "    .dataframe thead th {\n",
       "        text-align: right;\n",
       "    }\n",
       "</style>\n",
       "<table border=\"1\" class=\"dataframe\">\n",
       "  <thead>\n",
       "    <tr style=\"text-align: right;\">\n",
       "      <th></th>\n",
       "      <th>roi</th>\n",
       "      <th>roa</th>\n",
       "      <th>roe</th>\n",
       "      <th>return-on-tangible-equity</th>\n",
       "      <th>common-stock-net</th>\n",
       "      <th>asset-turnover</th>\n",
       "      <th>eps-earnings-per-share-diluted</th>\n",
       "      <th>eps-basic-net-earnings-per-share</th>\n",
       "      <th>long-term-debt</th>\n",
       "      <th>net-income</th>\n",
       "      <th>...</th>\n",
       "      <th>cash-flow-from-financial-activities</th>\n",
       "      <th>cost-goods-sold</th>\n",
       "      <th>revenue</th>\n",
       "      <th>change-in-accounts-payable</th>\n",
       "      <th>gross-profit</th>\n",
       "      <th>pre-paid-expenses</th>\n",
       "      <th>cash-flow-from-investing-activities</th>\n",
       "      <th>cash-on-hand</th>\n",
       "      <th>net-change-in-investments-total</th>\n",
       "      <th>cash-flow-from-operating-activities</th>\n",
       "    </tr>\n",
       "  </thead>\n",
       "  <tbody>\n",
       "    <tr>\n",
       "      <th>0</th>\n",
       "      <td>12.7232</td>\n",
       "      <td>5.7810</td>\n",
       "      <td>33.4590</td>\n",
       "      <td>33.4590</td>\n",
       "      <td>62115.0</td>\n",
       "      <td>0.2467</td>\n",
       "      <td>1.20</td>\n",
       "      <td>1.20</td>\n",
       "      <td>94700.0</td>\n",
       "      <td>19442.0</td>\n",
       "      <td>...</td>\n",
       "      <td>-27445.0</td>\n",
       "      <td>47074.0</td>\n",
       "      <td>82959.0</td>\n",
       "      <td>-4358.0</td>\n",
       "      <td>35885.0</td>\n",
       "      <td>0.0</td>\n",
       "      <td>4234.0</td>\n",
       "      <td>48231.0</td>\n",
       "      <td>6953.0</td>\n",
       "      <td>22892.0</td>\n",
       "    </tr>\n",
       "    <tr>\n",
       "      <th>1</th>\n",
       "      <td>14.6496</td>\n",
       "      <td>7.1322</td>\n",
       "      <td>37.1074</td>\n",
       "      <td>37.1074</td>\n",
       "      <td>61181.0</td>\n",
       "      <td>0.2774</td>\n",
       "      <td>1.52</td>\n",
       "      <td>1.54</td>\n",
       "      <td>103323.0</td>\n",
       "      <td>25010.0</td>\n",
       "      <td>...</td>\n",
       "      <td>-28351.0</td>\n",
       "      <td>54719.0</td>\n",
       "      <td>97278.0</td>\n",
       "      <td>-21563.0</td>\n",
       "      <td>42559.0</td>\n",
       "      <td>0.0</td>\n",
       "      <td>-9265.0</td>\n",
       "      <td>51511.0</td>\n",
       "      <td>-6390.0</td>\n",
       "      <td>28166.0</td>\n",
       "    </tr>\n",
       "    <tr>\n",
       "      <th>2</th>\n",
       "      <td>19.3939</td>\n",
       "      <td>9.0847</td>\n",
       "      <td>48.1427</td>\n",
       "      <td>48.1427</td>\n",
       "      <td>58424.0</td>\n",
       "      <td>0.3252</td>\n",
       "      <td>2.10</td>\n",
       "      <td>2.11</td>\n",
       "      <td>106629.0</td>\n",
       "      <td>34630.0</td>\n",
       "      <td>...</td>\n",
       "      <td>-28159.0</td>\n",
       "      <td>69702.0</td>\n",
       "      <td>123945.0</td>\n",
       "      <td>19813.0</td>\n",
       "      <td>54243.0</td>\n",
       "      <td>0.0</td>\n",
       "      <td>-16106.0</td>\n",
       "      <td>63913.0</td>\n",
       "      <td>-12929.0</td>\n",
       "      <td>46966.0</td>\n",
       "    </tr>\n",
       "    <tr>\n",
       "      <th>3</th>\n",
       "      <td>11.9347</td>\n",
       "      <td>5.8550</td>\n",
       "      <td>32.5741</td>\n",
       "      <td>32.5741</td>\n",
       "      <td>57365.0</td>\n",
       "      <td>0.2375</td>\n",
       "      <td>1.23</td>\n",
       "      <td>1.25</td>\n",
       "      <td>109106.0</td>\n",
       "      <td>20551.0</td>\n",
       "      <td>...</td>\n",
       "      <td>-20382.0</td>\n",
       "      <td>48186.0</td>\n",
       "      <td>83360.0</td>\n",
       "      <td>14112.0</td>\n",
       "      <td>35174.0</td>\n",
       "      <td>0.0</td>\n",
       "      <td>835.0</td>\n",
       "      <td>62639.0</td>\n",
       "      <td>4352.0</td>\n",
       "      <td>20200.0</td>\n",
       "    </tr>\n",
       "    <tr>\n",
       "      <th>4</th>\n",
       "      <td>12.7882</td>\n",
       "      <td>6.5923</td>\n",
       "      <td>33.8270</td>\n",
       "      <td>33.8270</td>\n",
       "      <td>54989.0</td>\n",
       "      <td>0.2469</td>\n",
       "      <td>1.30</td>\n",
       "      <td>1.31</td>\n",
       "      <td>105752.0</td>\n",
       "      <td>21744.0</td>\n",
       "      <td>...</td>\n",
       "      <td>-29396.0</td>\n",
       "      <td>46179.0</td>\n",
       "      <td>81434.0</td>\n",
       "      <td>211.0</td>\n",
       "      <td>35255.0</td>\n",
       "      <td>0.0</td>\n",
       "      <td>3572.0</td>\n",
       "      <td>61696.0</td>\n",
       "      <td>5747.0</td>\n",
       "      <td>21094.0</td>\n",
       "    </tr>\n",
       "    <tr>\n",
       "      <th>...</th>\n",
       "      <td>...</td>\n",
       "      <td>...</td>\n",
       "      <td>...</td>\n",
       "      <td>...</td>\n",
       "      <td>...</td>\n",
       "      <td>...</td>\n",
       "      <td>...</td>\n",
       "      <td>...</td>\n",
       "      <td>...</td>\n",
       "      <td>...</td>\n",
       "      <td>...</td>\n",
       "      <td>...</td>\n",
       "      <td>...</td>\n",
       "      <td>...</td>\n",
       "      <td>...</td>\n",
       "      <td>...</td>\n",
       "      <td>...</td>\n",
       "      <td>...</td>\n",
       "      <td>...</td>\n",
       "      <td>...</td>\n",
       "      <td>...</td>\n",
       "    </tr>\n",
       "    <tr>\n",
       "      <th>25300</th>\n",
       "      <td>-8.8532</td>\n",
       "      <td>-7.1853</td>\n",
       "      <td>-8.8672</td>\n",
       "      <td>-14.4380</td>\n",
       "      <td>6.0</td>\n",
       "      <td>0.1443</td>\n",
       "      <td>-1.94</td>\n",
       "      <td>-1.94</td>\n",
       "      <td>0.0</td>\n",
       "      <td>-1124.0</td>\n",
       "      <td>...</td>\n",
       "      <td>823.0</td>\n",
       "      <td>1380.0</td>\n",
       "      <td>2257.0</td>\n",
       "      <td>0.0</td>\n",
       "      <td>877.0</td>\n",
       "      <td>0.0</td>\n",
       "      <td>18.0</td>\n",
       "      <td>2381.0</td>\n",
       "      <td>-2.0</td>\n",
       "      <td>81.0</td>\n",
       "    </tr>\n",
       "    <tr>\n",
       "      <th>25301</th>\n",
       "      <td>7.9541</td>\n",
       "      <td>5.9440</td>\n",
       "      <td>-7.3620</td>\n",
       "      <td>-7.1510</td>\n",
       "      <td>0.6</td>\n",
       "      <td>0.2773</td>\n",
       "      <td>1.07</td>\n",
       "      <td>1.08</td>\n",
       "      <td>1632.1</td>\n",
       "      <td>62.4</td>\n",
       "      <td>...</td>\n",
       "      <td>3.3</td>\n",
       "      <td>88.2</td>\n",
       "      <td>291.1</td>\n",
       "      <td>44.3</td>\n",
       "      <td>202.9</td>\n",
       "      <td>38.8</td>\n",
       "      <td>-5.3</td>\n",
       "      <td>292.3</td>\n",
       "      <td>0.0</td>\n",
       "      <td>32.8</td>\n",
       "    </tr>\n",
       "    <tr>\n",
       "      <th>25302</th>\n",
       "      <td>12.5711</td>\n",
       "      <td>9.5501</td>\n",
       "      <td>-8.2274</td>\n",
       "      <td>-7.9425</td>\n",
       "      <td>0.0</td>\n",
       "      <td>0.3293</td>\n",
       "      <td>1.38</td>\n",
       "      <td>1.38</td>\n",
       "      <td>1600.7</td>\n",
       "      <td>79.6</td>\n",
       "      <td>...</td>\n",
       "      <td>90.3</td>\n",
       "      <td>83.3</td>\n",
       "      <td>274.5</td>\n",
       "      <td>-6.8</td>\n",
       "      <td>191.2</td>\n",
       "      <td>24.6</td>\n",
       "      <td>-5.8</td>\n",
       "      <td>264.3</td>\n",
       "      <td>0.0</td>\n",
       "      <td>182.6</td>\n",
       "    </tr>\n",
       "    <tr>\n",
       "      <th>25303</th>\n",
       "      <td>17.9473</td>\n",
       "      <td>13.3532</td>\n",
       "      <td>17.9473</td>\n",
       "      <td>19.1251</td>\n",
       "      <td>0.0</td>\n",
       "      <td>0.3910</td>\n",
       "      <td>0.00</td>\n",
       "      <td>0.00</td>\n",
       "      <td>0.0</td>\n",
       "      <td>98.8</td>\n",
       "      <td>...</td>\n",
       "      <td>-134.5</td>\n",
       "      <td>85.4</td>\n",
       "      <td>289.3</td>\n",
       "      <td>3.9</td>\n",
       "      <td>203.9</td>\n",
       "      <td>20.9</td>\n",
       "      <td>-4.3</td>\n",
       "      <td>0.0</td>\n",
       "      <td>0.0</td>\n",
       "      <td>138.8</td>\n",
       "    </tr>\n",
       "    <tr>\n",
       "      <th>25304</th>\n",
       "      <td>16.3049</td>\n",
       "      <td>12.2970</td>\n",
       "      <td>16.3049</td>\n",
       "      <td>17.2912</td>\n",
       "      <td>0.0</td>\n",
       "      <td>0.3817</td>\n",
       "      <td>3.60</td>\n",
       "      <td>3.60</td>\n",
       "      <td>0.0</td>\n",
       "      <td>96.9</td>\n",
       "      <td>...</td>\n",
       "      <td>-72.2</td>\n",
       "      <td>90.6</td>\n",
       "      <td>300.8</td>\n",
       "      <td>39.1</td>\n",
       "      <td>210.2</td>\n",
       "      <td>23.2</td>\n",
       "      <td>-13.3</td>\n",
       "      <td>0.0</td>\n",
       "      <td>0.0</td>\n",
       "      <td>85.5</td>\n",
       "    </tr>\n",
       "  </tbody>\n",
       "</table>\n",
       "<p>25305 rows × 80 columns</p>\n",
       "</div>"
      ],
      "text/plain": [
       "           roi      roa      roe  return-on-tangible-equity  common-stock-net  \\\n",
       "0      12.7232   5.7810  33.4590                    33.4590           62115.0   \n",
       "1      14.6496   7.1322  37.1074                    37.1074           61181.0   \n",
       "2      19.3939   9.0847  48.1427                    48.1427           58424.0   \n",
       "3      11.9347   5.8550  32.5741                    32.5741           57365.0   \n",
       "4      12.7882   6.5923  33.8270                    33.8270           54989.0   \n",
       "...        ...      ...      ...                        ...               ...   \n",
       "25300  -8.8532  -7.1853  -8.8672                   -14.4380               6.0   \n",
       "25301   7.9541   5.9440  -7.3620                    -7.1510               0.6   \n",
       "25302  12.5711   9.5501  -8.2274                    -7.9425               0.0   \n",
       "25303  17.9473  13.3532  17.9473                    19.1251               0.0   \n",
       "25304  16.3049  12.2970  16.3049                    17.2912               0.0   \n",
       "\n",
       "       asset-turnover  eps-earnings-per-share-diluted  \\\n",
       "0              0.2467                            1.20   \n",
       "1              0.2774                            1.52   \n",
       "2              0.3252                            2.10   \n",
       "3              0.2375                            1.23   \n",
       "4              0.2469                            1.30   \n",
       "...               ...                             ...   \n",
       "25300          0.1443                           -1.94   \n",
       "25301          0.2773                            1.07   \n",
       "25302          0.3293                            1.38   \n",
       "25303          0.3910                            0.00   \n",
       "25304          0.3817                            3.60   \n",
       "\n",
       "       eps-basic-net-earnings-per-share  long-term-debt  net-income  ...  \\\n",
       "0                                  1.20         94700.0     19442.0  ...   \n",
       "1                                  1.54        103323.0     25010.0  ...   \n",
       "2                                  2.11        106629.0     34630.0  ...   \n",
       "3                                  1.25        109106.0     20551.0  ...   \n",
       "4                                  1.31        105752.0     21744.0  ...   \n",
       "...                                 ...             ...         ...  ...   \n",
       "25300                             -1.94             0.0     -1124.0  ...   \n",
       "25301                              1.08          1632.1        62.4  ...   \n",
       "25302                              1.38          1600.7        79.6  ...   \n",
       "25303                              0.00             0.0        98.8  ...   \n",
       "25304                              3.60             0.0        96.9  ...   \n",
       "\n",
       "       cash-flow-from-financial-activities  cost-goods-sold   revenue  \\\n",
       "0                                 -27445.0          47074.0   82959.0   \n",
       "1                                 -28351.0          54719.0   97278.0   \n",
       "2                                 -28159.0          69702.0  123945.0   \n",
       "3                                 -20382.0          48186.0   83360.0   \n",
       "4                                 -29396.0          46179.0   81434.0   \n",
       "...                                    ...              ...       ...   \n",
       "25300                                823.0           1380.0    2257.0   \n",
       "25301                                  3.3             88.2     291.1   \n",
       "25302                                 90.3             83.3     274.5   \n",
       "25303                               -134.5             85.4     289.3   \n",
       "25304                                -72.2             90.6     300.8   \n",
       "\n",
       "       change-in-accounts-payable  gross-profit  pre-paid-expenses  \\\n",
       "0                         -4358.0       35885.0                0.0   \n",
       "1                        -21563.0       42559.0                0.0   \n",
       "2                         19813.0       54243.0                0.0   \n",
       "3                         14112.0       35174.0                0.0   \n",
       "4                           211.0       35255.0                0.0   \n",
       "...                           ...           ...                ...   \n",
       "25300                         0.0         877.0                0.0   \n",
       "25301                        44.3         202.9               38.8   \n",
       "25302                        -6.8         191.2               24.6   \n",
       "25303                         3.9         203.9               20.9   \n",
       "25304                        39.1         210.2               23.2   \n",
       "\n",
       "       cash-flow-from-investing-activities  cash-on-hand  \\\n",
       "0                                   4234.0       48231.0   \n",
       "1                                  -9265.0       51511.0   \n",
       "2                                 -16106.0       63913.0   \n",
       "3                                    835.0       62639.0   \n",
       "4                                   3572.0       61696.0   \n",
       "...                                    ...           ...   \n",
       "25300                                 18.0        2381.0   \n",
       "25301                                 -5.3         292.3   \n",
       "25302                                 -5.8         264.3   \n",
       "25303                                 -4.3           0.0   \n",
       "25304                                -13.3           0.0   \n",
       "\n",
       "       net-change-in-investments-total  cash-flow-from-operating-activities  \n",
       "0                               6953.0                              22892.0  \n",
       "1                              -6390.0                              28166.0  \n",
       "2                             -12929.0                              46966.0  \n",
       "3                               4352.0                              20200.0  \n",
       "4                               5747.0                              21094.0  \n",
       "...                                ...                                  ...  \n",
       "25300                             -2.0                                 81.0  \n",
       "25301                              0.0                                 32.8  \n",
       "25302                              0.0                                182.6  \n",
       "25303                              0.0                                138.8  \n",
       "25304                              0.0                                 85.5  \n",
       "\n",
       "[25305 rows x 80 columns]"
      ]
     },
     "execution_count": 21,
     "metadata": {},
     "output_type": "execute_result"
    }
   ],
   "source": [
    "\n",
    "SSCAS = []\n",
    "\n",
    "features_return = getColumnsRank(final_ranking_real_return)[:N_FEATURES]\n",
    "\n",
    "#dataset_X = dataset.drop(columns=[REAL_RETURN_CLASS, REAL_RETURN, RISK_CLASS, RISK, \"Date\", \"Company\"])\n",
    "dataset_X = dataset[features_return]\n",
    "dataset_y = dataset.drop(columns=DATA)\n",
    "\n",
    "dataset_X"
   ]
  },
  {
   "cell_type": "code",
   "execution_count": 22,
   "metadata": {},
   "outputs": [
    {
     "data": {
      "text/plain": [
       "[(2, 0.81), (3, 0.63), (4, 0.49), (5, 0.45), (6, 0.4)]"
      ]
     },
     "execution_count": 22,
     "metadata": {},
     "output_type": "execute_result"
    }
   ],
   "source": [
    "for cluster in range(2, 7):\n",
    "  clusterer = KMeans(n_clusters=cluster, random_state=10)\n",
    "\n",
    "  cluster_labels = clusterer.fit_predict(dataset_X)\n",
    "\n",
    "  silhouette_values = silhouette_samples(dataset_X, cluster_labels)\n",
    "  #silhouette_avg = silhouette_score(dataset_X, cluster_labels)\n",
    "\n",
    "  sum_count = 0\n",
    "  count_2 = 0\n",
    "\n",
    "  #Primeiro somatorio\n",
    "  for k in range(cluster):\n",
    "    count = 0\n",
    "    n_j = 0\n",
    "\n",
    "    #Segundo somatorio\n",
    "    for j in range(len(cluster_labels)):\n",
    "      if cluster_labels[j] == k:\n",
    "        n_j += 1\n",
    "        count += silhouette_values[j]\n",
    "\n",
    "    count_2 = (count/n_j)\n",
    "    sum_count += count_2\n",
    "\n",
    "  SSCA = (sum_count/cluster)\n",
    "  SSCAS.append((cluster, round(SSCA, 2)))\n",
    "\n",
    "SSCAS"
   ]
  },
  {
   "cell_type": "code",
   "execution_count": 23,
   "metadata": {},
   "outputs": [
    {
     "data": {
      "text/plain": [
       "1"
      ]
     },
     "execution_count": 23,
     "metadata": {},
     "output_type": "execute_result"
    }
   ],
   "source": [
    "file.write(\"\\n\\n######## SSCAS ########\\n\\n\")\n",
    "file.write(str(SSCAS))\n",
    "file.write(\"\\n\")"
   ]
  },
  {
   "attachments": {},
   "cell_type": "markdown",
   "metadata": {},
   "source": [
    "### Divisão do dataset"
   ]
  },
  {
   "cell_type": "code",
   "execution_count": 24,
   "metadata": {},
   "outputs": [],
   "source": [
    "columns_dataset = DATA\n",
    "columns_dataset.append(REAL_RETURN)\n",
    "columns_dataset.append(RISK)\n",
    "columns_dataset.append(REAL_RETURN_CLASS)\n",
    "columns_dataset.append(RISK_CLASS)\n",
    "\n",
    "df_train = None\n",
    "df_test = None\n",
    "\n",
    "df_train = pd.DataFrame(columns=columns_dataset)\n",
    "df_test = pd.DataFrame(columns=columns_dataset)\n"
   ]
  },
  {
   "cell_type": "code",
   "execution_count": 25,
   "metadata": {},
   "outputs": [],
   "source": [
    "# TRAINING_START_DATE =  dt.datetime.strptime('2009-03-31', \"%Y-%m-%d\")\n",
    "# TRAINING_END_DATE =  dt.datetime.strptime('2018-03-31', \"%Y-%m-%d\")\n",
    "\n",
    "# TEST_START_DATE =  dt.datetime.strptime('2018-06-30', \"%Y-%m-%d\")\n",
    "# TEST_END_DATE =  dt.datetime.strptime('2022-03-31', \"%Y-%m-%d\")\n",
    "\n",
    "# dataset_sort = dataset.sort_values(by=DATE)\n",
    "# count_train = 0\n",
    "# count_test = 0\n",
    "\n",
    "# for index, row in dataset_sort.iterrows():\n",
    "#   date = dt.datetime.strptime(row[DATE], \"%Y-%m-%d\")\n",
    "#   if date.year < TEST_START_DATE.year:\n",
    "#     df_train = df_train.append(row)\n",
    "#     count_train +=1\n",
    "#   elif date.year == TEST_START_DATE.year and date.month < TEST_START_DATE.month:\n",
    "#     df_train = df_train.append(row)\n",
    "#     count_train +=1\n",
    "#   else:\n",
    "#     df_test = df_test.append(row)\n",
    "#     count_test += 1\n",
    "\n",
    "# print(count_train)\n",
    "# print(count_test)\n",
    "\n",
    "# df_train = df_train.drop(columns=[REAL_RETURN, RISK, DATE])\n",
    "# df_test = df_test.drop(columns=[REAL_RETURN, RISK, DATE])\n",
    "\n",
    "# plotResults(df_train, \"Real Return\", \"Risk\")\n",
    "\n",
    "# plotResults(df_test, \"Real Return\", \"Risk\")\n",
    "\n",
    "# df_train.to_csv('./util/dataset_train.csv')\n",
    "# df_test.to_csv('./util/dataset_test.csv')"
   ]
  },
  {
   "cell_type": "code",
   "execution_count": 26,
   "metadata": {},
   "outputs": [],
   "source": [
    "df_train = pd.read_csv('./util/dataset_train.csv')\n",
    "df_test = pd.read_csv('./util/dataset_test.csv')"
   ]
  },
  {
   "attachments": {},
   "cell_type": "markdown",
   "metadata": {},
   "source": [
    "##### Real Return"
   ]
  },
  {
   "cell_type": "code",
   "execution_count": 27,
   "metadata": {},
   "outputs": [],
   "source": [
    "X_real_return_train = df_train[features_real_return]\n",
    "y_real_return_train = df_train[REAL_RETURN_CLASS]\n",
    "\n",
    "X_real_return_test = df_test[features_real_return]\n",
    "y_real_return_test = df_test[REAL_RETURN_CLASS]"
   ]
  },
  {
   "attachments": {},
   "cell_type": "markdown",
   "metadata": {},
   "source": [
    "##### Risk"
   ]
  },
  {
   "cell_type": "code",
   "execution_count": 28,
   "metadata": {},
   "outputs": [],
   "source": [
    "X_risk_train = df_train[features_risk]\n",
    "y_risk_train = df_train[RISK_CLASS]\n",
    "\n",
    "X_risk_test = df_test[features_risk]\n",
    "y_risk_test = df_test[RISK_CLASS]"
   ]
  },
  {
   "attachments": {},
   "cell_type": "markdown",
   "metadata": {},
   "source": [
    "### Classificadores Únicos"
   ]
  },
  {
   "cell_type": "code",
   "execution_count": 29,
   "metadata": {},
   "outputs": [
    {
     "data": {
      "text/plain": [
       "42"
      ]
     },
     "execution_count": 29,
     "metadata": {},
     "output_type": "execute_result"
    }
   ],
   "source": [
    "file.write(\"\\n######## CLASSIFICADORES UNICOS ########\\n\")"
   ]
  },
  {
   "cell_type": "code",
   "execution_count": 30,
   "metadata": {},
   "outputs": [],
   "source": [
    "classifiers_real_return = {}\n",
    "classifiers_risk = {}"
   ]
  },
  {
   "attachments": {},
   "cell_type": "markdown",
   "metadata": {},
   "source": [
    "#### Random Forest"
   ]
  },
  {
   "attachments": {},
   "cell_type": "markdown",
   "metadata": {},
   "source": [
    "##### Real Return"
   ]
  },
  {
   "cell_type": "code",
   "execution_count": 31,
   "metadata": {},
   "outputs": [
    {
     "data": {
      "text/plain": [
       "0.8409446921315821"
      ]
     },
     "execution_count": 31,
     "metadata": {},
     "output_type": "execute_result"
    }
   ],
   "source": [
    "RANDOM_FOREST = 'RANDOM_FOREST'\n",
    "\n",
    "randon_forest_return = RandomForestClassifier(n_estimators = 840, max_depth = 178, min_samples_split = 4, min_samples_leaf = 6, max_features = 'sqrt')\n",
    "classifiers_real_return[RANDOM_FOREST] = randon_forest_return\n",
    "\n",
    "randon_forest_return.fit(X_real_return_train, y_real_return_train)\n",
    "\n",
    "result_randon_forest_return = randon_forest_return.score(X_real_return_test, y_real_return_test)\n",
    "result_randon_forest_return"
   ]
  },
  {
   "attachments": {},
   "cell_type": "markdown",
   "metadata": {},
   "source": [
    "##### Risk"
   ]
  },
  {
   "cell_type": "code",
   "execution_count": 32,
   "metadata": {},
   "outputs": [
    {
     "data": {
      "text/plain": [
       "0.5277744306542957"
      ]
     },
     "execution_count": 32,
     "metadata": {},
     "output_type": "execute_result"
    }
   ],
   "source": [
    "randon_forest_risk = RandomForestClassifier(n_estimators = 622, max_depth = 70, min_samples_split = 3, min_samples_leaf = 9, max_features = 'log2')\n",
    "\n",
    "classifiers_risk[RANDOM_FOREST] = randon_forest_risk\n",
    "randon_forest_risk.fit(X_risk_train, y_risk_train)\n",
    "\n",
    "result_randon_forest_risk = randon_forest_risk.score(X_risk_test, y_risk_test)\n",
    "result_randon_forest_risk"
   ]
  },
  {
   "cell_type": "code",
   "execution_count": 33,
   "metadata": {},
   "outputs": [
    {
     "data": {
      "text/plain": [
       "54"
      ]
     },
     "execution_count": 33,
     "metadata": {},
     "output_type": "execute_result"
    }
   ],
   "source": [
    "file.write(f\"RANDOM FOREST:({result_randon_forest_return},{result_randon_forest_risk})\\n\")"
   ]
  },
  {
   "attachments": {},
   "cell_type": "markdown",
   "metadata": {},
   "source": [
    "#### SVM"
   ]
  },
  {
   "attachments": {},
   "cell_type": "markdown",
   "metadata": {},
   "source": [
    "##### Real Return"
   ]
  },
  {
   "cell_type": "code",
   "execution_count": 34,
   "metadata": {},
   "outputs": [
    {
     "data": {
      "text/plain": [
       "0.730931437522593"
      ]
     },
     "execution_count": 34,
     "metadata": {},
     "output_type": "execute_result"
    }
   ],
   "source": [
    "SVM = 'SVM'\n",
    "\n",
    "svm_real_return = SVC(kernel = 'rbf', C = 99.94849891435051, class_weight = 'balanced')\n",
    "classifiers_real_return[SVM] = svm_real_return\n",
    "\n",
    "svm_real_return.fit(X_real_return_train, y_real_return_train)\n",
    "\n",
    "result_svm_return = svm_real_return.score(X_real_return_test, y_real_return_test)\n",
    "result_svm_return"
   ]
  },
  {
   "attachments": {},
   "cell_type": "markdown",
   "metadata": {},
   "source": [
    "##### Risk"
   ]
  },
  {
   "cell_type": "code",
   "execution_count": 35,
   "metadata": {},
   "outputs": [
    {
     "data": {
      "text/plain": [
       "0.4417399686709242"
      ]
     },
     "execution_count": 35,
     "metadata": {},
     "output_type": "execute_result"
    }
   ],
   "source": [
    "svm_risk = SVC(kernel = 'rbf', C = 99.89489576327396, class_weight = 'balanced')\n",
    "classifiers_risk[SVM] = svm_risk\n",
    "\n",
    "svm_risk.fit(X_risk_train, y_risk_train)\n",
    "\n",
    "result_svm_risk = svm_risk.score(X_risk_test, y_risk_test)\n",
    "result_svm_risk"
   ]
  },
  {
   "cell_type": "code",
   "execution_count": 36,
   "metadata": {},
   "outputs": [
    {
     "data": {
      "text/plain": [
       "43"
      ]
     },
     "execution_count": 36,
     "metadata": {},
     "output_type": "execute_result"
    }
   ],
   "source": [
    "file.write(f\"SVM:({result_svm_return},{result_svm_risk})\\n\")"
   ]
  },
  {
   "attachments": {},
   "cell_type": "markdown",
   "metadata": {},
   "source": [
    "#### Decision Tree"
   ]
  },
  {
   "attachments": {},
   "cell_type": "markdown",
   "metadata": {},
   "source": [
    "##### Real Return"
   ]
  },
  {
   "cell_type": "code",
   "execution_count": 37,
   "metadata": {},
   "outputs": [
    {
     "data": {
      "text/plain": [
       "0.8338354018556453"
      ]
     },
     "execution_count": 37,
     "metadata": {},
     "output_type": "execute_result"
    }
   ],
   "source": [
    "DECISION_TREE = 'DECISION_TREE'\n",
    "\n",
    "decision_tree_real_return = DecisionTreeClassifier(criterion = 'entropy', splitter = 'best', max_depth = 10, min_samples_split = 1097)\n",
    "classifiers_real_return[DECISION_TREE] = decision_tree_real_return\n",
    "\n",
    "decision_tree_real_return.fit(X_real_return_train, y_real_return_train)\n",
    "\n",
    "result_decision_return = decision_tree_real_return.score(X_real_return_test, y_real_return_test)\n",
    "result_decision_return"
   ]
  },
  {
   "attachments": {},
   "cell_type": "markdown",
   "metadata": {},
   "source": [
    "##### Risk"
   ]
  },
  {
   "cell_type": "code",
   "execution_count": 38,
   "metadata": {},
   "outputs": [
    {
     "data": {
      "text/plain": [
       "0.4741535124713821"
      ]
     },
     "execution_count": 38,
     "metadata": {},
     "output_type": "execute_result"
    }
   ],
   "source": [
    "decision_tree_risk = DecisionTreeClassifier(criterion = 'entropy', splitter = 'best', max_depth = 133, min_samples_split = 919)\n",
    "classifiers_risk[DECISION_TREE] = decision_tree_risk\n",
    "\n",
    "decision_tree_risk.fit(X_risk_train, y_risk_train)\n",
    "\n",
    "result_decision_risk = decision_tree_risk.score(X_risk_test, y_risk_test)\n",
    "result_decision_risk"
   ]
  },
  {
   "cell_type": "code",
   "execution_count": 39,
   "metadata": {},
   "outputs": [
    {
     "data": {
      "text/plain": [
       "54"
      ]
     },
     "execution_count": 39,
     "metadata": {},
     "output_type": "execute_result"
    }
   ],
   "source": [
    "file.write(f\"DECISION TREE:({result_decision_return},{result_decision_risk})\\n\")"
   ]
  },
  {
   "attachments": {},
   "cell_type": "markdown",
   "metadata": {},
   "source": [
    "#### Rede Neural"
   ]
  },
  {
   "attachments": {},
   "cell_type": "markdown",
   "metadata": {},
   "source": [
    "##### Real Return"
   ]
  },
  {
   "cell_type": "code",
   "execution_count": 40,
   "metadata": {},
   "outputs": [
    {
     "data": {
      "text/plain": [
       "0.6712856970719364"
      ]
     },
     "execution_count": 40,
     "metadata": {},
     "output_type": "execute_result"
    }
   ],
   "source": [
    "NEURAL_NETWORK = 'NEURAL_NETWORK'\n",
    "neural_return = MLPClassifier(activation = 'logistic', solver = 'lbfgs', max_iter = 500, hidden_layer_sizes = (300,), learning_rate = 'constant')\n",
    "classifiers_real_return[NEURAL_NETWORK] = neural_return\n",
    "\n",
    "neural_return.fit(X_real_return_train, y_real_return_train)\n",
    "\n",
    "result_neural_return = neural_return.score(X_real_return_test, y_real_return_test)\n",
    "result_neural_return"
   ]
  },
  {
   "attachments": {},
   "cell_type": "markdown",
   "metadata": {},
   "source": [
    "##### Risk"
   ]
  },
  {
   "cell_type": "code",
   "execution_count": 41,
   "metadata": {},
   "outputs": [
    {
     "data": {
      "text/plain": [
       "0.443667911796602"
      ]
     },
     "execution_count": 41,
     "metadata": {},
     "output_type": "execute_result"
    }
   ],
   "source": [
    "neural_risk = MLPClassifier(activation = 'logistic', solver = 'lbfgs', max_iter = 500, hidden_layer_sizes = (300,), learning_rate = 'constant')\n",
    "classifiers_risk[NEURAL_NETWORK] = neural_risk\n",
    "\n",
    "neural_risk.fit(X_risk_train, y_risk_train)\n",
    "\n",
    "result_neural_risk = neural_risk.score(X_risk_test, y_risk_test)\n",
    "result_neural_risk"
   ]
  },
  {
   "cell_type": "code",
   "execution_count": 42,
   "metadata": {},
   "outputs": [
    {
     "data": {
      "text/plain": [
       "55"
      ]
     },
     "execution_count": 42,
     "metadata": {},
     "output_type": "execute_result"
    }
   ],
   "source": [
    "file.write(f\"NEURAL NETWORK:({result_neural_return},{result_decision_risk})\\n\")"
   ]
  },
  {
   "attachments": {},
   "cell_type": "markdown",
   "metadata": {},
   "source": [
    "#### Regressão Logística"
   ]
  },
  {
   "attachments": {},
   "cell_type": "markdown",
   "metadata": {},
   "source": [
    "##### Real Return"
   ]
  },
  {
   "cell_type": "code",
   "execution_count": 43,
   "metadata": {},
   "outputs": [
    {
     "name": "stderr",
     "output_type": "stream",
     "text": [
      "/Users/iuryfaria/Documents/cefet/TCC2/tcc-mcs/env/lib/python3.9/site-packages/sklearn/linear_model/_logistic.py:458: ConvergenceWarning: lbfgs failed to converge (status=1):\n",
      "STOP: TOTAL NO. of f AND g EVALUATIONS EXCEEDS LIMIT.\n",
      "\n",
      "Increase the number of iterations (max_iter) or scale the data as shown in:\n",
      "    https://scikit-learn.org/stable/modules/preprocessing.html\n",
      "Please also refer to the documentation for alternative solver options:\n",
      "    https://scikit-learn.org/stable/modules/linear_model.html#logistic-regression\n",
      "  n_iter_i = _check_optimize_result(\n"
     ]
    },
    {
     "data": {
      "text/plain": [
       "0.8116640559103506"
      ]
     },
     "execution_count": 43,
     "metadata": {},
     "output_type": "execute_result"
    }
   ],
   "source": [
    "LOGISTIC_REGRESSION ='LOGISTIC_REGRESSION'\n",
    "\n",
    "rl_return = LogisticRegression(penalty = 'l2', C = 48.72671442481355, class_weight = 'balanced', solver = 'lbfgs', max_iter = 97847, n_jobs=-1)\n",
    "classifiers_real_return[LOGISTIC_REGRESSION] = rl_return\n",
    "\n",
    "rl_return.fit(X_real_return_train, y_real_return_train)\n",
    "\n",
    "result_rl_return = rl_return.score(X_real_return_test, y_real_return_test)\n",
    "result_rl_return"
   ]
  },
  {
   "attachments": {},
   "cell_type": "markdown",
   "metadata": {},
   "source": [
    "##### Risk"
   ]
  },
  {
   "cell_type": "code",
   "execution_count": 44,
   "metadata": {},
   "outputs": [
    {
     "name": "stderr",
     "output_type": "stream",
     "text": [
      "/Users/iuryfaria/Documents/cefet/TCC2/tcc-mcs/env/lib/python3.9/site-packages/sklearn/linear_model/_logistic.py:458: ConvergenceWarning: lbfgs failed to converge (status=1):\n",
      "STOP: TOTAL NO. of f AND g EVALUATIONS EXCEEDS LIMIT.\n",
      "\n",
      "Increase the number of iterations (max_iter) or scale the data as shown in:\n",
      "    https://scikit-learn.org/stable/modules/preprocessing.html\n",
      "Please also refer to the documentation for alternative solver options:\n",
      "    https://scikit-learn.org/stable/modules/linear_model.html#logistic-regression\n",
      "  n_iter_i = _check_optimize_result(\n"
     ]
    },
    {
     "data": {
      "text/plain": [
       "0.453307627424991"
      ]
     },
     "execution_count": 44,
     "metadata": {},
     "output_type": "execute_result"
    }
   ],
   "source": [
    "rl_risk = LogisticRegression(penalty = 'l2', C = 48.72671442481355, class_weight = 'balanced', solver = 'lbfgs', max_iter = 97847, n_jobs=-1)\n",
    "classifiers_risk[LOGISTIC_REGRESSION] = rl_risk\n",
    "\n",
    "rl_risk.fit(X_risk_train, y_risk_train)\n",
    "\n",
    "result_rl_risk = rl_risk.score(X_risk_test, y_risk_test)\n",
    "result_rl_risk"
   ]
  },
  {
   "cell_type": "code",
   "execution_count": 45,
   "metadata": {},
   "outputs": [
    {
     "data": {
      "text/plain": [
       "59"
      ]
     },
     "execution_count": 45,
     "metadata": {},
     "output_type": "execute_result"
    }
   ],
   "source": [
    "file.write(f\"LOGISTIC REGRESSION:({result_rl_return},{result_rl_risk})\\n\")"
   ]
  },
  {
   "attachments": {},
   "cell_type": "markdown",
   "metadata": {},
   "source": [
    "#### XGboost"
   ]
  },
  {
   "attachments": {},
   "cell_type": "markdown",
   "metadata": {},
   "source": [
    "##### Real Return"
   ]
  },
  {
   "cell_type": "code",
   "execution_count": 46,
   "metadata": {},
   "outputs": [
    {
     "data": {
      "text/plain": [
       "0.830581997831064"
      ]
     },
     "execution_count": 46,
     "metadata": {},
     "output_type": "execute_result"
    }
   ],
   "source": [
    "XG_BOOST = 'XG_BOOST'\n",
    "\n",
    "xg_boost_return = xgboost.XGBClassifier()\n",
    "classifiers_real_return[XG_BOOST] = xg_boost_return\n",
    "\n",
    "xg_boost_return.fit(X_real_return_train, y_real_return_train)\n",
    "\n",
    "result_xgboost_result = xg_boost_return.score(X_real_return_test, y_real_return_test)\n",
    "result_xgboost_result"
   ]
  },
  {
   "attachments": {},
   "cell_type": "markdown",
   "metadata": {},
   "source": [
    "##### Risk"
   ]
  },
  {
   "cell_type": "code",
   "execution_count": 47,
   "metadata": {},
   "outputs": [
    {
     "data": {
      "text/plain": [
       "0.5133148572117122"
      ]
     },
     "execution_count": 47,
     "metadata": {},
     "output_type": "execute_result"
    }
   ],
   "source": [
    "xg_boost_risk = xgboost.XGBClassifier()\n",
    "classifiers_risk[XG_BOOST] = xg_boost_risk\n",
    "\n",
    "xg_boost_risk.fit(X_risk_train, y_risk_train)\n",
    "\n",
    "result_xgboost_risk = xg_boost_risk.score(X_risk_test, y_risk_test)\n",
    "result_xgboost_risk"
   ]
  },
  {
   "cell_type": "code",
   "execution_count": 48,
   "metadata": {},
   "outputs": [
    {
     "data": {
      "text/plain": [
       "47"
      ]
     },
     "execution_count": 48,
     "metadata": {},
     "output_type": "execute_result"
    }
   ],
   "source": [
    "file.write(f\"XGBOOST:({result_xgboost_result},{result_xgboost_risk})\\n\")"
   ]
  },
  {
   "attachments": {},
   "cell_type": "markdown",
   "metadata": {},
   "source": [
    "### Cross-validation"
   ]
  },
  {
   "cell_type": "code",
   "execution_count": 49,
   "metadata": {},
   "outputs": [],
   "source": [
    "CV = 10\n",
    "result_cv_real_return = {}\n",
    "result_cv_risk = {}\n",
    "\n",
    "X_dataset_real_return = dataset[features_real_return]\n",
    "y_dataset_real_return = dataset[REAL_RETURN_CLASS]\n",
    "\n",
    "X_dataset_risk = dataset[features_risk]\n",
    "y_dataset_risk = dataset[RISK_CLASS]"
   ]
  },
  {
   "attachments": {},
   "cell_type": "markdown",
   "metadata": {},
   "source": [
    "##### Real Return"
   ]
  },
  {
   "cell_type": "code",
   "execution_count": 50,
   "metadata": {},
   "outputs": [
    {
     "name": "stderr",
     "output_type": "stream",
     "text": [
      "/Users/iuryfaria/Documents/cefet/TCC2/tcc-mcs/env/lib/python3.9/site-packages/sklearn/neural_network/_multilayer_perceptron.py:541: ConvergenceWarning: lbfgs failed to converge (status=1):\n",
      "STOP: TOTAL NO. of ITERATIONS REACHED LIMIT.\n",
      "\n",
      "Increase the number of iterations (max_iter) or scale the data as shown in:\n",
      "    https://scikit-learn.org/stable/modules/preprocessing.html\n",
      "  self.n_iter_ = _check_optimize_result(\"lbfgs\", opt_res, self.max_iter)\n",
      "/Users/iuryfaria/Documents/cefet/TCC2/tcc-mcs/env/lib/python3.9/site-packages/sklearn/neural_network/_multilayer_perceptron.py:541: ConvergenceWarning: lbfgs failed to converge (status=1):\n",
      "STOP: TOTAL NO. of ITERATIONS REACHED LIMIT.\n",
      "\n",
      "Increase the number of iterations (max_iter) or scale the data as shown in:\n",
      "    https://scikit-learn.org/stable/modules/preprocessing.html\n",
      "  self.n_iter_ = _check_optimize_result(\"lbfgs\", opt_res, self.max_iter)\n",
      "/Users/iuryfaria/Documents/cefet/TCC2/tcc-mcs/env/lib/python3.9/site-packages/sklearn/neural_network/_multilayer_perceptron.py:541: ConvergenceWarning: lbfgs failed to converge (status=1):\n",
      "STOP: TOTAL NO. of ITERATIONS REACHED LIMIT.\n",
      "\n",
      "Increase the number of iterations (max_iter) or scale the data as shown in:\n",
      "    https://scikit-learn.org/stable/modules/preprocessing.html\n",
      "  self.n_iter_ = _check_optimize_result(\"lbfgs\", opt_res, self.max_iter)\n",
      "/Users/iuryfaria/Documents/cefet/TCC2/tcc-mcs/env/lib/python3.9/site-packages/sklearn/neural_network/_multilayer_perceptron.py:541: ConvergenceWarning: lbfgs failed to converge (status=1):\n",
      "STOP: TOTAL NO. of ITERATIONS REACHED LIMIT.\n",
      "\n",
      "Increase the number of iterations (max_iter) or scale the data as shown in:\n",
      "    https://scikit-learn.org/stable/modules/preprocessing.html\n",
      "  self.n_iter_ = _check_optimize_result(\"lbfgs\", opt_res, self.max_iter)\n",
      "/Users/iuryfaria/Documents/cefet/TCC2/tcc-mcs/env/lib/python3.9/site-packages/sklearn/neural_network/_multilayer_perceptron.py:541: ConvergenceWarning: lbfgs failed to converge (status=1):\n",
      "STOP: TOTAL NO. of ITERATIONS REACHED LIMIT.\n",
      "\n",
      "Increase the number of iterations (max_iter) or scale the data as shown in:\n",
      "    https://scikit-learn.org/stable/modules/preprocessing.html\n",
      "  self.n_iter_ = _check_optimize_result(\"lbfgs\", opt_res, self.max_iter)\n",
      "/Users/iuryfaria/Documents/cefet/TCC2/tcc-mcs/env/lib/python3.9/site-packages/sklearn/neural_network/_multilayer_perceptron.py:541: ConvergenceWarning: lbfgs failed to converge (status=1):\n",
      "STOP: TOTAL NO. of ITERATIONS REACHED LIMIT.\n",
      "\n",
      "Increase the number of iterations (max_iter) or scale the data as shown in:\n",
      "    https://scikit-learn.org/stable/modules/preprocessing.html\n",
      "  self.n_iter_ = _check_optimize_result(\"lbfgs\", opt_res, self.max_iter)\n",
      "/Users/iuryfaria/Documents/cefet/TCC2/tcc-mcs/env/lib/python3.9/site-packages/sklearn/neural_network/_multilayer_perceptron.py:541: ConvergenceWarning: lbfgs failed to converge (status=1):\n",
      "STOP: TOTAL NO. of ITERATIONS REACHED LIMIT.\n",
      "\n",
      "Increase the number of iterations (max_iter) or scale the data as shown in:\n",
      "    https://scikit-learn.org/stable/modules/preprocessing.html\n",
      "  self.n_iter_ = _check_optimize_result(\"lbfgs\", opt_res, self.max_iter)\n",
      "/Users/iuryfaria/Documents/cefet/TCC2/tcc-mcs/env/lib/python3.9/site-packages/sklearn/neural_network/_multilayer_perceptron.py:541: ConvergenceWarning: lbfgs failed to converge (status=1):\n",
      "STOP: TOTAL NO. of ITERATIONS REACHED LIMIT.\n",
      "\n",
      "Increase the number of iterations (max_iter) or scale the data as shown in:\n",
      "    https://scikit-learn.org/stable/modules/preprocessing.html\n",
      "  self.n_iter_ = _check_optimize_result(\"lbfgs\", opt_res, self.max_iter)\n",
      "/Users/iuryfaria/Documents/cefet/TCC2/tcc-mcs/env/lib/python3.9/site-packages/sklearn/neural_network/_multilayer_perceptron.py:541: ConvergenceWarning: lbfgs failed to converge (status=1):\n",
      "STOP: TOTAL NO. of ITERATIONS REACHED LIMIT.\n",
      "\n",
      "Increase the number of iterations (max_iter) or scale the data as shown in:\n",
      "    https://scikit-learn.org/stable/modules/preprocessing.html\n",
      "  self.n_iter_ = _check_optimize_result(\"lbfgs\", opt_res, self.max_iter)\n",
      "/Users/iuryfaria/Documents/cefet/TCC2/tcc-mcs/env/lib/python3.9/site-packages/sklearn/neural_network/_multilayer_perceptron.py:541: ConvergenceWarning: lbfgs failed to converge (status=1):\n",
      "STOP: TOTAL NO. of ITERATIONS REACHED LIMIT.\n",
      "\n",
      "Increase the number of iterations (max_iter) or scale the data as shown in:\n",
      "    https://scikit-learn.org/stable/modules/preprocessing.html\n",
      "  self.n_iter_ = _check_optimize_result(\"lbfgs\", opt_res, self.max_iter)\n",
      "/Users/iuryfaria/Documents/cefet/TCC2/tcc-mcs/env/lib/python3.9/site-packages/sklearn/linear_model/_logistic.py:458: ConvergenceWarning: lbfgs failed to converge (status=1):\n",
      "STOP: TOTAL NO. of f AND g EVALUATIONS EXCEEDS LIMIT.\n",
      "\n",
      "Increase the number of iterations (max_iter) or scale the data as shown in:\n",
      "    https://scikit-learn.org/stable/modules/preprocessing.html\n",
      "Please also refer to the documentation for alternative solver options:\n",
      "    https://scikit-learn.org/stable/modules/linear_model.html#logistic-regression\n",
      "  n_iter_i = _check_optimize_result(\n",
      "/Users/iuryfaria/Documents/cefet/TCC2/tcc-mcs/env/lib/python3.9/site-packages/sklearn/linear_model/_logistic.py:458: ConvergenceWarning: lbfgs failed to converge (status=1):\n",
      "STOP: TOTAL NO. of f AND g EVALUATIONS EXCEEDS LIMIT.\n",
      "\n",
      "Increase the number of iterations (max_iter) or scale the data as shown in:\n",
      "    https://scikit-learn.org/stable/modules/preprocessing.html\n",
      "Please also refer to the documentation for alternative solver options:\n",
      "    https://scikit-learn.org/stable/modules/linear_model.html#logistic-regression\n",
      "  n_iter_i = _check_optimize_result(\n",
      "/Users/iuryfaria/Documents/cefet/TCC2/tcc-mcs/env/lib/python3.9/site-packages/sklearn/linear_model/_logistic.py:458: ConvergenceWarning: lbfgs failed to converge (status=1):\n",
      "STOP: TOTAL NO. of f AND g EVALUATIONS EXCEEDS LIMIT.\n",
      "\n",
      "Increase the number of iterations (max_iter) or scale the data as shown in:\n",
      "    https://scikit-learn.org/stable/modules/preprocessing.html\n",
      "Please also refer to the documentation for alternative solver options:\n",
      "    https://scikit-learn.org/stable/modules/linear_model.html#logistic-regression\n",
      "  n_iter_i = _check_optimize_result(\n",
      "/Users/iuryfaria/Documents/cefet/TCC2/tcc-mcs/env/lib/python3.9/site-packages/sklearn/linear_model/_logistic.py:458: ConvergenceWarning: lbfgs failed to converge (status=1):\n",
      "STOP: TOTAL NO. of f AND g EVALUATIONS EXCEEDS LIMIT.\n",
      "\n",
      "Increase the number of iterations (max_iter) or scale the data as shown in:\n",
      "    https://scikit-learn.org/stable/modules/preprocessing.html\n",
      "Please also refer to the documentation for alternative solver options:\n",
      "    https://scikit-learn.org/stable/modules/linear_model.html#logistic-regression\n",
      "  n_iter_i = _check_optimize_result(\n",
      "/Users/iuryfaria/Documents/cefet/TCC2/tcc-mcs/env/lib/python3.9/site-packages/sklearn/linear_model/_logistic.py:458: ConvergenceWarning: lbfgs failed to converge (status=1):\n",
      "STOP: TOTAL NO. of f AND g EVALUATIONS EXCEEDS LIMIT.\n",
      "\n",
      "Increase the number of iterations (max_iter) or scale the data as shown in:\n",
      "    https://scikit-learn.org/stable/modules/preprocessing.html\n",
      "Please also refer to the documentation for alternative solver options:\n",
      "    https://scikit-learn.org/stable/modules/linear_model.html#logistic-regression\n",
      "  n_iter_i = _check_optimize_result(\n",
      "/Users/iuryfaria/Documents/cefet/TCC2/tcc-mcs/env/lib/python3.9/site-packages/sklearn/linear_model/_logistic.py:458: ConvergenceWarning: lbfgs failed to converge (status=1):\n",
      "STOP: TOTAL NO. of f AND g EVALUATIONS EXCEEDS LIMIT.\n",
      "\n",
      "Increase the number of iterations (max_iter) or scale the data as shown in:\n",
      "    https://scikit-learn.org/stable/modules/preprocessing.html\n",
      "Please also refer to the documentation for alternative solver options:\n",
      "    https://scikit-learn.org/stable/modules/linear_model.html#logistic-regression\n",
      "  n_iter_i = _check_optimize_result(\n",
      "/Users/iuryfaria/Documents/cefet/TCC2/tcc-mcs/env/lib/python3.9/site-packages/sklearn/linear_model/_logistic.py:458: ConvergenceWarning: lbfgs failed to converge (status=1):\n",
      "STOP: TOTAL NO. of f AND g EVALUATIONS EXCEEDS LIMIT.\n",
      "\n",
      "Increase the number of iterations (max_iter) or scale the data as shown in:\n",
      "    https://scikit-learn.org/stable/modules/preprocessing.html\n",
      "Please also refer to the documentation for alternative solver options:\n",
      "    https://scikit-learn.org/stable/modules/linear_model.html#logistic-regression\n",
      "  n_iter_i = _check_optimize_result(\n",
      "/Users/iuryfaria/Documents/cefet/TCC2/tcc-mcs/env/lib/python3.9/site-packages/sklearn/linear_model/_logistic.py:458: ConvergenceWarning: lbfgs failed to converge (status=1):\n",
      "STOP: TOTAL NO. of f AND g EVALUATIONS EXCEEDS LIMIT.\n",
      "\n",
      "Increase the number of iterations (max_iter) or scale the data as shown in:\n",
      "    https://scikit-learn.org/stable/modules/preprocessing.html\n",
      "Please also refer to the documentation for alternative solver options:\n",
      "    https://scikit-learn.org/stable/modules/linear_model.html#logistic-regression\n",
      "  n_iter_i = _check_optimize_result(\n",
      "/Users/iuryfaria/Documents/cefet/TCC2/tcc-mcs/env/lib/python3.9/site-packages/sklearn/linear_model/_logistic.py:458: ConvergenceWarning: lbfgs failed to converge (status=1):\n",
      "STOP: TOTAL NO. of f AND g EVALUATIONS EXCEEDS LIMIT.\n",
      "\n",
      "Increase the number of iterations (max_iter) or scale the data as shown in:\n",
      "    https://scikit-learn.org/stable/modules/preprocessing.html\n",
      "Please also refer to the documentation for alternative solver options:\n",
      "    https://scikit-learn.org/stable/modules/linear_model.html#logistic-regression\n",
      "  n_iter_i = _check_optimize_result(\n",
      "/Users/iuryfaria/Documents/cefet/TCC2/tcc-mcs/env/lib/python3.9/site-packages/sklearn/linear_model/_logistic.py:458: ConvergenceWarning: lbfgs failed to converge (status=1):\n",
      "STOP: TOTAL NO. of f AND g EVALUATIONS EXCEEDS LIMIT.\n",
      "\n",
      "Increase the number of iterations (max_iter) or scale the data as shown in:\n",
      "    https://scikit-learn.org/stable/modules/preprocessing.html\n",
      "Please also refer to the documentation for alternative solver options:\n",
      "    https://scikit-learn.org/stable/modules/linear_model.html#logistic-regression\n",
      "  n_iter_i = _check_optimize_result(\n"
     ]
    },
    {
     "data": {
      "text/plain": [
       "{'RANDOM_FOREST': 0.8122512778307875,\n",
       " 'SVM': 0.6457186226756597,\n",
       " 'DECISION_TREE': 0.8323642641521809,\n",
       " 'NEURAL_NETWORK': 0.7007704776971092,\n",
       " 'LOGISTIC_REGRESSION': 0.7711494620851638,\n",
       " 'XG_BOOST': 0.7789013075804686}"
      ]
     },
     "execution_count": 50,
     "metadata": {},
     "output_type": "execute_result"
    }
   ],
   "source": [
    "cv_result = cross_val_score(classifiers_real_return[RANDOM_FOREST], X_dataset_real_return, y_dataset_real_return, cv=CV, n_jobs=-1)\n",
    "result_cv_real_return[RANDOM_FOREST] = cv_result.mean()\n",
    "\n",
    "cv_result = cross_val_score(classifiers_real_return[SVM], X_dataset_real_return, y_dataset_real_return, cv=CV, n_jobs=-1)\n",
    "result_cv_real_return[SVM] = cv_result.mean()\n",
    "\n",
    "cv_result = cross_val_score(classifiers_real_return[DECISION_TREE], X_dataset_real_return, y_dataset_real_return, cv=CV, n_jobs=-1)\n",
    "result_cv_real_return[DECISION_TREE] = cv_result.mean()\n",
    "\n",
    "cv_result = cross_val_score(classifiers_real_return[NEURAL_NETWORK], X_dataset_real_return, y_dataset_real_return, cv=CV, n_jobs=-1)\n",
    "result_cv_real_return[NEURAL_NETWORK] = cv_result.mean()\n",
    "\n",
    "cv_result = cross_val_score(classifiers_real_return[LOGISTIC_REGRESSION], X_dataset_real_return, y_dataset_real_return, cv=CV, n_jobs=-1)\n",
    "result_cv_real_return[LOGISTIC_REGRESSION] = cv_result.mean()\n",
    "\n",
    "cv_result = cross_val_score(classifiers_real_return[XG_BOOST], X_dataset_real_return, y_dataset_real_return, cv=CV, n_jobs=-1)\n",
    "result_cv_real_return[XG_BOOST] = cv_result.mean()\n",
    "\n",
    "result_cv_real_return"
   ]
  },
  {
   "attachments": {},
   "cell_type": "markdown",
   "metadata": {},
   "source": [
    "##### Risk"
   ]
  },
  {
   "cell_type": "code",
   "execution_count": 51,
   "metadata": {},
   "outputs": [
    {
     "name": "stderr",
     "output_type": "stream",
     "text": [
      "/Users/iuryfaria/Documents/cefet/TCC2/tcc-mcs/env/lib/python3.9/site-packages/sklearn/neural_network/_multilayer_perceptron.py:541: ConvergenceWarning: lbfgs failed to converge (status=1):\n",
      "STOP: TOTAL NO. of ITERATIONS REACHED LIMIT.\n",
      "\n",
      "Increase the number of iterations (max_iter) or scale the data as shown in:\n",
      "    https://scikit-learn.org/stable/modules/preprocessing.html\n",
      "  self.n_iter_ = _check_optimize_result(\"lbfgs\", opt_res, self.max_iter)\n",
      "/Users/iuryfaria/Documents/cefet/TCC2/tcc-mcs/env/lib/python3.9/site-packages/sklearn/neural_network/_multilayer_perceptron.py:541: ConvergenceWarning: lbfgs failed to converge (status=1):\n",
      "STOP: TOTAL NO. of ITERATIONS REACHED LIMIT.\n",
      "\n",
      "Increase the number of iterations (max_iter) or scale the data as shown in:\n",
      "    https://scikit-learn.org/stable/modules/preprocessing.html\n",
      "  self.n_iter_ = _check_optimize_result(\"lbfgs\", opt_res, self.max_iter)\n",
      "/Users/iuryfaria/Documents/cefet/TCC2/tcc-mcs/env/lib/python3.9/site-packages/sklearn/neural_network/_multilayer_perceptron.py:541: ConvergenceWarning: lbfgs failed to converge (status=1):\n",
      "STOP: TOTAL NO. of ITERATIONS REACHED LIMIT.\n",
      "\n",
      "Increase the number of iterations (max_iter) or scale the data as shown in:\n",
      "    https://scikit-learn.org/stable/modules/preprocessing.html\n",
      "  self.n_iter_ = _check_optimize_result(\"lbfgs\", opt_res, self.max_iter)\n",
      "/Users/iuryfaria/Documents/cefet/TCC2/tcc-mcs/env/lib/python3.9/site-packages/sklearn/neural_network/_multilayer_perceptron.py:541: ConvergenceWarning: lbfgs failed to converge (status=1):\n",
      "STOP: TOTAL NO. of ITERATIONS REACHED LIMIT.\n",
      "\n",
      "Increase the number of iterations (max_iter) or scale the data as shown in:\n",
      "    https://scikit-learn.org/stable/modules/preprocessing.html\n",
      "  self.n_iter_ = _check_optimize_result(\"lbfgs\", opt_res, self.max_iter)\n",
      "/Users/iuryfaria/Documents/cefet/TCC2/tcc-mcs/env/lib/python3.9/site-packages/sklearn/neural_network/_multilayer_perceptron.py:541: ConvergenceWarning: lbfgs failed to converge (status=1):\n",
      "STOP: TOTAL NO. of ITERATIONS REACHED LIMIT.\n",
      "\n",
      "Increase the number of iterations (max_iter) or scale the data as shown in:\n",
      "    https://scikit-learn.org/stable/modules/preprocessing.html\n",
      "  self.n_iter_ = _check_optimize_result(\"lbfgs\", opt_res, self.max_iter)\n",
      "/Users/iuryfaria/Documents/cefet/TCC2/tcc-mcs/env/lib/python3.9/site-packages/sklearn/neural_network/_multilayer_perceptron.py:541: ConvergenceWarning: lbfgs failed to converge (status=1):\n",
      "STOP: TOTAL NO. of ITERATIONS REACHED LIMIT.\n",
      "\n",
      "Increase the number of iterations (max_iter) or scale the data as shown in:\n",
      "    https://scikit-learn.org/stable/modules/preprocessing.html\n",
      "  self.n_iter_ = _check_optimize_result(\"lbfgs\", opt_res, self.max_iter)\n",
      "/Users/iuryfaria/Documents/cefet/TCC2/tcc-mcs/env/lib/python3.9/site-packages/sklearn/neural_network/_multilayer_perceptron.py:541: ConvergenceWarning: lbfgs failed to converge (status=1):\n",
      "STOP: TOTAL NO. of ITERATIONS REACHED LIMIT.\n",
      "\n",
      "Increase the number of iterations (max_iter) or scale the data as shown in:\n",
      "    https://scikit-learn.org/stable/modules/preprocessing.html\n",
      "  self.n_iter_ = _check_optimize_result(\"lbfgs\", opt_res, self.max_iter)\n",
      "/Users/iuryfaria/Documents/cefet/TCC2/tcc-mcs/env/lib/python3.9/site-packages/sklearn/neural_network/_multilayer_perceptron.py:541: ConvergenceWarning: lbfgs failed to converge (status=1):\n",
      "STOP: TOTAL NO. of ITERATIONS REACHED LIMIT.\n",
      "\n",
      "Increase the number of iterations (max_iter) or scale the data as shown in:\n",
      "    https://scikit-learn.org/stable/modules/preprocessing.html\n",
      "  self.n_iter_ = _check_optimize_result(\"lbfgs\", opt_res, self.max_iter)\n",
      "/Users/iuryfaria/Documents/cefet/TCC2/tcc-mcs/env/lib/python3.9/site-packages/sklearn/neural_network/_multilayer_perceptron.py:541: ConvergenceWarning: lbfgs failed to converge (status=1):\n",
      "STOP: TOTAL NO. of ITERATIONS REACHED LIMIT.\n",
      "\n",
      "Increase the number of iterations (max_iter) or scale the data as shown in:\n",
      "    https://scikit-learn.org/stable/modules/preprocessing.html\n",
      "  self.n_iter_ = _check_optimize_result(\"lbfgs\", opt_res, self.max_iter)\n",
      "/Users/iuryfaria/Documents/cefet/TCC2/tcc-mcs/env/lib/python3.9/site-packages/sklearn/neural_network/_multilayer_perceptron.py:541: ConvergenceWarning: lbfgs failed to converge (status=1):\n",
      "STOP: TOTAL NO. of ITERATIONS REACHED LIMIT.\n",
      "\n",
      "Increase the number of iterations (max_iter) or scale the data as shown in:\n",
      "    https://scikit-learn.org/stable/modules/preprocessing.html\n",
      "  self.n_iter_ = _check_optimize_result(\"lbfgs\", opt_res, self.max_iter)\n",
      "/Users/iuryfaria/Documents/cefet/TCC2/tcc-mcs/env/lib/python3.9/site-packages/sklearn/linear_model/_logistic.py:458: ConvergenceWarning: lbfgs failed to converge (status=1):\n",
      "STOP: TOTAL NO. of f AND g EVALUATIONS EXCEEDS LIMIT.\n",
      "\n",
      "Increase the number of iterations (max_iter) or scale the data as shown in:\n",
      "    https://scikit-learn.org/stable/modules/preprocessing.html\n",
      "Please also refer to the documentation for alternative solver options:\n",
      "    https://scikit-learn.org/stable/modules/linear_model.html#logistic-regression\n",
      "  n_iter_i = _check_optimize_result(\n",
      "/Users/iuryfaria/Documents/cefet/TCC2/tcc-mcs/env/lib/python3.9/site-packages/sklearn/linear_model/_logistic.py:458: ConvergenceWarning: lbfgs failed to converge (status=1):\n",
      "STOP: TOTAL NO. of f AND g EVALUATIONS EXCEEDS LIMIT.\n",
      "\n",
      "Increase the number of iterations (max_iter) or scale the data as shown in:\n",
      "    https://scikit-learn.org/stable/modules/preprocessing.html\n",
      "Please also refer to the documentation for alternative solver options:\n",
      "    https://scikit-learn.org/stable/modules/linear_model.html#logistic-regression\n",
      "  n_iter_i = _check_optimize_result(\n",
      "/Users/iuryfaria/Documents/cefet/TCC2/tcc-mcs/env/lib/python3.9/site-packages/sklearn/linear_model/_logistic.py:458: ConvergenceWarning: lbfgs failed to converge (status=1):\n",
      "STOP: TOTAL NO. of f AND g EVALUATIONS EXCEEDS LIMIT.\n",
      "\n",
      "Increase the number of iterations (max_iter) or scale the data as shown in:\n",
      "    https://scikit-learn.org/stable/modules/preprocessing.html\n",
      "Please also refer to the documentation for alternative solver options:\n",
      "    https://scikit-learn.org/stable/modules/linear_model.html#logistic-regression\n",
      "  n_iter_i = _check_optimize_result(\n",
      "/Users/iuryfaria/Documents/cefet/TCC2/tcc-mcs/env/lib/python3.9/site-packages/sklearn/linear_model/_logistic.py:458: ConvergenceWarning: lbfgs failed to converge (status=1):\n",
      "STOP: TOTAL NO. of f AND g EVALUATIONS EXCEEDS LIMIT.\n",
      "\n",
      "Increase the number of iterations (max_iter) or scale the data as shown in:\n",
      "    https://scikit-learn.org/stable/modules/preprocessing.html\n",
      "Please also refer to the documentation for alternative solver options:\n",
      "    https://scikit-learn.org/stable/modules/linear_model.html#logistic-regression\n",
      "  n_iter_i = _check_optimize_result(\n",
      "/Users/iuryfaria/Documents/cefet/TCC2/tcc-mcs/env/lib/python3.9/site-packages/sklearn/linear_model/_logistic.py:458: ConvergenceWarning: lbfgs failed to converge (status=1):\n",
      "STOP: TOTAL NO. of f AND g EVALUATIONS EXCEEDS LIMIT.\n",
      "\n",
      "Increase the number of iterations (max_iter) or scale the data as shown in:\n",
      "    https://scikit-learn.org/stable/modules/preprocessing.html\n",
      "Please also refer to the documentation for alternative solver options:\n",
      "    https://scikit-learn.org/stable/modules/linear_model.html#logistic-regression\n",
      "  n_iter_i = _check_optimize_result(\n",
      "/Users/iuryfaria/Documents/cefet/TCC2/tcc-mcs/env/lib/python3.9/site-packages/sklearn/linear_model/_logistic.py:458: ConvergenceWarning: lbfgs failed to converge (status=1):\n",
      "STOP: TOTAL NO. of f AND g EVALUATIONS EXCEEDS LIMIT.\n",
      "\n",
      "Increase the number of iterations (max_iter) or scale the data as shown in:\n",
      "    https://scikit-learn.org/stable/modules/preprocessing.html\n",
      "Please also refer to the documentation for alternative solver options:\n",
      "    https://scikit-learn.org/stable/modules/linear_model.html#logistic-regression\n",
      "  n_iter_i = _check_optimize_result(\n"
     ]
    },
    {
     "data": {
      "text/plain": [
       "{'RANDOM_FOREST': 0.4699842272032333,\n",
       " 'SVM': 0.4037129319755194,\n",
       " 'DECISION_TREE': 0.46698403824200474,\n",
       " 'NEURAL_NETWORK': 0.44465428684314495,\n",
       " 'LOGISTIC_REGRESSION': 0.4286092765908271,\n",
       " 'XG_BOOST': 0.4632265051698855}"
      ]
     },
     "execution_count": 51,
     "metadata": {},
     "output_type": "execute_result"
    }
   ],
   "source": [
    "cv_result = cross_val_score(classifiers_risk[RANDOM_FOREST], X_dataset_risk, y_dataset_risk, cv=CV, n_jobs=-1)\n",
    "result_cv_risk[RANDOM_FOREST] = cv_result.mean()\n",
    "\n",
    "cv_result = cross_val_score(classifiers_risk[SVM], X_dataset_risk, y_dataset_risk, cv=CV, n_jobs=-1)\n",
    "result_cv_risk[SVM] = cv_result.mean()\n",
    "\n",
    "cv_result = cross_val_score(classifiers_risk[DECISION_TREE], X_dataset_risk, y_dataset_risk, cv=CV, n_jobs=-1)\n",
    "result_cv_risk[DECISION_TREE] = cv_result.mean()\n",
    "\n",
    "cv_result = cross_val_score(classifiers_risk[NEURAL_NETWORK], X_dataset_risk, y_dataset_risk, cv=CV, n_jobs=-1)\n",
    "result_cv_risk[NEURAL_NETWORK] = cv_result.mean()\n",
    "\n",
    "cv_result = cross_val_score(classifiers_risk[LOGISTIC_REGRESSION], X_dataset_risk, y_dataset_risk, cv=CV, n_jobs=-1)\n",
    "result_cv_risk[LOGISTIC_REGRESSION] = cv_result.mean()\n",
    "\n",
    "cv_result = cross_val_score(classifiers_risk[XG_BOOST], X_dataset_risk, y_dataset_risk, cv=CV, n_jobs=-1)\n",
    "result_cv_risk[XG_BOOST] = cv_result.mean()\n",
    "\n",
    "result_cv_risk"
   ]
  },
  {
   "cell_type": "code",
   "execution_count": 52,
   "metadata": {},
   "outputs": [
    {
     "data": {
      "text/plain": [
       "223"
      ]
     },
     "execution_count": 52,
     "metadata": {},
     "output_type": "execute_result"
    }
   ],
   "source": [
    "file.write(\"\\n######## CV ########\\n\")\n",
    "file.write(f\"Real Return: {result_cv_real_return}\\n\")\n",
    "file.write(f\"Risk: {result_cv_risk}\\n\")"
   ]
  },
  {
   "attachments": {},
   "cell_type": "markdown",
   "metadata": {},
   "source": [
    "### Selection Of Cassifier"
   ]
  },
  {
   "attachments": {},
   "cell_type": "markdown",
   "metadata": {},
   "source": [
    "#### List of Sets"
   ]
  },
  {
   "cell_type": "code",
   "execution_count": 53,
   "metadata": {},
   "outputs": [
    {
     "data": {
      "text/plain": [
       "[('RANDOM_FOREST', 'SVM'),\n",
       " ('RANDOM_FOREST', 'DECISION_TREE'),\n",
       " ('RANDOM_FOREST', 'NEURAL_NETWORK'),\n",
       " ('RANDOM_FOREST', 'LOGISTIC_REGRESSION'),\n",
       " ('RANDOM_FOREST', 'XG_BOOST'),\n",
       " ('SVM', 'DECISION_TREE'),\n",
       " ('SVM', 'NEURAL_NETWORK'),\n",
       " ('SVM', 'LOGISTIC_REGRESSION'),\n",
       " ('SVM', 'XG_BOOST'),\n",
       " ('DECISION_TREE', 'NEURAL_NETWORK'),\n",
       " ('DECISION_TREE', 'LOGISTIC_REGRESSION'),\n",
       " ('DECISION_TREE', 'XG_BOOST'),\n",
       " ('NEURAL_NETWORK', 'LOGISTIC_REGRESSION'),\n",
       " ('NEURAL_NETWORK', 'XG_BOOST'),\n",
       " ('LOGISTIC_REGRESSION', 'XG_BOOST')]"
      ]
     },
     "execution_count": 53,
     "metadata": {},
     "output_type": "execute_result"
    }
   ],
   "source": [
    "classifiers = list(result_cv_real_return.keys())\n",
    "list_sets = []\n",
    "\n",
    "for i in range(len(classifiers)):\n",
    "  for j in range(i + 1, len(classifiers)):\n",
    "    list_sets.append((classifiers[i], classifiers[j]))\n",
    "\n",
    "list_sets\n"
   ]
  },
  {
   "attachments": {},
   "cell_type": "markdown",
   "metadata": {},
   "source": [
    "#### Real Return Classifiers"
   ]
  },
  {
   "cell_type": "code",
   "execution_count": 54,
   "metadata": {},
   "outputs": [
    {
     "data": {
      "text/plain": [
       "['RANDOM_FOREST',\n",
       " 'DECISION_TREE',\n",
       " 'NEURAL_NETWORK',\n",
       " 'LOGISTIC_REGRESSION',\n",
       " 'XG_BOOST']"
      ]
     },
     "execution_count": 54,
     "metadata": {},
     "output_type": "execute_result"
    }
   ],
   "source": [
    "real_return_classifiers = []\n",
    "\n",
    "for classifier_set in list_sets:  \n",
    "  set_0 = result_cv_real_return[classifier_set[0]]\n",
    "  set_1 = result_cv_real_return[classifier_set[1]]\n",
    "\n",
    "  avg = (set_0 + set_1) / 2\n",
    "  if avg >= 0.75:\n",
    "    if classifier_set[0] not in real_return_classifiers:\n",
    "      real_return_classifiers.append(classifier_set[0])\n",
    "\n",
    "    if classifier_set[1] not in real_return_classifiers:\n",
    "      real_return_classifiers.append(classifier_set[1])\n",
    "\n",
    "real_return_classifiers\n"
   ]
  },
  {
   "attachments": {},
   "cell_type": "markdown",
   "metadata": {},
   "source": [
    "#### Risk Classifiers"
   ]
  },
  {
   "cell_type": "code",
   "execution_count": 55,
   "metadata": {},
   "outputs": [
    {
     "data": {
      "text/plain": [
       "['RANDOM_FOREST', 'DECISION_TREE', 'NEURAL_NETWORK', 'XG_BOOST']"
      ]
     },
     "execution_count": 55,
     "metadata": {},
     "output_type": "execute_result"
    }
   ],
   "source": [
    "risk_classifiers = []\n",
    "\n",
    "for classifier_set in list_sets:  \n",
    "  set_0 = result_cv_risk[classifier_set[0]]\n",
    "  set_1 = result_cv_risk[classifier_set[1]]\n",
    "\n",
    "  avg = (set_0 + set_1) / 2\n",
    "  if avg >= 0.45:\n",
    "    if classifier_set[0] not in risk_classifiers:\n",
    "      risk_classifiers.append(classifier_set[0])\n",
    "\n",
    "    if classifier_set[1] not in risk_classifiers:\n",
    "      risk_classifiers.append(classifier_set[1])\n",
    "\n",
    "risk_classifiers"
   ]
  },
  {
   "cell_type": "code",
   "execution_count": 56,
   "metadata": {},
   "outputs": [
    {
     "data": {
      "text/plain": [
       "71"
      ]
     },
     "execution_count": 56,
     "metadata": {},
     "output_type": "execute_result"
    }
   ],
   "source": [
    "file.write(\"\\n######## CLASSIFIERS SELECTION ########\\n\")\n",
    "file.write(f\"Real Return: {real_return_classifiers}\\n\")\n",
    "file.write(f\"Risk: {risk_classifiers}\\n\")"
   ]
  },
  {
   "attachments": {},
   "cell_type": "markdown",
   "metadata": {},
   "source": [
    "### Fusion of Classifiers"
   ]
  },
  {
   "attachments": {},
   "cell_type": "markdown",
   "metadata": {},
   "source": [
    "#### Training with diversification"
   ]
  },
  {
   "attachments": {},
   "cell_type": "markdown",
   "metadata": {},
   "source": [
    "##### Whitout diversity"
   ]
  },
  {
   "cell_type": "code",
   "execution_count": 57,
   "metadata": {},
   "outputs": [
    {
     "data": {
      "text/plain": [
       "37"
      ]
     },
     "execution_count": 57,
     "metadata": {},
     "output_type": "execute_result"
    }
   ],
   "source": [
    "file.write(\"\\n######## WHITOUT DIVERSITY ########\\n\")"
   ]
  },
  {
   "attachments": {},
   "cell_type": "markdown",
   "metadata": {},
   "source": [
    "Real Return"
   ]
  },
  {
   "cell_type": "code",
   "execution_count": 58,
   "metadata": {},
   "outputs": [
    {
     "name": "stdout",
     "output_type": "stream",
     "text": [
      "RANDOM_FOREST 0.8414266779130015\n",
      "DECISION_TREE 0.8338354018556453\n",
      "NEURAL_NETWORK 0.6559826485118689\n"
     ]
    },
    {
     "name": "stderr",
     "output_type": "stream",
     "text": [
      "/Users/iuryfaria/Documents/cefet/TCC2/tcc-mcs/env/lib/python3.9/site-packages/sklearn/linear_model/_logistic.py:458: ConvergenceWarning: lbfgs failed to converge (status=1):\n",
      "STOP: TOTAL NO. of f AND g EVALUATIONS EXCEEDS LIMIT.\n",
      "\n",
      "Increase the number of iterations (max_iter) or scale the data as shown in:\n",
      "    https://scikit-learn.org/stable/modules/preprocessing.html\n",
      "Please also refer to the documentation for alternative solver options:\n",
      "    https://scikit-learn.org/stable/modules/linear_model.html#logistic-regression\n",
      "  n_iter_i = _check_optimize_result(\n"
     ]
    },
    {
     "name": "stdout",
     "output_type": "stream",
     "text": [
      "LOGISTIC_REGRESSION 0.8116640559103506\n",
      "XG_BOOST 0.830581997831064\n"
     ]
    }
   ],
   "source": [
    "real_return_whitout_diversity = {}\n",
    "\n",
    "for classifier in real_return_classifiers:\n",
    "  real_return_whitout_diversity[classifier] = classifiers_real_return[classifier]\n",
    "  real_return_whitout_diversity[classifier].fit(X_real_return_train, y_real_return_train)\n",
    "\n",
    "  file.write(f\"Real Return: {classifier}, {real_return_whitout_diversity[classifier].score(X_real_return_test, y_real_return_test)}\\n\")\n",
    "  print(classifier, real_return_whitout_diversity[classifier].score(X_real_return_test, y_real_return_test))"
   ]
  },
  {
   "attachments": {},
   "cell_type": "markdown",
   "metadata": {},
   "source": [
    "Risk"
   ]
  },
  {
   "cell_type": "code",
   "execution_count": 59,
   "metadata": {},
   "outputs": [
    {
     "name": "stdout",
     "output_type": "stream",
     "text": [
      "RANDOM_FOREST 0.5265694662007471\n",
      "DECISION_TREE 0.4741535124713821\n",
      "NEURAL_NETWORK 0.4439089046873117\n",
      "XG_BOOST 0.5133148572117122\n"
     ]
    }
   ],
   "source": [
    "risk_whitout_diversity = {}\n",
    "\n",
    "for classifier in risk_classifiers:\n",
    "  risk_whitout_diversity[classifier] = classifiers_risk[classifier]\n",
    "  risk_whitout_diversity[classifier].fit(X_risk_train, y_risk_train)\n",
    "\n",
    "  file.write(f\"Risk: {classifier}, {risk_whitout_diversity[classifier].score(X_risk_test, y_risk_test)}\\n\")\n",
    "  print(classifier, risk_whitout_diversity[classifier].score(X_risk_test, y_risk_test))"
   ]
  },
  {
   "attachments": {},
   "cell_type": "markdown",
   "metadata": {},
   "source": [
    "##### Bagging"
   ]
  },
  {
   "cell_type": "code",
   "execution_count": 60,
   "metadata": {},
   "outputs": [
    {
     "data": {
      "text/plain": [
       "27"
      ]
     },
     "execution_count": 60,
     "metadata": {},
     "output_type": "execute_result"
    }
   ],
   "source": [
    "file.write(\"\\n######## BAGGING ########\\n\")"
   ]
  },
  {
   "attachments": {},
   "cell_type": "markdown",
   "metadata": {},
   "source": [
    "Real Return"
   ]
  },
  {
   "cell_type": "code",
   "execution_count": 61,
   "metadata": {},
   "outputs": [
    {
     "name": "stdout",
     "output_type": "stream",
     "text": [
      "RANDOM_FOREST 0.8398602241233883\n",
      "DECISION_TREE 0.8352813591999037\n"
     ]
    },
    {
     "name": "stderr",
     "output_type": "stream",
     "text": [
      "/Users/iuryfaria/Documents/cefet/TCC2/tcc-mcs/env/lib/python3.9/site-packages/sklearn/neural_network/_multilayer_perceptron.py:541: ConvergenceWarning: lbfgs failed to converge (status=1):\n",
      "STOP: TOTAL NO. of ITERATIONS REACHED LIMIT.\n",
      "\n",
      "Increase the number of iterations (max_iter) or scale the data as shown in:\n",
      "    https://scikit-learn.org/stable/modules/preprocessing.html\n",
      "  self.n_iter_ = _check_optimize_result(\"lbfgs\", opt_res, self.max_iter)\n",
      "/Users/iuryfaria/Documents/cefet/TCC2/tcc-mcs/env/lib/python3.9/site-packages/sklearn/neural_network/_multilayer_perceptron.py:541: ConvergenceWarning: lbfgs failed to converge (status=1):\n",
      "STOP: TOTAL NO. of ITERATIONS REACHED LIMIT.\n",
      "\n",
      "Increase the number of iterations (max_iter) or scale the data as shown in:\n",
      "    https://scikit-learn.org/stable/modules/preprocessing.html\n",
      "  self.n_iter_ = _check_optimize_result(\"lbfgs\", opt_res, self.max_iter)\n",
      "/Users/iuryfaria/Documents/cefet/TCC2/tcc-mcs/env/lib/python3.9/site-packages/sklearn/neural_network/_multilayer_perceptron.py:541: ConvergenceWarning: lbfgs failed to converge (status=1):\n",
      "STOP: TOTAL NO. of ITERATIONS REACHED LIMIT.\n",
      "\n",
      "Increase the number of iterations (max_iter) or scale the data as shown in:\n",
      "    https://scikit-learn.org/stable/modules/preprocessing.html\n",
      "  self.n_iter_ = _check_optimize_result(\"lbfgs\", opt_res, self.max_iter)\n",
      "/Users/iuryfaria/Documents/cefet/TCC2/tcc-mcs/env/lib/python3.9/site-packages/sklearn/neural_network/_multilayer_perceptron.py:541: ConvergenceWarning: lbfgs failed to converge (status=1):\n",
      "STOP: TOTAL NO. of ITERATIONS REACHED LIMIT.\n",
      "\n",
      "Increase the number of iterations (max_iter) or scale the data as shown in:\n",
      "    https://scikit-learn.org/stable/modules/preprocessing.html\n",
      "  self.n_iter_ = _check_optimize_result(\"lbfgs\", opt_res, self.max_iter)\n",
      "/Users/iuryfaria/Documents/cefet/TCC2/tcc-mcs/env/lib/python3.9/site-packages/sklearn/neural_network/_multilayer_perceptron.py:541: ConvergenceWarning: lbfgs failed to converge (status=1):\n",
      "STOP: TOTAL NO. of ITERATIONS REACHED LIMIT.\n",
      "\n",
      "Increase the number of iterations (max_iter) or scale the data as shown in:\n",
      "    https://scikit-learn.org/stable/modules/preprocessing.html\n",
      "  self.n_iter_ = _check_optimize_result(\"lbfgs\", opt_res, self.max_iter)\n",
      "/Users/iuryfaria/Documents/cefet/TCC2/tcc-mcs/env/lib/python3.9/site-packages/sklearn/neural_network/_multilayer_perceptron.py:541: ConvergenceWarning: lbfgs failed to converge (status=1):\n",
      "STOP: TOTAL NO. of ITERATIONS REACHED LIMIT.\n",
      "\n",
      "Increase the number of iterations (max_iter) or scale the data as shown in:\n",
      "    https://scikit-learn.org/stable/modules/preprocessing.html\n",
      "  self.n_iter_ = _check_optimize_result(\"lbfgs\", opt_res, self.max_iter)\n",
      "/Users/iuryfaria/Documents/cefet/TCC2/tcc-mcs/env/lib/python3.9/site-packages/sklearn/neural_network/_multilayer_perceptron.py:541: ConvergenceWarning: lbfgs failed to converge (status=1):\n",
      "STOP: TOTAL NO. of ITERATIONS REACHED LIMIT.\n",
      "\n",
      "Increase the number of iterations (max_iter) or scale the data as shown in:\n",
      "    https://scikit-learn.org/stable/modules/preprocessing.html\n",
      "  self.n_iter_ = _check_optimize_result(\"lbfgs\", opt_res, self.max_iter)\n",
      "/Users/iuryfaria/Documents/cefet/TCC2/tcc-mcs/env/lib/python3.9/site-packages/sklearn/neural_network/_multilayer_perceptron.py:541: ConvergenceWarning: lbfgs failed to converge (status=1):\n",
      "STOP: TOTAL NO. of ITERATIONS REACHED LIMIT.\n",
      "\n",
      "Increase the number of iterations (max_iter) or scale the data as shown in:\n",
      "    https://scikit-learn.org/stable/modules/preprocessing.html\n",
      "  self.n_iter_ = _check_optimize_result(\"lbfgs\", opt_res, self.max_iter)\n",
      "/Users/iuryfaria/Documents/cefet/TCC2/tcc-mcs/env/lib/python3.9/site-packages/sklearn/neural_network/_multilayer_perceptron.py:541: ConvergenceWarning: lbfgs failed to converge (status=1):\n",
      "STOP: TOTAL NO. of ITERATIONS REACHED LIMIT.\n",
      "\n",
      "Increase the number of iterations (max_iter) or scale the data as shown in:\n",
      "    https://scikit-learn.org/stable/modules/preprocessing.html\n",
      "  self.n_iter_ = _check_optimize_result(\"lbfgs\", opt_res, self.max_iter)\n",
      "/Users/iuryfaria/Documents/cefet/TCC2/tcc-mcs/env/lib/python3.9/site-packages/sklearn/neural_network/_multilayer_perceptron.py:541: ConvergenceWarning: lbfgs failed to converge (status=1):\n",
      "STOP: TOTAL NO. of ITERATIONS REACHED LIMIT.\n",
      "\n",
      "Increase the number of iterations (max_iter) or scale the data as shown in:\n",
      "    https://scikit-learn.org/stable/modules/preprocessing.html\n",
      "  self.n_iter_ = _check_optimize_result(\"lbfgs\", opt_res, self.max_iter)\n"
     ]
    },
    {
     "name": "stdout",
     "output_type": "stream",
     "text": [
      "NEURAL_NETWORK 0.6516447764790939\n"
     ]
    },
    {
     "name": "stderr",
     "output_type": "stream",
     "text": [
      "/Users/iuryfaria/Documents/cefet/TCC2/tcc-mcs/env/lib/python3.9/site-packages/sklearn/linear_model/_logistic.py:458: ConvergenceWarning: lbfgs failed to converge (status=1):\n",
      "STOP: TOTAL NO. of f AND g EVALUATIONS EXCEEDS LIMIT.\n",
      "\n",
      "Increase the number of iterations (max_iter) or scale the data as shown in:\n",
      "    https://scikit-learn.org/stable/modules/preprocessing.html\n",
      "Please also refer to the documentation for alternative solver options:\n",
      "    https://scikit-learn.org/stable/modules/linear_model.html#logistic-regression\n",
      "  n_iter_i = _check_optimize_result(\n",
      "/Users/iuryfaria/Documents/cefet/TCC2/tcc-mcs/env/lib/python3.9/site-packages/sklearn/linear_model/_logistic.py:458: ConvergenceWarning: lbfgs failed to converge (status=1):\n",
      "STOP: TOTAL NO. of f AND g EVALUATIONS EXCEEDS LIMIT.\n",
      "\n",
      "Increase the number of iterations (max_iter) or scale the data as shown in:\n",
      "    https://scikit-learn.org/stable/modules/preprocessing.html\n",
      "Please also refer to the documentation for alternative solver options:\n",
      "    https://scikit-learn.org/stable/modules/linear_model.html#logistic-regression\n",
      "  n_iter_i = _check_optimize_result(\n",
      "/Users/iuryfaria/Documents/cefet/TCC2/tcc-mcs/env/lib/python3.9/site-packages/sklearn/linear_model/_logistic.py:458: ConvergenceWarning: lbfgs failed to converge (status=1):\n",
      "STOP: TOTAL NO. of f AND g EVALUATIONS EXCEEDS LIMIT.\n",
      "\n",
      "Increase the number of iterations (max_iter) or scale the data as shown in:\n",
      "    https://scikit-learn.org/stable/modules/preprocessing.html\n",
      "Please also refer to the documentation for alternative solver options:\n",
      "    https://scikit-learn.org/stable/modules/linear_model.html#logistic-regression\n",
      "  n_iter_i = _check_optimize_result(\n",
      "/Users/iuryfaria/Documents/cefet/TCC2/tcc-mcs/env/lib/python3.9/site-packages/sklearn/linear_model/_logistic.py:458: ConvergenceWarning: lbfgs failed to converge (status=1):\n",
      "STOP: TOTAL NO. of f AND g EVALUATIONS EXCEEDS LIMIT.\n",
      "\n",
      "Increase the number of iterations (max_iter) or scale the data as shown in:\n",
      "    https://scikit-learn.org/stable/modules/preprocessing.html\n",
      "Please also refer to the documentation for alternative solver options:\n",
      "    https://scikit-learn.org/stable/modules/linear_model.html#logistic-regression\n",
      "  n_iter_i = _check_optimize_result(\n",
      "/Users/iuryfaria/Documents/cefet/TCC2/tcc-mcs/env/lib/python3.9/site-packages/sklearn/linear_model/_logistic.py:458: ConvergenceWarning: lbfgs failed to converge (status=1):\n",
      "STOP: TOTAL NO. of f AND g EVALUATIONS EXCEEDS LIMIT.\n",
      "\n",
      "Increase the number of iterations (max_iter) or scale the data as shown in:\n",
      "    https://scikit-learn.org/stable/modules/preprocessing.html\n",
      "Please also refer to the documentation for alternative solver options:\n",
      "    https://scikit-learn.org/stable/modules/linear_model.html#logistic-regression\n",
      "  n_iter_i = _check_optimize_result(\n",
      "/Users/iuryfaria/Documents/cefet/TCC2/tcc-mcs/env/lib/python3.9/site-packages/sklearn/linear_model/_logistic.py:458: ConvergenceWarning: lbfgs failed to converge (status=1):\n",
      "STOP: TOTAL NO. of f AND g EVALUATIONS EXCEEDS LIMIT.\n",
      "\n",
      "Increase the number of iterations (max_iter) or scale the data as shown in:\n",
      "    https://scikit-learn.org/stable/modules/preprocessing.html\n",
      "Please also refer to the documentation for alternative solver options:\n",
      "    https://scikit-learn.org/stable/modules/linear_model.html#logistic-regression\n",
      "  n_iter_i = _check_optimize_result(\n",
      "/Users/iuryfaria/Documents/cefet/TCC2/tcc-mcs/env/lib/python3.9/site-packages/sklearn/linear_model/_logistic.py:458: ConvergenceWarning: lbfgs failed to converge (status=1):\n",
      "STOP: TOTAL NO. of f AND g EVALUATIONS EXCEEDS LIMIT.\n",
      "\n",
      "Increase the number of iterations (max_iter) or scale the data as shown in:\n",
      "    https://scikit-learn.org/stable/modules/preprocessing.html\n",
      "Please also refer to the documentation for alternative solver options:\n",
      "    https://scikit-learn.org/stable/modules/linear_model.html#logistic-regression\n",
      "  n_iter_i = _check_optimize_result(\n",
      "/Users/iuryfaria/Documents/cefet/TCC2/tcc-mcs/env/lib/python3.9/site-packages/sklearn/linear_model/_logistic.py:458: ConvergenceWarning: lbfgs failed to converge (status=1):\n",
      "STOP: TOTAL NO. of f AND g EVALUATIONS EXCEEDS LIMIT.\n",
      "\n",
      "Increase the number of iterations (max_iter) or scale the data as shown in:\n",
      "    https://scikit-learn.org/stable/modules/preprocessing.html\n",
      "Please also refer to the documentation for alternative solver options:\n",
      "    https://scikit-learn.org/stable/modules/linear_model.html#logistic-regression\n",
      "  n_iter_i = _check_optimize_result(\n",
      "/Users/iuryfaria/Documents/cefet/TCC2/tcc-mcs/env/lib/python3.9/site-packages/sklearn/linear_model/_logistic.py:458: ConvergenceWarning: lbfgs failed to converge (status=1):\n",
      "STOP: TOTAL NO. of f AND g EVALUATIONS EXCEEDS LIMIT.\n",
      "\n",
      "Increase the number of iterations (max_iter) or scale the data as shown in:\n",
      "    https://scikit-learn.org/stable/modules/preprocessing.html\n",
      "Please also refer to the documentation for alternative solver options:\n",
      "    https://scikit-learn.org/stable/modules/linear_model.html#logistic-regression\n",
      "  n_iter_i = _check_optimize_result(\n",
      "/Users/iuryfaria/Documents/cefet/TCC2/tcc-mcs/env/lib/python3.9/site-packages/sklearn/linear_model/_logistic.py:458: ConvergenceWarning: lbfgs failed to converge (status=1):\n",
      "STOP: TOTAL NO. of f AND g EVALUATIONS EXCEEDS LIMIT.\n",
      "\n",
      "Increase the number of iterations (max_iter) or scale the data as shown in:\n",
      "    https://scikit-learn.org/stable/modules/preprocessing.html\n",
      "Please also refer to the documentation for alternative solver options:\n",
      "    https://scikit-learn.org/stable/modules/linear_model.html#logistic-regression\n",
      "  n_iter_i = _check_optimize_result(\n"
     ]
    },
    {
     "name": "stdout",
     "output_type": "stream",
     "text": [
      "LOGISTIC_REGRESSION 0.8161224243884806\n",
      "XG_BOOST 0.8393782383419689\n"
     ]
    }
   ],
   "source": [
    "real_return_bagging = {}\n",
    "count = 0\n",
    "for classifier in real_return_classifiers:\n",
    "  estimator = classifiers_real_return[classifier]\n",
    "  real_return_bagging[classifier] = BaggingClassifier(estimator=estimator, n_jobs=-1)\n",
    "  real_return_bagging[classifier].fit(X_real_return_train, y_real_return_train)\n",
    "\n",
    "  file.write(f\"Real Return: {classifier}, {real_return_bagging[classifier].score(X_real_return_test, y_real_return_test)}\\n\")\n",
    "  print(classifier, real_return_bagging[classifier].score(X_real_return_test, y_real_return_test))\n",
    "  "
   ]
  },
  {
   "attachments": {},
   "cell_type": "markdown",
   "metadata": {},
   "source": [
    "Risk"
   ]
  },
  {
   "cell_type": "code",
   "execution_count": 62,
   "metadata": {},
   "outputs": [
    {
     "name": "stdout",
     "output_type": "stream",
     "text": [
      "RANDOM_FOREST 0.5206651403783589\n",
      "DECISION_TREE 0.4852391854440294\n"
     ]
    },
    {
     "name": "stderr",
     "output_type": "stream",
     "text": [
      "/Users/iuryfaria/Documents/cefet/TCC2/tcc-mcs/env/lib/python3.9/site-packages/sklearn/neural_network/_multilayer_perceptron.py:541: ConvergenceWarning: lbfgs failed to converge (status=1):\n",
      "STOP: TOTAL NO. of ITERATIONS REACHED LIMIT.\n",
      "\n",
      "Increase the number of iterations (max_iter) or scale the data as shown in:\n",
      "    https://scikit-learn.org/stable/modules/preprocessing.html\n",
      "  self.n_iter_ = _check_optimize_result(\"lbfgs\", opt_res, self.max_iter)\n",
      "/Users/iuryfaria/Documents/cefet/TCC2/tcc-mcs/env/lib/python3.9/site-packages/sklearn/neural_network/_multilayer_perceptron.py:541: ConvergenceWarning: lbfgs failed to converge (status=1):\n",
      "STOP: TOTAL NO. of ITERATIONS REACHED LIMIT.\n",
      "\n",
      "Increase the number of iterations (max_iter) or scale the data as shown in:\n",
      "    https://scikit-learn.org/stable/modules/preprocessing.html\n",
      "  self.n_iter_ = _check_optimize_result(\"lbfgs\", opt_res, self.max_iter)\n",
      "/Users/iuryfaria/Documents/cefet/TCC2/tcc-mcs/env/lib/python3.9/site-packages/sklearn/neural_network/_multilayer_perceptron.py:541: ConvergenceWarning: lbfgs failed to converge (status=1):\n",
      "STOP: TOTAL NO. of ITERATIONS REACHED LIMIT.\n",
      "\n",
      "Increase the number of iterations (max_iter) or scale the data as shown in:\n",
      "    https://scikit-learn.org/stable/modules/preprocessing.html\n",
      "  self.n_iter_ = _check_optimize_result(\"lbfgs\", opt_res, self.max_iter)\n",
      "/Users/iuryfaria/Documents/cefet/TCC2/tcc-mcs/env/lib/python3.9/site-packages/sklearn/neural_network/_multilayer_perceptron.py:541: ConvergenceWarning: lbfgs failed to converge (status=1):\n",
      "STOP: TOTAL NO. of ITERATIONS REACHED LIMIT.\n",
      "\n",
      "Increase the number of iterations (max_iter) or scale the data as shown in:\n",
      "    https://scikit-learn.org/stable/modules/preprocessing.html\n",
      "  self.n_iter_ = _check_optimize_result(\"lbfgs\", opt_res, self.max_iter)\n",
      "/Users/iuryfaria/Documents/cefet/TCC2/tcc-mcs/env/lib/python3.9/site-packages/sklearn/neural_network/_multilayer_perceptron.py:541: ConvergenceWarning: lbfgs failed to converge (status=1):\n",
      "STOP: TOTAL NO. of ITERATIONS REACHED LIMIT.\n",
      "\n",
      "Increase the number of iterations (max_iter) or scale the data as shown in:\n",
      "    https://scikit-learn.org/stable/modules/preprocessing.html\n",
      "  self.n_iter_ = _check_optimize_result(\"lbfgs\", opt_res, self.max_iter)\n",
      "/Users/iuryfaria/Documents/cefet/TCC2/tcc-mcs/env/lib/python3.9/site-packages/sklearn/neural_network/_multilayer_perceptron.py:541: ConvergenceWarning: lbfgs failed to converge (status=1):\n",
      "STOP: TOTAL NO. of ITERATIONS REACHED LIMIT.\n",
      "\n",
      "Increase the number of iterations (max_iter) or scale the data as shown in:\n",
      "    https://scikit-learn.org/stable/modules/preprocessing.html\n",
      "  self.n_iter_ = _check_optimize_result(\"lbfgs\", opt_res, self.max_iter)\n",
      "/Users/iuryfaria/Documents/cefet/TCC2/tcc-mcs/env/lib/python3.9/site-packages/sklearn/neural_network/_multilayer_perceptron.py:541: ConvergenceWarning: lbfgs failed to converge (status=1):\n",
      "STOP: TOTAL NO. of ITERATIONS REACHED LIMIT.\n",
      "\n",
      "Increase the number of iterations (max_iter) or scale the data as shown in:\n",
      "    https://scikit-learn.org/stable/modules/preprocessing.html\n",
      "  self.n_iter_ = _check_optimize_result(\"lbfgs\", opt_res, self.max_iter)\n",
      "/Users/iuryfaria/Documents/cefet/TCC2/tcc-mcs/env/lib/python3.9/site-packages/sklearn/neural_network/_multilayer_perceptron.py:541: ConvergenceWarning: lbfgs failed to converge (status=1):\n",
      "STOP: TOTAL NO. of ITERATIONS REACHED LIMIT.\n",
      "\n",
      "Increase the number of iterations (max_iter) or scale the data as shown in:\n",
      "    https://scikit-learn.org/stable/modules/preprocessing.html\n",
      "  self.n_iter_ = _check_optimize_result(\"lbfgs\", opt_res, self.max_iter)\n",
      "/Users/iuryfaria/Documents/cefet/TCC2/tcc-mcs/env/lib/python3.9/site-packages/sklearn/neural_network/_multilayer_perceptron.py:541: ConvergenceWarning: lbfgs failed to converge (status=1):\n",
      "STOP: TOTAL NO. of ITERATIONS REACHED LIMIT.\n",
      "\n",
      "Increase the number of iterations (max_iter) or scale the data as shown in:\n",
      "    https://scikit-learn.org/stable/modules/preprocessing.html\n",
      "  self.n_iter_ = _check_optimize_result(\"lbfgs\", opt_res, self.max_iter)\n",
      "/Users/iuryfaria/Documents/cefet/TCC2/tcc-mcs/env/lib/python3.9/site-packages/sklearn/neural_network/_multilayer_perceptron.py:541: ConvergenceWarning: lbfgs failed to converge (status=1):\n",
      "STOP: TOTAL NO. of ITERATIONS REACHED LIMIT.\n",
      "\n",
      "Increase the number of iterations (max_iter) or scale the data as shown in:\n",
      "    https://scikit-learn.org/stable/modules/preprocessing.html\n",
      "  self.n_iter_ = _check_optimize_result(\"lbfgs\", opt_res, self.max_iter)\n"
     ]
    },
    {
     "name": "stdout",
     "output_type": "stream",
     "text": [
      "NEURAL_NETWORK 0.44258344378840825\n",
      "XG_BOOST 0.5280154235450054\n"
     ]
    }
   ],
   "source": [
    "risk_bagging = {}\n",
    "\n",
    "for classifier in risk_classifiers:\n",
    "  estimator = classifiers_risk[classifier]\n",
    "  risk_bagging[classifier] = BaggingClassifier(estimator=estimator, n_jobs=-1)\n",
    "  risk_bagging[classifier].fit(X_risk_train, y_risk_train)\n",
    "\n",
    "  file.write(f\"Risk: {classifier}, {risk_bagging[classifier].score(X_risk_test, y_risk_test)}\\n\")\n",
    "  print(classifier, risk_bagging[classifier].score(X_risk_test, y_risk_test))"
   ]
  },
  {
   "attachments": {},
   "cell_type": "markdown",
   "metadata": {},
   "source": [
    "##### AdaBoost"
   ]
  },
  {
   "cell_type": "code",
   "execution_count": 63,
   "metadata": {},
   "outputs": [
    {
     "data": {
      "text/plain": [
       "28"
      ]
     },
     "execution_count": 63,
     "metadata": {},
     "output_type": "execute_result"
    }
   ],
   "source": [
    "file.write(\"\\n######## ADABOOST ########\\n\")"
   ]
  },
  {
   "attachments": {},
   "cell_type": "markdown",
   "metadata": {},
   "source": [
    "Real Return"
   ]
  },
  {
   "cell_type": "code",
   "execution_count": 64,
   "metadata": {},
   "outputs": [
    {
     "name": "stdout",
     "output_type": "stream",
     "text": [
      "RANDOM_FOREST 0.8399807205687432\n",
      "DECISION_TREE 0.7847933485962164\n",
      "NEURAL_NETWORK Não utilizado\n"
     ]
    },
    {
     "name": "stderr",
     "output_type": "stream",
     "text": [
      "/Users/iuryfaria/Documents/cefet/TCC2/tcc-mcs/env/lib/python3.9/site-packages/sklearn/linear_model/_logistic.py:458: ConvergenceWarning: lbfgs failed to converge (status=1):\n",
      "STOP: TOTAL NO. of f AND g EVALUATIONS EXCEEDS LIMIT.\n",
      "\n",
      "Increase the number of iterations (max_iter) or scale the data as shown in:\n",
      "    https://scikit-learn.org/stable/modules/preprocessing.html\n",
      "Please also refer to the documentation for alternative solver options:\n",
      "    https://scikit-learn.org/stable/modules/linear_model.html#logistic-regression\n",
      "  n_iter_i = _check_optimize_result(\n",
      "/Users/iuryfaria/Documents/cefet/TCC2/tcc-mcs/env/lib/python3.9/site-packages/sklearn/linear_model/_logistic.py:458: ConvergenceWarning: lbfgs failed to converge (status=1):\n",
      "STOP: TOTAL NO. of f AND g EVALUATIONS EXCEEDS LIMIT.\n",
      "\n",
      "Increase the number of iterations (max_iter) or scale the data as shown in:\n",
      "    https://scikit-learn.org/stable/modules/preprocessing.html\n",
      "Please also refer to the documentation for alternative solver options:\n",
      "    https://scikit-learn.org/stable/modules/linear_model.html#logistic-regression\n",
      "  n_iter_i = _check_optimize_result(\n",
      "/Users/iuryfaria/Documents/cefet/TCC2/tcc-mcs/env/lib/python3.9/site-packages/sklearn/linear_model/_logistic.py:458: ConvergenceWarning: lbfgs failed to converge (status=1):\n",
      "STOP: TOTAL NO. of f AND g EVALUATIONS EXCEEDS LIMIT.\n",
      "\n",
      "Increase the number of iterations (max_iter) or scale the data as shown in:\n",
      "    https://scikit-learn.org/stable/modules/preprocessing.html\n",
      "Please also refer to the documentation for alternative solver options:\n",
      "    https://scikit-learn.org/stable/modules/linear_model.html#logistic-regression\n",
      "  n_iter_i = _check_optimize_result(\n",
      "/Users/iuryfaria/Documents/cefet/TCC2/tcc-mcs/env/lib/python3.9/site-packages/sklearn/linear_model/_logistic.py:458: ConvergenceWarning: lbfgs failed to converge (status=1):\n",
      "STOP: TOTAL NO. of f AND g EVALUATIONS EXCEEDS LIMIT.\n",
      "\n",
      "Increase the number of iterations (max_iter) or scale the data as shown in:\n",
      "    https://scikit-learn.org/stable/modules/preprocessing.html\n",
      "Please also refer to the documentation for alternative solver options:\n",
      "    https://scikit-learn.org/stable/modules/linear_model.html#logistic-regression\n",
      "  n_iter_i = _check_optimize_result(\n",
      "/Users/iuryfaria/Documents/cefet/TCC2/tcc-mcs/env/lib/python3.9/site-packages/sklearn/linear_model/_logistic.py:458: ConvergenceWarning: lbfgs failed to converge (status=1):\n",
      "STOP: TOTAL NO. of f AND g EVALUATIONS EXCEEDS LIMIT.\n",
      "\n",
      "Increase the number of iterations (max_iter) or scale the data as shown in:\n",
      "    https://scikit-learn.org/stable/modules/preprocessing.html\n",
      "Please also refer to the documentation for alternative solver options:\n",
      "    https://scikit-learn.org/stable/modules/linear_model.html#logistic-regression\n",
      "  n_iter_i = _check_optimize_result(\n",
      "/Users/iuryfaria/Documents/cefet/TCC2/tcc-mcs/env/lib/python3.9/site-packages/sklearn/linear_model/_logistic.py:458: ConvergenceWarning: lbfgs failed to converge (status=1):\n",
      "STOP: TOTAL NO. of f AND g EVALUATIONS EXCEEDS LIMIT.\n",
      "\n",
      "Increase the number of iterations (max_iter) or scale the data as shown in:\n",
      "    https://scikit-learn.org/stable/modules/preprocessing.html\n",
      "Please also refer to the documentation for alternative solver options:\n",
      "    https://scikit-learn.org/stable/modules/linear_model.html#logistic-regression\n",
      "  n_iter_i = _check_optimize_result(\n",
      "/Users/iuryfaria/Documents/cefet/TCC2/tcc-mcs/env/lib/python3.9/site-packages/sklearn/linear_model/_logistic.py:458: ConvergenceWarning: lbfgs failed to converge (status=1):\n",
      "STOP: TOTAL NO. of f AND g EVALUATIONS EXCEEDS LIMIT.\n",
      "\n",
      "Increase the number of iterations (max_iter) or scale the data as shown in:\n",
      "    https://scikit-learn.org/stable/modules/preprocessing.html\n",
      "Please also refer to the documentation for alternative solver options:\n",
      "    https://scikit-learn.org/stable/modules/linear_model.html#logistic-regression\n",
      "  n_iter_i = _check_optimize_result(\n",
      "/Users/iuryfaria/Documents/cefet/TCC2/tcc-mcs/env/lib/python3.9/site-packages/sklearn/linear_model/_logistic.py:458: ConvergenceWarning: lbfgs failed to converge (status=1):\n",
      "STOP: TOTAL NO. of f AND g EVALUATIONS EXCEEDS LIMIT.\n",
      "\n",
      "Increase the number of iterations (max_iter) or scale the data as shown in:\n",
      "    https://scikit-learn.org/stable/modules/preprocessing.html\n",
      "Please also refer to the documentation for alternative solver options:\n",
      "    https://scikit-learn.org/stable/modules/linear_model.html#logistic-regression\n",
      "  n_iter_i = _check_optimize_result(\n",
      "/Users/iuryfaria/Documents/cefet/TCC2/tcc-mcs/env/lib/python3.9/site-packages/sklearn/linear_model/_logistic.py:458: ConvergenceWarning: lbfgs failed to converge (status=1):\n",
      "STOP: TOTAL NO. of f AND g EVALUATIONS EXCEEDS LIMIT.\n",
      "\n",
      "Increase the number of iterations (max_iter) or scale the data as shown in:\n",
      "    https://scikit-learn.org/stable/modules/preprocessing.html\n",
      "Please also refer to the documentation for alternative solver options:\n",
      "    https://scikit-learn.org/stable/modules/linear_model.html#logistic-regression\n",
      "  n_iter_i = _check_optimize_result(\n",
      "/Users/iuryfaria/Documents/cefet/TCC2/tcc-mcs/env/lib/python3.9/site-packages/sklearn/linear_model/_logistic.py:458: ConvergenceWarning: lbfgs failed to converge (status=1):\n",
      "STOP: TOTAL NO. of f AND g EVALUATIONS EXCEEDS LIMIT.\n",
      "\n",
      "Increase the number of iterations (max_iter) or scale the data as shown in:\n",
      "    https://scikit-learn.org/stable/modules/preprocessing.html\n",
      "Please also refer to the documentation for alternative solver options:\n",
      "    https://scikit-learn.org/stable/modules/linear_model.html#logistic-regression\n",
      "  n_iter_i = _check_optimize_result(\n",
      "/Users/iuryfaria/Documents/cefet/TCC2/tcc-mcs/env/lib/python3.9/site-packages/sklearn/linear_model/_logistic.py:458: ConvergenceWarning: lbfgs failed to converge (status=1):\n",
      "STOP: TOTAL NO. of f AND g EVALUATIONS EXCEEDS LIMIT.\n",
      "\n",
      "Increase the number of iterations (max_iter) or scale the data as shown in:\n",
      "    https://scikit-learn.org/stable/modules/preprocessing.html\n",
      "Please also refer to the documentation for alternative solver options:\n",
      "    https://scikit-learn.org/stable/modules/linear_model.html#logistic-regression\n",
      "  n_iter_i = _check_optimize_result(\n",
      "/Users/iuryfaria/Documents/cefet/TCC2/tcc-mcs/env/lib/python3.9/site-packages/sklearn/linear_model/_logistic.py:458: ConvergenceWarning: lbfgs failed to converge (status=1):\n",
      "STOP: TOTAL NO. of f AND g EVALUATIONS EXCEEDS LIMIT.\n",
      "\n",
      "Increase the number of iterations (max_iter) or scale the data as shown in:\n",
      "    https://scikit-learn.org/stable/modules/preprocessing.html\n",
      "Please also refer to the documentation for alternative solver options:\n",
      "    https://scikit-learn.org/stable/modules/linear_model.html#logistic-regression\n",
      "  n_iter_i = _check_optimize_result(\n"
     ]
    },
    {
     "name": "stdout",
     "output_type": "stream",
     "text": [
      "LOGISTIC_REGRESSION 0.646222436438125\n",
      "XG_BOOST 0.3214845162067719\n"
     ]
    }
   ],
   "source": [
    "real_return_adaboost = {}\n",
    "\n",
    "for classifier in real_return_classifiers:\n",
    "  estimator = classifiers_real_return[classifier]\n",
    "  try:\n",
    "    real_return_adaboost[classifier] = AdaBoostClassifier(estimator=estimator)\n",
    "    real_return_adaboost[classifier].fit(X_real_return_train, y_real_return_train)\n",
    "    file.write(f\"RealReturn: {classifier}, {real_return_adaboost[classifier].score(X_real_return_test, y_real_return_test)}\\n\")\n",
    "    print(classifier, real_return_adaboost[classifier].score(X_real_return_test, y_real_return_test))\n",
    "  except:\n",
    "    real_return_adaboost.pop(classifier)\n",
    "    print(classifier, \"Não utilizado\")\n"
   ]
  },
  {
   "attachments": {},
   "cell_type": "markdown",
   "metadata": {},
   "source": [
    "Risk"
   ]
  },
  {
   "cell_type": "code",
   "execution_count": 65,
   "metadata": {},
   "outputs": [
    {
     "name": "stdout",
     "output_type": "stream",
     "text": [
      "RANDOM_FOREST 0.5260874804193276\n",
      "DECISION_TREE 0.4688516688757682\n",
      "NEURAL_NETWORK Não utilizado\n",
      "XG_BOOST 0.30075912760573564\n"
     ]
    }
   ],
   "source": [
    "risk_adaboost = {}\n",
    "\n",
    "for classifier in risk_classifiers:\n",
    "  estimator = classifiers_risk[classifier]\n",
    "  try:\n",
    "    risk_adaboost[classifier] = AdaBoostClassifier(estimator=estimator)\n",
    "    risk_adaboost[classifier].fit(X_risk_train, y_risk_train)\n",
    "    file.write(f\"Risk: {classifier}, {risk_adaboost[classifier].score(X_risk_test, y_risk_test)}\\n\")\n",
    "    print(classifier, risk_adaboost[classifier].score(X_risk_test, y_risk_test))\n",
    "  except:\n",
    "    risk_adaboost.pop(classifier)\n",
    "    print(classifier, \"Não utilizado\")"
   ]
  },
  {
   "attachments": {},
   "cell_type": "markdown",
   "metadata": {},
   "source": [
    "#### Fusion"
   ]
  },
  {
   "cell_type": "code",
   "execution_count": 66,
   "metadata": {},
   "outputs": [],
   "source": [
    "model_fusion = xgboost.XGBClassifier()\n",
    "model_fusion_name = XG_BOOST"
   ]
  },
  {
   "cell_type": "code",
   "execution_count": 67,
   "metadata": {},
   "outputs": [
    {
     "data": {
      "text/plain": [
       "26"
      ]
     },
     "execution_count": 67,
     "metadata": {},
     "output_type": "execute_result"
    }
   ],
   "source": [
    "file.write(\"\\n######## FUSION ########\\n\")"
   ]
  },
  {
   "cell_type": "code",
   "execution_count": 68,
   "metadata": {},
   "outputs": [],
   "source": [
    "def fusion(fusion_model, models, X_data, y_data):\n",
    "  df_fusion = pd.DataFrame()\n",
    "\n",
    "  for model in models:\n",
    "    X_predict = models[model].predict(X_data)\n",
    "  \n",
    "    df_fusion[model] = X_predict\n",
    "\n",
    "  X_train, X_test, y_train, y_test = train_test_split(df_fusion, y_data, test_size=0.3, random_state=42)\n",
    "\n",
    "  print(X_train)\n",
    "  fusion_model.fit(X_train, y_train)\n",
    "  \n",
    "  return fusion_model.score(X_test, y_test)"
   ]
  },
  {
   "attachments": {},
   "cell_type": "markdown",
   "metadata": {},
   "source": [
    "##### Whitout diversity"
   ]
  },
  {
   "attachments": {},
   "cell_type": "markdown",
   "metadata": {},
   "source": [
    "Real Return"
   ]
  },
  {
   "cell_type": "code",
   "execution_count": 69,
   "metadata": {},
   "outputs": [
    {
     "name": "stdout",
     "output_type": "stream",
     "text": [
      "       RANDOM_FOREST  DECISION_TREE  NEURAL_NETWORK  LOGISTIC_REGRESSION  \\\n",
      "12914            0.0            0.0             0.0                  0.0   \n",
      "2968             1.0            1.0             2.0                  1.0   \n",
      "6603             0.0            0.0             0.0                  0.0   \n",
      "11423            2.0            2.0             2.0                  2.0   \n",
      "20901            0.0            0.0             0.0                  0.0   \n",
      "...              ...            ...             ...                  ...   \n",
      "21575            2.0            2.0             2.0                  2.0   \n",
      "5390             1.0            1.0             1.0                  1.0   \n",
      "860              1.0            1.0             1.0                  1.0   \n",
      "15795            1.0            1.0             1.0                  1.0   \n",
      "23654            2.0            2.0             2.0                  2.0   \n",
      "\n",
      "       XG_BOOST  \n",
      "12914         0  \n",
      "2968          1  \n",
      "6603          0  \n",
      "11423         2  \n",
      "20901         0  \n",
      "...         ...  \n",
      "21575         2  \n",
      "5390          2  \n",
      "860           1  \n",
      "15795         1  \n",
      "23654         2  \n",
      "\n",
      "[17713 rows x 5 columns]\n"
     ]
    },
    {
     "data": {
      "text/plain": [
       "0.9366438356164384"
      ]
     },
     "execution_count": 69,
     "metadata": {},
     "output_type": "execute_result"
    }
   ],
   "source": [
    "whiout_return = fusion(model_fusion, real_return_whitout_diversity, X_dataset_real_return, y_dataset_real_return)\n",
    "whiout_return"
   ]
  },
  {
   "attachments": {},
   "cell_type": "markdown",
   "metadata": {},
   "source": [
    "Risk"
   ]
  },
  {
   "cell_type": "code",
   "execution_count": 70,
   "metadata": {},
   "outputs": [
    {
     "name": "stdout",
     "output_type": "stream",
     "text": [
      "       RANDOM_FOREST  DECISION_TREE  NEURAL_NETWORK  XG_BOOST\n",
      "12914            1.0            0.0             0.0         1\n",
      "2968             2.0            1.0             2.0         2\n",
      "6603             0.0            2.0             0.0         0\n",
      "11423            2.0            2.0             2.0         2\n",
      "20901            0.0            1.0             0.0         0\n",
      "...              ...            ...             ...       ...\n",
      "21575            1.0            2.0             2.0         1\n",
      "5390             1.0            0.0             1.0         2\n",
      "860              1.0            0.0             0.0         0\n",
      "15795            0.0            0.0             0.0         0\n",
      "23654            2.0            2.0             2.0         2\n",
      "\n",
      "[17713 rows x 4 columns]\n"
     ]
    }
   ],
   "source": [
    "if len(risk_classifiers) > 0:\n",
    "  whiout_risk = fusion(model_fusion, risk_whitout_diversity, X_dataset_risk, y_dataset_risk)\n",
    "  whiout_risk"
   ]
  },
  {
   "cell_type": "code",
   "execution_count": 71,
   "metadata": {},
   "outputs": [
    {
     "data": {
      "text/plain": [
       "45"
      ]
     },
     "execution_count": 71,
     "metadata": {},
     "output_type": "execute_result"
    }
   ],
   "source": [
    "file.write(f\"[WHITOUT] [{model_fusion_name}] RealReturn: {whiout_return}\\n\")\n",
    "file.write(f\"[WHITOUT] [{model_fusion_name}] Risk: {whiout_risk}\\n\") if len(risk_classifiers) > 0 else file.write(f\"[WHITOUT] [{model_fusion_name}] Risk: -\\n\")"
   ]
  },
  {
   "attachments": {},
   "cell_type": "markdown",
   "metadata": {},
   "source": [
    "##### Bagging"
   ]
  },
  {
   "attachments": {},
   "cell_type": "markdown",
   "metadata": {},
   "source": [
    "Real Return"
   ]
  },
  {
   "cell_type": "code",
   "execution_count": 72,
   "metadata": {},
   "outputs": [
    {
     "name": "stdout",
     "output_type": "stream",
     "text": [
      "       RANDOM_FOREST  DECISION_TREE  NEURAL_NETWORK  LOGISTIC_REGRESSION  \\\n",
      "12914            0.0            0.0             0.0                  0.0   \n",
      "2968             1.0            1.0             2.0                  1.0   \n",
      "6603             0.0            0.0             0.0                  0.0   \n",
      "11423            2.0            2.0             2.0                  2.0   \n",
      "20901            0.0            0.0             0.0                  0.0   \n",
      "...              ...            ...             ...                  ...   \n",
      "21575            2.0            2.0             2.0                  2.0   \n",
      "5390             1.0            1.0             1.0                  1.0   \n",
      "860              1.0            1.0             1.0                  1.0   \n",
      "15795            1.0            1.0             1.0                  1.0   \n",
      "23654            2.0            2.0             2.0                  2.0   \n",
      "\n",
      "       XG_BOOST  \n",
      "12914       0.0  \n",
      "2968        2.0  \n",
      "6603        0.0  \n",
      "11423       2.0  \n",
      "20901       0.0  \n",
      "...         ...  \n",
      "21575       2.0  \n",
      "5390        2.0  \n",
      "860         1.0  \n",
      "15795       1.0  \n",
      "23654       2.0  \n",
      "\n",
      "[17713 rows x 5 columns]\n"
     ]
    },
    {
     "data": {
      "text/plain": [
       "0.9279504741833509"
      ]
     },
     "execution_count": 72,
     "metadata": {},
     "output_type": "execute_result"
    }
   ],
   "source": [
    "bagging_return = fusion(model_fusion, real_return_bagging, X_dataset_real_return, y_dataset_real_return)\n",
    "bagging_return"
   ]
  },
  {
   "attachments": {},
   "cell_type": "markdown",
   "metadata": {},
   "source": [
    "Risk"
   ]
  },
  {
   "cell_type": "code",
   "execution_count": 73,
   "metadata": {},
   "outputs": [
    {
     "name": "stdout",
     "output_type": "stream",
     "text": [
      "       RANDOM_FOREST  DECISION_TREE  NEURAL_NETWORK  XG_BOOST\n",
      "12914            1.0            0.0             0.0       1.0\n",
      "2968             2.0            2.0             2.0       2.0\n",
      "6603             0.0            0.0             0.0       0.0\n",
      "11423            2.0            2.0             2.0       2.0\n",
      "20901            0.0            0.0             0.0       0.0\n",
      "...              ...            ...             ...       ...\n",
      "21575            1.0            2.0             2.0       1.0\n",
      "5390             0.0            1.0             1.0       0.0\n",
      "860              0.0            1.0             0.0       0.0\n",
      "15795            0.0            0.0             0.0       0.0\n",
      "23654            2.0            2.0             2.0       2.0\n",
      "\n",
      "[17713 rows x 4 columns]\n"
     ]
    }
   ],
   "source": [
    "if len(risk_classifiers) > 0:\n",
    "  bagging_risk = fusion(model_fusion, risk_bagging, X_dataset_risk, y_dataset_risk)\n",
    "  bagging_risk"
   ]
  },
  {
   "cell_type": "code",
   "execution_count": 74,
   "metadata": {},
   "outputs": [
    {
     "data": {
      "text/plain": [
       "46"
      ]
     },
     "execution_count": 74,
     "metadata": {},
     "output_type": "execute_result"
    }
   ],
   "source": [
    "file.write(f\"[BAGGING] [{model_fusion_name}] RealReturn: {bagging_return}\\n\")\n",
    "file.write(f\"[BAGGING] [{model_fusion_name}] Risk: {bagging_risk}\\n\") if len(risk_classifiers) > 0 else file.write(f\"[BAGGING] [{model_fusion_name}] Risk: -\\n\")"
   ]
  },
  {
   "attachments": {},
   "cell_type": "markdown",
   "metadata": {},
   "source": [
    "##### AdaBoost"
   ]
  },
  {
   "attachments": {},
   "cell_type": "markdown",
   "metadata": {},
   "source": [
    "Real Return"
   ]
  },
  {
   "cell_type": "code",
   "execution_count": 75,
   "metadata": {},
   "outputs": [
    {
     "name": "stdout",
     "output_type": "stream",
     "text": [
      "       RANDOM_FOREST  DECISION_TREE  LOGISTIC_REGRESSION  XG_BOOST\n",
      "12914            0.0            0.0                  0.0       0.0\n",
      "2968             2.0            2.0                  2.0       0.0\n",
      "6603             0.0            0.0                  0.0       0.0\n",
      "11423            2.0            2.0                  2.0       0.0\n",
      "20901            0.0            0.0                  0.0       0.0\n",
      "...              ...            ...                  ...       ...\n",
      "21575            2.0            2.0                  2.0       0.0\n",
      "5390             2.0            2.0                  2.0       0.0\n",
      "860              1.0            1.0                  0.0       0.0\n",
      "15795            1.0            1.0                  0.0       0.0\n",
      "23654            2.0            2.0                  2.0       0.0\n",
      "\n",
      "[17713 rows x 4 columns]\n"
     ]
    },
    {
     "data": {
      "text/plain": [
       "0.9365121180189674"
      ]
     },
     "execution_count": 75,
     "metadata": {},
     "output_type": "execute_result"
    }
   ],
   "source": [
    "ada_return = fusion(model_fusion, real_return_adaboost, X_dataset_real_return, y_dataset_real_return)\n",
    "ada_return"
   ]
  },
  {
   "attachments": {},
   "cell_type": "markdown",
   "metadata": {},
   "source": [
    "Risk"
   ]
  },
  {
   "cell_type": "code",
   "execution_count": 76,
   "metadata": {},
   "outputs": [
    {
     "name": "stdout",
     "output_type": "stream",
     "text": [
      "       RANDOM_FOREST  DECISION_TREE  XG_BOOST\n",
      "12914            1.0            0.0       0.0\n",
      "2968             2.0            2.0       0.0\n",
      "6603             0.0            0.0       0.0\n",
      "11423            2.0            2.0       0.0\n",
      "20901            0.0            0.0       0.0\n",
      "...              ...            ...       ...\n",
      "21575            1.0            1.0       0.0\n",
      "5390             2.0            2.0       0.0\n",
      "860              1.0            1.0       0.0\n",
      "15795            0.0            0.0       0.0\n",
      "23654            2.0            2.0       0.0\n",
      "\n",
      "[17713 rows x 3 columns]\n"
     ]
    }
   ],
   "source": [
    "if len(risk_classifiers) > 0:\n",
    "  ada_risk = fusion(model_fusion, risk_adaboost, X_dataset_risk, y_dataset_risk)\n",
    "  ada_risk"
   ]
  },
  {
   "cell_type": "code",
   "execution_count": 77,
   "metadata": {},
   "outputs": [
    {
     "data": {
      "text/plain": [
       "47"
      ]
     },
     "execution_count": 77,
     "metadata": {},
     "output_type": "execute_result"
    }
   ],
   "source": [
    "file.write(f\"[ADABOOST] [{model_fusion_name}] RealReturn: {ada_return}\\n\")\n",
    "file.write(f\"[ADABOOST] [{model_fusion_name}] Risk: {ada_risk}\\n\") if len(risk_classifiers) > 0 else file.write(f\"[ADABOOST] [{model_fusion_name}] Risk: -\\n\")"
   ]
  },
  {
   "cell_type": "code",
   "execution_count": 78,
   "metadata": {},
   "outputs": [],
   "source": [
    "run_end_date = dt.datetime.now()\n",
    "file.write(f\"\\nEND: {run_end_date}\")\n",
    "file.write(f\"\\nTOTAL EXEC: {run_end_date-run_start_date}\")\n",
    "\n",
    "file.close()"
   ]
  }
 ],
 "metadata": {
  "kernelspec": {
   "display_name": "env",
   "language": "python",
   "name": "python3"
  },
  "language_info": {
   "codemirror_mode": {
    "name": "ipython",
    "version": 3
   },
   "file_extension": ".py",
   "mimetype": "text/x-python",
   "name": "python",
   "nbconvert_exporter": "python",
   "pygments_lexer": "ipython3",
   "version": "3.9.9"
  },
  "orig_nbformat": 4,
  "vscode": {
   "interpreter": {
    "hash": "cc8a3245a31a46333b724f0fa902266a4a2d307e3e7797c60732a355503841f0"
   }
  }
 },
 "nbformat": 4,
 "nbformat_minor": 2
}

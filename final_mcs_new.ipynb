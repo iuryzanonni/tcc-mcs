{
 "cells": [
  {
   "attachments": {},
   "cell_type": "markdown",
   "metadata": {},
   "source": [
    "# Multiple Classifiers Ensemble System (MCS)"
   ]
  },
  {
   "attachments": {},
   "cell_type": "markdown",
   "metadata": {},
   "source": [
    "#### Iury Zanonni de Faria"
   ]
  },
  {
   "attachments": {},
   "cell_type": "markdown",
   "metadata": {},
   "source": [
    "### Imports"
   ]
  },
  {
   "attachments": {},
   "cell_type": "markdown",
   "metadata": {},
   "source": [
    "#### General imports"
   ]
  },
  {
   "cell_type": "code",
   "execution_count": 1,
   "metadata": {},
   "outputs": [],
   "source": [
    "import pandas as pd\n",
    "import numpy as np\n",
    "import datetime as dt\n",
    "import statistics as st\n",
    "import matplotlib.pyplot as plt\n",
    "import warnings"
   ]
  },
  {
   "attachments": {},
   "cell_type": "markdown",
   "metadata": {},
   "source": [
    "#### Feature Selection imports"
   ]
  },
  {
   "cell_type": "code",
   "execution_count": 2,
   "metadata": {},
   "outputs": [],
   "source": [
    "from sklearn.feature_selection import mutual_info_classif\n",
    "# Info gain - weka"
   ]
  },
  {
   "attachments": {},
   "cell_type": "markdown",
   "metadata": {},
   "source": [
    "#### Diversity imports"
   ]
  },
  {
   "cell_type": "code",
   "execution_count": 3,
   "metadata": {},
   "outputs": [],
   "source": [
    "from sklearn.model_selection import KFold\n",
    "from sklearn.ensemble import BaggingClassifier\n",
    "from sklearn.ensemble import AdaBoostClassifier\n",
    "from sklearn.ensemble import GradientBoostingClassifier\n",
    "from sklearn.model_selection import cross_val_score"
   ]
  },
  {
   "attachments": {},
   "cell_type": "markdown",
   "metadata": {},
   "source": [
    "#### Classifiers imports"
   ]
  },
  {
   "cell_type": "code",
   "execution_count": 38,
   "metadata": {},
   "outputs": [],
   "source": [
    "import xgboost\n",
    "from sklearn.ensemble import RandomForestClassifier\n",
    "from sklearn.svm import SVC\n",
    "from sklearn.tree import DecisionTreeClassifier\n",
    "from sklearn.naive_bayes import BernoulliNB\n",
    "from sklearn.naive_bayes import GaussianNB\n",
    "from sklearn.neural_network import MLPClassifier\n",
    "from sklearn.linear_model import LogisticRegression\n"
   ]
  },
  {
   "attachments": {},
   "cell_type": "markdown",
   "metadata": {},
   "source": [
    "#### k-mean"
   ]
  },
  {
   "cell_type": "code",
   "execution_count": 5,
   "metadata": {},
   "outputs": [],
   "source": [
    "from sklearn.metrics import silhouette_score, silhouette_samples\n",
    "from sklearn.cluster import KMeans"
   ]
  },
  {
   "attachments": {},
   "cell_type": "markdown",
   "metadata": {},
   "source": [
    "### Settings"
   ]
  },
  {
   "cell_type": "code",
   "execution_count": 6,
   "metadata": {},
   "outputs": [],
   "source": [
    "DATA = ['Date', 'Current Ratio','Quick Ratio','Current Assets', 'Long-term debt to equity ratio', 'Share Holder Equity','Debt to Equity Ratio', 'Percentage of net profit to sale',\n",
    "'Percentage of operating profit to sale','Percentage of Gross profit to sale','ROA','ROE','EPS','P/E','P/S','Stock book value','Stock Price','ROI','MarketReturn', 'Company']\n",
    "\n",
    "DATA = ['Unnamed: 0', 'revenue','cost-goods-sold','gross-profit','research-development-expenses','selling-general-administrative-expenses','operating-expenses',\n",
    "'operating-income','total-non-operating-income-expense','pre-tax-income','total-provision-income-taxes','income-after-taxes','income-from-continuous-operations',\n",
    "'income-from-discontinued-operations','net-income','ebitda','ebit','basic-shares-outstanding','shares-outstanding','eps-basic-net-earnings-per-share',\n",
    "'eps-earnings-per-share-diluted','cash-on-hand','receivables-total','inventory','other-current-assets','total-current-assets','net-property-plant-equipment',\n",
    "'long-term-investments','goodwill-intangible-assets-total','other-long-term-assets','total-long-term-assets','total-assets','total-current-liabilities','long-term-debt',\n",
    "'other-non-current-liabilities','total-long-term-liabilities','total-liabilities','common-stock-net','retained-earnings-accumulated-deficit','comprehensive-income',\n",
    "'total-share-holder-equity','total-liabilities-share-holders-equity','net-income-loss','total-depreciation-amortization-cash-flow','other-non-cash-items','total-non-cash-items',\n",
    "'change-in-accounts-receivable','change-in-inventories','change-in-accounts-payable','change-in-assets-liabilities','total-change-in-assets-liabilities',\n",
    "'cash-flow-from-operating-activities','net-change-in-property-plant-equipment','net-change-in-intangible-assets','net-acquisitions-divestitures','investing-activities-other',\n",
    "'cash-flow-from-investing-activities','net-long-term-debt','net-current-debt','debt-issuance-retirement-net-total','net-common-equity-issued-repurchased',\n",
    "'net-total-equity-issued-repurchased','total-common-preferred-stock-dividends-paid','financial-activities-other','cash-flow-from-financial-activities',\n",
    "'net-cash-flow','stock-based-compensation','common-stock-dividends-paid','current-ratio','long-term-debt-capital','debt-equity-ratio','gross-margin',\n",
    "'operating-margin','ebit-margin','pre-tax-profit-margin','net-profit-margin','asset-turnover','inventory-turnover','receiveable-turnover','days-sales-in-receivables',\n",
    "'roe','return-on-tangible-equity','roa','roi','book-value-per-share','operating-cash-flow-per-share','free-cash-flow-per-share','net-change-in-short-term-investments',\n",
    "'net-change-in-long-term-investments','net-change-in-investments-total','other-operating-income-expenses','pre-paid-expenses','other-share-holders-equity','other-income',\n",
    "'ebitda-margin']\n",
    "\n",
    "REAL_RETURN_CLASS = \"RealReturnClass\"\n",
    "REAL_RETURN = \"RealReturn\"\n",
    "RISK_CLASS = 'RiskClass'\n",
    "RISK = \"Risk\"\n",
    "\n",
    "HIGH = 'high'\n",
    "MEDIUM = 'medium'\n",
    "LOW = 'low'\n",
    "\n",
    "DATE = 'Unnamed: 0'\n",
    "\n",
    "N_PERIODS = 2\n",
    "N_FEATURES = 20\n",
    "\n",
    "DATASET_PATH = 'new_dataset/process_final_{}.csv'.format(N_PERIODS)\n",
    "\n",
    "#Remove os warnings do notebook\n",
    "warnings.filterwarnings('ignore')"
   ]
  },
  {
   "attachments": {},
   "cell_type": "markdown",
   "metadata": {},
   "source": [
    "### Import dataset"
   ]
  },
  {
   "cell_type": "code",
   "execution_count": 7,
   "metadata": {},
   "outputs": [],
   "source": [
    "dataset = pd.read_csv(DATASET_PATH)"
   ]
  },
  {
   "attachments": {},
   "cell_type": "markdown",
   "metadata": {},
   "source": [
    "### Data Frequency"
   ]
  },
  {
   "cell_type": "code",
   "execution_count": 8,
   "metadata": {},
   "outputs": [
    {
     "data": {
      "image/png": "[encoded data removed]",
      "text/plain": [
       "<Figure size 1500x500 with 2 Axes>"
      ]
     },
     "metadata": {},
     "output_type": "display_data"
    }
   ],
   "source": [
    "def plotResults(dataset:pd.DataFrame, title_1:str, title_2:str):\n",
    "  fig, axes = plt.subplots(nrows=1, ncols=2)\n",
    "  fig.set_figwidth(15)\n",
    "  fig.set_figheight(5)\n",
    "\n",
    "  x = dataset[REAL_RETURN_CLASS].value_counts()\n",
    "  x.plot.bar(ax=axes[0])\n",
    "  axes[0].set_title(title_1)\n",
    "\n",
    "  x = dataset[RISK_CLASS].value_counts()\n",
    "  x.plot.bar(ax=axes[1])\n",
    "  axes[1].set_title(title_2)\n",
    "\n",
    "plotResults(dataset, \"Real Return\", \"Risk\")"
   ]
  },
  {
   "attachments": {},
   "cell_type": "markdown",
   "metadata": {},
   "source": [
    "### Feature Selection"
   ]
  },
  {
   "cell_type": "code",
   "execution_count": 9,
   "metadata": {},
   "outputs": [],
   "source": [
    "dataset = dataset.replace(to_replace=[HIGH], value=2.0)\n",
    "dataset = dataset.replace(to_replace=[MEDIUM], value=1.0)\n",
    "dataset = dataset.replace(to_replace=[LOW], value=0.0)\n",
    "\n",
    "dataset = dataset.replace(to_replace=[np.NaN], value=0.0)\n",
    "\n",
    "dataset_X = dataset.drop(columns=[REAL_RETURN_CLASS, REAL_RETURN, RISK_CLASS, RISK, DATE])\n",
    "dataset_y = dataset.drop(columns=DATA)"
   ]
  },
  {
   "attachments": {},
   "cell_type": "markdown",
   "metadata": {},
   "source": [
    "#### Real Return"
   ]
  },
  {
   "cell_type": "code",
   "execution_count": 10,
   "metadata": {},
   "outputs": [
    {
     "data": {
      "text/plain": [
       "[('book-value-per-share', 1.0781738725762178),\n",
       " ('total-liabilities-share-holders-equity', 1.0730975504432838),\n",
       " ('total-assets', 1.0730975504432838),\n",
       " ('return-on-tangible-equity', 1.0720236307826683),\n",
       " ('pre-tax-profit-margin', 1.0715423436623848),\n",
       " ('net-profit-margin', 1.0655457595048283),\n",
       " ('total-long-term-assets', 1.063440098960802),\n",
       " ('total-liabilities', 1.060025221503162),\n",
       " ('roe', 1.037837312201647),\n",
       " ('total-long-term-liabilities', 1.0371848786605442),\n",
       " ('roi', 1.0332105579822386),\n",
       " ('total-share-holder-equity', 1.0330730639322019),\n",
       " ('ebit-margin', 1.0308664906950786),\n",
       " ('operating-margin', 1.030584461918695),\n",
       " ('retained-earnings-accumulated-deficit', 1.0204939670787345),\n",
       " ('total-current-assets', 1.007819172959037),\n",
       " ('total-current-liabilities', 0.9908536271554558),\n",
       " ('roa', 0.9704110154244339),\n",
       " ('long-term-debt', 0.9535283875008169),\n",
       " ('net-property-plant-equipment', 0.9396579621468436),\n",
       " ('days-sales-in-receivables', 0.9325970570255593),\n",
       " ('revenue', 0.9285871438350695),\n",
       " ('gross-margin', 0.9199782302749142),\n",
       " ('cash-on-hand', 0.8827376162870679),\n",
       " ('operating-cash-flow-per-share', 0.8726149139875562),\n",
       " ('free-cash-flow-per-share', 0.8638509241695022),\n",
       " ('basic-shares-outstanding', 0.8580647539996842),\n",
       " ('goodwill-intangible-assets-total', 0.8579721073978199),\n",
       " ('shares-outstanding', 0.8573158621032708),\n",
       " ('cost-goods-sold', 0.8404154032679493),\n",
       " ('gross-profit', 0.8321073725737262),\n",
       " ('receivables-total', 0.8071334510682854),\n",
       " ('other-non-current-liabilities', 0.7878436643892397),\n",
       " ('ebitda', 0.7585085098366913),\n",
       " ('operating-income', 0.7564028479574151),\n",
       " ('other-long-term-assets', 0.7555675434166186),\n",
       " ('cash-flow-from-financial-activities', 0.7521296167973899),\n",
       " ('operating-expenses', 0.7512739808876826),\n",
       " ('receiveable-turnover', 0.7507291825992034),\n",
       " ('debt-equity-ratio', 0.743489336931822),\n",
       " ('ebit', 0.742052139243293),\n",
       " ('pre-tax-income', 0.740828536875842),\n",
       " ('cash-flow-from-operating-activities', 0.7365997805872257),\n",
       " ('current-ratio', 0.7343391255690748),\n",
       " ('comprehensive-income', 0.7329182400966678),\n",
       " ('income-after-taxes', 0.7146166517670385),\n",
       " ('income-from-continuous-operations', 0.7132399391339326),\n",
       " ('net-income', 0.7128903461215117),\n",
       " ('cash-flow-from-investing-activities', 0.7114024483455603),\n",
       " ('selling-general-administrative-expenses', 0.7054971409152891),\n",
       " ('net-cash-flow', 0.7030875496816189),\n",
       " ('net-income-loss', 0.7017278044959613),\n",
       " ('total-change-in-assets-liabilities', 0.6547272257950942),\n",
       " ('total-non-cash-items', 0.6390205044002996),\n",
       " ('inventory-turnover', 0.6144606189753654),\n",
       " ('debt-issuance-retirement-net-total', 0.6011367543402286),\n",
       " ('inventory', 0.5794108511929654),\n",
       " ('change-in-assets-liabilities', 0.5763686148071179),\n",
       " ('total-provision-income-taxes', 0.5762274019665014),\n",
       " ('other-non-cash-items', 0.5723968221818019),\n",
       " ('total-depreciation-amortization-cash-flow', 0.5719982118875),\n",
       " ('net-total-equity-issued-repurchased', 0.5673680183358936),\n",
       " ('net-change-in-property-plant-equipment', 0.5643438183508642),\n",
       " ('net-common-equity-issued-repurchased', 0.5621771393379498),\n",
       " ('net-long-term-debt', 0.5274613734144213),\n",
       " ('total-non-operating-income-expense', 0.5106264487323793),\n",
       " ('change-in-accounts-receivable', 0.5097433589735563),\n",
       " ('common-stock-net', 0.5085603526289056),\n",
       " ('long-term-debt-capital', 0.4654797156617334),\n",
       " ('financial-activities-other', 0.4555990902800032),\n",
       " ('net-change-in-investments-total', 0.4555968941318087),\n",
       " ('long-term-investments', 0.43561637653549246),\n",
       " ('asset-turnover', 0.40219208134813045),\n",
       " ('total-common-preferred-stock-dividends-paid', 0.3997376524273724),\n",
       " ('common-stock-dividends-paid', 0.39935702041039867),\n",
       " ('stock-based-compensation', 0.3896384480253511),\n",
       " ('investing-activities-other', 0.3801558662022172),\n",
       " ('pre-paid-expenses', 0.3757631249171827),\n",
       " ('other-current-assets', 0.37071599490059814),\n",
       " ('net-change-in-long-term-investments', 0.35916497024839406),\n",
       " ('change-in-inventories', 0.35700133996073913),\n",
       " ('change-in-accounts-payable', 0.34598156010057785),\n",
       " ('net-current-debt', 0.32566780956275737),\n",
       " ('net-acquisitions-divestitures', 0.29514229633073263),\n",
       " ('other-operating-income-expenses', 0.27588814525557265),\n",
       " ('net-change-in-short-term-investments', 0.26454482927264855),\n",
       " ('research-development-expenses', 0.2316276995137085),\n",
       " ('eps-basic-net-earnings-per-share', 0.22866661129572743),\n",
       " ('eps-earnings-per-share-diluted', 0.22681551402338068),\n",
       " ('income-from-discontinued-operations', 0.10879995970577236),\n",
       " ('net-change-in-intangible-assets', 0.05342093598933273),\n",
       " ('other-share-holders-equity', 0.0388624616823173),\n",
       " ('other-income', 0.006164918605963465),\n",
       " ('ebitda-margin', 0.0005220476393449905)]"
      ]
     },
     "execution_count": 10,
     "metadata": {},
     "output_type": "execute_result"
    }
   ],
   "source": [
    "rank_real_return = mutual_info_classif(dataset_X, dataset_y[REAL_RETURN_CLASS], discrete_features=True)\n",
    "\n",
    "result_real_return = {}\n",
    "\n",
    "for i in range(0, len(dataset_X.columns)):\n",
    "    result_real_return[dataset_X.columns[i]] = rank_real_return[i]\n",
    "\n",
    "final_ranking_real_return = sorted(result_real_return.items(), key=lambda x: x[1])\n",
    "final_ranking_real_return.reverse()\n",
    "final_ranking_real_return"
   ]
  },
  {
   "attachments": {},
   "cell_type": "markdown",
   "metadata": {},
   "source": [
    "#### Risk"
   ]
  },
  {
   "cell_type": "code",
   "execution_count": 11,
   "metadata": {},
   "outputs": [
    {
     "data": {
      "text/plain": [
       "[('book-value-per-share', 1.0784866809287685),\n",
       " ('total-liabilities-share-holders-equity', 1.0716668597392707),\n",
       " ('total-assets', 1.0716668597392707),\n",
       " ('pre-tax-profit-margin', 1.0713654930019336),\n",
       " ('net-profit-margin', 1.0648272532186995),\n",
       " ('return-on-tangible-equity', 1.0641284969009375),\n",
       " ('total-long-term-assets', 1.0614202187725474),\n",
       " ('total-liabilities', 1.0599517591343064),\n",
       " ('total-long-term-liabilities', 1.0361093780620672),\n",
       " ('total-share-holder-equity', 1.0352116158920783),\n",
       " ('ebit-margin', 1.0318595511234556),\n",
       " ('operating-margin', 1.0318226107738098),\n",
       " ('retained-earnings-accumulated-deficit', 1.0216322493402616),\n",
       " ('roe', 1.0153269192164784),\n",
       " ('total-current-assets', 1.006928473411139),\n",
       " ('total-current-liabilities', 0.9881403013559005),\n",
       " ('roi', 0.971769896256639),\n",
       " ('net-property-plant-equipment', 0.9307835159126874),\n",
       " ('revenue', 0.926023829434609),\n",
       " ('days-sales-in-receivables', 0.9203868010526002),\n",
       " ('long-term-debt', 0.9137434746678487),\n",
       " ('roa', 0.9127124989680939),\n",
       " ('gross-margin', 0.9006195406425702),\n",
       " ('cash-on-hand', 0.8803104755913218),\n",
       " ('operating-cash-flow-per-share', 0.8687617010313389),\n",
       " ('free-cash-flow-per-share', 0.8549258279908882),\n",
       " ('shares-outstanding', 0.8383256277725288),\n",
       " ('cost-goods-sold', 0.8360354523846091),\n",
       " ('basic-shares-outstanding', 0.8330416529663784),\n",
       " ('gross-profit', 0.8296413627181263),\n",
       " ('goodwill-intangible-assets-total', 0.8177127159847255),\n",
       " ('receivables-total', 0.8117027145681931),\n",
       " ('other-non-current-liabilities', 0.787525579925233),\n",
       " ('ebitda', 0.7555732768160895),\n",
       " ('other-long-term-assets', 0.7517652154338386),\n",
       " ('operating-expenses', 0.7488307403515001),\n",
       " ('cash-flow-from-financial-activities', 0.7445902265667641),\n",
       " ('operating-income', 0.7338000436882125),\n",
       " ('cash-flow-from-operating-activities', 0.7330629070473993),\n",
       " ('receiveable-turnover', 0.7329639726096024),\n",
       " ('comprehensive-income', 0.727576904876317),\n",
       " ('ebit', 0.726559144169959),\n",
       " ('pre-tax-income', 0.7140552557683839),\n",
       " ('current-ratio', 0.7104923631879829),\n",
       " ('cash-flow-from-investing-activities', 0.708094915552759),\n",
       " ('debt-equity-ratio', 0.7080292448555564),\n",
       " ('net-cash-flow', 0.7052146151004007),\n",
       " ('selling-general-administrative-expenses', 0.6981894933726309),\n",
       " ('income-after-taxes', 0.6850049139957788),\n",
       " ('income-from-continuous-operations', 0.6848510672338685),\n",
       " ('net-income', 0.6822821632495418),\n",
       " ('net-income-loss', 0.6746924883999412),\n",
       " ('total-change-in-assets-liabilities', 0.65610060915418),\n",
       " ('total-non-cash-items', 0.6282035795877592),\n",
       " ('inventory-turnover', 0.6150374319971976),\n",
       " ('debt-issuance-retirement-net-total', 0.5798092493530944),\n",
       " ('change-in-assets-liabilities', 0.5765837800162221),\n",
       " ('inventory', 0.571933861111174),\n",
       " ('other-non-cash-items', 0.5631393355780893),\n",
       " ('total-depreciation-amortization-cash-flow', 0.557834236621245),\n",
       " ('net-change-in-property-plant-equipment', 0.5540705422439973),\n",
       " ('total-provision-income-taxes', 0.5410782424994549),\n",
       " ('net-total-equity-issued-repurchased', 0.5400721066181304),\n",
       " ('net-common-equity-issued-repurchased', 0.5342459295116104),\n",
       " ('change-in-accounts-receivable', 0.5099646040672289),\n",
       " ('net-long-term-debt', 0.49460887940584036),\n",
       " ('total-non-operating-income-expense', 0.4841403714361198),\n",
       " ('financial-activities-other', 0.4521187939272857),\n",
       " ('net-change-in-investments-total', 0.449869356236204),\n",
       " ('long-term-investments', 0.43007264537040146),\n",
       " ('long-term-debt-capital', 0.40923057439988525),\n",
       " ('common-stock-net', 0.40872093389001424),\n",
       " ('total-common-preferred-stock-dividends-paid', 0.3843333203721611),\n",
       " ('common-stock-dividends-paid', 0.38373335925519225),\n",
       " ('other-current-assets', 0.373720567732318),\n",
       " ('pre-paid-expenses', 0.3704607266775851),\n",
       " ('investing-activities-other', 0.3632502147387416),\n",
       " ('stock-based-compensation', 0.3590554562631703),\n",
       " ('change-in-inventories', 0.3547221434571975),\n",
       " ('net-change-in-long-term-investments', 0.3483727485741426),\n",
       " ('change-in-accounts-payable', 0.34450392277986847),\n",
       " ('net-current-debt', 0.322930923638627),\n",
       " ('net-acquisitions-divestitures', 0.294315827664979),\n",
       " ('asset-turnover', 0.29239418870772604),\n",
       " ('other-operating-income-expenses', 0.2678014043246724),\n",
       " ('net-change-in-short-term-investments', 0.26263058599635775),\n",
       " ('research-development-expenses', 0.22763625543255747),\n",
       " ('eps-basic-net-earnings-per-share', 0.13129706718182982),\n",
       " ('eps-earnings-per-share-diluted', 0.12783016354510895),\n",
       " ('income-from-discontinued-operations', 0.09797865164894998),\n",
       " ('net-change-in-intangible-assets', 0.05138601578877683),\n",
       " ('other-share-holders-equity', 0.03445127557618123),\n",
       " ('other-income', 0.00620695630055435),\n",
       " ('ebitda-margin', 0.00052108580547063)]"
      ]
     },
     "execution_count": 11,
     "metadata": {},
     "output_type": "execute_result"
    }
   ],
   "source": [
    "rank_risk = mutual_info_classif(dataset_X, dataset_y[RISK_CLASS], discrete_features=True)\n",
    "\n",
    "result_risk = {}\n",
    "\n",
    "for i in range(0, len(dataset_X.columns)):\n",
    "    result_risk[dataset_X.columns[i]] = rank_risk[i]\n",
    "\n",
    "final_ranking_risk = sorted(result_risk.items(), key=lambda x: x[1])\n",
    "final_ranking_risk.reverse()\n",
    "final_ranking_risk"
   ]
  },
  {
   "cell_type": "code",
   "execution_count": 12,
   "metadata": {},
   "outputs": [],
   "source": [
    "def getColumnsRank(rank: list):\n",
    "  ranking = []\n",
    "  for column in rank:\n",
    "    ranking.append(column[0])\n",
    "    \n",
    "  return ranking"
   ]
  },
  {
   "cell_type": "code",
   "execution_count": 13,
   "metadata": {},
   "outputs": [],
   "source": [
    "features_real_return = getColumnsRank(final_ranking_real_return)[:N_FEATURES]\n",
    "features_risk = getColumnsRank(final_ranking_risk)[:N_FEATURES]"
   ]
  },
  {
   "attachments": {},
   "cell_type": "markdown",
   "metadata": {},
   "source": [
    "### SSCA"
   ]
  },
  {
   "attachments": {},
   "cell_type": "markdown",
   "metadata": {},
   "source": [
    "O cálculo será feito com o número total de features ou somente com as 15 mais bem ranqueadas?"
   ]
  },
  {
   "cell_type": "code",
   "execution_count": 14,
   "metadata": {},
   "outputs": [
    {
     "data": {
      "text/html": [
       "<div>\n",
       "<style scoped>\n",
       "    .dataframe tbody tr th:only-of-type {\n",
       "        vertical-align: middle;\n",
       "    }\n",
       "\n",
       "    .dataframe tbody tr th {\n",
       "        vertical-align: top;\n",
       "    }\n",
       "\n",
       "    .dataframe thead th {\n",
       "        text-align: right;\n",
       "    }\n",
       "</style>\n",
       "<table border=\"1\" class=\"dataframe\">\n",
       "  <thead>\n",
       "    <tr style=\"text-align: right;\">\n",
       "      <th></th>\n",
       "      <th>book-value-per-share</th>\n",
       "      <th>total-liabilities-share-holders-equity</th>\n",
       "      <th>total-assets</th>\n",
       "      <th>return-on-tangible-equity</th>\n",
       "      <th>pre-tax-profit-margin</th>\n",
       "      <th>net-profit-margin</th>\n",
       "      <th>total-long-term-assets</th>\n",
       "      <th>total-liabilities</th>\n",
       "      <th>roe</th>\n",
       "      <th>total-long-term-liabilities</th>\n",
       "      <th>roi</th>\n",
       "      <th>total-share-holder-equity</th>\n",
       "      <th>ebit-margin</th>\n",
       "      <th>operating-margin</th>\n",
       "      <th>retained-earnings-accumulated-deficit</th>\n",
       "      <th>total-current-assets</th>\n",
       "      <th>total-current-liabilities</th>\n",
       "      <th>roa</th>\n",
       "      <th>long-term-debt</th>\n",
       "      <th>net-property-plant-equipment</th>\n",
       "    </tr>\n",
       "  </thead>\n",
       "  <tbody>\n",
       "    <tr>\n",
       "      <th>0</th>\n",
       "      <td>3.6102</td>\n",
       "      <td>336309.0</td>\n",
       "      <td>336309.0</td>\n",
       "      <td>33.4590</td>\n",
       "      <td>27.8041</td>\n",
       "      <td>23.4357</td>\n",
       "      <td>224017.0</td>\n",
       "      <td>278202.0</td>\n",
       "      <td>33.4590</td>\n",
       "      <td>148329.0</td>\n",
       "      <td>12.7232</td>\n",
       "      <td>58107.0</td>\n",
       "      <td>27.8162</td>\n",
       "      <td>27.8162</td>\n",
       "      <td>5289.0</td>\n",
       "      <td>112292.0</td>\n",
       "      <td>129873.0</td>\n",
       "      <td>5.7810</td>\n",
       "      <td>94700.0</td>\n",
       "      <td>40335.0</td>\n",
       "    </tr>\n",
       "    <tr>\n",
       "      <th>1</th>\n",
       "      <td>4.1585</td>\n",
       "      <td>350662.0</td>\n",
       "      <td>350662.0</td>\n",
       "      <td>37.1074</td>\n",
       "      <td>30.9823</td>\n",
       "      <td>25.7098</td>\n",
       "      <td>232482.0</td>\n",
       "      <td>283263.0</td>\n",
       "      <td>37.1074</td>\n",
       "      <td>155755.0</td>\n",
       "      <td>14.6496</td>\n",
       "      <td>67399.0</td>\n",
       "      <td>30.8179</td>\n",
       "      <td>30.8179</td>\n",
       "      <td>12712.0</td>\n",
       "      <td>118180.0</td>\n",
       "      <td>127508.0</td>\n",
       "      <td>7.1322</td>\n",
       "      <td>103323.0</td>\n",
       "      <td>39304.0</td>\n",
       "    </tr>\n",
       "    <tr>\n",
       "      <th>2</th>\n",
       "      <td>4.4020</td>\n",
       "      <td>381191.0</td>\n",
       "      <td>381191.0</td>\n",
       "      <td>48.1427</td>\n",
       "      <td>33.2736</td>\n",
       "      <td>27.9398</td>\n",
       "      <td>228037.0</td>\n",
       "      <td>309259.0</td>\n",
       "      <td>48.1427</td>\n",
       "      <td>161685.0</td>\n",
       "      <td>19.3939</td>\n",
       "      <td>71932.0</td>\n",
       "      <td>33.4729</td>\n",
       "      <td>33.4729</td>\n",
       "      <td>14435.0</td>\n",
       "      <td>153154.0</td>\n",
       "      <td>147574.0</td>\n",
       "      <td>9.0847</td>\n",
       "      <td>106629.0</td>\n",
       "      <td>39245.0</td>\n",
       "    </tr>\n",
       "    <tr>\n",
       "      <th>3</th>\n",
       "      <td>3.8407</td>\n",
       "      <td>351002.0</td>\n",
       "      <td>351002.0</td>\n",
       "      <td>32.5741</td>\n",
       "      <td>27.8887</td>\n",
       "      <td>24.6533</td>\n",
       "      <td>216166.0</td>\n",
       "      <td>287912.0</td>\n",
       "      <td>32.5741</td>\n",
       "      <td>162431.0</td>\n",
       "      <td>11.9347</td>\n",
       "      <td>63090.0</td>\n",
       "      <td>28.5341</td>\n",
       "      <td>28.5341</td>\n",
       "      <td>5562.0</td>\n",
       "      <td>134836.0</td>\n",
       "      <td>125481.0</td>\n",
       "      <td>5.8550</td>\n",
       "      <td>109106.0</td>\n",
       "      <td>39440.0</td>\n",
       "    </tr>\n",
       "    <tr>\n",
       "      <th>4</th>\n",
       "      <td>3.8824</td>\n",
       "      <td>329840.0</td>\n",
       "      <td>329840.0</td>\n",
       "      <td>33.8270</td>\n",
       "      <td>29.9249</td>\n",
       "      <td>26.7014</td>\n",
       "      <td>215417.0</td>\n",
       "      <td>265560.0</td>\n",
       "      <td>33.8270</td>\n",
       "      <td>157806.0</td>\n",
       "      <td>12.7882</td>\n",
       "      <td>64280.0</td>\n",
       "      <td>29.6265</td>\n",
       "      <td>29.6265</td>\n",
       "      <td>9233.0</td>\n",
       "      <td>114423.0</td>\n",
       "      <td>107754.0</td>\n",
       "      <td>6.5923</td>\n",
       "      <td>105752.0</td>\n",
       "      <td>38615.0</td>\n",
       "    </tr>\n",
       "    <tr>\n",
       "      <th>...</th>\n",
       "      <td>...</td>\n",
       "      <td>...</td>\n",
       "      <td>...</td>\n",
       "      <td>...</td>\n",
       "      <td>...</td>\n",
       "      <td>...</td>\n",
       "      <td>...</td>\n",
       "      <td>...</td>\n",
       "      <td>...</td>\n",
       "      <td>...</td>\n",
       "      <td>...</td>\n",
       "      <td>...</td>\n",
       "      <td>...</td>\n",
       "      <td>...</td>\n",
       "      <td>...</td>\n",
       "      <td>...</td>\n",
       "      <td>...</td>\n",
       "      <td>...</td>\n",
       "      <td>...</td>\n",
       "      <td>...</td>\n",
       "    </tr>\n",
       "    <tr>\n",
       "      <th>25300</th>\n",
       "      <td>21.9349</td>\n",
       "      <td>15643.0</td>\n",
       "      <td>15643.0</td>\n",
       "      <td>-14.4380</td>\n",
       "      <td>-64.6876</td>\n",
       "      <td>-49.8006</td>\n",
       "      <td>11000.0</td>\n",
       "      <td>2947.0</td>\n",
       "      <td>-8.8672</td>\n",
       "      <td>776.0</td>\n",
       "      <td>-8.8532</td>\n",
       "      <td>12696.0</td>\n",
       "      <td>-0.8861</td>\n",
       "      <td>-0.8861</td>\n",
       "      <td>0.0</td>\n",
       "      <td>4643.0</td>\n",
       "      <td>2171.0</td>\n",
       "      <td>-7.1853</td>\n",
       "      <td>0.0</td>\n",
       "      <td>2992.0</td>\n",
       "    </tr>\n",
       "    <tr>\n",
       "      <th>25301</th>\n",
       "      <td>-14.6628</td>\n",
       "      <td>1049.8</td>\n",
       "      <td>1049.8</td>\n",
       "      <td>-7.1510</td>\n",
       "      <td>25.2834</td>\n",
       "      <td>21.4359</td>\n",
       "      <td>469.2</td>\n",
       "      <td>1897.4</td>\n",
       "      <td>-7.3620</td>\n",
       "      <td>1668.9</td>\n",
       "      <td>7.9541</td>\n",
       "      <td>-847.6</td>\n",
       "      <td>33.3562</td>\n",
       "      <td>33.3562</td>\n",
       "      <td>-556.0</td>\n",
       "      <td>580.6</td>\n",
       "      <td>228.5</td>\n",
       "      <td>5.9440</td>\n",
       "      <td>1632.1</td>\n",
       "      <td>375.7</td>\n",
       "    </tr>\n",
       "    <tr>\n",
       "      <th>25302</th>\n",
       "      <td>-16.7393</td>\n",
       "      <td>833.5</td>\n",
       "      <td>833.5</td>\n",
       "      <td>-7.9425</td>\n",
       "      <td>34.2077</td>\n",
       "      <td>28.9982</td>\n",
       "      <td>407.0</td>\n",
       "      <td>1801.0</td>\n",
       "      <td>-8.2274</td>\n",
       "      <td>1632.1</td>\n",
       "      <td>12.5711</td>\n",
       "      <td>-967.5</td>\n",
       "      <td>36.0291</td>\n",
       "      <td>36.0291</td>\n",
       "      <td>0.0</td>\n",
       "      <td>426.5</td>\n",
       "      <td>168.9</td>\n",
       "      <td>9.5501</td>\n",
       "      <td>1600.7</td>\n",
       "      <td>355.7</td>\n",
       "    </tr>\n",
       "    <tr>\n",
       "      <th>25303</th>\n",
       "      <td>0.0000</td>\n",
       "      <td>739.9</td>\n",
       "      <td>739.9</td>\n",
       "      <td>19.1251</td>\n",
       "      <td>40.3042</td>\n",
       "      <td>34.1514</td>\n",
       "      <td>481.6</td>\n",
       "      <td>189.4</td>\n",
       "      <td>17.9473</td>\n",
       "      <td>30.3</td>\n",
       "      <td>17.9473</td>\n",
       "      <td>550.5</td>\n",
       "      <td>40.3042</td>\n",
       "      <td>40.3042</td>\n",
       "      <td>0.0</td>\n",
       "      <td>258.3</td>\n",
       "      <td>159.1</td>\n",
       "      <td>13.3532</td>\n",
       "      <td>0.0</td>\n",
       "      <td>436.5</td>\n",
       "    </tr>\n",
       "    <tr>\n",
       "      <th>25304</th>\n",
       "      <td>0.0000</td>\n",
       "      <td>788.0</td>\n",
       "      <td>788.0</td>\n",
       "      <td>17.2912</td>\n",
       "      <td>38.6968</td>\n",
       "      <td>32.2141</td>\n",
       "      <td>496.2</td>\n",
       "      <td>193.7</td>\n",
       "      <td>16.3049</td>\n",
       "      <td>29.7</td>\n",
       "      <td>16.3049</td>\n",
       "      <td>594.3</td>\n",
       "      <td>38.9628</td>\n",
       "      <td>38.9628</td>\n",
       "      <td>0.0</td>\n",
       "      <td>291.8</td>\n",
       "      <td>164.0</td>\n",
       "      <td>12.2970</td>\n",
       "      <td>0.0</td>\n",
       "      <td>450.9</td>\n",
       "    </tr>\n",
       "  </tbody>\n",
       "</table>\n",
       "<p>25305 rows × 20 columns</p>\n",
       "</div>"
      ],
      "text/plain": [
       "       book-value-per-share  total-liabilities-share-holders-equity  \\\n",
       "0                    3.6102                                336309.0   \n",
       "1                    4.1585                                350662.0   \n",
       "2                    4.4020                                381191.0   \n",
       "3                    3.8407                                351002.0   \n",
       "4                    3.8824                                329840.0   \n",
       "...                     ...                                     ...   \n",
       "25300               21.9349                                 15643.0   \n",
       "25301              -14.6628                                  1049.8   \n",
       "25302              -16.7393                                   833.5   \n",
       "25303                0.0000                                   739.9   \n",
       "25304                0.0000                                   788.0   \n",
       "\n",
       "       total-assets  return-on-tangible-equity  pre-tax-profit-margin  \\\n",
       "0          336309.0                    33.4590                27.8041   \n",
       "1          350662.0                    37.1074                30.9823   \n",
       "2          381191.0                    48.1427                33.2736   \n",
       "3          351002.0                    32.5741                27.8887   \n",
       "4          329840.0                    33.8270                29.9249   \n",
       "...             ...                        ...                    ...   \n",
       "25300       15643.0                   -14.4380               -64.6876   \n",
       "25301        1049.8                    -7.1510                25.2834   \n",
       "25302         833.5                    -7.9425                34.2077   \n",
       "25303         739.9                    19.1251                40.3042   \n",
       "25304         788.0                    17.2912                38.6968   \n",
       "\n",
       "       net-profit-margin  total-long-term-assets  total-liabilities      roe  \\\n",
       "0                23.4357                224017.0           278202.0  33.4590   \n",
       "1                25.7098                232482.0           283263.0  37.1074   \n",
       "2                27.9398                228037.0           309259.0  48.1427   \n",
       "3                24.6533                216166.0           287912.0  32.5741   \n",
       "4                26.7014                215417.0           265560.0  33.8270   \n",
       "...                  ...                     ...                ...      ...   \n",
       "25300           -49.8006                 11000.0             2947.0  -8.8672   \n",
       "25301            21.4359                   469.2             1897.4  -7.3620   \n",
       "25302            28.9982                   407.0             1801.0  -8.2274   \n",
       "25303            34.1514                   481.6              189.4  17.9473   \n",
       "25304            32.2141                   496.2              193.7  16.3049   \n",
       "\n",
       "       total-long-term-liabilities      roi  total-share-holder-equity  \\\n",
       "0                         148329.0  12.7232                    58107.0   \n",
       "1                         155755.0  14.6496                    67399.0   \n",
       "2                         161685.0  19.3939                    71932.0   \n",
       "3                         162431.0  11.9347                    63090.0   \n",
       "4                         157806.0  12.7882                    64280.0   \n",
       "...                            ...      ...                        ...   \n",
       "25300                        776.0  -8.8532                    12696.0   \n",
       "25301                       1668.9   7.9541                     -847.6   \n",
       "25302                       1632.1  12.5711                     -967.5   \n",
       "25303                         30.3  17.9473                      550.5   \n",
       "25304                         29.7  16.3049                      594.3   \n",
       "\n",
       "       ebit-margin  operating-margin  retained-earnings-accumulated-deficit  \\\n",
       "0          27.8162           27.8162                                 5289.0   \n",
       "1          30.8179           30.8179                                12712.0   \n",
       "2          33.4729           33.4729                                14435.0   \n",
       "3          28.5341           28.5341                                 5562.0   \n",
       "4          29.6265           29.6265                                 9233.0   \n",
       "...            ...               ...                                    ...   \n",
       "25300      -0.8861           -0.8861                                    0.0   \n",
       "25301      33.3562           33.3562                                 -556.0   \n",
       "25302      36.0291           36.0291                                    0.0   \n",
       "25303      40.3042           40.3042                                    0.0   \n",
       "25304      38.9628           38.9628                                    0.0   \n",
       "\n",
       "       total-current-assets  total-current-liabilities      roa  \\\n",
       "0                  112292.0                   129873.0   5.7810   \n",
       "1                  118180.0                   127508.0   7.1322   \n",
       "2                  153154.0                   147574.0   9.0847   \n",
       "3                  134836.0                   125481.0   5.8550   \n",
       "4                  114423.0                   107754.0   6.5923   \n",
       "...                     ...                        ...      ...   \n",
       "25300                4643.0                     2171.0  -7.1853   \n",
       "25301                 580.6                      228.5   5.9440   \n",
       "25302                 426.5                      168.9   9.5501   \n",
       "25303                 258.3                      159.1  13.3532   \n",
       "25304                 291.8                      164.0  12.2970   \n",
       "\n",
       "       long-term-debt  net-property-plant-equipment  \n",
       "0             94700.0                       40335.0  \n",
       "1            103323.0                       39304.0  \n",
       "2            106629.0                       39245.0  \n",
       "3            109106.0                       39440.0  \n",
       "4            105752.0                       38615.0  \n",
       "...               ...                           ...  \n",
       "25300             0.0                        2992.0  \n",
       "25301          1632.1                         375.7  \n",
       "25302          1600.7                         355.7  \n",
       "25303             0.0                         436.5  \n",
       "25304             0.0                         450.9  \n",
       "\n",
       "[25305 rows x 20 columns]"
      ]
     },
     "execution_count": 14,
     "metadata": {},
     "output_type": "execute_result"
    }
   ],
   "source": [
    "\n",
    "SSCAS = []\n",
    "\n",
    "features_return = getColumnsRank(final_ranking_real_return)[:N_FEATURES]\n",
    "\n",
    "#dataset_X = dataset.drop(columns=[REAL_RETURN_CLASS, REAL_RETURN, RISK_CLASS, RISK, \"Date\", \"Company\"])\n",
    "dataset_X = dataset[features_return]\n",
    "dataset_y = dataset.drop(columns=DATA)\n",
    "\n",
    "dataset_X"
   ]
  },
  {
   "cell_type": "code",
   "execution_count": 15,
   "metadata": {},
   "outputs": [
    {
     "data": {
      "text/plain": [
       "[(2, 0.82), (3, 0.64), (4, 0.53), (5, 0.48), (6, 0.44)]"
      ]
     },
     "execution_count": 15,
     "metadata": {},
     "output_type": "execute_result"
    }
   ],
   "source": [
    "for cluster in range(2, 7):\n",
    "  clusterer = KMeans(n_clusters=cluster, random_state=10)\n",
    "\n",
    "  cluster_labels = clusterer.fit_predict(dataset_X)\n",
    "\n",
    "  silhouette_values = silhouette_samples(dataset_X, cluster_labels)\n",
    "  #silhouette_avg = silhouette_score(dataset_X, cluster_labels)\n",
    "\n",
    "  sum_count = 0\n",
    "  count_2 = 0\n",
    "\n",
    "  #Primeiro somatorio\n",
    "  for k in range(cluster):\n",
    "    count = 0\n",
    "    n_j = 0\n",
    "\n",
    "    #Segundo somatorio\n",
    "    for j in range(len(cluster_labels)):\n",
    "      if cluster_labels[j] == k:\n",
    "        n_j += 1\n",
    "        count += silhouette_values[j]\n",
    "\n",
    "    count_2 = (count/n_j)\n",
    "    sum_count += count_2\n",
    "\n",
    "  SSCA = (sum_count/cluster)\n",
    "  SSCAS.append((cluster, round(SSCA, 2)))\n",
    "\n",
    "SSCAS"
   ]
  },
  {
   "attachments": {},
   "cell_type": "markdown",
   "metadata": {},
   "source": [
    "### Divisão do dataset"
   ]
  },
  {
   "cell_type": "code",
   "execution_count": 16,
   "metadata": {},
   "outputs": [],
   "source": [
    "columns_dataset = DATA\n",
    "columns_dataset.append(REAL_RETURN)\n",
    "columns_dataset.append(RISK)\n",
    "columns_dataset.append(REAL_RETURN_CLASS)\n",
    "columns_dataset.append(RISK_CLASS)\n",
    "\n",
    "df_train = None\n",
    "df_test = None\n",
    "\n",
    "df_train = pd.DataFrame(columns=columns_dataset)\n",
    "df_test = pd.DataFrame(columns=columns_dataset)"
   ]
  },
  {
   "cell_type": "code",
   "execution_count": 17,
   "metadata": {},
   "outputs": [
    {
     "name": "stdout",
     "output_type": "stream",
     "text": [
      "17006\n",
      "8299\n"
     ]
    }
   ],
   "source": [
    "TRAINING_START_DATE =  dt.datetime.strptime('2009-03-31', \"%Y-%m-%d\")\n",
    "TRAINING_END_DATE =  dt.datetime.strptime('2018-03-31', \"%Y-%m-%d\")\n",
    "\n",
    "TEST_START_DATE =  dt.datetime.strptime('2018-06-30', \"%Y-%m-%d\")\n",
    "TEST_END_DATE =  dt.datetime.strptime('2022-03-31', \"%Y-%m-%d\")\n",
    "\n",
    "dataset_sort = dataset.sort_values(by=DATE)\n",
    "count_train = 0\n",
    "count_test = 0\n",
    "\n",
    "for index, row in dataset_sort.iterrows():\n",
    "  date = dt.datetime.strptime(row[DATE], \"%Y-%m-%d\")\n",
    "  if date.year < TEST_START_DATE.year:\n",
    "    df_train = df_train.append(row)\n",
    "    count_train +=1\n",
    "  elif date.year == TEST_START_DATE.year and date.month < TEST_START_DATE.month:\n",
    "    df_train = df_train.append(row)\n",
    "    count_train +=1\n",
    "  else:\n",
    "    df_test = df_test.append(row)\n",
    "    count_test += 1\n",
    "\n",
    "print(count_train)\n",
    "print(count_test)\n",
    "\n",
    "df_train = df_train.drop(columns=[REAL_RETURN, RISK, DATE])\n",
    "df_test = df_test.drop(columns=[REAL_RETURN, RISK, DATE])\n",
    "\n",
    "# plotResults(df_train, \"Real Return\", \"Risk\")\n",
    "\n",
    "# plotResults(df_test, \"Real Return\", \"Risk\")"
   ]
  },
  {
   "attachments": {},
   "cell_type": "markdown",
   "metadata": {},
   "source": [
    "##### Real Return"
   ]
  },
  {
   "cell_type": "code",
   "execution_count": 18,
   "metadata": {},
   "outputs": [],
   "source": [
    "X_real_return_train = df_train[features_real_return]\n",
    "y_real_return_train = df_train[REAL_RETURN_CLASS]"
   ]
  },
  {
   "cell_type": "code",
   "execution_count": 19,
   "metadata": {},
   "outputs": [],
   "source": [
    "X_real_return_test = df_test[features_real_return]\n",
    "y_real_return_test = df_test[REAL_RETURN_CLASS]"
   ]
  },
  {
   "attachments": {},
   "cell_type": "markdown",
   "metadata": {},
   "source": [
    "##### Risk"
   ]
  },
  {
   "cell_type": "code",
   "execution_count": 20,
   "metadata": {},
   "outputs": [],
   "source": [
    "X_risk_train = df_train[features_risk]\n",
    "y_risk_train = df_train[RISK_CLASS]"
   ]
  },
  {
   "cell_type": "code",
   "execution_count": 21,
   "metadata": {},
   "outputs": [],
   "source": [
    "X_risk_test = df_test[features_risk]\n",
    "y_risk_test = df_test[RISK_CLASS]"
   ]
  },
  {
   "attachments": {},
   "cell_type": "markdown",
   "metadata": {},
   "source": [
    "### Classificadores Únicos"
   ]
  },
  {
   "cell_type": "code",
   "execution_count": 22,
   "metadata": {},
   "outputs": [],
   "source": [
    "classifiers_real_return = {}\n",
    "classifiers_risk = {}"
   ]
  },
  {
   "attachments": {},
   "cell_type": "markdown",
   "metadata": {},
   "source": [
    "#### Random Forest"
   ]
  },
  {
   "attachments": {},
   "cell_type": "markdown",
   "metadata": {},
   "source": [
    "##### Real Return"
   ]
  },
  {
   "cell_type": "code",
   "execution_count": 23,
   "metadata": {},
   "outputs": [
    {
     "data": {
      "text/plain": [
       "0.8344378840824196"
      ]
     },
     "execution_count": 23,
     "metadata": {},
     "output_type": "execute_result"
    }
   ],
   "source": [
    "RANDOM_FOREST = 'RANDOM_FOREST'\n",
    "\n",
    "randon_forest_return = RandomForestClassifier(max_depth=50, random_state=42)\n",
    "\n",
    "randon_forest_return.fit(X_real_return_train, y_real_return_train)\n",
    "\n",
    "randon_forest_return.score(X_real_return_test, y_real_return_test)"
   ]
  },
  {
   "attachments": {},
   "cell_type": "markdown",
   "metadata": {},
   "source": [
    "##### Risk"
   ]
  },
  {
   "cell_type": "code",
   "execution_count": 24,
   "metadata": {},
   "outputs": [
    {
     "data": {
      "text/plain": [
       "0.5024701771297747"
      ]
     },
     "execution_count": 24,
     "metadata": {},
     "output_type": "execute_result"
    }
   ],
   "source": [
    "randon_forest_risk = RandomForestClassifier(max_depth=50, random_state=42)\n",
    "classifiers_risk[RANDOM_FOREST] = randon_forest_return\n",
    "\n",
    "randon_forest_risk.fit(X_risk_train, y_risk_train)\n",
    "\n",
    "randon_forest_risk.score(X_risk_test, y_risk_test)"
   ]
  },
  {
   "attachments": {},
   "cell_type": "markdown",
   "metadata": {},
   "source": [
    "#### SVM"
   ]
  },
  {
   "attachments": {},
   "cell_type": "markdown",
   "metadata": {},
   "source": [
    "##### Real Return"
   ]
  },
  {
   "cell_type": "code",
   "execution_count": 25,
   "metadata": {},
   "outputs": [
    {
     "data": {
      "text/plain": [
       "0.586094710206049"
      ]
     },
     "execution_count": 25,
     "metadata": {},
     "output_type": "execute_result"
    }
   ],
   "source": [
    "SVM = 'SVM'\n",
    "\n",
    "svm_real_return = SVC(kernel='rbf', C=100)\n",
    "classifiers_real_return[SVM] = svm_real_return\n",
    "\n",
    "svm_real_return.fit(X_real_return_train, y_real_return_train)\n",
    "\n",
    "svm_real_return.score(X_real_return_test, y_real_return_test)"
   ]
  },
  {
   "attachments": {},
   "cell_type": "markdown",
   "metadata": {},
   "source": [
    "##### Risk"
   ]
  },
  {
   "cell_type": "code",
   "execution_count": 26,
   "metadata": {},
   "outputs": [
    {
     "data": {
      "text/plain": [
       "0.42571394143872754"
      ]
     },
     "execution_count": 26,
     "metadata": {},
     "output_type": "execute_result"
    }
   ],
   "source": [
    "svm_risk = SVC(kernel='rbf', C=100)\n",
    "classifiers_risk[SVM] = svm_risk\n",
    "\n",
    "svm_risk.fit(X_risk_train, y_risk_train)\n",
    "\n",
    "svm_risk.score(X_risk_test, y_risk_test)"
   ]
  },
  {
   "attachments": {},
   "cell_type": "markdown",
   "metadata": {},
   "source": [
    "#### Decision Tree"
   ]
  },
  {
   "attachments": {},
   "cell_type": "markdown",
   "metadata": {},
   "source": [
    "##### Real Return"
   ]
  },
  {
   "cell_type": "code",
   "execution_count": 27,
   "metadata": {},
   "outputs": [
    {
     "data": {
      "text/plain": [
       "0.735389806000723"
      ]
     },
     "execution_count": 27,
     "metadata": {},
     "output_type": "execute_result"
    }
   ],
   "source": [
    "DECISION_TREE = 'DECISION_TREE'\n",
    "\n",
    "decision_tree_real_return = DecisionTreeClassifier()\n",
    "classifiers_real_return[DECISION_TREE] = decision_tree_real_return\n",
    "\n",
    "decision_tree_real_return.fit(X_real_return_train, y_real_return_train)\n",
    "\n",
    "decision_tree_real_return.score(X_real_return_test, y_real_return_test)"
   ]
  },
  {
   "attachments": {},
   "cell_type": "markdown",
   "metadata": {},
   "source": [
    "##### Risk"
   ]
  },
  {
   "cell_type": "code",
   "execution_count": 28,
   "metadata": {},
   "outputs": [
    {
     "data": {
      "text/plain": [
       "0.4263164236655019"
      ]
     },
     "execution_count": 28,
     "metadata": {},
     "output_type": "execute_result"
    }
   ],
   "source": [
    "decision_tree_risk = DecisionTreeClassifier()\n",
    "classifiers_risk[DECISION_TREE] = decision_tree_risk\n",
    "\n",
    "decision_tree_risk.fit(X_risk_train, y_risk_train)\n",
    "\n",
    "decision_tree_risk.score(X_risk_test, y_risk_test)"
   ]
  },
  {
   "attachments": {},
   "cell_type": "markdown",
   "metadata": {},
   "source": [
    "#### Gaussian Naive Bayes"
   ]
  },
  {
   "attachments": {},
   "cell_type": "markdown",
   "metadata": {},
   "source": [
    "##### Real Return"
   ]
  },
  {
   "cell_type": "code",
   "execution_count": 47,
   "metadata": {},
   "outputs": [
    {
     "data": {
      "text/plain": [
       "0.43740209663814916"
      ]
     },
     "execution_count": 47,
     "metadata": {},
     "output_type": "execute_result"
    }
   ],
   "source": [
    "NAIVE_BAYES = 'NAIVE_BAYES'\n",
    "\n",
    "nb_real_return = BernoulliNB()\n",
    "classifiers_real_return[NAIVE_BAYES] = nb_real_return\n",
    "\n",
    "nb_real_return.fit(X_real_return_train, y_real_return_train)\n",
    "\n",
    "nb_real_return.score(X_real_return_test, y_real_return_test)"
   ]
  },
  {
   "attachments": {},
   "cell_type": "markdown",
   "metadata": {},
   "source": [
    "##### Risk"
   ]
  },
  {
   "cell_type": "code",
   "execution_count": 30,
   "metadata": {},
   "outputs": [
    {
     "data": {
      "text/plain": [
       "0.4108928786600795"
      ]
     },
     "execution_count": 30,
     "metadata": {},
     "output_type": "execute_result"
    }
   ],
   "source": [
    "nb_risk = BernoulliNB()\n",
    "classifiers_risk[NAIVE_BAYES] = nb_risk\n",
    "\n",
    "nb_risk.fit(X_risk_train, y_risk_train)\n",
    "\n",
    "nb_risk.score(X_risk_test, y_risk_test)"
   ]
  },
  {
   "attachments": {},
   "cell_type": "markdown",
   "metadata": {},
   "source": [
    "#### Rede Neural"
   ]
  },
  {
   "attachments": {},
   "cell_type": "markdown",
   "metadata": {},
   "source": [
    "Como determinar o número de camadas e neurônios?"
   ]
  },
  {
   "attachments": {},
   "cell_type": "markdown",
   "metadata": {},
   "source": [
    "##### Real Return"
   ]
  },
  {
   "cell_type": "code",
   "execution_count": 31,
   "metadata": {},
   "outputs": [
    {
     "data": {
      "text/plain": [
       "0.525846487528618"
      ]
     },
     "execution_count": 31,
     "metadata": {},
     "output_type": "execute_result"
    }
   ],
   "source": [
    "NEURAL_NETWORK = 'NEURAL_NETWORK'\n",
    "neural_return = MLPClassifier(activation='logistic', solver='lbfgs', max_iter=300, hidden_layer_sizes=(100,))\n",
    "classifiers_real_return[NEURAL_NETWORK] = neural_return\n",
    "\n",
    "neural_return.fit(X_real_return_train, y_real_return_train)\n",
    "\n",
    "neural_return.score(X_real_return_test, y_real_return_test)\n",
    "\n"
   ]
  },
  {
   "attachments": {},
   "cell_type": "markdown",
   "metadata": {},
   "source": [
    "##### Risk"
   ]
  },
  {
   "cell_type": "code",
   "execution_count": 32,
   "metadata": {},
   "outputs": [
    {
     "data": {
      "text/plain": [
       "0.4220990480780817"
      ]
     },
     "execution_count": 32,
     "metadata": {},
     "output_type": "execute_result"
    }
   ],
   "source": [
    "neural_risk = MLPClassifier(activation='logistic', solver='lbfgs', max_iter=300, hidden_layer_sizes=(100,))\n",
    "classifiers_risk[NEURAL_NETWORK] = neural_risk\n",
    "\n",
    "neural_risk.fit(X_risk_train, y_risk_train)\n",
    "\n",
    "neural_risk.score(X_risk_test, y_risk_test)"
   ]
  },
  {
   "attachments": {},
   "cell_type": "markdown",
   "metadata": {},
   "source": [
    "#### Regressão Logística"
   ]
  },
  {
   "attachments": {},
   "cell_type": "markdown",
   "metadata": {},
   "source": [
    "##### Real Return"
   ]
  },
  {
   "cell_type": "code",
   "execution_count": 33,
   "metadata": {},
   "outputs": [
    {
     "data": {
      "text/plain": [
       "0.7164718640800096"
      ]
     },
     "execution_count": 33,
     "metadata": {},
     "output_type": "execute_result"
    }
   ],
   "source": [
    "LOGISTIC_REGRESSION ='LOGISTIC_REGRESSION'\n",
    "\n",
    "rl_return = LogisticRegression(solver='newton-cg', penalty='l2')\n",
    "classifiers_real_return[LOGISTIC_REGRESSION] = rl_return\n",
    "\n",
    "rl_return.fit(X_real_return_train, y_real_return_train)\n",
    "\n",
    "rl_return.score(X_real_return_test, y_real_return_test)"
   ]
  },
  {
   "attachments": {},
   "cell_type": "markdown",
   "metadata": {},
   "source": [
    "##### Risk"
   ]
  },
  {
   "cell_type": "code",
   "execution_count": 34,
   "metadata": {},
   "outputs": [
    {
     "data": {
      "text/plain": [
       "0.43812507531027833"
      ]
     },
     "execution_count": 34,
     "metadata": {},
     "output_type": "execute_result"
    }
   ],
   "source": [
    "rl_risk = LogisticRegression(solver='newton-cg', penalty='l2')\n",
    "classifiers_risk[LOGISTIC_REGRESSION] = rl_risk\n",
    "\n",
    "rl_risk.fit(X_risk_train, y_risk_train)\n",
    "\n",
    "rl_risk.score(X_risk_test, y_risk_test)"
   ]
  },
  {
   "attachments": {},
   "cell_type": "markdown",
   "metadata": {},
   "source": [
    "### Cross-validation"
   ]
  },
  {
   "cell_type": "code",
   "execution_count": 35,
   "metadata": {},
   "outputs": [],
   "source": [
    "CV = 10\n",
    "result_cv_real_return = {}\n",
    "result_cv_risk = {}\n",
    "\n",
    "X_dataset_real_return = dataset[features_real_return]\n",
    "y_dataset_real_return = dataset[REAL_RETURN_CLASS]\n",
    "\n",
    "X_dataset_risk = dataset[features_risk]\n",
    "y_dataset_risk = dataset[RISK_CLASS]"
   ]
  },
  {
   "attachments": {},
   "cell_type": "markdown",
   "metadata": {},
   "source": [
    "##### Real Return"
   ]
  },
  {
   "cell_type": "code",
   "execution_count": 36,
   "metadata": {},
   "outputs": [],
   "source": [
    "# cv_result = cross_val_score(classifiers_real_return[RANDOM_FOREST], X_dataset_real_return, y_dataset_real_return, cv=CV)\n",
    "# result_cv_real_return[RANDOM_FOREST] = cv_result.mean()\n",
    "\n",
    "# cv_result = cross_val_score(classifiers_real_return[SVM], X_dataset_real_return, y_dataset_real_return, cv=CV)\n",
    "# result_cv_real_return[SVM] = cv_result.mean()\n",
    "\n",
    "# cv_result = cross_val_score(classifiers_real_return[DECISION_TREE], X_dataset_real_return, y_dataset_real_return, cv=CV)\n",
    "# result_cv_real_return[DECISION_TREE] = cv_result.mean()\n",
    "\n",
    "# cv_result = cross_val_score(classifiers_real_return[NAIVE_BAYES], X_dataset_real_return, y_dataset_real_return, cv=CV)\n",
    "# result_cv_real_return[NAIVE_BAYES] = cv_result.mean()\n",
    "\n",
    "# cv_result = cross_val_score(classifiers_real_return[NEURAL_NETWORK], X_dataset_real_return, y_dataset_real_return, cv=CV)\n",
    "# result_cv_real_return[NEURAL_NETWORK] = cv_result.mean()\n",
    "\n",
    "# cv_result = cross_val_score(classifiers_real_return[LOGISTIC_REGRESSION], X_dataset_real_return, y_dataset_real_return, cv=CV)\n",
    "# result_cv_real_return[LOGISTIC_REGRESSION] = cv_result.mean()\n",
    "\n",
    "# result_cv_real_return"
   ]
  },
  {
   "attachments": {},
   "cell_type": "markdown",
   "metadata": {},
   "source": [
    "##### Risk"
   ]
  },
  {
   "cell_type": "code",
   "execution_count": 37,
   "metadata": {},
   "outputs": [],
   "source": [
    "# cv_result = cross_val_score(classifiers_risk[RANDOM_FOREST], X_dataset_risk, y_dataset_risk, cv=CV)\n",
    "# result_cv_risk[RANDOM_FOREST] = cv_result.mean()\n",
    "\n",
    "# cv_result = cross_val_score(classifiers_risk[SVM], X_dataset_risk, y_dataset_risk, cv=CV)\n",
    "# result_cv_risk[SVM] = cv_result.mean()\n",
    "\n",
    "# cv_result = cross_val_score(classifiers_risk[DECISION_TREE], X_dataset_risk, y_dataset_risk, cv=CV)\n",
    "# result_cv_risk[DECISION_TREE] = cv_result.mean()\n",
    "\n",
    "# cv_result = cross_val_score(classifiers_risk[NAIVE_BAYES], X_dataset_risk, y_dataset_risk, cv=CV)\n",
    "# result_cv_risk[NAIVE_BAYES] = cv_result.mean()\n",
    "\n",
    "# cv_result = cross_val_score(classifiers_risk[NEURAL_NETWORK], X_dataset_risk, y_dataset_risk, cv=CV)\n",
    "# result_cv_risk[NEURAL_NETWORK] = cv_result.mean()\n",
    "\n",
    "# cv_result = cross_val_score(classifiers_risk[LOGISTIC_REGRESSION], X_dataset_risk, y_dataset_risk, cv=CV)\n",
    "# result_cv_risk[LOGISTIC_REGRESSION] = cv_result.mean()\n",
    "\n",
    "# result_cv_risk"
   ]
  }
 ],
 "metadata": {
  "kernelspec": {
   "display_name": "env",
   "language": "python",
   "name": "python3"
  },
  "language_info": {
   "codemirror_mode": {
    "name": "ipython",
    "version": 3
   },
   "file_extension": ".py",
   "mimetype": "text/x-python",
   "name": "python",
   "nbconvert_exporter": "python",
   "pygments_lexer": "ipython3",
   "version": "3.10.5"
  },
  "orig_nbformat": 4,
  "vscode": {
   "interpreter": {
    "hash": "cc8a3245a31a46333b724f0fa902266a4a2d307e3e7797c60732a355503841f0"
   }
  }
 },
 "nbformat": 4,
 "nbformat_minor": 2
}

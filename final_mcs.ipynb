{
 "cells": [
  {
   "attachments": {},
   "cell_type": "markdown",
   "metadata": {},
   "source": [
    "# Multiple Classifiers Ensemble System (MCS)"
   ]
  },
  {
   "attachments": {},
   "cell_type": "markdown",
   "metadata": {},
   "source": [
    "#### Iury Zanonni de Faria"
   ]
  },
  {
   "attachments": {},
   "cell_type": "markdown",
   "metadata": {},
   "source": [
    "### Imports"
   ]
  },
  {
   "attachments": {},
   "cell_type": "markdown",
   "metadata": {},
   "source": [
    "#### General imports"
   ]
  },
  {
   "cell_type": "code",
   "execution_count": 251,
   "metadata": {},
   "outputs": [],
   "source": [
    "import pandas as pd\n",
    "import numpy as np\n",
    "import datetime as dt\n",
    "import statistics as st\n",
    "import matplotlib.pyplot as plt\n",
    "import warnings"
   ]
  },
  {
   "attachments": {},
   "cell_type": "markdown",
   "metadata": {},
   "source": [
    "#### Feature Selection imports"
   ]
  },
  {
   "cell_type": "code",
   "execution_count": 252,
   "metadata": {},
   "outputs": [],
   "source": [
    "from sklearn.feature_selection import mutual_info_classif\n",
    "# Info gain - weka"
   ]
  },
  {
   "attachments": {},
   "cell_type": "markdown",
   "metadata": {},
   "source": [
    "#### Diversity imports"
   ]
  },
  {
   "cell_type": "code",
   "execution_count": 253,
   "metadata": {},
   "outputs": [],
   "source": [
    "from sklearn.model_selection import KFold\n",
    "from sklearn.ensemble import BaggingClassifier\n",
    "from sklearn.ensemble import AdaBoostClassifier\n",
    "from sklearn.ensemble import GradientBoostingClassifier\n",
    "from sklearn.model_selection import cross_val_score"
   ]
  },
  {
   "attachments": {},
   "cell_type": "markdown",
   "metadata": {},
   "source": [
    "#### Classifiers imports"
   ]
  },
  {
   "cell_type": "code",
   "execution_count": 345,
   "metadata": {},
   "outputs": [],
   "source": [
    "import xgboost\n",
    "from sklearn.ensemble import RandomForestClassifier\n",
    "from sklearn.svm import SVC\n",
    "from sklearn.tree import DecisionTreeClassifier\n",
    "from sklearn.naive_bayes import GaussianNB\n",
    "from sklearn.neural_network import MLPClassifier\n",
    "from sklearn.linear_model import LogisticRegression\n"
   ]
  },
  {
   "attachments": {},
   "cell_type": "markdown",
   "metadata": {},
   "source": [
    "#### k-mean"
   ]
  },
  {
   "cell_type": "code",
   "execution_count": 255,
   "metadata": {},
   "outputs": [],
   "source": [
    "from sklearn.metrics import silhouette_score, silhouette_samples\n",
    "from sklearn.cluster import KMeans"
   ]
  },
  {
   "attachments": {},
   "cell_type": "markdown",
   "metadata": {},
   "source": [
    "### Settings"
   ]
  },
  {
   "cell_type": "code",
   "execution_count": 256,
   "metadata": {},
   "outputs": [],
   "source": [
    "DATA = ['Date', 'Current Ratio','Quick Ratio','Current Assets', 'Long-term debt to equity ratio', 'Share Holder Equity','Debt to Equity Ratio', 'Percentage of net profit to sale',\n",
    "'Percentage of operating profit to sale','Percentage of Gross profit to sale','ROA','ROE','EPS','P/E','P/S','Stock book value','Stock Price','ROI','MarketReturn', 'Company']\n",
    "\n",
    "REAL_RETURN_CLASS = \"RealReturnClass\"\n",
    "REAL_RETURN = \"RealReturn\"\n",
    "RISK_CLASS = 'RiskClass'\n",
    "RISK = \"Risk\"\n",
    "\n",
    "HIGH = 'high'\n",
    "MEDIUM = 'medium'\n",
    "LOW = 'low'\n",
    "\n",
    "N_PERIODS = 2\n",
    "N_FEATURES = 15\n",
    "\n",
    "DATASET_PATH = 'dataset/process_final_reverse_{}.csv'.format(N_PERIODS)\n",
    "\n",
    "#Remove os warnings do notebook\n",
    "warnings.filterwarnings('ignore')"
   ]
  },
  {
   "attachments": {},
   "cell_type": "markdown",
   "metadata": {},
   "source": [
    "### Import dataset"
   ]
  },
  {
   "cell_type": "code",
   "execution_count": 257,
   "metadata": {},
   "outputs": [],
   "source": [
    "dataset = pd.read_csv(DATASET_PATH)"
   ]
  },
  {
   "attachments": {},
   "cell_type": "markdown",
   "metadata": {},
   "source": [
    "### Data Frequency"
   ]
  },
  {
   "cell_type": "code",
   "execution_count": 258,
   "metadata": {},
   "outputs": [
    {
     "data": {
      "image/png": "[encoded data removed]",
      "text/plain": [
       "<Figure size 1500x500 with 2 Axes>"
      ]
     },
     "metadata": {},
     "output_type": "display_data"
    }
   ],
   "source": [
    "def plotResults(dataset:pd.DataFrame, title_1:str, title_2:str):\n",
    "  fig, axes = plt.subplots(nrows=1, ncols=2)\n",
    "  fig.set_figwidth(15)\n",
    "  fig.set_figheight(5)\n",
    "\n",
    "  x = dataset[REAL_RETURN_CLASS].value_counts()\n",
    "  x.plot.bar(ax=axes[0])\n",
    "  axes[0].set_title(title_1)\n",
    "\n",
    "  x = dataset[RISK_CLASS].value_counts()\n",
    "  x.plot.bar(ax=axes[1])\n",
    "  axes[1].set_title(title_2)\n",
    "\n",
    "plotResults(dataset, \"Real Return\", \"Risk\")"
   ]
  },
  {
   "attachments": {},
   "cell_type": "markdown",
   "metadata": {},
   "source": [
    "### Feature Selection"
   ]
  },
  {
   "cell_type": "code",
   "execution_count": 259,
   "metadata": {},
   "outputs": [],
   "source": [
    "dataset = dataset.replace(to_replace=[HIGH], value=2.0)\n",
    "dataset = dataset.replace(to_replace=[MEDIUM], value=1.0)\n",
    "dataset = dataset.replace(to_replace=[LOW], value=0.0)\n",
    "\n",
    "dataset_X = dataset.drop(columns=[REAL_RETURN_CLASS, REAL_RETURN, RISK_CLASS, RISK, \"Date\", \"Company\"])\n",
    "dataset_y = dataset.drop(columns=DATA)"
   ]
  },
  {
   "attachments": {},
   "cell_type": "markdown",
   "metadata": {},
   "source": [
    "#### Real Return"
   ]
  },
  {
   "cell_type": "code",
   "execution_count": 260,
   "metadata": {},
   "outputs": [
    {
     "data": {
      "text/plain": [
       "[('ROI', 0.9990731152784823),\n",
       " ('Share Holder Equity', 0.776267081933471),\n",
       " ('Debt to Equity Ratio', 0.7571879180346832),\n",
       " ('Long-term debt to equity ratio', 0.7287167766769553),\n",
       " ('Current Assets', 0.6940743470901651),\n",
       " ('ROE', 0.6861561334985448),\n",
       " ('Stock Price', 0.6528268470057761),\n",
       " ('ROA', 0.5183829293018481),\n",
       " ('Percentage of Gross profit to sale', 0.49425270036901725),\n",
       " ('P/E', 0.381673814368316),\n",
       " ('Percentage of operating profit to sale', 0.3318492119919769),\n",
       " ('Percentage of net profit to sale', 0.3178218958379784),\n",
       " ('Stock book value', 0.310281635485454),\n",
       " ('EPS', 0.13620376393981737),\n",
       " ('P/S', 0.09124272947700807),\n",
       " ('Current Ratio', 0.07660295417457078),\n",
       " ('Quick Ratio', 0.06799106825924382),\n",
       " ('MarketReturn', 0.021849026848743593)]"
      ]
     },
     "execution_count": 260,
     "metadata": {},
     "output_type": "execute_result"
    }
   ],
   "source": [
    "rank_real_return = mutual_info_classif(dataset_X, dataset_y[REAL_RETURN_CLASS], discrete_features=True)\n",
    "\n",
    "result_real_return = {}\n",
    "\n",
    "for i in range(0, len(dataset_X.columns)):\n",
    "    result_real_return[dataset_X.columns[i]] = rank_real_return[i]\n",
    "\n",
    "final_ranking_real_return = sorted(result_real_return.items(), key=lambda x: x[1])\n",
    "final_ranking_real_return.reverse()\n",
    "final_ranking_real_return"
   ]
  },
  {
   "attachments": {},
   "cell_type": "markdown",
   "metadata": {},
   "source": [
    "#### Risk"
   ]
  },
  {
   "cell_type": "code",
   "execution_count": 261,
   "metadata": {},
   "outputs": [
    {
     "data": {
      "text/plain": [
       "[('Share Holder Equity', 0.7703131615722059),\n",
       " ('Debt to Equity Ratio', 0.7420932960102925),\n",
       " ('Current Assets', 0.6897155169140521),\n",
       " ('Long-term debt to equity ratio', 0.6768889557248969),\n",
       " ('Stock Price', 0.6451596989064919),\n",
       " ('Percentage of Gross profit to sale', 0.4699784233599845),\n",
       " ('ROE', 0.4257423727528914),\n",
       " ('ROI', 0.34243539366855),\n",
       " ('P/E', 0.31636185082639523),\n",
       " ('Percentage of operating profit to sale', 0.3156528921372387),\n",
       " ('Percentage of net profit to sale', 0.28246911818653925),\n",
       " ('ROA', 0.21154396918680807),\n",
       " ('Stock book value', 0.18547593234084264),\n",
       " ('P/S', 0.09365007311471993),\n",
       " ('EPS', 0.0723859036467488),\n",
       " ('Current Ratio', 0.0533001549135556),\n",
       " ('Quick Ratio', 0.044979555944003755),\n",
       " ('MarketReturn', 0.019107632719523374)]"
      ]
     },
     "execution_count": 261,
     "metadata": {},
     "output_type": "execute_result"
    }
   ],
   "source": [
    "rank_risk = mutual_info_classif(dataset_X, dataset_y[RISK_CLASS], discrete_features=True)\n",
    "\n",
    "result_risk = {}\n",
    "\n",
    "for i in range(0, len(dataset_X.columns)):\n",
    "    result_risk[dataset_X.columns[i]] = rank_risk[i]\n",
    "\n",
    "final_ranking_risk = sorted(result_risk.items(), key=lambda x: x[1])\n",
    "final_ranking_risk.reverse()\n",
    "final_ranking_risk"
   ]
  },
  {
   "cell_type": "code",
   "execution_count": 262,
   "metadata": {},
   "outputs": [],
   "source": [
    "def getColumnsRank(rank: list):\n",
    "  ranking = []\n",
    "  for column in rank:\n",
    "    ranking.append(column[0])\n",
    "    \n",
    "  return ranking"
   ]
  },
  {
   "cell_type": "code",
   "execution_count": 263,
   "metadata": {},
   "outputs": [],
   "source": [
    "features_real_return = getColumnsRank(final_ranking_real_return)[:N_FEATURES]\n",
    "features_risk = getColumnsRank(final_ranking_risk)[:N_FEATURES]"
   ]
  },
  {
   "attachments": {},
   "cell_type": "markdown",
   "metadata": {},
   "source": [
    "### SSCA"
   ]
  },
  {
   "attachments": {},
   "cell_type": "markdown",
   "metadata": {},
   "source": [
    "O cálculo será feito com o número total de features ou somente com as 15 mais bem ranqueadas?"
   ]
  },
  {
   "cell_type": "code",
   "execution_count": 264,
   "metadata": {},
   "outputs": [
    {
     "data": {
      "text/html": [
       "<div>\n",
       "<style scoped>\n",
       "    .dataframe tbody tr th:only-of-type {\n",
       "        vertical-align: middle;\n",
       "    }\n",
       "\n",
       "    .dataframe tbody tr th {\n",
       "        vertical-align: top;\n",
       "    }\n",
       "\n",
       "    .dataframe thead th {\n",
       "        text-align: right;\n",
       "    }\n",
       "</style>\n",
       "<table border=\"1\" class=\"dataframe\">\n",
       "  <thead>\n",
       "    <tr style=\"text-align: right;\">\n",
       "      <th></th>\n",
       "      <th>ROI</th>\n",
       "      <th>Share Holder Equity</th>\n",
       "      <th>Debt to Equity Ratio</th>\n",
       "      <th>Long-term debt to equity ratio</th>\n",
       "      <th>Current Assets</th>\n",
       "      <th>ROE</th>\n",
       "      <th>Stock Price</th>\n",
       "      <th>ROA</th>\n",
       "      <th>Percentage of Gross profit to sale</th>\n",
       "      <th>P/E</th>\n",
       "      <th>Percentage of operating profit to sale</th>\n",
       "      <th>Percentage of net profit to sale</th>\n",
       "      <th>Stock book value</th>\n",
       "      <th>EPS</th>\n",
       "      <th>P/S</th>\n",
       "    </tr>\n",
       "  </thead>\n",
       "  <tbody>\n",
       "    <tr>\n",
       "      <th>0</th>\n",
       "      <td>0.6693</td>\n",
       "      <td>71932.0</td>\n",
       "      <td>1.4824</td>\n",
       "      <td>106629.0</td>\n",
       "      <td>153154.0</td>\n",
       "      <td>1.4981</td>\n",
       "      <td>174.36</td>\n",
       "      <td>0.2875</td>\n",
       "      <td>0.4302</td>\n",
       "      <td>28.30</td>\n",
       "      <td>0.3090</td>\n",
       "      <td>0.2658</td>\n",
       "      <td>41.93</td>\n",
       "      <td>2.10</td>\n",
       "      <td>7.51</td>\n",
       "    </tr>\n",
       "    <tr>\n",
       "      <th>1</th>\n",
       "      <td>0.6357</td>\n",
       "      <td>63090.0</td>\n",
       "      <td>1.7294</td>\n",
       "      <td>109106.0</td>\n",
       "      <td>134836.0</td>\n",
       "      <td>1.4412</td>\n",
       "      <td>177.08</td>\n",
       "      <td>0.2760</td>\n",
       "      <td>0.4178</td>\n",
       "      <td>29.32</td>\n",
       "      <td>0.2978</td>\n",
       "      <td>0.2588</td>\n",
       "      <td>40.23</td>\n",
       "      <td>1.23</td>\n",
       "      <td>7.84</td>\n",
       "    </tr>\n",
       "    <tr>\n",
       "      <th>2</th>\n",
       "      <td>0.5902</td>\n",
       "      <td>64280.0</td>\n",
       "      <td>1.6452</td>\n",
       "      <td>105752.0</td>\n",
       "      <td>114423.0</td>\n",
       "      <td>1.3101</td>\n",
       "      <td>140.91</td>\n",
       "      <td>0.2582</td>\n",
       "      <td>0.4101</td>\n",
       "      <td>25.07</td>\n",
       "      <td>0.2879</td>\n",
       "      <td>0.2500</td>\n",
       "      <td>36.69</td>\n",
       "      <td>1.30</td>\n",
       "      <td>6.52</td>\n",
       "    </tr>\n",
       "    <tr>\n",
       "      <th>3</th>\n",
       "      <td>0.5279</td>\n",
       "      <td>69178.0</td>\n",
       "      <td>1.5705</td>\n",
       "      <td>108642.0</td>\n",
       "      <td>121465.0</td>\n",
       "      <td>1.1180</td>\n",
       "      <td>136.18</td>\n",
       "      <td>0.2291</td>\n",
       "      <td>0.3988</td>\n",
       "      <td>26.65</td>\n",
       "      <td>0.2732</td>\n",
       "      <td>0.2345</td>\n",
       "      <td>35.08</td>\n",
       "      <td>1.40</td>\n",
       "      <td>6.69</td>\n",
       "    </tr>\n",
       "    <tr>\n",
       "      <th>4</th>\n",
       "      <td>0.4477</td>\n",
       "      <td>66224.0</td>\n",
       "      <td>1.4992</td>\n",
       "      <td>99281.0</td>\n",
       "      <td>154106.0</td>\n",
       "      <td>0.9059</td>\n",
       "      <td>121.25</td>\n",
       "      <td>0.1944</td>\n",
       "      <td>0.3878</td>\n",
       "      <td>27.22</td>\n",
       "      <td>0.2524</td>\n",
       "      <td>0.2173</td>\n",
       "      <td>29.25</td>\n",
       "      <td>1.68</td>\n",
       "      <td>6.41</td>\n",
       "    </tr>\n",
       "    <tr>\n",
       "      <th>...</th>\n",
       "      <td>...</td>\n",
       "      <td>...</td>\n",
       "      <td>...</td>\n",
       "      <td>...</td>\n",
       "      <td>...</td>\n",
       "      <td>...</td>\n",
       "      <td>...</td>\n",
       "      <td>...</td>\n",
       "      <td>...</td>\n",
       "      <td>...</td>\n",
       "      <td>...</td>\n",
       "      <td>...</td>\n",
       "      <td>...</td>\n",
       "      <td>...</td>\n",
       "      <td>...</td>\n",
       "    </tr>\n",
       "    <tr>\n",
       "      <th>21440</th>\n",
       "      <td>0.0461</td>\n",
       "      <td>11417.0</td>\n",
       "      <td>0.0239</td>\n",
       "      <td>273.0</td>\n",
       "      <td>3762.0</td>\n",
       "      <td>-0.0191</td>\n",
       "      <td>13.37</td>\n",
       "      <td>-0.0147</td>\n",
       "      <td>0.4404</td>\n",
       "      <td>0.00</td>\n",
       "      <td>0.0660</td>\n",
       "      <td>-0.0267</td>\n",
       "      <td>0.70</td>\n",
       "      <td>-0.01</td>\n",
       "      <td>0.96</td>\n",
       "    </tr>\n",
       "    <tr>\n",
       "      <th>21441</th>\n",
       "      <td>0.0161</td>\n",
       "      <td>11228.0</td>\n",
       "      <td>0.0239</td>\n",
       "      <td>268.0</td>\n",
       "      <td>3591.0</td>\n",
       "      <td>-0.0313</td>\n",
       "      <td>12.76</td>\n",
       "      <td>-0.0239</td>\n",
       "      <td>0.4366</td>\n",
       "      <td>0.00</td>\n",
       "      <td>0.0235</td>\n",
       "      <td>-0.0445</td>\n",
       "      <td>0.65</td>\n",
       "      <td>-0.50</td>\n",
       "      <td>0.90</td>\n",
       "    </tr>\n",
       "    <tr>\n",
       "      <th>21442</th>\n",
       "      <td>0.0159</td>\n",
       "      <td>11746.0</td>\n",
       "      <td>0.0321</td>\n",
       "      <td>377.0</td>\n",
       "      <td>3328.0</td>\n",
       "      <td>-0.0011</td>\n",
       "      <td>11.06</td>\n",
       "      <td>-0.0008</td>\n",
       "      <td>0.4315</td>\n",
       "      <td>0.00</td>\n",
       "      <td>0.0176</td>\n",
       "      <td>-0.0016</td>\n",
       "      <td>0.57</td>\n",
       "      <td>-0.03</td>\n",
       "      <td>0.78</td>\n",
       "    </tr>\n",
       "    <tr>\n",
       "      <th>21443</th>\n",
       "      <td>0.0294</td>\n",
       "      <td>11802.0</td>\n",
       "      <td>0.0313</td>\n",
       "      <td>369.0</td>\n",
       "      <td>3889.0</td>\n",
       "      <td>0.0149</td>\n",
       "      <td>13.33</td>\n",
       "      <td>0.0116</td>\n",
       "      <td>0.4298</td>\n",
       "      <td>0.00</td>\n",
       "      <td>0.0216</td>\n",
       "      <td>0.0213</td>\n",
       "      <td>0.66</td>\n",
       "      <td>0.15</td>\n",
       "      <td>0.94</td>\n",
       "    </tr>\n",
       "    <tr>\n",
       "      <th>21444</th>\n",
       "      <td>0.0147</td>\n",
       "      <td>11845.0</td>\n",
       "      <td>0.0312</td>\n",
       "      <td>369.0</td>\n",
       "      <td>3905.0</td>\n",
       "      <td>-0.0245</td>\n",
       "      <td>10.87</td>\n",
       "      <td>-0.0193</td>\n",
       "      <td>0.4267</td>\n",
       "      <td>36.22</td>\n",
       "      <td>0.0055</td>\n",
       "      <td>-0.0357</td>\n",
       "      <td>0.53</td>\n",
       "      <td>-0.26</td>\n",
       "      <td>0.76</td>\n",
       "    </tr>\n",
       "  </tbody>\n",
       "</table>\n",
       "<p>21445 rows × 15 columns</p>\n",
       "</div>"
      ],
      "text/plain": [
       "          ROI  Share Holder Equity  Debt to Equity Ratio  \\\n",
       "0      0.6693              71932.0                1.4824   \n",
       "1      0.6357              63090.0                1.7294   \n",
       "2      0.5902              64280.0                1.6452   \n",
       "3      0.5279              69178.0                1.5705   \n",
       "4      0.4477              66224.0                1.4992   \n",
       "...       ...                  ...                   ...   \n",
       "21440  0.0461              11417.0                0.0239   \n",
       "21441  0.0161              11228.0                0.0239   \n",
       "21442  0.0159              11746.0                0.0321   \n",
       "21443  0.0294              11802.0                0.0313   \n",
       "21444  0.0147              11845.0                0.0312   \n",
       "\n",
       "       Long-term debt to equity ratio  Current Assets     ROE  Stock Price  \\\n",
       "0                            106629.0        153154.0  1.4981       174.36   \n",
       "1                            109106.0        134836.0  1.4412       177.08   \n",
       "2                            105752.0        114423.0  1.3101       140.91   \n",
       "3                            108642.0        121465.0  1.1180       136.18   \n",
       "4                             99281.0        154106.0  0.9059       121.25   \n",
       "...                               ...             ...     ...          ...   \n",
       "21440                           273.0          3762.0 -0.0191        13.37   \n",
       "21441                           268.0          3591.0 -0.0313        12.76   \n",
       "21442                           377.0          3328.0 -0.0011        11.06   \n",
       "21443                           369.0          3889.0  0.0149        13.33   \n",
       "21444                           369.0          3905.0 -0.0245        10.87   \n",
       "\n",
       "          ROA  Percentage of Gross profit to sale    P/E  \\\n",
       "0      0.2875                              0.4302  28.30   \n",
       "1      0.2760                              0.4178  29.32   \n",
       "2      0.2582                              0.4101  25.07   \n",
       "3      0.2291                              0.3988  26.65   \n",
       "4      0.1944                              0.3878  27.22   \n",
       "...       ...                                 ...    ...   \n",
       "21440 -0.0147                              0.4404   0.00   \n",
       "21441 -0.0239                              0.4366   0.00   \n",
       "21442 -0.0008                              0.4315   0.00   \n",
       "21443  0.0116                              0.4298   0.00   \n",
       "21444 -0.0193                              0.4267  36.22   \n",
       "\n",
       "       Percentage of operating profit to sale  \\\n",
       "0                                      0.3090   \n",
       "1                                      0.2978   \n",
       "2                                      0.2879   \n",
       "3                                      0.2732   \n",
       "4                                      0.2524   \n",
       "...                                       ...   \n",
       "21440                                  0.0660   \n",
       "21441                                  0.0235   \n",
       "21442                                  0.0176   \n",
       "21443                                  0.0216   \n",
       "21444                                  0.0055   \n",
       "\n",
       "       Percentage of net profit to sale  Stock book value   EPS   P/S  \n",
       "0                                0.2658             41.93  2.10  7.51  \n",
       "1                                0.2588             40.23  1.23  7.84  \n",
       "2                                0.2500             36.69  1.30  6.52  \n",
       "3                                0.2345             35.08  1.40  6.69  \n",
       "4                                0.2173             29.25  1.68  6.41  \n",
       "...                                 ...               ...   ...   ...  \n",
       "21440                           -0.0267              0.70 -0.01  0.96  \n",
       "21441                           -0.0445              0.65 -0.50  0.90  \n",
       "21442                           -0.0016              0.57 -0.03  0.78  \n",
       "21443                            0.0213              0.66  0.15  0.94  \n",
       "21444                           -0.0357              0.53 -0.26  0.76  \n",
       "\n",
       "[21445 rows x 15 columns]"
      ]
     },
     "execution_count": 264,
     "metadata": {},
     "output_type": "execute_result"
    }
   ],
   "source": [
    "\n",
    "SSCAS = []\n",
    "\n",
    "features_return = getColumnsRank(final_ranking_real_return)[:N_FEATURES]\n",
    "\n",
    "#dataset_X = dataset.drop(columns=[REAL_RETURN_CLASS, REAL_RETURN, RISK_CLASS, RISK, \"Date\", \"Company\"])\n",
    "dataset_X = dataset[features_return]\n",
    "dataset_y = dataset.drop(columns=DATA)\n",
    "\n",
    "dataset_X"
   ]
  },
  {
   "cell_type": "code",
   "execution_count": 265,
   "metadata": {},
   "outputs": [],
   "source": [
    "# for cluster in range(2, 7):\n",
    "#   clusterer = KMeans(n_clusters=cluster, random_state=10)\n",
    "\n",
    "#   cluster_labels = clusterer.fit_predict(dataset_X)\n",
    "\n",
    "#   silhouette_values = silhouette_samples(dataset_X, cluster_labels)\n",
    "#   #silhouette_avg = silhouette_score(dataset_X, cluster_labels)\n",
    "\n",
    "#   sum_count = 0\n",
    "#   count_2 = 0\n",
    "\n",
    "#   #Primeiro somatorio\n",
    "#   for k in range(cluster):\n",
    "#     count = 0\n",
    "#     n_j = 0\n",
    "\n",
    "#     #Segundo somatorio\n",
    "#     for j in range(len(cluster_labels)):\n",
    "#       if cluster_labels[j] == k:\n",
    "#         n_j += 1\n",
    "#         count += silhouette_values[j]\n",
    "\n",
    "#     count_2 = (count/n_j)\n",
    "#     sum_count += count_2\n",
    "\n",
    "#   SSCA = (sum_count/cluster)\n",
    "#   SSCAS.append((cluster, round(SSCA, 2)))\n",
    "\n",
    "# SSCAS"
   ]
  },
  {
   "attachments": {},
   "cell_type": "markdown",
   "metadata": {},
   "source": [
    "### Divisão do dataset"
   ]
  },
  {
   "cell_type": "code",
   "execution_count": 266,
   "metadata": {},
   "outputs": [],
   "source": [
    "columns_dataset = DATA\n",
    "columns_dataset.append(REAL_RETURN)\n",
    "columns_dataset.append(RISK)\n",
    "columns_dataset.append(REAL_RETURN_CLASS)\n",
    "columns_dataset.append(RISK_CLASS)\n",
    "\n",
    "df_train = None\n",
    "df_test = None\n",
    "\n",
    "df_train = pd.DataFrame(columns=columns_dataset)\n",
    "df_test = pd.DataFrame(columns=columns_dataset)"
   ]
  },
  {
   "cell_type": "code",
   "execution_count": 267,
   "metadata": {},
   "outputs": [
    {
     "name": "stdout",
     "output_type": "stream",
     "text": [
      "14283\n",
      "7162\n"
     ]
    }
   ],
   "source": [
    "TRAINING_START_DATE =  dt.datetime.strptime('2009-03-31', \"%Y-%m-%d\")\n",
    "TRAINING_END_DATE =  dt.datetime.strptime('2018-03-31', \"%Y-%m-%d\")\n",
    "\n",
    "TEST_START_DATE =  dt.datetime.strptime('2018-06-30', \"%Y-%m-%d\")\n",
    "TEST_END_DATE =  dt.datetime.strptime('2022-03-31', \"%Y-%m-%d\")\n",
    "\n",
    "dataset_sort = dataset.sort_values(by='Date')\n",
    "count_train = 0\n",
    "count_test = 0\n",
    "\n",
    "for index, row in dataset_sort.iterrows():\n",
    "  date = dt.datetime.strptime(row['Date'], \"%Y-%m-%d\")\n",
    "  if date.year < TEST_START_DATE.year:\n",
    "    df_train = df_train.append(row)\n",
    "    count_train +=1\n",
    "  elif date.year == TEST_START_DATE.year and date.month < TEST_START_DATE.month:\n",
    "    df_train = df_train.append(row)\n",
    "    count_train +=1\n",
    "  else:\n",
    "    df_test = df_test.append(row)\n",
    "    count_test += 1\n",
    "\n",
    "print(count_train)\n",
    "print(count_test)\n",
    "\n",
    "df_train = df_train.drop(columns=[REAL_RETURN, RISK, \"Date\", \"Company\"])\n",
    "df_test = df_test.drop(columns=[REAL_RETURN, RISK, \"Date\", \"Company\"])\n",
    "\n",
    "# plotResults(df_train, \"Real Return\", \"Risk\")\n",
    "\n",
    "# plotResults(df_test, \"Real Return\", \"Risk\")"
   ]
  },
  {
   "attachments": {},
   "cell_type": "markdown",
   "metadata": {},
   "source": [
    "##### Real Return"
   ]
  },
  {
   "cell_type": "code",
   "execution_count": 268,
   "metadata": {},
   "outputs": [],
   "source": [
    "X_real_return_train = df_train[features_real_return]\n",
    "y_real_return_train = df_train[REAL_RETURN_CLASS]"
   ]
  },
  {
   "cell_type": "code",
   "execution_count": 269,
   "metadata": {},
   "outputs": [],
   "source": [
    "X_real_return_test = df_test[features_real_return]\n",
    "y_real_return_test = df_test[REAL_RETURN_CLASS]"
   ]
  },
  {
   "attachments": {},
   "cell_type": "markdown",
   "metadata": {},
   "source": [
    "##### Risk"
   ]
  },
  {
   "cell_type": "code",
   "execution_count": 270,
   "metadata": {},
   "outputs": [],
   "source": [
    "X_risk_train = df_train[features_risk]\n",
    "y_risk_train = df_train[RISK_CLASS]"
   ]
  },
  {
   "cell_type": "code",
   "execution_count": 271,
   "metadata": {},
   "outputs": [],
   "source": [
    "X_risk_test = df_test[features_risk]\n",
    "y_risk_test = df_test[RISK_CLASS]"
   ]
  },
  {
   "attachments": {},
   "cell_type": "markdown",
   "metadata": {},
   "source": [
    "### Classificadores Únicos"
   ]
  },
  {
   "attachments": {},
   "cell_type": "markdown",
   "metadata": {},
   "source": [
    "#### Random Forest"
   ]
  },
  {
   "attachments": {},
   "cell_type": "markdown",
   "metadata": {},
   "source": [
    "##### Real Return"
   ]
  },
  {
   "cell_type": "code",
   "execution_count": 272,
   "metadata": {},
   "outputs": [
    {
     "data": {
      "text/plain": [
       "0.9522479754258587"
      ]
     },
     "execution_count": 272,
     "metadata": {},
     "output_type": "execute_result"
    }
   ],
   "source": [
    "randon_forest_return = RandomForestClassifier(max_depth=10, random_state=42)\n",
    "randon_forest_return.fit(X_real_return_train, y_real_return_train)\n",
    "\n",
    "randon_forest_return.score(X_real_return_test, y_real_return_test)"
   ]
  },
  {
   "attachments": {},
   "cell_type": "markdown",
   "metadata": {},
   "source": [
    "##### Risk"
   ]
  },
  {
   "cell_type": "code",
   "execution_count": 273,
   "metadata": {},
   "outputs": [
    {
     "data": {
      "text/plain": [
       "0.5034906450712091"
      ]
     },
     "execution_count": 273,
     "metadata": {},
     "output_type": "execute_result"
    }
   ],
   "source": [
    "randon_forest_risk = RandomForestClassifier(max_depth=10, random_state=42)\n",
    "randon_forest_risk.fit(X_risk_train, y_risk_train)\n",
    "\n",
    "randon_forest_risk.score(X_risk_test, y_risk_test)"
   ]
  },
  {
   "attachments": {},
   "cell_type": "markdown",
   "metadata": {},
   "source": [
    "#### SVM"
   ]
  },
  {
   "attachments": {},
   "cell_type": "markdown",
   "metadata": {},
   "source": [
    "##### Real Return"
   ]
  },
  {
   "cell_type": "code",
   "execution_count": 274,
   "metadata": {},
   "outputs": [
    {
     "data": {
      "text/plain": [
       "0.509913432002234"
      ]
     },
     "execution_count": 274,
     "metadata": {},
     "output_type": "execute_result"
    }
   ],
   "source": [
    "svm = SVC(kernel='rbf', C=10)\n",
    "svm.fit(X_real_return_train, y_real_return_train)\n",
    "\n",
    "svm.score(X_real_return_test, y_real_return_test)"
   ]
  },
  {
   "attachments": {},
   "cell_type": "markdown",
   "metadata": {},
   "source": [
    "##### Risk"
   ]
  },
  {
   "cell_type": "code",
   "execution_count": 275,
   "metadata": {},
   "outputs": [
    {
     "data": {
      "text/plain": [
       "0.4216699246020665"
      ]
     },
     "execution_count": 275,
     "metadata": {},
     "output_type": "execute_result"
    }
   ],
   "source": [
    "svm = SVC(kernel='rbf', C=2)\n",
    "svm.fit(X_risk_train, y_risk_train)\n",
    "\n",
    "svm.score(X_risk_test, y_risk_test)"
   ]
  },
  {
   "attachments": {},
   "cell_type": "markdown",
   "metadata": {},
   "source": [
    "#### Decision Tree"
   ]
  },
  {
   "attachments": {},
   "cell_type": "markdown",
   "metadata": {},
   "source": [
    "##### Real Return"
   ]
  },
  {
   "cell_type": "code",
   "execution_count": 292,
   "metadata": {},
   "outputs": [
    {
     "data": {
      "text/plain": [
       "0.9148282602624965"
      ]
     },
     "execution_count": 292,
     "metadata": {},
     "output_type": "execute_result"
    }
   ],
   "source": [
    "decision_tree = DecisionTreeClassifier()\n",
    "decision_tree.fit(X_real_return_train, y_real_return_train)\n",
    "\n",
    "decision_tree.score(X_real_return_test, y_real_return_test)"
   ]
  },
  {
   "attachments": {},
   "cell_type": "markdown",
   "metadata": {},
   "source": [
    "##### Risk"
   ]
  },
  {
   "cell_type": "code",
   "execution_count": 295,
   "metadata": {},
   "outputs": [
    {
     "data": {
      "text/plain": [
       "0.41971516336218934"
      ]
     },
     "execution_count": 295,
     "metadata": {},
     "output_type": "execute_result"
    }
   ],
   "source": [
    "decision_tree = DecisionTreeClassifier()\n",
    "decision_tree.fit(X_risk_train, y_risk_train)\n",
    "\n",
    "decision_tree.score(X_risk_test, y_risk_test)"
   ]
  },
  {
   "attachments": {},
   "cell_type": "markdown",
   "metadata": {},
   "source": [
    "#### Gaussian Naive Bayes"
   ]
  },
  {
   "attachments": {},
   "cell_type": "markdown",
   "metadata": {},
   "source": [
    "##### Real Return"
   ]
  },
  {
   "cell_type": "code",
   "execution_count": 306,
   "metadata": {},
   "outputs": [
    {
     "data": {
      "text/plain": [
       "0.40093240093240096"
      ]
     },
     "execution_count": 306,
     "metadata": {},
     "output_type": "execute_result"
    }
   ],
   "source": [
    "nb = GaussianNB()\n",
    "result = cross_val_score(nb, dataset_X, dataset_y[REAL_RETURN_CLASS], cv=10)\n",
    "result.max()"
   ]
  },
  {
   "cell_type": "code",
   "execution_count": 308,
   "metadata": {},
   "outputs": [
    {
     "data": {
      "text/plain": [
       "0.4120357442055292"
      ]
     },
     "execution_count": 308,
     "metadata": {},
     "output_type": "execute_result"
    }
   ],
   "source": [
    "nb = GaussianNB()\n",
    "nb.fit(X_real_return_train, y_real_return_train)\n",
    "\n",
    "nb.score(X_real_return_test, y_real_return_test)"
   ]
  },
  {
   "attachments": {},
   "cell_type": "markdown",
   "metadata": {},
   "source": [
    "##### Risk"
   ]
  },
  {
   "cell_type": "code",
   "execution_count": 279,
   "metadata": {},
   "outputs": [
    {
     "data": {
      "text/plain": [
       "0.34068695895001394"
      ]
     },
     "execution_count": 279,
     "metadata": {},
     "output_type": "execute_result"
    }
   ],
   "source": [
    "nb_risk = GaussianNB()\n",
    "nb_risk.fit(X_risk_train, y_risk_train)\n",
    "\n",
    "nb_risk.score(X_risk_test, y_risk_test)"
   ]
  },
  {
   "attachments": {},
   "cell_type": "markdown",
   "metadata": {},
   "source": [
    "#### Rede Neural"
   ]
  },
  {
   "attachments": {},
   "cell_type": "markdown",
   "metadata": {},
   "source": [
    "##### Real Return"
   ]
  },
  {
   "cell_type": "code",
   "execution_count": 338,
   "metadata": {},
   "outputs": [
    {
     "data": {
      "text/plain": [
       "0.5194079865959229"
      ]
     },
     "execution_count": 338,
     "metadata": {},
     "output_type": "execute_result"
    }
   ],
   "source": [
    "neural_return = MLPClassifier(alpha=1)\n",
    "neural_return.fit(X_real_return_train, y_real_return_train)\n",
    "\n",
    "neural_return.score(X_real_return_test, y_real_return_test)"
   ]
  },
  {
   "attachments": {},
   "cell_type": "markdown",
   "metadata": {},
   "source": [
    "##### Risk"
   ]
  },
  {
   "cell_type": "code",
   "execution_count": 343,
   "metadata": {},
   "outputs": [
    {
     "data": {
      "text/plain": [
       "0.4361910080982966"
      ]
     },
     "execution_count": 343,
     "metadata": {},
     "output_type": "execute_result"
    }
   ],
   "source": [
    "neural_risk = MLPClassifier(alpha=1, max_iter=500, random_state=42)\n",
    "neural_risk.fit(X_risk_train, y_risk_train)\n",
    "\n",
    "neural_risk.score(X_risk_test, y_risk_test)"
   ]
  },
  {
   "attachments": {},
   "cell_type": "markdown",
   "metadata": {},
   "source": [
    "#### Regressão Logística"
   ]
  },
  {
   "attachments": {},
   "cell_type": "markdown",
   "metadata": {},
   "source": [
    "##### Real Return"
   ]
  },
  {
   "cell_type": "code",
   "execution_count": 375,
   "metadata": {},
   "outputs": [
    {
     "data": {
      "text/plain": [
       "0.8781066741133762"
      ]
     },
     "execution_count": 375,
     "metadata": {},
     "output_type": "execute_result"
    }
   ],
   "source": [
    "rl_return = LogisticRegression(solver='newton-cg', penalty='l2')\n",
    "rl_return.fit(X_real_return_train, y_real_return_train)\n",
    "\n",
    "rl_return.score(X_real_return_test, y_real_return_test)"
   ]
  },
  {
   "attachments": {},
   "cell_type": "markdown",
   "metadata": {},
   "source": [
    "##### Risk"
   ]
  },
  {
   "cell_type": "code",
   "execution_count": 372,
   "metadata": {},
   "outputs": [
    {
     "data": {
      "text/plain": [
       "0.44205529181792796"
      ]
     },
     "execution_count": 372,
     "metadata": {},
     "output_type": "execute_result"
    }
   ],
   "source": [
    "rl_risk = LogisticRegression( solver='newton-cholesky')\n",
    "rl_risk.fit(X_risk_train, y_risk_train)\n",
    "\n",
    "rl_risk.score(X_risk_test, y_risk_test)"
   ]
  }
 ],
 "metadata": {
  "kernelspec": {
   "display_name": "env",
   "language": "python",
   "name": "python3"
  },
  "language_info": {
   "codemirror_mode": {
    "name": "ipython",
    "version": 3
   },
   "file_extension": ".py",
   "mimetype": "text/x-python",
   "name": "python",
   "nbconvert_exporter": "python",
   "pygments_lexer": "ipython3",
   "version": "3.10.5"
  },
  "orig_nbformat": 4,
  "vscode": {
   "interpreter": {
    "hash": "cc8a3245a31a46333b724f0fa902266a4a2d307e3e7797c60732a355503841f0"
   }
  }
 },
 "nbformat": 4,
 "nbformat_minor": 2
}

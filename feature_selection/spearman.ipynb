{
 "cells": [
  {
   "cell_type": "code",
   "execution_count": 2,
   "metadata": {},
   "outputs": [],
   "source": [
    "import numpy as np\n",
    "import pandas as pd"
   ]
  },
  {
   "cell_type": "code",
   "execution_count": 3,
   "metadata": {},
   "outputs": [],
   "source": [
    "DATA = ['Unnamed: 0', 'revenue','cost-goods-sold','gross-profit','research-development-expenses','selling-general-administrative-expenses','operating-expenses',\n",
    "'operating-income','total-non-operating-income-expense','pre-tax-income','total-provision-income-taxes','income-after-taxes','income-from-continuous-operations',\n",
    "'income-from-discontinued-operations','net-income','ebitda','ebit','basic-shares-outstanding','shares-outstanding','eps-basic-net-earnings-per-share',\n",
    "'eps-earnings-per-share-diluted','cash-on-hand','receivables-total','inventory','other-current-assets','total-current-assets','net-property-plant-equipment',\n",
    "'long-term-investments','goodwill-intangible-assets-total','other-long-term-assets','total-long-term-assets','total-assets','total-current-liabilities','long-term-debt',\n",
    "'other-non-current-liabilities','total-long-term-liabilities','total-liabilities','common-stock-net','retained-earnings-accumulated-deficit','comprehensive-income',\n",
    "'total-share-holder-equity','total-liabilities-share-holders-equity','net-income-loss','total-depreciation-amortization-cash-flow','other-non-cash-items','total-non-cash-items',\n",
    "'change-in-accounts-receivable','change-in-inventories','change-in-accounts-payable','change-in-assets-liabilities','total-change-in-assets-liabilities',\n",
    "'cash-flow-from-operating-activities','net-change-in-property-plant-equipment','net-change-in-intangible-assets','net-acquisitions-divestitures','investing-activities-other',\n",
    "'cash-flow-from-investing-activities','net-long-term-debt','net-current-debt','debt-issuance-retirement-net-total','net-common-equity-issued-repurchased',\n",
    "'net-total-equity-issued-repurchased','total-common-preferred-stock-dividends-paid','financial-activities-other','cash-flow-from-financial-activities',\n",
    "'net-cash-flow','stock-based-compensation','common-stock-dividends-paid','current-ratio','long-term-debt-capital','debt-equity-ratio','gross-margin',\n",
    "'operating-margin','ebit-margin','pre-tax-profit-margin','net-profit-margin','asset-turnover','inventory-turnover','receiveable-turnover','days-sales-in-receivables',\n",
    "'roe','return-on-tangible-equity','roa','roi','book-value-per-share','operating-cash-flow-per-share','free-cash-flow-per-share','net-change-in-short-term-investments',\n",
    "'net-change-in-long-term-investments','net-change-in-investments-total','other-operating-income-expenses','pre-paid-expenses','other-share-holders-equity','other-income',\n",
    "'ebitda-margin']\n",
    "\n",
    "REAL_RETURN_CLASS = \"RealReturnClass\"\n",
    "REAL_RETURN = \"RealReturn\"\n",
    "RISK_CLASS = 'RiskClass'\n",
    "RISK = \"Risk\"\n",
    "\n",
    "HIGH = 'high'\n",
    "MEDIUM = 'medium'\n",
    "LOW = 'low'\n",
    "\n",
    "DATE = 'Unnamed: 0'\n",
    "\n",
    "N_PERIODS = 2\n",
    "\n",
    "FEATURE_SELECTION = \"SPEARMAN\"\n",
    "\n",
    "DATASET_PATH = '../new_dataset/process_final_{}.csv'.format(N_PERIODS)"
   ]
  },
  {
   "cell_type": "code",
   "execution_count": 4,
   "metadata": {},
   "outputs": [],
   "source": [
    "dataset = pd.read_csv(DATASET_PATH)\n",
    "dataset = dataset.replace(to_replace=[np.NaN], value=0.0)\n",
    "\n",
    "dataset = dataset.replace(to_replace=[HIGH], value=2.0)\n",
    "dataset = dataset.replace(to_replace=[MEDIUM], value=1.0)\n",
    "dataset = dataset.replace(to_replace=[LOW], value=0.0)\n",
    "\n",
    "dataset_X = dataset.drop(columns=[REAL_RETURN_CLASS, REAL_RETURN, RISK_CLASS, RISK, DATE])\n",
    "dataset_y = dataset.drop(columns=DATA)"
   ]
  },
  {
   "cell_type": "code",
   "execution_count": 5,
   "metadata": {},
   "outputs": [],
   "source": [
    "def pearson(classType):\n",
    "  ranking = dataset_X.corrwith(dataset_y[classType], method='spearman')\n",
    "  ranking = ranking.abs()\n",
    "  result = dict(zip(dataset_X.columns, ranking.values))\n",
    "  \n",
    "  return sorted(result.items(), key=lambda item: item[1], reverse=True)"
   ]
  },
  {
   "cell_type": "code",
   "execution_count": 6,
   "metadata": {},
   "outputs": [
    {
     "data": {
      "text/plain": [
       "[('roi', 0.8597261749198114),\n",
       " ('roa', 0.7932860607232569),\n",
       " ('roe', 0.6536476450761809),\n",
       " ('asset-turnover', 0.5284280712391393),\n",
       " ('eps-basic-net-earnings-per-share', 0.420398105052518),\n",
       " ('eps-earnings-per-share-diluted', 0.4176253930289296),\n",
       " ('pre-tax-profit-margin', 0.37476551940366004),\n",
       " ('net-profit-margin', 0.3561311914213076),\n",
       " ('income-after-taxes', 0.3511411665664389),\n",
       " ('income-from-continuous-operations', 0.3494747788315793),\n",
       " ('net-income', 0.3472563892209999),\n",
       " ('pre-tax-income', 0.3463709116716013),\n",
       " ('net-income-loss', 0.3340901388115314),\n",
       " ('ebit', 0.3279711900722048),\n",
       " ('long-term-debt', 0.32110323791764567),\n",
       " ('operating-margin', 0.3118644186933811),\n",
       " ('ebit-margin', 0.3097832250359871),\n",
       " ('total-provision-income-taxes', 0.29565097936790374),\n",
       " ('book-value-per-share', 0.28905156558515266),\n",
       " ('total-long-term-assets', 0.28858781337218636),\n",
       " ('net-total-equity-issued-repurchased', 0.2850969585627324),\n",
       " ('net-common-equity-issued-repurchased', 0.28303559363255104),\n",
       " ('current-ratio', 0.28256563803707063),\n",
       " ('debt-equity-ratio', 0.2809574462738108),\n",
       " ('total-long-term-liabilities', 0.2808501065750846),\n",
       " ('operating-income', 0.26831230339796414),\n",
       " ('total-non-operating-income-expense', 0.2563281969010166),\n",
       " ('long-term-debt-capital', 0.23182642870642992),\n",
       " ('free-cash-flow-per-share', 0.22882972161923765),\n",
       " ('total-share-holder-equity', 0.2219671565355478),\n",
       " ('return-on-tangible-equity', 0.21988046400803513),\n",
       " ('total-assets', 0.2191992135739517),\n",
       " ('total-liabilities-share-holders-equity', 0.21919920694248318),\n",
       " ('stock-based-compensation', 0.21862822943515678),\n",
       " ('total-liabilities', 0.2172381770567523),\n",
       " ('total-non-cash-items', 0.20538759563995101),\n",
       " ('net-property-plant-equipment', 0.20250660909433504),\n",
       " ('ebitda', 0.19998225564076155),\n",
       " ('cash-flow-from-financial-activities', 0.18484055835368265),\n",
       " ('total-depreciation-amortization-cash-flow', 0.18415169933194628),\n",
       " ('receiveable-turnover', 0.17153860255741216),\n",
       " ('gross-margin', 0.16954559848862608),\n",
       " ('inventory', 0.16746910961637324),\n",
       " ('other-long-term-assets', 0.16482393279702967),\n",
       " ('retained-earnings-accumulated-deficit', 0.13649993217204764),\n",
       " ('inventory-turnover', 0.12999771116585798),\n",
       " ('research-development-expenses', 0.1281057870543304),\n",
       " ('other-operating-income-expenses', 0.11693344718663484),\n",
       " ('other-non-current-liabilities', 0.11480661255069667),\n",
       " ('days-sales-in-receivables', 0.11330274409530516),\n",
       " ('cost-goods-sold', 0.11239690828926421),\n",
       " ('receivables-total', 0.10024556431560759),\n",
       " ('other-non-cash-items', 0.09841223533151315),\n",
       " ('cash-flow-from-investing-activities', 0.09593308557570279),\n",
       " ('revenue', 0.09523493260880113),\n",
       " ('change-in-accounts-receivable', 0.09213005790341187),\n",
       " ('change-in-inventories', 0.09151147425506598),\n",
       " ('operating-cash-flow-per-share', 0.08767154478974283),\n",
       " ('net-change-in-property-plant-equipment', 0.08729585909234033),\n",
       " ('gross-profit', 0.08606682111689766),\n",
       " ('cash-flow-from-operating-activities', 0.07919981167808522),\n",
       " ('financial-activities-other', 0.07475396965516005),\n",
       " ('pre-paid-expenses', 0.0714050373839143),\n",
       " ('cash-on-hand', 0.06967778101749567),\n",
       " ('long-term-investments', 0.06799695822887288),\n",
       " ('change-in-accounts-payable', 0.056151130611794935),\n",
       " ('income-from-discontinued-operations', 0.0546736424589712),\n",
       " ('common-stock-net', 0.04678267508111167),\n",
       " ('selling-general-administrative-expenses', 0.045766153045862595),\n",
       " ('goodwill-intangible-assets-total', 0.04448033076524564),\n",
       " ('net-change-in-long-term-investments', 0.04189786041351386),\n",
       " ('net-acquisitions-divestitures', 0.040615646126988245),\n",
       " ('operating-expenses', 0.03773419866679716),\n",
       " ('total-current-liabilities', 0.03716760962861588),\n",
       " ('change-in-assets-liabilities', 0.03541761317676482),\n",
       " ('net-cash-flow', 0.03369159219748433),\n",
       " ('total-current-assets', 0.03229040086803396),\n",
       " ('ebitda-margin', 0.026700672980619594),\n",
       " ('other-current-assets', 0.023209699951544628),\n",
       " ('total-common-preferred-stock-dividends-paid', 0.023196512634678104),\n",
       " ('other-income', 0.022703142141397018),\n",
       " ('net-change-in-investments-total', 0.018819576059798872),\n",
       " ('basic-shares-outstanding', 0.016917339629402353),\n",
       " ('net-change-in-short-term-investments', 0.01636666611130435),\n",
       " ('investing-activities-other', 0.015098544769769667),\n",
       " ('total-change-in-assets-liabilities', 0.015067754375443724),\n",
       " ('common-stock-dividends-paid', 0.014748335436347784),\n",
       " ('shares-outstanding', 0.014705922068219588),\n",
       " ('net-change-in-intangible-assets', 0.014150783363045916),\n",
       " ('net-current-debt', 0.011641822753211814),\n",
       " ('comprehensive-income', 0.007819492014595229),\n",
       " ('net-long-term-debt', 0.006260633305450326),\n",
       " ('debt-issuance-retirement-net-total', 0.005728456944682415),\n",
       " ('other-share-holders-equity', 0.0037216423065378913)]"
      ]
     },
     "execution_count": 6,
     "metadata": {},
     "output_type": "execute_result"
    }
   ],
   "source": [
    "pearson(REAL_RETURN_CLASS)"
   ]
  },
  {
   "cell_type": "code",
   "execution_count": 7,
   "metadata": {},
   "outputs": [],
   "source": [
    "def writeFeature(classType, type):\n",
    "  file = open(f'./files/{FEATURE_SELECTION}_{type}.txt', 'a')\n",
    "  result = pearson(classType)\n",
    "\n",
    "  for feature in result:\n",
    "    file.write(str(feature))\n",
    "    file.write(\"\\n\")\n",
    "  \n",
    "  file.close()"
   ]
  },
  {
   "cell_type": "code",
   "execution_count": 8,
   "metadata": {},
   "outputs": [],
   "source": [
    "writeFeature(REAL_RETURN_CLASS, REAL_RETURN)\n",
    "writeFeature(RISK_CLASS, RISK)"
   ]
  }
 ],
 "metadata": {
  "kernelspec": {
   "display_name": "env",
   "language": "python",
   "name": "python3"
  },
  "language_info": {
   "codemirror_mode": {
    "name": "ipython",
    "version": 3
   },
   "file_extension": ".py",
   "mimetype": "text/x-python",
   "name": "python",
   "nbconvert_exporter": "python",
   "pygments_lexer": "ipython3",
   "version": "3.10.5"
  },
  "orig_nbformat": 4
 },
 "nbformat": 4,
 "nbformat_minor": 2
}

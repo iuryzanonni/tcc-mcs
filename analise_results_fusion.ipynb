{
 "cells": [
  {
   "attachments": {},
   "cell_type": "markdown",
   "metadata": {},
   "source": [
    "# Imports"
   ]
  },
  {
   "cell_type": "code",
   "execution_count": null,
   "metadata": {},
   "outputs": [],
   "source": [
    "import pandas as pd\n",
    "import matplotlib.pyplot as plt"
   ]
  },
  {
   "attachments": {},
   "cell_type": "markdown",
   "metadata": {},
   "source": [
    "## Variables"
   ]
  },
  {
   "cell_type": "code",
   "execution_count": null,
   "metadata": {},
   "outputs": [],
   "source": [
    "N_FEATURES_LIST = [1, 3, 5, 10, 15, 20, 30, 40, 50, 60, 70, 80, 90, 94]\n",
    "\n",
    "MUTUAL_INFORMATION = \"MUTUAL_INFORMATION\"\n",
    "SPEARMAN = \"SPEARMAN\"\n",
    "ONE_R = \"ONE_R\"\n",
    "\n",
    "FEATURE_SELECTION_LIST = [MUTUAL_INFORMATION, SPEARMAN, ONE_R]\n",
    "\n",
    "CLASSIFIERS = \"Classifiers\"\n",
    "ACCURACY = \"Accuracy\"\n",
    "N_FEATURES_NAME = \"N_Features\"\n",
    "FEATURE_SELECTION = \"Feature_Selection\"\n",
    "DIVERSITY = \"Diversity\"\n",
    "FUSION_CLASSIFIER = \"Fusion\"\n"
   ]
  },
  {
   "attachments": {},
   "cell_type": "markdown",
   "metadata": {},
   "source": [
    "### Variables file"
   ]
  },
  {
   "cell_type": "code",
   "execution_count": null,
   "metadata": {},
   "outputs": [],
   "source": [
    "REAL_RETURN = \"Real Return\"\n",
    "RISK = \"Risk\"\n",
    "\n",
    "UNIQUE_CLASSIFIERS = \"######## CLASSIFICADORES UNICOS ########\"\n",
    "CV = \"######## CV ########\"\n",
    "SELECTION_CLASSIFIERS = \"######## CLASSIFIERS SELECTION ########\"\n",
    "WHITOUT_DIVERSITY = \"######## WHITOUT DIVERSITY ########\"\n",
    "BAGGING = \"######## BAGGING ########\"\n",
    "ADABOOST = \"######## ADABOOST ########\"\n",
    "FUSION = \"######## FUSION ########\"\n",
    "END = \"END\"\n",
    "\n",
    "RANDOM_FOREST = \"RANDOM FOREST\"\n",
    "SVM = \"SVM\"\n",
    "DECISION_TREE = \"DECISION TREE\"\n",
    "NAIVE_BAYES = \"NAIVE BAYES\"\n",
    "NEURAL_NETWORK = \"NEURAL NETWORK\"\n",
    "LOGISTIC_REGRESSION = \"LOGISTIC REGRESSION\"\n",
    "KNEIGHBORS= \"KNEIGHBORS\"\n",
    "XGBOOST = \"XGBOOST\"\n",
    "\n",
    "CLASSIFIER_LIST = [RANDOM_FOREST, SVM, DECISION_TREE, NAIVE_BAYES, NEURAL_NETWORK, LOGISTIC_REGRESSION, KNEIGHBORS, XGBOOST]"
   ]
  },
  {
   "attachments": {},
   "cell_type": "markdown",
   "metadata": {},
   "source": [
    "## Create Dataframes"
   ]
  },
  {
   "cell_type": "code",
   "execution_count": null,
   "metadata": {},
   "outputs": [],
   "source": [
    "UNIQUE_COLUMNS = [N_FEATURES_NAME, FEATURE_SELECTION, CLASSIFIERS, ACCURACY]\n",
    "DF_UNIQUE_REAL_RETURN = pd.DataFrame(columns=UNIQUE_COLUMNS)\n",
    "DF_UNIQUE_RISK = pd.DataFrame(columns=UNIQUE_COLUMNS)\n",
    "\n",
    "FUSION_COLUMNS = [N_FEATURES_NAME, DIVERSITY, FUSION_CLASSIFIER, ACCURACY]\n",
    "DF_FUSION_REAL_RETURN = pd.DataFrame(columns=FUSION_COLUMNS)\n",
    "DF_FUSION_RISK = pd.DataFrame(columns=FUSION_COLUMNS)"
   ]
  },
  {
   "attachments": {},
   "cell_type": "markdown",
   "metadata": {},
   "source": [
    "## Read File"
   ]
  },
  {
   "cell_type": "code",
   "execution_count": null,
   "metadata": {},
   "outputs": [],
   "source": [
    "def addUniqueClassifiers(n_features:int, method:str, unique_classifiers:pd.DataFrame):\n",
    "  global DF_UNIQUE_REAL_RETURN\n",
    "  global DF_UNIQUE_RISK\n",
    "  \n",
    "  for key in unique_classifiers.keys():\n",
    "    row_result = [n_features, method, key, unique_classifiers[key][0]]\n",
    "    row_risk = [n_features, method, key, unique_classifiers[key][1]]\n",
    "\n",
    "    temp_df = pd.DataFrame([row_result], columns=DF_UNIQUE_REAL_RETURN.columns)\n",
    "    DF_UNIQUE_REAL_RETURN = pd.concat([DF_UNIQUE_REAL_RETURN, temp_df], ignore_index=True)\n",
    "\n",
    "    temp_df = pd.DataFrame([row_risk], columns=DF_UNIQUE_RISK.columns)\n",
    "    DF_UNIQUE_RISK = pd.concat([DF_UNIQUE_RISK, temp_df], ignore_index=True)"
   ]
  },
  {
   "cell_type": "code",
   "execution_count": null,
   "metadata": {},
   "outputs": [],
   "source": [
    "def addFusion(n_features:int, fusion_list:list, df_base:pd.DataFrame):\n",
    "  for result in fusion_list:\n",
    "    row = [n_features, \n",
    "           str(result[0]).replace(\"[\", \"\").replace(\"]\", \"\"),  \n",
    "           str(result[1]).replace(\"[\", \"\").replace(\"]\", \"\"),\n",
    "           result[2]]\n",
    "    \n",
    "    temp_df = pd.DataFrame([row], columns=df_base.columns)\n",
    "    df_base = pd.concat([df_base, temp_df], ignore_index=True)\n",
    "\n",
    "  return df_base"
   ]
  },
  {
   "cell_type": "code",
   "execution_count": null,
   "metadata": {},
   "outputs": [],
   "source": [
    "def readFile(selection_feature:str, n_features:int, type:str):\n",
    "  global DF_FUSION_REAL_RETURN\n",
    "  global DF_FUSION_RISK\n",
    "\n",
    "  FILE_PATH = f\"./files_fusion/FUSION.txt\"\n",
    "  file = open(FILE_PATH, 'r')\n",
    "\n",
    "  unique_classifiers = {}\n",
    "  cv_classifiers = {}\n",
    "\n",
    "  real_return_whiout = []\n",
    "  risk_whiout = []\n",
    "\n",
    "  real_return_bagging = []\n",
    "  risk_bagging = []\n",
    "\n",
    "  real_return_adaboost = []\n",
    "  risk_adaboost = []\n",
    "\n",
    "  real_return_fusion = []\n",
    "  risk_fusion = []\n",
    "\n",
    "  for line in file:\n",
    "    if UNIQUE_CLASSIFIERS in line:\n",
    "      line = file.readline()\n",
    "      while CV not in line:\n",
    "        line = line.strip()\n",
    "        classifier = line.split(\":\")\n",
    "        if classifier.__len__() > 1:\n",
    "          unique_classifiers[classifier[0]] = eval(classifier[1])\n",
    "        line = file.readline()\n",
    "    if CV in line:\n",
    "      line = file.readline()\n",
    "      while SELECTION_CLASSIFIERS not in line:\n",
    "        line = line.strip()\n",
    "        line = file.readline()\n",
    "    if WHITOUT_DIVERSITY in line:\n",
    "      line = file.readline()\n",
    "      while BAGGING not in line:\n",
    "        line = line.strip()\n",
    "        bg = line.split(\": \")\n",
    "        if bg.__len__() > 1 and bg[0] == REAL_RETURN:\n",
    "          real_return_whiout.append(bg[1].split(', '))\n",
    "        if bg.__len__() > 1 and bg[0] == RISK:\n",
    "          risk_whiout.append(bg[1].split(', '))\n",
    "        line = file.readline()\n",
    "    if BAGGING in line:\n",
    "      line = file.readline()\n",
    "      while ADABOOST not in line:\n",
    "        line = line.strip()\n",
    "        bg = line.split(\": \")\n",
    "        if bg.__len__() > 1 and bg[0] == REAL_RETURN:\n",
    "          real_return_bagging.append(bg[1].split(', '))\n",
    "        if bg.__len__() > 1 and bg[0] == RISK:\n",
    "          risk_bagging.append(bg[1].split(', '))\n",
    "        line = file.readline()\n",
    "    if ADABOOST in line:\n",
    "      line = file.readline()\n",
    "      while FUSION not in line:\n",
    "        line = line.strip()\n",
    "        bg = line.split(\": \")\n",
    "        if bg.__len__() > 1 and bg[0] == REAL_RETURN:\n",
    "          real_return_adaboost.append(bg[1].split(', '))\n",
    "        if bg.__len__() > 1 and bg[0] == RISK:\n",
    "          risk_adaboost.append(bg[1].split(', '))\n",
    "        line = file.readline()\n",
    "    if FUSION in line:\n",
    "      line = file.readline()\n",
    "      while END not in line:\n",
    "        line = line.strip().replace(\":\", \"\").split(\" \")\n",
    "        if line.__len__() > 1 and line[2] == \"RealReturn\":\n",
    "          real_return_fusion.append((line[0], line[1], line[3]))\n",
    "        if line.__len__() > 1 and line[2] == \"Risk\":\n",
    "          risk_fusion.append((line[0], line[1], line[3]))\n",
    "        line = file.readline()\n",
    "\n",
    "  addUniqueClassifiers(n_features, selection_feature, unique_classifiers)\n",
    "  DF_FUSION_REAL_RETURN = addFusion(n_features, real_return_fusion, DF_FUSION_REAL_RETURN)\n",
    "  DF_FUSION_RISK = addFusion(n_features, risk_fusion, DF_FUSION_RISK)"
   ]
  },
  {
   "cell_type": "code",
   "execution_count": null,
   "metadata": {},
   "outputs": [],
   "source": [
    "def queryByColumn(df:pd.DataFrame, column:str, value:str):\n",
    "  return df[df[column] == value]"
   ]
  },
  {
   "cell_type": "code",
   "execution_count": null,
   "metadata": {},
   "outputs": [],
   "source": [
    "readFile(MUTUAL_INFORMATION, 70, \"REAL_RETURN\")"
   ]
  },
  {
   "cell_type": "code",
   "execution_count": null,
   "metadata": {},
   "outputs": [],
   "source": [
    "def plot_accuracy(df, type):\n",
    "  # Cria um gráfico para cada classificador\n",
    "  for classifier in CLASSIFIER_LIST:\n",
    "    # Filtre o dataframe pelo classificador atual\n",
    "    df_classifier = df[df[CLASSIFIERS] == classifier]\n",
    "\n",
    "    # Crie um novo gráfico\n",
    "    plt.figure()\n",
    "\n",
    "    # Plote as linhas para cada FEATURE_SELECTION\n",
    "    for feature_selection in df_classifier[FEATURE_SELECTION].unique():\n",
    "      df_selection = df_classifier[df_classifier[FEATURE_SELECTION] == feature_selection]\n",
    "      plt.plot(df_selection[N_FEATURES_NAME], df_selection[ACCURACY], label=feature_selection)\n",
    "\n",
    "    # Configure os eixos X e Y\n",
    "    plt.xlabel('Número de Features')\n",
    "    plt.ylabel('Acurácia')\n",
    "\n",
    "    # Configure o título do gráfico\n",
    "    title = f'{type} - Classificador: {classifier}'\n",
    "    plt.title(title)\n",
    "\n",
    "    # Adicione uma legenda\n",
    "    plt.legend()\n",
    "\n",
    "    # Adicione um grid\n",
    "    plt.grid(color='gray', linestyle=':', linewidth=0.5)\n",
    "    plt.xticks(range(0, df[N_FEATURES_NAME].max()+1, 5))\n",
    "    plt.savefig(f'./images/FUSION_{type}_{classifier}.png')\n",
    "\n",
    "  # Exiba todos os gráficos\n",
    "  plt.show()\n"
   ]
  },
  {
   "attachments": {},
   "cell_type": "markdown",
   "metadata": {},
   "source": [
    "### Real Return"
   ]
  },
  {
   "cell_type": "code",
   "execution_count": null,
   "metadata": {},
   "outputs": [],
   "source": [
    "queryByColumn(DF_FUSION_REAL_RETURN, DIVERSITY, \"WHITOUT\")"
   ]
  },
  {
   "cell_type": "code",
   "execution_count": null,
   "metadata": {},
   "outputs": [],
   "source": [
    "queryByColumn(DF_FUSION_REAL_RETURN, DIVERSITY, \"BAGGING\")"
   ]
  },
  {
   "cell_type": "code",
   "execution_count": null,
   "metadata": {},
   "outputs": [],
   "source": [
    "queryByColumn(DF_FUSION_REAL_RETURN, DIVERSITY, \"ADABOOST\")"
   ]
  },
  {
   "cell_type": "code",
   "execution_count": null,
   "metadata": {},
   "outputs": [],
   "source": [
    "DF_FUSION_REAL_RETURN.sort_values(ACCURACY, ascending=False)"
   ]
  },
  {
   "attachments": {},
   "cell_type": "markdown",
   "metadata": {},
   "source": [
    "### Risk"
   ]
  },
  {
   "cell_type": "code",
   "execution_count": null,
   "metadata": {},
   "outputs": [],
   "source": [
    "queryByColumn(DF_FUSION_RISK, DIVERSITY, \"WHITOUT\")"
   ]
  },
  {
   "cell_type": "code",
   "execution_count": null,
   "metadata": {},
   "outputs": [],
   "source": [
    "queryByColumn(DF_FUSION_RISK, DIVERSITY, \"BAGGING\")"
   ]
  },
  {
   "cell_type": "code",
   "execution_count": null,
   "metadata": {},
   "outputs": [],
   "source": [
    "queryByColumn(DF_FUSION_RISK, DIVERSITY, \"ADABOOST\")"
   ]
  },
  {
   "cell_type": "code",
   "execution_count": null,
   "metadata": {},
   "outputs": [],
   "source": [
    "DF_FUSION_RISK.sort_values(ACCURACY, ascending=False)"
   ]
  }
 ],
 "metadata": {
  "kernelspec": {
   "display_name": "env",
   "language": "python",
   "name": "python3"
  },
  "language_info": {
   "codemirror_mode": {
    "name": "ipython",
    "version": 3
   },
   "file_extension": ".py",
   "mimetype": "text/x-python",
   "name": "python",
   "nbconvert_exporter": "python",
   "pygments_lexer": "ipython3",
   "version": "3.10.5"
  },
  "orig_nbformat": 4
 },
 "nbformat": 4,
 "nbformat_minor": 2
}

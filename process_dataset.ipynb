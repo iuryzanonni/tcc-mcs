{
 "cells": [
  {
   "attachments": {},
   "cell_type": "markdown",
   "metadata": {},
   "source": [
    "## Process Dataset"
   ]
  },
  {
   "attachments": {},
   "cell_type": "markdown",
   "metadata": {},
   "source": [
    "### Imports"
   ]
  },
  {
   "cell_type": "code",
   "execution_count": null,
   "metadata": {},
   "outputs": [],
   "source": [
    "import pandas as pd\n",
    "import numpy as np\n",
    "import datetime as dt\n",
    "import statistics as st\n",
    "import matplotlib.pyplot as plt"
   ]
  },
  {
   "attachments": {},
   "cell_type": "markdown",
   "metadata": {},
   "source": [
    "### Settings"
   ]
  },
  {
   "cell_type": "code",
   "execution_count": null,
   "metadata": {},
   "outputs": [],
   "source": [
    "FORMAT_PATH = 'data/result_{}.csv'\n",
    "\n",
    "FINAL_PATH = 'dataset/final_{}.csv'\n",
    "\n",
    "FINAL_PROCESS_PATH = 'dataset/process_final_{}.csv'\n",
    "\n",
    "DATA = ['Date', 'Current Ratio','Quick Ratio','Current Assets', 'Long-term debt to equity ratio', 'Share Holder Equity','Debt to Equity Ratio', 'Percentage of net profit to sale',\n",
    "'Percentage of operating profit to sale','Percentage of Gross profit to sale','ROA','ROE','EPS','P/E','P/S','Stock book value','Stock Price','ROI','MarketReturn', 'Company']\n",
    "\n",
    "TICKERS = ['AAPL','MSFT','AMZN','GOOGL','GOOG','TSLA','BRK.B','UNH','JNJ','NVDA','META','XOM','PG','V','JPM','HD','PFE','MA','CVX','ABBV','LLY','KO','MRK','PEP','COST','BAC','VZ',\n",
    "'TMO','AVGO','MCD','ABT','WMT','CMCSA','ADBE','CSCO','ACN','DIS','DHR','CRM','QCOM','BMY','INTC','WFC','T','TXN','PM','LIN','RTX','NKE','AMGN','UPS','UNP','AMD','IBM','CVS',\n",
    "'LOW','SPGI','AMT','MDT','HON','ELV','ORCL','INTU','COP','MS','GS','LMT','SCHW','CAT','SBUX','ADP','PLD','C','NOW','MDLZ','CI','BLK','AXP','DUK','DE','BA','AMAT','PYPL','ZTS','ADI',\n",
    "'TMUS','CB','NFLX','GILD','SO','MO','MMC','CCI','ISRG','VRTX','MMM','CME','TJX','BKNG','TGT','NOC','GE','BDX','MU','PGR','CL','REGN','SYK','D','PNC','CSX','EW','TFC','HUM','USB',\n",
    "'ATVI','SHW','LRCX','WM','AON','DG','EL','FIS','EQIX','EOG','MRNA','CHTR','FISV','NSC','BSX','ICE','FDX','OXY','CNC','ITW','ETN','APD','AEP','GD','KLAC','MCK','PSA','SNPS','SRE',\n",
    "'PXD','EMR','GM','KMB','GIS','F','MCO','SLB','ORLY','SYY','NEM','MPC','AZO','EXC','LHX','NXPI','CDNS','O','ROP','STZ','VLO','COF','IQV','ADM','MET','FTNT','MAR','APH','AIG','HCA',\n",
    "'ECL','PSX','DLTR','XEL','WMB','TRV','ADSK','CTVA','TEL','MNST','FCX','WELL','DOW','PAYX','MSI','CMG','A','SBAC','EA','DLR','CTAS','PRU','AJG','YUM','CTSH','MCHP','ALL','MSCI','HPQ',\n",
    "'ED','JCI','RMD','KMI','AFL','BAX','GPN','DVN','HSY','HLT','PH','WEC','BIIB','KR','IDXX','SPG','CARR','PEG','VICI','DXCM','WBD','BK','TT','OTIS','NUE','IFF','ES','VRSK','TDG','DFS',\n",
    "'CMI','TWTR','ILMN','DD','KHC','PCAR','ROST','PPG','FAST','FRC','KDP','MTB','RSG','AWK','ENPH','WBA','AVB','MTD','HES','WY','TROW','KEYS','AME','AMP','BKR','HAL','CBRE','GLW','OKE',\n",
    "'CPRT','DTE','TSN','EQR','APTV','EBAY','DHI','ON','ODFL','CHD','EIX','ROK','TSCO','EFX','SIVB','ALB','LUV','LH','ETR','AEE','EXR','ANET','LYB','FITB','STT','BALL','WST','WTW','CDW',\n",
    "'FE','CTRA','DRE','ZBH','ABC','STE','HIG','ARE','MKC','PPL','ANSS','LEN','ULTA','WAT','GWW','VTR','NTRS','GPC','VMC','MLM','TTWO','IT','FTV','CMS','DAL','MAA','CEG','AMCR','K','CNP',\n",
    "'PWR','FANG','ALGN','MTCH','CLX','CTLT','URI','NDAQ','HOLX','TDY','CFG','RF','HBAN','MPWR','RJF','BR','HPE','ESS','DOV','EPAM','VRSN','CF','PKI','MOH','CINF','SWKS','MOS','J','IR',\n",
    "'EXPD','SWK','FLT','CAG','DGX','IP','ZBRA','ATO','KEY','WAB','STX','CAH','SYF','DRI','FDS','TER','SEDG','INCY','EVRG','POOL','GRMN','DPZ','PARA','NTAP','MRO','VFC','KMX','BBY',\n",
    "'LNT','PFG','WDC','SJM','TRMB','COO','AKAM','CPT','PAYC','JBHT','PEAK','LDOS','IEX','JKHY','AES','BRO','HRL','AVY','XYL','NLOK','NVR','LKQ','EXPE','TYL','TECH','OMC','UDR','GNRC',\n",
    "'WRB','BF.B','TXT','IRM','PKG','MAS','FMC','CTXS','CHRW','HWM','CBOE','UAL','BXP','KIM','VTRS','LVS','ABMD','NI','AAP','CE','SBNY','EMN','TFX','HST','LYV','NDSN','TAP','L','IPG',\n",
    "'APA','LW','QRVO','PTC','SNA','CRL','HSIC','RE','BIO','PHM','FOXA','WRK','HAS','ETSY','MGM','CPB','MKTX','LUMN','AIZ','CMA','AAL','JNPR','GL','WHR','REG','NRG','FFIV','ALLE','FBHS',\n",
    "'RHI','SEE','NLSN','TPR','HII','OGN','PNW','BWA','ROL','LNC','CZR','PNR','XRAY','ZION','AOS','NWL','RCL','DXC','CCL','UHS','BEN','FRT','CDAY','MHK','BBWI','NWSA','WYNN','IVZ','DVA',\n",
    "'ALK','PENN','NCLH','VNO','FOX','RL','DISH','PVH','NWS','EMBC']\n",
    "\n",
    "#TICKERS = ['AAPL']"
   ]
  },
  {
   "cell_type": "code",
   "execution_count": null,
   "metadata": {},
   "outputs": [],
   "source": [
    "REAL_RETURN = \"RealReturn\"\n",
    "REAL_RETURN_CLASS = \"RealReturnClass\"\n",
    "RISK = 'Risk'\n",
    "RISK_CLASS = 'RiskClass'\n",
    "N_PERIODS = 3"
   ]
  },
  {
   "attachments": {},
   "cell_type": "markdown",
   "metadata": {},
   "source": [
    "### Creating Final Dataset"
   ]
  },
  {
   "cell_type": "code",
   "execution_count": null,
   "metadata": {},
   "outputs": [],
   "source": [
    "columns_dataset = DATA\n",
    "columns_dataset.append(REAL_RETURN)\n",
    "columns_dataset.append(RISK)\n",
    "columns_dataset.append(REAL_RETURN_CLASS)\n",
    "columns_dataset.append(RISK_CLASS)\n",
    "\n",
    "df_final = pd.DataFrame(columns=columns_dataset)\n",
    "df_final"
   ]
  },
  {
   "attachments": {},
   "cell_type": "markdown",
   "metadata": {},
   "source": [
    "### Process Data"
   ]
  },
  {
   "cell_type": "code",
   "execution_count": null,
   "metadata": {},
   "outputs": [],
   "source": [
    "def calculatePeriod(dt_start:str, dt_end:str):\n",
    "  dt_start = dt.datetime.strptime(dt_start, \"%Y-%m-%d\")\n",
    "  dt_end = dt.datetime.strptime(dt_end, \"%Y-%m-%d\")\n",
    "\n",
    "  return dt_start - dt_end"
   ]
  },
  {
   "attachments": {},
   "cell_type": "markdown",
   "metadata": {},
   "source": [
    "#### Calculate Real Return"
   ]
  },
  {
   "cell_type": "code",
   "execution_count": null,
   "metadata": {},
   "outputs": [],
   "source": [
    "def calcRealReturn(start:int, data:pd.DataFrame):\n",
    "  real_return = 1\n",
    "  list_roi = []\n",
    "  for i in range(start, start + N_PERIODS):\n",
    "    real_return *= (1 + data.iloc[i][\"ROI\"])\n",
    "    list_roi.append(data.iloc[i][\"ROI\"]*100)\n",
    "  \n",
    "  return real_return - 1, list_roi"
   ]
  },
  {
   "cell_type": "code",
   "execution_count": null,
   "metadata": {},
   "outputs": [],
   "source": [
    "def processDataset(data:pd.DataFrame):\n",
    "  data = data.dropna()\n",
    "  data[REAL_RETURN] = \"\"\n",
    "  data[RISK] = \"\"\n",
    "  \n",
    "  for i in range(len(data) - N_PERIODS):\n",
    "    period = calculatePeriod(data.iloc[i][\"Date\"], data.iloc[i + N_PERIODS - 1][\"Date\"])  \n",
    "\n",
    "    calc = calcRealReturn(i, data)\n",
    "    realReturn = calc[0]\n",
    "    list_roi = calc[1]\n",
    "\n",
    "    if period.days < (90 * (N_PERIODS-1)) + 10:\n",
    "      data[REAL_RETURN][i] = round(realReturn, 4)\n",
    "      data[RISK][i] = round(st.stdev(list_roi), 4)\n",
    "      \n",
    "  data[REAL_RETURN].replace('', np.nan, inplace=True)\n",
    "  return data.dropna()"
   ]
  },
  {
   "attachments": {},
   "cell_type": "markdown",
   "metadata": {},
   "source": [
    "#### Run All Tickers"
   ]
  },
  {
   "cell_type": "code",
   "execution_count": null,
   "metadata": {},
   "outputs": [],
   "source": [
    "for ticker in TICKERS:\n",
    "  df = pd.read_csv(FORMAT_PATH.format(ticker), sep=\"\\t\")\n",
    "  df_result = processDataset(df)\n",
    "  df_final = pd.concat([df_final, df_result], ignore_index=True)\n",
    "  #df_final = pd.concat([df_final, processDataset(df)], ignore_index=True)\n",
    "\n",
    "df_final.to_csv(FINAL_PATH.format(N_PERIODS), index=False)"
   ]
  },
  {
   "attachments": {},
   "cell_type": "markdown",
   "metadata": {},
   "source": [
    "#### Dataset analysis"
   ]
  },
  {
   "cell_type": "code",
   "execution_count": null,
   "metadata": {},
   "outputs": [],
   "source": [
    "values_return = df_final[REAL_RETURN].values\n",
    "\n",
    "values_return.sort()\n",
    "\n",
    "third_one = round(values_return.size/3)\n",
    "\n",
    "# 0 a lower_limit\n",
    "lower_limit_return = values_return[third_one]\n",
    "\n",
    "# lower_limit a medium_limit\n",
    "medium_limit_return = values_return[third_one * 2]\n",
    "\n",
    "print(lower_limit_return, medium_limit_return)\n",
    "\n"
   ]
  },
  {
   "cell_type": "code",
   "execution_count": null,
   "metadata": {},
   "outputs": [],
   "source": [
    "values_risk = df_final[RISK].values\n",
    "\n",
    "values_risk.sort()\n",
    "\n",
    "third_one = round(values_risk.size/3)\n",
    "\n",
    "# 0 a lower_limit\n",
    "lower_limit_risk = values_risk[third_one]\n",
    "\n",
    "# lower_limit a medium_limit\n",
    "medium_limit_risk =  values_risk[third_one * 2]\n",
    "\n",
    "print(lower_limit_risk, medium_limit_risk)"
   ]
  },
  {
   "attachments": {},
   "cell_type": "markdown",
   "metadata": {},
   "source": [
    "#### Proccess final dataset"
   ]
  },
  {
   "attachments": {},
   "cell_type": "markdown",
   "metadata": {},
   "source": [
    "##### Real return limit"
   ]
  },
  {
   "cell_type": "code",
   "execution_count": null,
   "metadata": {},
   "outputs": [],
   "source": [
    "def realReturnClass(value):\n",
    "  if value > medium_limit_return:\n",
    "    return 'high'\n",
    "  elif value <= medium_limit_return and value > lower_limit_return:\n",
    "    return 'medium'\n",
    "  elif value <= lower_limit_return:\n",
    "    return 'low'"
   ]
  },
  {
   "attachments": {},
   "cell_type": "markdown",
   "metadata": {},
   "source": [
    "##### Risk limit"
   ]
  },
  {
   "cell_type": "code",
   "execution_count": null,
   "metadata": {},
   "outputs": [],
   "source": [
    "def riskClass(value):\n",
    "  if value > medium_limit_risk:\n",
    "    return 'high'\n",
    "  elif value <= medium_limit_risk and value > lower_limit_risk:\n",
    "    return 'medium'\n",
    "  elif value <= lower_limit_risk:\n",
    "    return 'low'"
   ]
  },
  {
   "attachments": {},
   "cell_type": "markdown",
   "metadata": {},
   "source": [
    "#### Create final dataset"
   ]
  },
  {
   "cell_type": "code",
   "execution_count": null,
   "metadata": {},
   "outputs": [],
   "source": [
    "df_final_process = pd.read_csv(FINAL_PATH.format(N_PERIODS))\n",
    "\n",
    "for index, row in df_final_process.iterrows():\n",
    "  df_final_process[REAL_RETURN_CLASS][index] = realReturnClass(df_final_process[REAL_RETURN][index])\n",
    "  df_final_process[RISK_CLASS][index] = riskClass(df_final_process[RISK][index])\n",
    "\n",
    "df_final_process.to_csv(FINAL_PROCESS_PATH.format(N_PERIODS), index=False)"
   ]
  }
 ],
 "metadata": {
  "kernelspec": {
   "display_name": "env",
   "language": "python",
   "name": "python3"
  },
  "language_info": {
   "codemirror_mode": {
    "name": "ipython",
    "version": 3
   },
   "file_extension": ".py",
   "mimetype": "text/x-python",
   "name": "python",
   "nbconvert_exporter": "python",
   "pygments_lexer": "ipython3"
  },
  "orig_nbformat": 4,
  "vscode": {
   "interpreter": {
    "hash": "cc8a3245a31a46333b724f0fa902266a4a2d307e3e7797c60732a355503841f0"
   }
  }
 },
 "nbformat": 4,
 "nbformat_minor": 2
}
